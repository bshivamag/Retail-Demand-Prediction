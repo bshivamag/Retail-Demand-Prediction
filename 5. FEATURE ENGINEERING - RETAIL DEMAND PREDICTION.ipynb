{
 "cells": [
  {
   "cell_type": "markdown",
   "id": "b1b61437",
   "metadata": {},
   "source": [
    "# FEATURE ENGINEERING - RETAIL DEMAND PREDICTION"
   ]
  },
  {
   "cell_type": "code",
   "execution_count": 1,
   "id": "04cb4968",
   "metadata": {},
   "outputs": [],
   "source": [
    "import pandas as pd\n",
    "import numpy as np\n",
    "\n",
    "import matplotlib.pyplot as plt\n",
    "import seaborn as sns\n",
    "%matplotlib inline\n",
    "from tqdm import tqdm_notebook\n",
    "\n",
    "from datetime import timedelta\n",
    "\n",
    "from sklearn.ensemble import RandomForestRegressor\n",
    "from sklearn.model_selection import GridSearchCV\n",
    "from sklearn.metrics import mean_squared_log_error as msle\n",
    "from sklearn.tree import DecisionTreeRegressor\n",
    "\n",
    "import warnings\n",
    "warnings.filterwarnings('ignore')"
   ]
  },
  {
   "cell_type": "code",
   "execution_count": 2,
   "id": "ecf9d572",
   "metadata": {},
   "outputs": [],
   "source": [
    "train_df = pd.read_csv('updated_train_data.csv')\n",
    "product_df = pd.read_csv('updated_product_data.csv')\n",
    "store_df = pd.read_csv('updated_store_data.csv')"
   ]
  },
  {
   "cell_type": "code",
   "execution_count": 3,
   "id": "94403806",
   "metadata": {},
   "outputs": [
    {
     "data": {
      "text/html": [
       "<div>\n",
       "<style scoped>\n",
       "    .dataframe tbody tr th:only-of-type {\n",
       "        vertical-align: middle;\n",
       "    }\n",
       "\n",
       "    .dataframe tbody tr th {\n",
       "        vertical-align: top;\n",
       "    }\n",
       "\n",
       "    .dataframe thead th {\n",
       "        text-align: right;\n",
       "    }\n",
       "</style>\n",
       "<table border=\"1\" class=\"dataframe\">\n",
       "  <thead>\n",
       "    <tr style=\"text-align: right;\">\n",
       "      <th></th>\n",
       "      <th>WEEK_END_DATE</th>\n",
       "      <th>STORE_NUM</th>\n",
       "      <th>UPC</th>\n",
       "      <th>BASE_PRICE</th>\n",
       "      <th>FEATURE</th>\n",
       "      <th>DISPLAY</th>\n",
       "      <th>UNITS</th>\n",
       "      <th>MONTH</th>\n",
       "    </tr>\n",
       "  </thead>\n",
       "  <tbody>\n",
       "    <tr>\n",
       "      <th>0</th>\n",
       "      <td>2009-01-14</td>\n",
       "      <td>367</td>\n",
       "      <td>1111009477</td>\n",
       "      <td>1.57</td>\n",
       "      <td>0</td>\n",
       "      <td>0</td>\n",
       "      <td>13</td>\n",
       "      <td>1</td>\n",
       "    </tr>\n",
       "    <tr>\n",
       "      <th>1</th>\n",
       "      <td>2009-01-14</td>\n",
       "      <td>367</td>\n",
       "      <td>1111009497</td>\n",
       "      <td>1.39</td>\n",
       "      <td>0</td>\n",
       "      <td>0</td>\n",
       "      <td>20</td>\n",
       "      <td>1</td>\n",
       "    </tr>\n",
       "  </tbody>\n",
       "</table>\n",
       "</div>"
      ],
      "text/plain": [
       "  WEEK_END_DATE  STORE_NUM         UPC  BASE_PRICE  FEATURE  DISPLAY  UNITS  \\\n",
       "0    2009-01-14        367  1111009477        1.57        0        0     13   \n",
       "1    2009-01-14        367  1111009497        1.39        0        0     20   \n",
       "\n",
       "   MONTH  \n",
       "0      1  \n",
       "1      1  "
      ]
     },
     "execution_count": 3,
     "metadata": {},
     "output_type": "execute_result"
    }
   ],
   "source": [
    "train_df.head(2)"
   ]
  },
  {
   "cell_type": "code",
   "execution_count": 4,
   "id": "3aea4605",
   "metadata": {},
   "outputs": [
    {
     "data": {
      "text/html": [
       "<div>\n",
       "<style scoped>\n",
       "    .dataframe tbody tr th:only-of-type {\n",
       "        vertical-align: middle;\n",
       "    }\n",
       "\n",
       "    .dataframe tbody tr th {\n",
       "        vertical-align: top;\n",
       "    }\n",
       "\n",
       "    .dataframe thead th {\n",
       "        text-align: right;\n",
       "    }\n",
       "</style>\n",
       "<table border=\"1\" class=\"dataframe\">\n",
       "  <thead>\n",
       "    <tr style=\"text-align: right;\">\n",
       "      <th></th>\n",
       "      <th>UPC</th>\n",
       "      <th>MANUFACTURER_1</th>\n",
       "      <th>MANUFACTURER_2</th>\n",
       "      <th>MANUFACTURER_3</th>\n",
       "      <th>MANUFACTURER_4</th>\n",
       "      <th>MANUFACTURER_5</th>\n",
       "      <th>MANUFACTURER_6</th>\n",
       "      <th>MANUFACTURER_7</th>\n",
       "      <th>MANUFACTURER_8</th>\n",
       "      <th>MANUFACTURER_9</th>\n",
       "      <th>...</th>\n",
       "      <th>CATEGORY_3</th>\n",
       "      <th>CATEGORY_4</th>\n",
       "      <th>SUB_CATEGORY_1</th>\n",
       "      <th>SUB_CATEGORY_2</th>\n",
       "      <th>SUB_CATEGORY_3</th>\n",
       "      <th>SUB_CATEGORY_4</th>\n",
       "      <th>SUB_CATEGORY_5</th>\n",
       "      <th>SUB_CATEGORY_6</th>\n",
       "      <th>SUB_CATEGORY_7</th>\n",
       "      <th>SIZE</th>\n",
       "    </tr>\n",
       "  </thead>\n",
       "  <tbody>\n",
       "    <tr>\n",
       "      <th>0</th>\n",
       "      <td>1111009477</td>\n",
       "      <td>1</td>\n",
       "      <td>0</td>\n",
       "      <td>0</td>\n",
       "      <td>0</td>\n",
       "      <td>0</td>\n",
       "      <td>0</td>\n",
       "      <td>0</td>\n",
       "      <td>0</td>\n",
       "      <td>0</td>\n",
       "      <td>...</td>\n",
       "      <td>0</td>\n",
       "      <td>0</td>\n",
       "      <td>1</td>\n",
       "      <td>0</td>\n",
       "      <td>0</td>\n",
       "      <td>0</td>\n",
       "      <td>0</td>\n",
       "      <td>0</td>\n",
       "      <td>0</td>\n",
       "      <td>15.0</td>\n",
       "    </tr>\n",
       "    <tr>\n",
       "      <th>1</th>\n",
       "      <td>1111009497</td>\n",
       "      <td>1</td>\n",
       "      <td>0</td>\n",
       "      <td>0</td>\n",
       "      <td>0</td>\n",
       "      <td>0</td>\n",
       "      <td>0</td>\n",
       "      <td>0</td>\n",
       "      <td>0</td>\n",
       "      <td>0</td>\n",
       "      <td>...</td>\n",
       "      <td>0</td>\n",
       "      <td>0</td>\n",
       "      <td>1</td>\n",
       "      <td>0</td>\n",
       "      <td>0</td>\n",
       "      <td>0</td>\n",
       "      <td>0</td>\n",
       "      <td>0</td>\n",
       "      <td>0</td>\n",
       "      <td>15.0</td>\n",
       "    </tr>\n",
       "  </tbody>\n",
       "</table>\n",
       "<p>2 rows × 22 columns</p>\n",
       "</div>"
      ],
      "text/plain": [
       "          UPC  MANUFACTURER_1  MANUFACTURER_2  MANUFACTURER_3  MANUFACTURER_4  \\\n",
       "0  1111009477               1               0               0               0   \n",
       "1  1111009497               1               0               0               0   \n",
       "\n",
       "   MANUFACTURER_5  MANUFACTURER_6  MANUFACTURER_7  MANUFACTURER_8  \\\n",
       "0               0               0               0               0   \n",
       "1               0               0               0               0   \n",
       "\n",
       "   MANUFACTURER_9  ...  CATEGORY_3  CATEGORY_4  SUB_CATEGORY_1  \\\n",
       "0               0  ...           0           0               1   \n",
       "1               0  ...           0           0               1   \n",
       "\n",
       "   SUB_CATEGORY_2  SUB_CATEGORY_3  SUB_CATEGORY_4  SUB_CATEGORY_5  \\\n",
       "0               0               0               0               0   \n",
       "1               0               0               0               0   \n",
       "\n",
       "   SUB_CATEGORY_6  SUB_CATEGORY_7  SIZE  \n",
       "0               0               0  15.0  \n",
       "1               0               0  15.0  \n",
       "\n",
       "[2 rows x 22 columns]"
      ]
     },
     "execution_count": 4,
     "metadata": {},
     "output_type": "execute_result"
    }
   ],
   "source": [
    "product_df.head(2)"
   ]
  },
  {
   "cell_type": "code",
   "execution_count": 5,
   "id": "3376151a",
   "metadata": {},
   "outputs": [
    {
     "data": {
      "text/html": [
       "<div>\n",
       "<style scoped>\n",
       "    .dataframe tbody tr th:only-of-type {\n",
       "        vertical-align: middle;\n",
       "    }\n",
       "\n",
       "    .dataframe tbody tr th {\n",
       "        vertical-align: top;\n",
       "    }\n",
       "\n",
       "    .dataframe thead th {\n",
       "        text-align: right;\n",
       "    }\n",
       "</style>\n",
       "<table border=\"1\" class=\"dataframe\">\n",
       "  <thead>\n",
       "    <tr style=\"text-align: right;\">\n",
       "      <th></th>\n",
       "      <th>STORE_ID</th>\n",
       "      <th>ADDRESS_STATE_PROV_CODE_1</th>\n",
       "      <th>ADDRESS_STATE_PROV_CODE_2</th>\n",
       "      <th>ADDRESS_STATE_PROV_CODE_3</th>\n",
       "      <th>ADDRESS_STATE_PROV_CODE_4</th>\n",
       "      <th>MSA_CODE_1</th>\n",
       "      <th>MSA_CODE_2</th>\n",
       "      <th>MSA_CODE_3</th>\n",
       "      <th>MSA_CODE_4</th>\n",
       "      <th>MSA_CODE_5</th>\n",
       "      <th>MSA_CODE_6</th>\n",
       "      <th>MSA_CODE_7</th>\n",
       "      <th>MSA_CODE_8</th>\n",
       "      <th>MSA_CODE_9</th>\n",
       "      <th>SEG_VALUE_NAME</th>\n",
       "      <th>SALES_AREA_SIZE_NUM</th>\n",
       "      <th>AVG_WEEKLY_BASKETS</th>\n",
       "    </tr>\n",
       "  </thead>\n",
       "  <tbody>\n",
       "    <tr>\n",
       "      <th>0</th>\n",
       "      <td>367</td>\n",
       "      <td>1</td>\n",
       "      <td>0</td>\n",
       "      <td>0</td>\n",
       "      <td>0</td>\n",
       "      <td>1</td>\n",
       "      <td>0</td>\n",
       "      <td>0</td>\n",
       "      <td>0</td>\n",
       "      <td>0</td>\n",
       "      <td>0</td>\n",
       "      <td>0</td>\n",
       "      <td>0</td>\n",
       "      <td>0</td>\n",
       "      <td>1</td>\n",
       "      <td>24721</td>\n",
       "      <td>12707</td>\n",
       "    </tr>\n",
       "    <tr>\n",
       "      <th>1</th>\n",
       "      <td>389</td>\n",
       "      <td>1</td>\n",
       "      <td>0</td>\n",
       "      <td>0</td>\n",
       "      <td>0</td>\n",
       "      <td>1</td>\n",
       "      <td>0</td>\n",
       "      <td>0</td>\n",
       "      <td>0</td>\n",
       "      <td>0</td>\n",
       "      <td>0</td>\n",
       "      <td>0</td>\n",
       "      <td>0</td>\n",
       "      <td>0</td>\n",
       "      <td>2</td>\n",
       "      <td>46073</td>\n",
       "      <td>24767</td>\n",
       "    </tr>\n",
       "  </tbody>\n",
       "</table>\n",
       "</div>"
      ],
      "text/plain": [
       "   STORE_ID  ADDRESS_STATE_PROV_CODE_1  ADDRESS_STATE_PROV_CODE_2  \\\n",
       "0       367                          1                          0   \n",
       "1       389                          1                          0   \n",
       "\n",
       "   ADDRESS_STATE_PROV_CODE_3  ADDRESS_STATE_PROV_CODE_4  MSA_CODE_1  \\\n",
       "0                          0                          0           1   \n",
       "1                          0                          0           1   \n",
       "\n",
       "   MSA_CODE_2  MSA_CODE_3  MSA_CODE_4  MSA_CODE_5  MSA_CODE_6  MSA_CODE_7  \\\n",
       "0           0           0           0           0           0           0   \n",
       "1           0           0           0           0           0           0   \n",
       "\n",
       "   MSA_CODE_8  MSA_CODE_9  SEG_VALUE_NAME  SALES_AREA_SIZE_NUM  \\\n",
       "0           0           0               1                24721   \n",
       "1           0           0               2                46073   \n",
       "\n",
       "   AVG_WEEKLY_BASKETS  \n",
       "0               12707  \n",
       "1               24767  "
      ]
     },
     "execution_count": 5,
     "metadata": {},
     "output_type": "execute_result"
    }
   ],
   "source": [
    "store_df.head(2)"
   ]
  },
  {
   "cell_type": "code",
   "execution_count": 6,
   "id": "01a627fc",
   "metadata": {},
   "outputs": [
    {
     "data": {
      "text/html": [
       "<div>\n",
       "<style scoped>\n",
       "    .dataframe tbody tr th:only-of-type {\n",
       "        vertical-align: middle;\n",
       "    }\n",
       "\n",
       "    .dataframe tbody tr th {\n",
       "        vertical-align: top;\n",
       "    }\n",
       "\n",
       "    .dataframe thead th {\n",
       "        text-align: right;\n",
       "    }\n",
       "</style>\n",
       "<table border=\"1\" class=\"dataframe\">\n",
       "  <thead>\n",
       "    <tr style=\"text-align: right;\">\n",
       "      <th></th>\n",
       "      <th>WEEK_END_DATE</th>\n",
       "      <th>STORE_NUM</th>\n",
       "      <th>UPC</th>\n",
       "      <th>BASE_PRICE</th>\n",
       "      <th>FEATURE</th>\n",
       "      <th>DISPLAY</th>\n",
       "      <th>UNITS</th>\n",
       "      <th>MONTH</th>\n",
       "      <th>MANUFACTURER_1</th>\n",
       "      <th>MANUFACTURER_2</th>\n",
       "      <th>...</th>\n",
       "      <th>MSA_CODE_3</th>\n",
       "      <th>MSA_CODE_4</th>\n",
       "      <th>MSA_CODE_5</th>\n",
       "      <th>MSA_CODE_6</th>\n",
       "      <th>MSA_CODE_7</th>\n",
       "      <th>MSA_CODE_8</th>\n",
       "      <th>MSA_CODE_9</th>\n",
       "      <th>SEG_VALUE_NAME</th>\n",
       "      <th>SALES_AREA_SIZE_NUM</th>\n",
       "      <th>AVG_WEEKLY_BASKETS</th>\n",
       "    </tr>\n",
       "  </thead>\n",
       "  <tbody>\n",
       "    <tr>\n",
       "      <th>0</th>\n",
       "      <td>2009-01-14</td>\n",
       "      <td>367</td>\n",
       "      <td>1111009477</td>\n",
       "      <td>1.57</td>\n",
       "      <td>0</td>\n",
       "      <td>0</td>\n",
       "      <td>13</td>\n",
       "      <td>1</td>\n",
       "      <td>1</td>\n",
       "      <td>0</td>\n",
       "      <td>...</td>\n",
       "      <td>0</td>\n",
       "      <td>0</td>\n",
       "      <td>0</td>\n",
       "      <td>0</td>\n",
       "      <td>0</td>\n",
       "      <td>0</td>\n",
       "      <td>0</td>\n",
       "      <td>1</td>\n",
       "      <td>24721</td>\n",
       "      <td>12707</td>\n",
       "    </tr>\n",
       "    <tr>\n",
       "      <th>1</th>\n",
       "      <td>2009-01-14</td>\n",
       "      <td>367</td>\n",
       "      <td>1111009497</td>\n",
       "      <td>1.39</td>\n",
       "      <td>0</td>\n",
       "      <td>0</td>\n",
       "      <td>20</td>\n",
       "      <td>1</td>\n",
       "      <td>1</td>\n",
       "      <td>0</td>\n",
       "      <td>...</td>\n",
       "      <td>0</td>\n",
       "      <td>0</td>\n",
       "      <td>0</td>\n",
       "      <td>0</td>\n",
       "      <td>0</td>\n",
       "      <td>0</td>\n",
       "      <td>0</td>\n",
       "      <td>1</td>\n",
       "      <td>24721</td>\n",
       "      <td>12707</td>\n",
       "    </tr>\n",
       "  </tbody>\n",
       "</table>\n",
       "<p>2 rows × 45 columns</p>\n",
       "</div>"
      ],
      "text/plain": [
       "  WEEK_END_DATE  STORE_NUM         UPC  BASE_PRICE  FEATURE  DISPLAY  UNITS  \\\n",
       "0    2009-01-14        367  1111009477        1.57        0        0     13   \n",
       "1    2009-01-14        367  1111009497        1.39        0        0     20   \n",
       "\n",
       "   MONTH  MANUFACTURER_1  MANUFACTURER_2  ...  MSA_CODE_3  MSA_CODE_4  \\\n",
       "0      1               1               0  ...           0           0   \n",
       "1      1               1               0  ...           0           0   \n",
       "\n",
       "   MSA_CODE_5  MSA_CODE_6  MSA_CODE_7  MSA_CODE_8  MSA_CODE_9  SEG_VALUE_NAME  \\\n",
       "0           0           0           0           0           0               1   \n",
       "1           0           0           0           0           0               1   \n",
       "\n",
       "   SALES_AREA_SIZE_NUM  AVG_WEEKLY_BASKETS  \n",
       "0                24721               12707  \n",
       "1                24721               12707  \n",
       "\n",
       "[2 rows x 45 columns]"
      ]
     },
     "execution_count": 6,
     "metadata": {},
     "output_type": "execute_result"
    }
   ],
   "source": [
    "mega_df = train_df.merge(product_df, how = 'left', on = 'UPC')\n",
    "mega_df = mega_df.merge(store_df, how = 'left', left_on = 'STORE_NUM', right_on = 'STORE_ID')\n",
    "mega_df = mega_df.drop(columns = 'STORE_ID', axis =1)\n",
    "mega_df.head(2)"
   ]
  },
  {
   "cell_type": "code",
   "execution_count": 7,
   "id": "5552d9bf",
   "metadata": {},
   "outputs": [],
   "source": [
    "# Converting WEEK_END_DATE column to date-time\n",
    "mega_df['WEEK_END_DATE'] = pd.to_datetime(mega_df['WEEK_END_DATE'])\n",
    "\n",
    "# Storing all the unique Dates in an array\n",
    "weeks = mega_df['WEEK_END_DATE'].unique()"
   ]
  },
  {
   "cell_type": "code",
   "execution_count": 8,
   "id": "905934ef",
   "metadata": {},
   "outputs": [
    {
     "data": {
      "text/plain": [
       "WEEK_END_DATE                datetime64[ns]\n",
       "STORE_NUM                             int64\n",
       "UPC                                   int64\n",
       "BASE_PRICE                          float64\n",
       "FEATURE                               int64\n",
       "DISPLAY                               int64\n",
       "UNITS                                 int64\n",
       "MONTH                                 int64\n",
       "MANUFACTURER_1                        int64\n",
       "MANUFACTURER_2                        int64\n",
       "MANUFACTURER_3                        int64\n",
       "MANUFACTURER_4                        int64\n",
       "MANUFACTURER_5                        int64\n",
       "MANUFACTURER_6                        int64\n",
       "MANUFACTURER_7                        int64\n",
       "MANUFACTURER_8                        int64\n",
       "MANUFACTURER_9                        int64\n",
       "CATEGORY_1                            int64\n",
       "CATEGORY_2                            int64\n",
       "CATEGORY_3                            int64\n",
       "CATEGORY_4                            int64\n",
       "SUB_CATEGORY_1                        int64\n",
       "SUB_CATEGORY_2                        int64\n",
       "SUB_CATEGORY_3                        int64\n",
       "SUB_CATEGORY_4                        int64\n",
       "SUB_CATEGORY_5                        int64\n",
       "SUB_CATEGORY_6                        int64\n",
       "SUB_CATEGORY_7                        int64\n",
       "SIZE                                float64\n",
       "ADDRESS_STATE_PROV_CODE_1             int64\n",
       "ADDRESS_STATE_PROV_CODE_2             int64\n",
       "ADDRESS_STATE_PROV_CODE_3             int64\n",
       "ADDRESS_STATE_PROV_CODE_4             int64\n",
       "MSA_CODE_1                            int64\n",
       "MSA_CODE_2                            int64\n",
       "MSA_CODE_3                            int64\n",
       "MSA_CODE_4                            int64\n",
       "MSA_CODE_5                            int64\n",
       "MSA_CODE_6                            int64\n",
       "MSA_CODE_7                            int64\n",
       "MSA_CODE_8                            int64\n",
       "MSA_CODE_9                            int64\n",
       "SEG_VALUE_NAME                        int64\n",
       "SALES_AREA_SIZE_NUM                   int64\n",
       "AVG_WEEKLY_BASKETS                    int64\n",
       "dtype: object"
      ]
     },
     "execution_count": 8,
     "metadata": {},
     "output_type": "execute_result"
    }
   ],
   "source": [
    "mega_df.dtypes"
   ]
  },
  {
   "cell_type": "markdown",
   "id": "044389ae",
   "metadata": {},
   "source": [
    "Let's define the validation_df function to create validation dataframes"
   ]
  },
  {
   "cell_type": "code",
   "execution_count": 9,
   "id": "88333cfe",
   "metadata": {},
   "outputs": [],
   "source": [
    "# function to create validation data_frame\n",
    "def validation_df(data, weeks, no_of_months, no_of_validations):\n",
    "    \n",
    "    model_set = []\n",
    "    set_n = 1\n",
    "    for w in range(len(weeks)-1, 0, -1):\n",
    "        x_data = {}\n",
    "        \n",
    "        x_data['set_no'] = 'set' + str(set_n)\n",
    "        x_data['train_start'] = weeks[w-3-4*no_of_months]\n",
    "        x_data['train_end'] = weeks[w-4]\n",
    "        x_data['no_days_train'] = x_data['train_end'] - x_data['train_start']\n",
    "        x_data['valid_week'] = weeks[w-2]\n",
    "        x_data['test_week'] = weeks[w]\n",
    "        \n",
    "        set_n += 1\n",
    "        model_set.append(x_data)\n",
    "        if (len(model_set)) == no_of_validations:\n",
    "            break            \n",
    "    \n",
    "    \n",
    "    datapoints = []\n",
    "    \n",
    "    for s in model_set:\n",
    "        x = {}\n",
    "        train_set = data[(data['WEEK_END_DATE'] >= s['train_start']) & (data['WEEK_END_DATE'] <= s['train_end'])]\n",
    "        x['train_shape'] = train_set.shape[0]\n",
    "        x['valid_shape'] = data[data['WEEK_END_DATE'] == s['valid_week']].shape[0]\n",
    "        x['test_shape'] = data[data['WEEK_END_DATE'] == s['test_week']].shape[0]\n",
    "        x.update(s)\n",
    "        datapoints.append(x)\n",
    "        \n",
    "    \n",
    "    df = pd.DataFrame(datapoints)\n",
    "    df['no_days_train'] = df['no_days_train'] + timedelta(days=7)\n",
    "    return df"
   ]
  },
  {
   "cell_type": "markdown",
   "id": "1c53649d",
   "metadata": {},
   "source": [
    "Earlier we had concluded that the best validation strategy for current dataset is:\n",
    "* to keep the size of training set = 4 weeks (1 month)\n",
    "* to keep the number of validation sets = 9"
   ]
  },
  {
   "cell_type": "code",
   "execution_count": 10,
   "id": "ba722481",
   "metadata": {},
   "outputs": [
    {
     "data": {
      "text/html": [
       "<div>\n",
       "<style scoped>\n",
       "    .dataframe tbody tr th:only-of-type {\n",
       "        vertical-align: middle;\n",
       "    }\n",
       "\n",
       "    .dataframe tbody tr th {\n",
       "        vertical-align: top;\n",
       "    }\n",
       "\n",
       "    .dataframe thead th {\n",
       "        text-align: right;\n",
       "    }\n",
       "</style>\n",
       "<table border=\"1\" class=\"dataframe\">\n",
       "  <thead>\n",
       "    <tr style=\"text-align: right;\">\n",
       "      <th></th>\n",
       "      <th>train_shape</th>\n",
       "      <th>valid_shape</th>\n",
       "      <th>test_shape</th>\n",
       "      <th>set_no</th>\n",
       "      <th>train_start</th>\n",
       "      <th>train_end</th>\n",
       "      <th>no_days_train</th>\n",
       "      <th>valid_week</th>\n",
       "      <th>test_week</th>\n",
       "    </tr>\n",
       "  </thead>\n",
       "  <tbody>\n",
       "    <tr>\n",
       "      <th>0</th>\n",
       "      <td>6538</td>\n",
       "      <td>1640</td>\n",
       "      <td>1642</td>\n",
       "      <td>set1</td>\n",
       "      <td>2011-08-10</td>\n",
       "      <td>2011-08-31</td>\n",
       "      <td>28 days</td>\n",
       "      <td>2011-09-14</td>\n",
       "      <td>2011-09-28</td>\n",
       "    </tr>\n",
       "    <tr>\n",
       "      <th>1</th>\n",
       "      <td>6549</td>\n",
       "      <td>1632</td>\n",
       "      <td>1638</td>\n",
       "      <td>set2</td>\n",
       "      <td>2011-08-03</td>\n",
       "      <td>2011-08-24</td>\n",
       "      <td>28 days</td>\n",
       "      <td>2011-09-07</td>\n",
       "      <td>2011-09-21</td>\n",
       "    </tr>\n",
       "    <tr>\n",
       "      <th>2</th>\n",
       "      <td>6546</td>\n",
       "      <td>1629</td>\n",
       "      <td>1640</td>\n",
       "      <td>set3</td>\n",
       "      <td>2011-07-27</td>\n",
       "      <td>2011-08-17</td>\n",
       "      <td>28 days</td>\n",
       "      <td>2011-08-31</td>\n",
       "      <td>2011-09-14</td>\n",
       "    </tr>\n",
       "    <tr>\n",
       "      <th>3</th>\n",
       "      <td>6543</td>\n",
       "      <td>1640</td>\n",
       "      <td>1632</td>\n",
       "      <td>set4</td>\n",
       "      <td>2011-07-20</td>\n",
       "      <td>2011-08-10</td>\n",
       "      <td>28 days</td>\n",
       "      <td>2011-08-24</td>\n",
       "      <td>2011-09-07</td>\n",
       "    </tr>\n",
       "    <tr>\n",
       "      <th>4</th>\n",
       "      <td>6551</td>\n",
       "      <td>1638</td>\n",
       "      <td>1629</td>\n",
       "      <td>set5</td>\n",
       "      <td>2011-07-13</td>\n",
       "      <td>2011-08-03</td>\n",
       "      <td>28 days</td>\n",
       "      <td>2011-08-17</td>\n",
       "      <td>2011-08-31</td>\n",
       "    </tr>\n",
       "    <tr>\n",
       "      <th>5</th>\n",
       "      <td>6553</td>\n",
       "      <td>1631</td>\n",
       "      <td>1640</td>\n",
       "      <td>set6</td>\n",
       "      <td>2011-07-06</td>\n",
       "      <td>2011-07-27</td>\n",
       "      <td>28 days</td>\n",
       "      <td>2011-08-10</td>\n",
       "      <td>2011-08-24</td>\n",
       "    </tr>\n",
       "    <tr>\n",
       "      <th>6</th>\n",
       "      <td>6555</td>\n",
       "      <td>1640</td>\n",
       "      <td>1638</td>\n",
       "      <td>set7</td>\n",
       "      <td>2011-06-29</td>\n",
       "      <td>2011-07-20</td>\n",
       "      <td>28 days</td>\n",
       "      <td>2011-08-03</td>\n",
       "      <td>2011-08-17</td>\n",
       "    </tr>\n",
       "    <tr>\n",
       "      <th>7</th>\n",
       "      <td>6558</td>\n",
       "      <td>1637</td>\n",
       "      <td>1631</td>\n",
       "      <td>set8</td>\n",
       "      <td>2011-06-22</td>\n",
       "      <td>2011-07-13</td>\n",
       "      <td>28 days</td>\n",
       "      <td>2011-07-27</td>\n",
       "      <td>2011-08-10</td>\n",
       "    </tr>\n",
       "    <tr>\n",
       "      <th>8</th>\n",
       "      <td>6558</td>\n",
       "      <td>1635</td>\n",
       "      <td>1640</td>\n",
       "      <td>set9</td>\n",
       "      <td>2011-06-15</td>\n",
       "      <td>2011-07-06</td>\n",
       "      <td>28 days</td>\n",
       "      <td>2011-07-20</td>\n",
       "      <td>2011-08-03</td>\n",
       "    </tr>\n",
       "  </tbody>\n",
       "</table>\n",
       "</div>"
      ],
      "text/plain": [
       "   train_shape  valid_shape  test_shape set_no train_start  train_end  \\\n",
       "0         6538         1640        1642   set1  2011-08-10 2011-08-31   \n",
       "1         6549         1632        1638   set2  2011-08-03 2011-08-24   \n",
       "2         6546         1629        1640   set3  2011-07-27 2011-08-17   \n",
       "3         6543         1640        1632   set4  2011-07-20 2011-08-10   \n",
       "4         6551         1638        1629   set5  2011-07-13 2011-08-03   \n",
       "5         6553         1631        1640   set6  2011-07-06 2011-07-27   \n",
       "6         6555         1640        1638   set7  2011-06-29 2011-07-20   \n",
       "7         6558         1637        1631   set8  2011-06-22 2011-07-13   \n",
       "8         6558         1635        1640   set9  2011-06-15 2011-07-06   \n",
       "\n",
       "  no_days_train valid_week  test_week  \n",
       "0       28 days 2011-09-14 2011-09-28  \n",
       "1       28 days 2011-09-07 2011-09-21  \n",
       "2       28 days 2011-08-31 2011-09-14  \n",
       "3       28 days 2011-08-24 2011-09-07  \n",
       "4       28 days 2011-08-17 2011-08-31  \n",
       "5       28 days 2011-08-10 2011-08-24  \n",
       "6       28 days 2011-08-03 2011-08-17  \n",
       "7       28 days 2011-07-27 2011-08-10  \n",
       "8       28 days 2011-07-20 2011-08-03  "
      ]
     },
     "execution_count": 10,
     "metadata": {},
     "output_type": "execute_result"
    }
   ],
   "source": [
    "validation_df(mega_df, weeks, no_of_months = 1, no_of_validations = 9)"
   ]
  },
  {
   "cell_type": "code",
   "execution_count": 11,
   "id": "cae58499",
   "metadata": {},
   "outputs": [],
   "source": [
    "# function to calculate Root-Mean-Squared-Log-Error\n",
    "def get_rmsle(true, predicted):\n",
    "    return np.sqrt(msle(true, predicted))\n",
    "\n",
    "\n",
    "# function to return the columns on which the model is trained\n",
    "def get_columns(data):\n",
    "    print('\\n####### The model is trained on Following Columns: ###########\\n')\n",
    "    print(data.columns)\n",
    "    print('===============================================================')\n",
    "    \n",
    "\n",
    "# Function to train the model\n",
    "# it will calculate RMLSE on train & validation set\n",
    "def my_model(train_d, valid_d, model):\n",
    "    \n",
    "    train_x = train_d.drop(columns = ['WEEK_END_DATE', 'UPC', 'STORE_NUM', 'UNITS'])\n",
    "    train_y = train_d['UNITS']\n",
    "    \n",
    "    valid_x = valid_d.drop(columns = ['WEEK_END_DATE', 'UPC', 'STORE_NUM', 'UNITS'])\n",
    "    valid_y = valid_d['UNITS']\n",
    "    \n",
    "    model.fit(train_x, train_y)\n",
    "    \n",
    "    train_predict = RFR.predict(train_x).clip(min=0)\n",
    "    valid_predict = RFR.predict(valid_x).clip(min=0)\n",
    "    \n",
    "    return get_rmsle(train_y, train_predict), get_rmsle(valid_y, valid_predict), train_x\n",
    "    \n",
    "    \n",
    "# Function will extract train & validation sets using validation dataframe\n",
    "# The defined model will train on each of the set using train_model function. \n",
    "# And it'll return the average RMSLE and standard deviation on validation\n",
    "def train_model(df, data, model):\n",
    "    \n",
    "    model_results_train = []\n",
    "    model_results_valid = []\n",
    "    \n",
    "    for r in tqdm_notebook(range(df.shape[0]), leave = False, desc = 'training_model'):\n",
    "        \n",
    "        row = df.iloc[r]\n",
    "        train_set = data[(data['WEEK_END_DATE'] >= row['train_start']) & (data['WEEK_END_DATE'] <= row['train_end'])]\n",
    "        valid_set = data[data['WEEK_END_DATE'] == row['valid_week']]\n",
    "        train, valid, train_data = my_model(train_set, valid_set, model)\n",
    "        model_results_train.append(train)\n",
    "        model_results_valid.append(valid)\n",
    "        \n",
    "    return np.mean(model_results_train), np.mean(model_results_valid), train_data\n",
    "    "
   ]
  },
  {
   "cell_type": "markdown",
   "id": "4fd3bb24",
   "metadata": {},
   "source": [
    "### 1. OPTIMUM VALUE OF N_ESTIMATORS\n",
    "* First of all, we will calculate the performance of the model using the default features and we will try to tune the parameters to get the best results.\n",
    "\n",
    "* So, first we will find out the optimal value of n_estimators for the Random Forest Model and we will see the performance of the model on n_estimators value 5, 15, 25..... 245."
   ]
  },
  {
   "cell_type": "code",
   "execution_count": 12,
   "id": "86a083ce",
   "metadata": {},
   "outputs": [
    {
     "data": {
      "application/vnd.jupyter.widget-view+json": {
       "model_id": "27918b723f6448fabdf7b3ee94d3fef5",
       "version_major": 2,
       "version_minor": 0
      },
      "text/plain": [
       "estimator:   0%|          | 0/25 [00:00<?, ?it/s]"
      ]
     },
     "metadata": {},
     "output_type": "display_data"
    },
    {
     "data": {
      "application/vnd.jupyter.widget-view+json": {
       "model_id": "",
       "version_major": 2,
       "version_minor": 0
      },
      "text/plain": [
       "training_model:   0%|          | 0/9 [00:00<?, ?it/s]"
      ]
     },
     "metadata": {},
     "output_type": "display_data"
    },
    {
     "data": {
      "application/vnd.jupyter.widget-view+json": {
       "model_id": "",
       "version_major": 2,
       "version_minor": 0
      },
      "text/plain": [
       "training_model:   0%|          | 0/9 [00:00<?, ?it/s]"
      ]
     },
     "metadata": {},
     "output_type": "display_data"
    },
    {
     "data": {
      "application/vnd.jupyter.widget-view+json": {
       "model_id": "",
       "version_major": 2,
       "version_minor": 0
      },
      "text/plain": [
       "training_model:   0%|          | 0/9 [00:00<?, ?it/s]"
      ]
     },
     "metadata": {},
     "output_type": "display_data"
    },
    {
     "data": {
      "application/vnd.jupyter.widget-view+json": {
       "model_id": "",
       "version_major": 2,
       "version_minor": 0
      },
      "text/plain": [
       "training_model:   0%|          | 0/9 [00:00<?, ?it/s]"
      ]
     },
     "metadata": {},
     "output_type": "display_data"
    },
    {
     "data": {
      "application/vnd.jupyter.widget-view+json": {
       "model_id": "",
       "version_major": 2,
       "version_minor": 0
      },
      "text/plain": [
       "training_model:   0%|          | 0/9 [00:00<?, ?it/s]"
      ]
     },
     "metadata": {},
     "output_type": "display_data"
    },
    {
     "data": {
      "application/vnd.jupyter.widget-view+json": {
       "model_id": "",
       "version_major": 2,
       "version_minor": 0
      },
      "text/plain": [
       "training_model:   0%|          | 0/9 [00:00<?, ?it/s]"
      ]
     },
     "metadata": {},
     "output_type": "display_data"
    },
    {
     "data": {
      "application/vnd.jupyter.widget-view+json": {
       "model_id": "",
       "version_major": 2,
       "version_minor": 0
      },
      "text/plain": [
       "training_model:   0%|          | 0/9 [00:00<?, ?it/s]"
      ]
     },
     "metadata": {},
     "output_type": "display_data"
    },
    {
     "data": {
      "application/vnd.jupyter.widget-view+json": {
       "model_id": "",
       "version_major": 2,
       "version_minor": 0
      },
      "text/plain": [
       "training_model:   0%|          | 0/9 [00:00<?, ?it/s]"
      ]
     },
     "metadata": {},
     "output_type": "display_data"
    },
    {
     "data": {
      "application/vnd.jupyter.widget-view+json": {
       "model_id": "",
       "version_major": 2,
       "version_minor": 0
      },
      "text/plain": [
       "training_model:   0%|          | 0/9 [00:00<?, ?it/s]"
      ]
     },
     "metadata": {},
     "output_type": "display_data"
    },
    {
     "data": {
      "application/vnd.jupyter.widget-view+json": {
       "model_id": "",
       "version_major": 2,
       "version_minor": 0
      },
      "text/plain": [
       "training_model:   0%|          | 0/9 [00:00<?, ?it/s]"
      ]
     },
     "metadata": {},
     "output_type": "display_data"
    },
    {
     "data": {
      "application/vnd.jupyter.widget-view+json": {
       "model_id": "",
       "version_major": 2,
       "version_minor": 0
      },
      "text/plain": [
       "training_model:   0%|          | 0/9 [00:00<?, ?it/s]"
      ]
     },
     "metadata": {},
     "output_type": "display_data"
    },
    {
     "data": {
      "application/vnd.jupyter.widget-view+json": {
       "model_id": "",
       "version_major": 2,
       "version_minor": 0
      },
      "text/plain": [
       "training_model:   0%|          | 0/9 [00:00<?, ?it/s]"
      ]
     },
     "metadata": {},
     "output_type": "display_data"
    },
    {
     "data": {
      "application/vnd.jupyter.widget-view+json": {
       "model_id": "",
       "version_major": 2,
       "version_minor": 0
      },
      "text/plain": [
       "training_model:   0%|          | 0/9 [00:00<?, ?it/s]"
      ]
     },
     "metadata": {},
     "output_type": "display_data"
    },
    {
     "data": {
      "application/vnd.jupyter.widget-view+json": {
       "model_id": "",
       "version_major": 2,
       "version_minor": 0
      },
      "text/plain": [
       "training_model:   0%|          | 0/9 [00:00<?, ?it/s]"
      ]
     },
     "metadata": {},
     "output_type": "display_data"
    },
    {
     "data": {
      "application/vnd.jupyter.widget-view+json": {
       "model_id": "",
       "version_major": 2,
       "version_minor": 0
      },
      "text/plain": [
       "training_model:   0%|          | 0/9 [00:00<?, ?it/s]"
      ]
     },
     "metadata": {},
     "output_type": "display_data"
    },
    {
     "data": {
      "application/vnd.jupyter.widget-view+json": {
       "model_id": "",
       "version_major": 2,
       "version_minor": 0
      },
      "text/plain": [
       "training_model:   0%|          | 0/9 [00:00<?, ?it/s]"
      ]
     },
     "metadata": {},
     "output_type": "display_data"
    },
    {
     "data": {
      "application/vnd.jupyter.widget-view+json": {
       "model_id": "",
       "version_major": 2,
       "version_minor": 0
      },
      "text/plain": [
       "training_model:   0%|          | 0/9 [00:00<?, ?it/s]"
      ]
     },
     "metadata": {},
     "output_type": "display_data"
    },
    {
     "data": {
      "application/vnd.jupyter.widget-view+json": {
       "model_id": "",
       "version_major": 2,
       "version_minor": 0
      },
      "text/plain": [
       "training_model:   0%|          | 0/9 [00:00<?, ?it/s]"
      ]
     },
     "metadata": {},
     "output_type": "display_data"
    },
    {
     "data": {
      "application/vnd.jupyter.widget-view+json": {
       "model_id": "",
       "version_major": 2,
       "version_minor": 0
      },
      "text/plain": [
       "training_model:   0%|          | 0/9 [00:00<?, ?it/s]"
      ]
     },
     "metadata": {},
     "output_type": "display_data"
    },
    {
     "data": {
      "application/vnd.jupyter.widget-view+json": {
       "model_id": "",
       "version_major": 2,
       "version_minor": 0
      },
      "text/plain": [
       "training_model:   0%|          | 0/9 [00:00<?, ?it/s]"
      ]
     },
     "metadata": {},
     "output_type": "display_data"
    },
    {
     "data": {
      "application/vnd.jupyter.widget-view+json": {
       "model_id": "",
       "version_major": 2,
       "version_minor": 0
      },
      "text/plain": [
       "training_model:   0%|          | 0/9 [00:00<?, ?it/s]"
      ]
     },
     "metadata": {},
     "output_type": "display_data"
    },
    {
     "data": {
      "application/vnd.jupyter.widget-view+json": {
       "model_id": "",
       "version_major": 2,
       "version_minor": 0
      },
      "text/plain": [
       "training_model:   0%|          | 0/9 [00:00<?, ?it/s]"
      ]
     },
     "metadata": {},
     "output_type": "display_data"
    },
    {
     "data": {
      "application/vnd.jupyter.widget-view+json": {
       "model_id": "",
       "version_major": 2,
       "version_minor": 0
      },
      "text/plain": [
       "training_model:   0%|          | 0/9 [00:00<?, ?it/s]"
      ]
     },
     "metadata": {},
     "output_type": "display_data"
    },
    {
     "data": {
      "application/vnd.jupyter.widget-view+json": {
       "model_id": "",
       "version_major": 2,
       "version_minor": 0
      },
      "text/plain": [
       "training_model:   0%|          | 0/9 [00:00<?, ?it/s]"
      ]
     },
     "metadata": {},
     "output_type": "display_data"
    },
    {
     "data": {
      "application/vnd.jupyter.widget-view+json": {
       "model_id": "",
       "version_major": 2,
       "version_minor": 0
      },
      "text/plain": [
       "training_model:   0%|          | 0/9 [00:00<?, ?it/s]"
      ]
     },
     "metadata": {},
     "output_type": "display_data"
    },
    {
     "name": "stdout",
     "output_type": "stream",
     "text": [
      "\n",
      "####### The model is trained on Following Columns: ###########\n",
      "\n",
      "Index(['BASE_PRICE', 'FEATURE', 'DISPLAY', 'MONTH', 'MANUFACTURER_1',\n",
      "       'MANUFACTURER_2', 'MANUFACTURER_3', 'MANUFACTURER_4', 'MANUFACTURER_5',\n",
      "       'MANUFACTURER_6', 'MANUFACTURER_7', 'MANUFACTURER_8', 'MANUFACTURER_9',\n",
      "       'CATEGORY_1', 'CATEGORY_2', 'CATEGORY_3', 'CATEGORY_4',\n",
      "       'SUB_CATEGORY_1', 'SUB_CATEGORY_2', 'SUB_CATEGORY_3', 'SUB_CATEGORY_4',\n",
      "       'SUB_CATEGORY_5', 'SUB_CATEGORY_6', 'SUB_CATEGORY_7', 'SIZE',\n",
      "       'ADDRESS_STATE_PROV_CODE_1', 'ADDRESS_STATE_PROV_CODE_2',\n",
      "       'ADDRESS_STATE_PROV_CODE_3', 'ADDRESS_STATE_PROV_CODE_4', 'MSA_CODE_1',\n",
      "       'MSA_CODE_2', 'MSA_CODE_3', 'MSA_CODE_4', 'MSA_CODE_5', 'MSA_CODE_6',\n",
      "       'MSA_CODE_7', 'MSA_CODE_8', 'MSA_CODE_9', 'SEG_VALUE_NAME',\n",
      "       'SALES_AREA_SIZE_NUM', 'AVG_WEEKLY_BASKETS'],\n",
      "      dtype='object')\n",
      "===============================================================\n"
     ]
    }
   ],
   "source": [
    "estimator_results = []\n",
    "\n",
    "valid_df = validation_df(mega_df, weeks, no_of_months = 1, no_of_validations = 9)\n",
    "\n",
    "for estimator in tqdm_notebook(range(5,250,10), leave = True, desc = 'estimator'):\n",
    "    results = {}\n",
    "    RFR = RandomForestRegressor(n_estimators = estimator, random_state =0)\n",
    "    rmsle_train, rmsle_valid, train_data = train_model(valid_df, mega_df, RFR)\n",
    "    results['estimators'] = estimator\n",
    "    results['rmsle_train'] = rmsle_train\n",
    "    results['rmsle_valid'] = rmsle_valid\n",
    "    \n",
    "    estimator_results.append(results)\n",
    "\n",
    "get_columns(train_data)"
   ]
  },
  {
   "cell_type": "code",
   "execution_count": 13,
   "id": "2d87ae14",
   "metadata": {},
   "outputs": [
    {
     "data": {
      "text/html": [
       "<div>\n",
       "<style scoped>\n",
       "    .dataframe tbody tr th:only-of-type {\n",
       "        vertical-align: middle;\n",
       "    }\n",
       "\n",
       "    .dataframe tbody tr th {\n",
       "        vertical-align: top;\n",
       "    }\n",
       "\n",
       "    .dataframe thead th {\n",
       "        text-align: right;\n",
       "    }\n",
       "</style>\n",
       "<table border=\"1\" class=\"dataframe\">\n",
       "  <thead>\n",
       "    <tr style=\"text-align: right;\">\n",
       "      <th></th>\n",
       "      <th>estimators</th>\n",
       "      <th>rmsle_train</th>\n",
       "      <th>rmsle_valid</th>\n",
       "    </tr>\n",
       "  </thead>\n",
       "  <tbody>\n",
       "    <tr>\n",
       "      <th>0</th>\n",
       "      <td>5</td>\n",
       "      <td>0.302279</td>\n",
       "      <td>0.587547</td>\n",
       "    </tr>\n",
       "    <tr>\n",
       "      <th>1</th>\n",
       "      <td>15</td>\n",
       "      <td>0.285166</td>\n",
       "      <td>0.563947</td>\n",
       "    </tr>\n",
       "    <tr>\n",
       "      <th>2</th>\n",
       "      <td>25</td>\n",
       "      <td>0.281882</td>\n",
       "      <td>0.562023</td>\n",
       "    </tr>\n",
       "    <tr>\n",
       "      <th>3</th>\n",
       "      <td>35</td>\n",
       "      <td>0.280082</td>\n",
       "      <td>0.559509</td>\n",
       "    </tr>\n",
       "    <tr>\n",
       "      <th>4</th>\n",
       "      <td>45</td>\n",
       "      <td>0.279395</td>\n",
       "      <td>0.558967</td>\n",
       "    </tr>\n",
       "    <tr>\n",
       "      <th>5</th>\n",
       "      <td>55</td>\n",
       "      <td>0.279021</td>\n",
       "      <td>0.558512</td>\n",
       "    </tr>\n",
       "    <tr>\n",
       "      <th>6</th>\n",
       "      <td>65</td>\n",
       "      <td>0.278670</td>\n",
       "      <td>0.558459</td>\n",
       "    </tr>\n",
       "    <tr>\n",
       "      <th>7</th>\n",
       "      <td>75</td>\n",
       "      <td>0.278396</td>\n",
       "      <td>0.557049</td>\n",
       "    </tr>\n",
       "    <tr>\n",
       "      <th>8</th>\n",
       "      <td>85</td>\n",
       "      <td>0.278321</td>\n",
       "      <td>0.557200</td>\n",
       "    </tr>\n",
       "    <tr>\n",
       "      <th>9</th>\n",
       "      <td>95</td>\n",
       "      <td>0.278196</td>\n",
       "      <td>0.557377</td>\n",
       "    </tr>\n",
       "    <tr>\n",
       "      <th>10</th>\n",
       "      <td>105</td>\n",
       "      <td>0.277998</td>\n",
       "      <td>0.556843</td>\n",
       "    </tr>\n",
       "    <tr>\n",
       "      <th>11</th>\n",
       "      <td>115</td>\n",
       "      <td>0.277927</td>\n",
       "      <td>0.556812</td>\n",
       "    </tr>\n",
       "    <tr>\n",
       "      <th>12</th>\n",
       "      <td>125</td>\n",
       "      <td>0.277764</td>\n",
       "      <td>0.556247</td>\n",
       "    </tr>\n",
       "    <tr>\n",
       "      <th>13</th>\n",
       "      <td>135</td>\n",
       "      <td>0.277686</td>\n",
       "      <td>0.556441</td>\n",
       "    </tr>\n",
       "    <tr>\n",
       "      <th>14</th>\n",
       "      <td>145</td>\n",
       "      <td>0.277557</td>\n",
       "      <td>0.556334</td>\n",
       "    </tr>\n",
       "    <tr>\n",
       "      <th>15</th>\n",
       "      <td>155</td>\n",
       "      <td>0.277487</td>\n",
       "      <td>0.556661</td>\n",
       "    </tr>\n",
       "    <tr>\n",
       "      <th>16</th>\n",
       "      <td>165</td>\n",
       "      <td>0.277402</td>\n",
       "      <td>0.556169</td>\n",
       "    </tr>\n",
       "    <tr>\n",
       "      <th>17</th>\n",
       "      <td>175</td>\n",
       "      <td>0.277316</td>\n",
       "      <td>0.556024</td>\n",
       "    </tr>\n",
       "    <tr>\n",
       "      <th>18</th>\n",
       "      <td>185</td>\n",
       "      <td>0.277314</td>\n",
       "      <td>0.555989</td>\n",
       "    </tr>\n",
       "    <tr>\n",
       "      <th>19</th>\n",
       "      <td>195</td>\n",
       "      <td>0.277288</td>\n",
       "      <td>0.555944</td>\n",
       "    </tr>\n",
       "    <tr>\n",
       "      <th>20</th>\n",
       "      <td>205</td>\n",
       "      <td>0.277249</td>\n",
       "      <td>0.556053</td>\n",
       "    </tr>\n",
       "    <tr>\n",
       "      <th>21</th>\n",
       "      <td>215</td>\n",
       "      <td>0.277238</td>\n",
       "      <td>0.556058</td>\n",
       "    </tr>\n",
       "    <tr>\n",
       "      <th>22</th>\n",
       "      <td>225</td>\n",
       "      <td>0.277204</td>\n",
       "      <td>0.556212</td>\n",
       "    </tr>\n",
       "    <tr>\n",
       "      <th>23</th>\n",
       "      <td>235</td>\n",
       "      <td>0.277173</td>\n",
       "      <td>0.555912</td>\n",
       "    </tr>\n",
       "    <tr>\n",
       "      <th>24</th>\n",
       "      <td>245</td>\n",
       "      <td>0.277167</td>\n",
       "      <td>0.556107</td>\n",
       "    </tr>\n",
       "  </tbody>\n",
       "</table>\n",
       "</div>"
      ],
      "text/plain": [
       "    estimators  rmsle_train  rmsle_valid\n",
       "0            5     0.302279     0.587547\n",
       "1           15     0.285166     0.563947\n",
       "2           25     0.281882     0.562023\n",
       "3           35     0.280082     0.559509\n",
       "4           45     0.279395     0.558967\n",
       "5           55     0.279021     0.558512\n",
       "6           65     0.278670     0.558459\n",
       "7           75     0.278396     0.557049\n",
       "8           85     0.278321     0.557200\n",
       "9           95     0.278196     0.557377\n",
       "10         105     0.277998     0.556843\n",
       "11         115     0.277927     0.556812\n",
       "12         125     0.277764     0.556247\n",
       "13         135     0.277686     0.556441\n",
       "14         145     0.277557     0.556334\n",
       "15         155     0.277487     0.556661\n",
       "16         165     0.277402     0.556169\n",
       "17         175     0.277316     0.556024\n",
       "18         185     0.277314     0.555989\n",
       "19         195     0.277288     0.555944\n",
       "20         205     0.277249     0.556053\n",
       "21         215     0.277238     0.556058\n",
       "22         225     0.277204     0.556212\n",
       "23         235     0.277173     0.555912\n",
       "24         245     0.277167     0.556107"
      ]
     },
     "execution_count": 13,
     "metadata": {},
     "output_type": "execute_result"
    }
   ],
   "source": [
    "a = pd.DataFrame(estimator_results)\n",
    "a"
   ]
  },
  {
   "cell_type": "code",
   "execution_count": 14,
   "id": "b6c2b417",
   "metadata": {},
   "outputs": [
    {
     "data": {
      "image/png": "[encoded data removed]",
      "text/plain": [
       "<Figure size 1000x400 with 1 Axes>"
      ]
     },
     "metadata": {},
     "output_type": "display_data"
    }
   ],
   "source": [
    "plt.figure(figsize = (10,4), dpi = 100)\n",
    "#sns.lineplot(x = a['estimators'], y = a['rmsle_train'], marker = 'o', color = 'orange', label = 'Train RMSLE')\n",
    "sns.lineplot(x = a['estimators'], y = a['rmsle_valid'], marker = 'o', color = 'blue', label = 'Valid RMSLE')\n",
    "plt.title('Random Forest Regressor')\n",
    "plt.ylabel('RMSLE')\n",
    "plt.xlabel('No. of estimators')\n",
    "plt.legend()\n",
    "plt.show()"
   ]
  },
  {
   "cell_type": "markdown",
   "id": "5680547d",
   "metadata": {},
   "source": [
    "The RMSLE is lowest on n_estimators value 125 is around **0.5562 (RMSLE)** and seems to get stable after that. So, we will keep the value of the **n_estimators = 125**.\n",
    "\n",
    "### 2. OPTIMUM VALUE OF MAX_DEPTH\n",
    "* Now, we will keep the value of n_estimators fixed as 155 and try different values of max_depth from 1, 2, ...29."
   ]
  },
  {
   "cell_type": "code",
   "execution_count": 15,
   "id": "f7f3bf6f",
   "metadata": {},
   "outputs": [
    {
     "data": {
      "application/vnd.jupyter.widget-view+json": {
       "model_id": "ef7650c60a094483a9f4037a247168d7",
       "version_major": 2,
       "version_minor": 0
      },
      "text/plain": [
       "max_depth:   0%|          | 0/29 [00:00<?, ?it/s]"
      ]
     },
     "metadata": {},
     "output_type": "display_data"
    },
    {
     "data": {
      "application/vnd.jupyter.widget-view+json": {
       "model_id": "",
       "version_major": 2,
       "version_minor": 0
      },
      "text/plain": [
       "training_model:   0%|          | 0/9 [00:00<?, ?it/s]"
      ]
     },
     "metadata": {},
     "output_type": "display_data"
    },
    {
     "data": {
      "application/vnd.jupyter.widget-view+json": {
       "model_id": "",
       "version_major": 2,
       "version_minor": 0
      },
      "text/plain": [
       "training_model:   0%|          | 0/9 [00:00<?, ?it/s]"
      ]
     },
     "metadata": {},
     "output_type": "display_data"
    },
    {
     "data": {
      "application/vnd.jupyter.widget-view+json": {
       "model_id": "",
       "version_major": 2,
       "version_minor": 0
      },
      "text/plain": [
       "training_model:   0%|          | 0/9 [00:00<?, ?it/s]"
      ]
     },
     "metadata": {},
     "output_type": "display_data"
    },
    {
     "data": {
      "application/vnd.jupyter.widget-view+json": {
       "model_id": "",
       "version_major": 2,
       "version_minor": 0
      },
      "text/plain": [
       "training_model:   0%|          | 0/9 [00:00<?, ?it/s]"
      ]
     },
     "metadata": {},
     "output_type": "display_data"
    },
    {
     "data": {
      "application/vnd.jupyter.widget-view+json": {
       "model_id": "",
       "version_major": 2,
       "version_minor": 0
      },
      "text/plain": [
       "training_model:   0%|          | 0/9 [00:00<?, ?it/s]"
      ]
     },
     "metadata": {},
     "output_type": "display_data"
    },
    {
     "data": {
      "application/vnd.jupyter.widget-view+json": {
       "model_id": "",
       "version_major": 2,
       "version_minor": 0
      },
      "text/plain": [
       "training_model:   0%|          | 0/9 [00:00<?, ?it/s]"
      ]
     },
     "metadata": {},
     "output_type": "display_data"
    },
    {
     "data": {
      "application/vnd.jupyter.widget-view+json": {
       "model_id": "",
       "version_major": 2,
       "version_minor": 0
      },
      "text/plain": [
       "training_model:   0%|          | 0/9 [00:00<?, ?it/s]"
      ]
     },
     "metadata": {},
     "output_type": "display_data"
    },
    {
     "data": {
      "application/vnd.jupyter.widget-view+json": {
       "model_id": "",
       "version_major": 2,
       "version_minor": 0
      },
      "text/plain": [
       "training_model:   0%|          | 0/9 [00:00<?, ?it/s]"
      ]
     },
     "metadata": {},
     "output_type": "display_data"
    },
    {
     "data": {
      "application/vnd.jupyter.widget-view+json": {
       "model_id": "",
       "version_major": 2,
       "version_minor": 0
      },
      "text/plain": [
       "training_model:   0%|          | 0/9 [00:00<?, ?it/s]"
      ]
     },
     "metadata": {},
     "output_type": "display_data"
    },
    {
     "data": {
      "application/vnd.jupyter.widget-view+json": {
       "model_id": "",
       "version_major": 2,
       "version_minor": 0
      },
      "text/plain": [
       "training_model:   0%|          | 0/9 [00:00<?, ?it/s]"
      ]
     },
     "metadata": {},
     "output_type": "display_data"
    },
    {
     "data": {
      "application/vnd.jupyter.widget-view+json": {
       "model_id": "",
       "version_major": 2,
       "version_minor": 0
      },
      "text/plain": [
       "training_model:   0%|          | 0/9 [00:00<?, ?it/s]"
      ]
     },
     "metadata": {},
     "output_type": "display_data"
    },
    {
     "data": {
      "application/vnd.jupyter.widget-view+json": {
       "model_id": "",
       "version_major": 2,
       "version_minor": 0
      },
      "text/plain": [
       "training_model:   0%|          | 0/9 [00:00<?, ?it/s]"
      ]
     },
     "metadata": {},
     "output_type": "display_data"
    },
    {
     "data": {
      "application/vnd.jupyter.widget-view+json": {
       "model_id": "",
       "version_major": 2,
       "version_minor": 0
      },
      "text/plain": [
       "training_model:   0%|          | 0/9 [00:00<?, ?it/s]"
      ]
     },
     "metadata": {},
     "output_type": "display_data"
    },
    {
     "data": {
      "application/vnd.jupyter.widget-view+json": {
       "model_id": "",
       "version_major": 2,
       "version_minor": 0
      },
      "text/plain": [
       "training_model:   0%|          | 0/9 [00:00<?, ?it/s]"
      ]
     },
     "metadata": {},
     "output_type": "display_data"
    },
    {
     "data": {
      "application/vnd.jupyter.widget-view+json": {
       "model_id": "",
       "version_major": 2,
       "version_minor": 0
      },
      "text/plain": [
       "training_model:   0%|          | 0/9 [00:00<?, ?it/s]"
      ]
     },
     "metadata": {},
     "output_type": "display_data"
    },
    {
     "data": {
      "application/vnd.jupyter.widget-view+json": {
       "model_id": "",
       "version_major": 2,
       "version_minor": 0
      },
      "text/plain": [
       "training_model:   0%|          | 0/9 [00:00<?, ?it/s]"
      ]
     },
     "metadata": {},
     "output_type": "display_data"
    },
    {
     "data": {
      "application/vnd.jupyter.widget-view+json": {
       "model_id": "",
       "version_major": 2,
       "version_minor": 0
      },
      "text/plain": [
       "training_model:   0%|          | 0/9 [00:00<?, ?it/s]"
      ]
     },
     "metadata": {},
     "output_type": "display_data"
    },
    {
     "data": {
      "application/vnd.jupyter.widget-view+json": {
       "model_id": "",
       "version_major": 2,
       "version_minor": 0
      },
      "text/plain": [
       "training_model:   0%|          | 0/9 [00:00<?, ?it/s]"
      ]
     },
     "metadata": {},
     "output_type": "display_data"
    },
    {
     "data": {
      "application/vnd.jupyter.widget-view+json": {
       "model_id": "",
       "version_major": 2,
       "version_minor": 0
      },
      "text/plain": [
       "training_model:   0%|          | 0/9 [00:00<?, ?it/s]"
      ]
     },
     "metadata": {},
     "output_type": "display_data"
    },
    {
     "data": {
      "application/vnd.jupyter.widget-view+json": {
       "model_id": "",
       "version_major": 2,
       "version_minor": 0
      },
      "text/plain": [
       "training_model:   0%|          | 0/9 [00:00<?, ?it/s]"
      ]
     },
     "metadata": {},
     "output_type": "display_data"
    },
    {
     "data": {
      "application/vnd.jupyter.widget-view+json": {
       "model_id": "",
       "version_major": 2,
       "version_minor": 0
      },
      "text/plain": [
       "training_model:   0%|          | 0/9 [00:00<?, ?it/s]"
      ]
     },
     "metadata": {},
     "output_type": "display_data"
    },
    {
     "data": {
      "application/vnd.jupyter.widget-view+json": {
       "model_id": "",
       "version_major": 2,
       "version_minor": 0
      },
      "text/plain": [
       "training_model:   0%|          | 0/9 [00:00<?, ?it/s]"
      ]
     },
     "metadata": {},
     "output_type": "display_data"
    },
    {
     "data": {
      "application/vnd.jupyter.widget-view+json": {
       "model_id": "",
       "version_major": 2,
       "version_minor": 0
      },
      "text/plain": [
       "training_model:   0%|          | 0/9 [00:00<?, ?it/s]"
      ]
     },
     "metadata": {},
     "output_type": "display_data"
    },
    {
     "data": {
      "application/vnd.jupyter.widget-view+json": {
       "model_id": "",
       "version_major": 2,
       "version_minor": 0
      },
      "text/plain": [
       "training_model:   0%|          | 0/9 [00:00<?, ?it/s]"
      ]
     },
     "metadata": {},
     "output_type": "display_data"
    },
    {
     "data": {
      "application/vnd.jupyter.widget-view+json": {
       "model_id": "",
       "version_major": 2,
       "version_minor": 0
      },
      "text/plain": [
       "training_model:   0%|          | 0/9 [00:00<?, ?it/s]"
      ]
     },
     "metadata": {},
     "output_type": "display_data"
    },
    {
     "data": {
      "application/vnd.jupyter.widget-view+json": {
       "model_id": "",
       "version_major": 2,
       "version_minor": 0
      },
      "text/plain": [
       "training_model:   0%|          | 0/9 [00:00<?, ?it/s]"
      ]
     },
     "metadata": {},
     "output_type": "display_data"
    },
    {
     "data": {
      "application/vnd.jupyter.widget-view+json": {
       "model_id": "",
       "version_major": 2,
       "version_minor": 0
      },
      "text/plain": [
       "training_model:   0%|          | 0/9 [00:00<?, ?it/s]"
      ]
     },
     "metadata": {},
     "output_type": "display_data"
    },
    {
     "data": {
      "application/vnd.jupyter.widget-view+json": {
       "model_id": "",
       "version_major": 2,
       "version_minor": 0
      },
      "text/plain": [
       "training_model:   0%|          | 0/9 [00:00<?, ?it/s]"
      ]
     },
     "metadata": {},
     "output_type": "display_data"
    },
    {
     "data": {
      "application/vnd.jupyter.widget-view+json": {
       "model_id": "",
       "version_major": 2,
       "version_minor": 0
      },
      "text/plain": [
       "training_model:   0%|          | 0/9 [00:00<?, ?it/s]"
      ]
     },
     "metadata": {},
     "output_type": "display_data"
    },
    {
     "name": "stdout",
     "output_type": "stream",
     "text": [
      "\n",
      "####### The model is trained on Following Columns: ###########\n",
      "\n",
      "Index(['BASE_PRICE', 'FEATURE', 'DISPLAY', 'MONTH', 'MANUFACTURER_1',\n",
      "       'MANUFACTURER_2', 'MANUFACTURER_3', 'MANUFACTURER_4', 'MANUFACTURER_5',\n",
      "       'MANUFACTURER_6', 'MANUFACTURER_7', 'MANUFACTURER_8', 'MANUFACTURER_9',\n",
      "       'CATEGORY_1', 'CATEGORY_2', 'CATEGORY_3', 'CATEGORY_4',\n",
      "       'SUB_CATEGORY_1', 'SUB_CATEGORY_2', 'SUB_CATEGORY_3', 'SUB_CATEGORY_4',\n",
      "       'SUB_CATEGORY_5', 'SUB_CATEGORY_6', 'SUB_CATEGORY_7', 'SIZE',\n",
      "       'ADDRESS_STATE_PROV_CODE_1', 'ADDRESS_STATE_PROV_CODE_2',\n",
      "       'ADDRESS_STATE_PROV_CODE_3', 'ADDRESS_STATE_PROV_CODE_4', 'MSA_CODE_1',\n",
      "       'MSA_CODE_2', 'MSA_CODE_3', 'MSA_CODE_4', 'MSA_CODE_5', 'MSA_CODE_6',\n",
      "       'MSA_CODE_7', 'MSA_CODE_8', 'MSA_CODE_9', 'SEG_VALUE_NAME',\n",
      "       'SALES_AREA_SIZE_NUM', 'AVG_WEEKLY_BASKETS'],\n",
      "      dtype='object')\n",
      "===============================================================\n"
     ]
    }
   ],
   "source": [
    "estimator_results = []\n",
    "\n",
    "valid_df = validation_df(mega_df, weeks, no_of_months = 1, no_of_validations = 9)\n",
    "\n",
    "for depth in tqdm_notebook(range(1,30,1), leave = True, desc = 'max_depth'):\n",
    "    results = {}\n",
    "    RFR = RandomForestRegressor(n_estimators = 125, max_depth= depth, random_state =0)\n",
    "    rmsle_train, rmsle_valid, train_data = train_model(valid_df, mega_df, RFR)\n",
    "    results['max_depth'] = depth\n",
    "    results['rmsle_train'] = rmsle_train\n",
    "    results['rmsle_valid'] = rmsle_valid\n",
    "    \n",
    "    estimator_results.append(results)\n",
    "\n",
    "get_columns(train_data)"
   ]
  },
  {
   "cell_type": "code",
   "execution_count": null,
   "id": "0c488517",
   "metadata": {},
   "outputs": [],
   "source": []
  },
  {
   "cell_type": "code",
   "execution_count": 16,
   "id": "1d6293ab",
   "metadata": {},
   "outputs": [
    {
     "data": {
      "text/html": [
       "<div>\n",
       "<style scoped>\n",
       "    .dataframe tbody tr th:only-of-type {\n",
       "        vertical-align: middle;\n",
       "    }\n",
       "\n",
       "    .dataframe tbody tr th {\n",
       "        vertical-align: top;\n",
       "    }\n",
       "\n",
       "    .dataframe thead th {\n",
       "        text-align: right;\n",
       "    }\n",
       "</style>\n",
       "<table border=\"1\" class=\"dataframe\">\n",
       "  <thead>\n",
       "    <tr style=\"text-align: right;\">\n",
       "      <th></th>\n",
       "      <th>max_depth</th>\n",
       "      <th>rmsle_train</th>\n",
       "      <th>rmsle_valid</th>\n",
       "    </tr>\n",
       "  </thead>\n",
       "  <tbody>\n",
       "    <tr>\n",
       "      <th>0</th>\n",
       "      <td>1</td>\n",
       "      <td>0.919891</td>\n",
       "      <td>0.946742</td>\n",
       "    </tr>\n",
       "    <tr>\n",
       "      <th>1</th>\n",
       "      <td>2</td>\n",
       "      <td>0.806733</td>\n",
       "      <td>0.835589</td>\n",
       "    </tr>\n",
       "    <tr>\n",
       "      <th>2</th>\n",
       "      <td>3</td>\n",
       "      <td>0.716882</td>\n",
       "      <td>0.756453</td>\n",
       "    </tr>\n",
       "    <tr>\n",
       "      <th>3</th>\n",
       "      <td>4</td>\n",
       "      <td>0.653478</td>\n",
       "      <td>0.707551</td>\n",
       "    </tr>\n",
       "    <tr>\n",
       "      <th>4</th>\n",
       "      <td>5</td>\n",
       "      <td>0.604436</td>\n",
       "      <td>0.674093</td>\n",
       "    </tr>\n",
       "    <tr>\n",
       "      <th>5</th>\n",
       "      <td>6</td>\n",
       "      <td>0.554560</td>\n",
       "      <td>0.644815</td>\n",
       "    </tr>\n",
       "    <tr>\n",
       "      <th>6</th>\n",
       "      <td>7</td>\n",
       "      <td>0.514062</td>\n",
       "      <td>0.620000</td>\n",
       "    </tr>\n",
       "    <tr>\n",
       "      <th>7</th>\n",
       "      <td>8</td>\n",
       "      <td>0.477965</td>\n",
       "      <td>0.600625</td>\n",
       "    </tr>\n",
       "    <tr>\n",
       "      <th>8</th>\n",
       "      <td>9</td>\n",
       "      <td>0.445874</td>\n",
       "      <td>0.583708</td>\n",
       "    </tr>\n",
       "    <tr>\n",
       "      <th>9</th>\n",
       "      <td>10</td>\n",
       "      <td>0.416128</td>\n",
       "      <td>0.573705</td>\n",
       "    </tr>\n",
       "    <tr>\n",
       "      <th>10</th>\n",
       "      <td>11</td>\n",
       "      <td>0.388893</td>\n",
       "      <td>0.565412</td>\n",
       "    </tr>\n",
       "    <tr>\n",
       "      <th>11</th>\n",
       "      <td>12</td>\n",
       "      <td>0.364316</td>\n",
       "      <td>0.560304</td>\n",
       "    </tr>\n",
       "    <tr>\n",
       "      <th>12</th>\n",
       "      <td>13</td>\n",
       "      <td>0.342881</td>\n",
       "      <td>0.556494</td>\n",
       "    </tr>\n",
       "    <tr>\n",
       "      <th>13</th>\n",
       "      <td>14</td>\n",
       "      <td>0.325069</td>\n",
       "      <td>0.555032</td>\n",
       "    </tr>\n",
       "    <tr>\n",
       "      <th>14</th>\n",
       "      <td>15</td>\n",
       "      <td>0.310850</td>\n",
       "      <td>0.553811</td>\n",
       "    </tr>\n",
       "    <tr>\n",
       "      <th>15</th>\n",
       "      <td>16</td>\n",
       "      <td>0.300081</td>\n",
       "      <td>0.554132</td>\n",
       "    </tr>\n",
       "    <tr>\n",
       "      <th>16</th>\n",
       "      <td>17</td>\n",
       "      <td>0.292222</td>\n",
       "      <td>0.554090</td>\n",
       "    </tr>\n",
       "    <tr>\n",
       "      <th>17</th>\n",
       "      <td>18</td>\n",
       "      <td>0.286837</td>\n",
       "      <td>0.554302</td>\n",
       "    </tr>\n",
       "    <tr>\n",
       "      <th>18</th>\n",
       "      <td>19</td>\n",
       "      <td>0.283323</td>\n",
       "      <td>0.554377</td>\n",
       "    </tr>\n",
       "    <tr>\n",
       "      <th>19</th>\n",
       "      <td>20</td>\n",
       "      <td>0.280991</td>\n",
       "      <td>0.555775</td>\n",
       "    </tr>\n",
       "    <tr>\n",
       "      <th>20</th>\n",
       "      <td>21</td>\n",
       "      <td>0.279621</td>\n",
       "      <td>0.555192</td>\n",
       "    </tr>\n",
       "    <tr>\n",
       "      <th>21</th>\n",
       "      <td>22</td>\n",
       "      <td>0.278765</td>\n",
       "      <td>0.555784</td>\n",
       "    </tr>\n",
       "    <tr>\n",
       "      <th>22</th>\n",
       "      <td>23</td>\n",
       "      <td>0.278271</td>\n",
       "      <td>0.555249</td>\n",
       "    </tr>\n",
       "    <tr>\n",
       "      <th>23</th>\n",
       "      <td>24</td>\n",
       "      <td>0.278037</td>\n",
       "      <td>0.555541</td>\n",
       "    </tr>\n",
       "    <tr>\n",
       "      <th>24</th>\n",
       "      <td>25</td>\n",
       "      <td>0.277843</td>\n",
       "      <td>0.555769</td>\n",
       "    </tr>\n",
       "    <tr>\n",
       "      <th>25</th>\n",
       "      <td>26</td>\n",
       "      <td>0.277822</td>\n",
       "      <td>0.555708</td>\n",
       "    </tr>\n",
       "    <tr>\n",
       "      <th>26</th>\n",
       "      <td>27</td>\n",
       "      <td>0.277749</td>\n",
       "      <td>0.555788</td>\n",
       "    </tr>\n",
       "    <tr>\n",
       "      <th>27</th>\n",
       "      <td>28</td>\n",
       "      <td>0.277768</td>\n",
       "      <td>0.556220</td>\n",
       "    </tr>\n",
       "    <tr>\n",
       "      <th>28</th>\n",
       "      <td>29</td>\n",
       "      <td>0.277737</td>\n",
       "      <td>0.556117</td>\n",
       "    </tr>\n",
       "  </tbody>\n",
       "</table>\n",
       "</div>"
      ],
      "text/plain": [
       "    max_depth  rmsle_train  rmsle_valid\n",
       "0           1     0.919891     0.946742\n",
       "1           2     0.806733     0.835589\n",
       "2           3     0.716882     0.756453\n",
       "3           4     0.653478     0.707551\n",
       "4           5     0.604436     0.674093\n",
       "5           6     0.554560     0.644815\n",
       "6           7     0.514062     0.620000\n",
       "7           8     0.477965     0.600625\n",
       "8           9     0.445874     0.583708\n",
       "9          10     0.416128     0.573705\n",
       "10         11     0.388893     0.565412\n",
       "11         12     0.364316     0.560304\n",
       "12         13     0.342881     0.556494\n",
       "13         14     0.325069     0.555032\n",
       "14         15     0.310850     0.553811\n",
       "15         16     0.300081     0.554132\n",
       "16         17     0.292222     0.554090\n",
       "17         18     0.286837     0.554302\n",
       "18         19     0.283323     0.554377\n",
       "19         20     0.280991     0.555775\n",
       "20         21     0.279621     0.555192\n",
       "21         22     0.278765     0.555784\n",
       "22         23     0.278271     0.555249\n",
       "23         24     0.278037     0.555541\n",
       "24         25     0.277843     0.555769\n",
       "25         26     0.277822     0.555708\n",
       "26         27     0.277749     0.555788\n",
       "27         28     0.277768     0.556220\n",
       "28         29     0.277737     0.556117"
      ]
     },
     "execution_count": 16,
     "metadata": {},
     "output_type": "execute_result"
    }
   ],
   "source": [
    "b = pd.DataFrame(estimator_results)\n",
    "b"
   ]
  },
  {
   "cell_type": "code",
   "execution_count": 17,
   "id": "2207a8f0",
   "metadata": {},
   "outputs": [
    {
     "data": {
      "image/png": "[encoded data removed]",
      "text/plain": [
       "<Figure size 1000x400 with 1 Axes>"
      ]
     },
     "metadata": {},
     "output_type": "display_data"
    }
   ],
   "source": [
    "plt.figure(figsize = (10,4), dpi = 100)\n",
    "sns.lineplot(x= b['max_depth'], y= b['rmsle_train'], marker='o',label='train');\n",
    "sns.lineplot(x= b['max_depth'], y= b['rmsle_valid'], marker='o',label='validation');\n",
    "plt.title('Random Forest Regressor')\n",
    "plt.ylabel('RMSLE')\n",
    "plt.xlabel('Max depth')\n",
    "plt.legend()\n",
    "plt.show()"
   ]
  },
  {
   "cell_type": "markdown",
   "id": "64b44827",
   "metadata": {},
   "source": [
    "The RMSLE gets stable on both validation and train set after **max_depth 15** and the RMSLE is still around **0.5538**\n",
    "\n",
    "### 3. ADD TIME BASED FEATURES\n",
    "* Now, we will add some Time based features to the data like year of the transaction, month, day, day_of_year, week, quarter.\n",
    "\n",
    "* And we will once again check the performace of the model for different max_depth 1 to 29 and will decide whether we have selected the right value of max_depth or not."
   ]
  },
  {
   "cell_type": "code",
   "execution_count": 18,
   "id": "7aaec2a0",
   "metadata": {},
   "outputs": [],
   "source": [
    "# year\n",
    "mega_df['year']  = mega_df['WEEK_END_DATE'].dt.year\n",
    "# day\n",
    "mega_df['day'] = mega_df['WEEK_END_DATE'].dt.day\n",
    "# day_of year\n",
    "mega_df['day_of_year'] = mega_df['WEEK_END_DATE'].dt.dayofyear\n",
    "# week \n",
    "mega_df[\"week\"] = mega_df['WEEK_END_DATE'].dt.week\n",
    "# quarter\n",
    "mega_df[\"quarter\"] = mega_df['WEEK_END_DATE'].dt.quarter"
   ]
  },
  {
   "cell_type": "code",
   "execution_count": 19,
   "id": "5f19c9d8",
   "metadata": {},
   "outputs": [
    {
     "data": {
      "application/vnd.jupyter.widget-view+json": {
       "model_id": "e1c0428182c244b384ba1342b3ae1414",
       "version_major": 2,
       "version_minor": 0
      },
      "text/plain": [
       "max_depth:   0%|          | 0/29 [00:00<?, ?it/s]"
      ]
     },
     "metadata": {},
     "output_type": "display_data"
    },
    {
     "data": {
      "application/vnd.jupyter.widget-view+json": {
       "model_id": "",
       "version_major": 2,
       "version_minor": 0
      },
      "text/plain": [
       "training_model:   0%|          | 0/9 [00:00<?, ?it/s]"
      ]
     },
     "metadata": {},
     "output_type": "display_data"
    },
    {
     "data": {
      "application/vnd.jupyter.widget-view+json": {
       "model_id": "",
       "version_major": 2,
       "version_minor": 0
      },
      "text/plain": [
       "training_model:   0%|          | 0/9 [00:00<?, ?it/s]"
      ]
     },
     "metadata": {},
     "output_type": "display_data"
    },
    {
     "data": {
      "application/vnd.jupyter.widget-view+json": {
       "model_id": "",
       "version_major": 2,
       "version_minor": 0
      },
      "text/plain": [
       "training_model:   0%|          | 0/9 [00:00<?, ?it/s]"
      ]
     },
     "metadata": {},
     "output_type": "display_data"
    },
    {
     "data": {
      "application/vnd.jupyter.widget-view+json": {
       "model_id": "",
       "version_major": 2,
       "version_minor": 0
      },
      "text/plain": [
       "training_model:   0%|          | 0/9 [00:00<?, ?it/s]"
      ]
     },
     "metadata": {},
     "output_type": "display_data"
    },
    {
     "data": {
      "application/vnd.jupyter.widget-view+json": {
       "model_id": "",
       "version_major": 2,
       "version_minor": 0
      },
      "text/plain": [
       "training_model:   0%|          | 0/9 [00:00<?, ?it/s]"
      ]
     },
     "metadata": {},
     "output_type": "display_data"
    },
    {
     "data": {
      "application/vnd.jupyter.widget-view+json": {
       "model_id": "",
       "version_major": 2,
       "version_minor": 0
      },
      "text/plain": [
       "training_model:   0%|          | 0/9 [00:00<?, ?it/s]"
      ]
     },
     "metadata": {},
     "output_type": "display_data"
    },
    {
     "data": {
      "application/vnd.jupyter.widget-view+json": {
       "model_id": "",
       "version_major": 2,
       "version_minor": 0
      },
      "text/plain": [
       "training_model:   0%|          | 0/9 [00:00<?, ?it/s]"
      ]
     },
     "metadata": {},
     "output_type": "display_data"
    },
    {
     "data": {
      "application/vnd.jupyter.widget-view+json": {
       "model_id": "",
       "version_major": 2,
       "version_minor": 0
      },
      "text/plain": [
       "training_model:   0%|          | 0/9 [00:00<?, ?it/s]"
      ]
     },
     "metadata": {},
     "output_type": "display_data"
    },
    {
     "data": {
      "application/vnd.jupyter.widget-view+json": {
       "model_id": "",
       "version_major": 2,
       "version_minor": 0
      },
      "text/plain": [
       "training_model:   0%|          | 0/9 [00:00<?, ?it/s]"
      ]
     },
     "metadata": {},
     "output_type": "display_data"
    },
    {
     "data": {
      "application/vnd.jupyter.widget-view+json": {
       "model_id": "",
       "version_major": 2,
       "version_minor": 0
      },
      "text/plain": [
       "training_model:   0%|          | 0/9 [00:00<?, ?it/s]"
      ]
     },
     "metadata": {},
     "output_type": "display_data"
    },
    {
     "data": {
      "application/vnd.jupyter.widget-view+json": {
       "model_id": "",
       "version_major": 2,
       "version_minor": 0
      },
      "text/plain": [
       "training_model:   0%|          | 0/9 [00:00<?, ?it/s]"
      ]
     },
     "metadata": {},
     "output_type": "display_data"
    },
    {
     "data": {
      "application/vnd.jupyter.widget-view+json": {
       "model_id": "",
       "version_major": 2,
       "version_minor": 0
      },
      "text/plain": [
       "training_model:   0%|          | 0/9 [00:00<?, ?it/s]"
      ]
     },
     "metadata": {},
     "output_type": "display_data"
    },
    {
     "data": {
      "application/vnd.jupyter.widget-view+json": {
       "model_id": "",
       "version_major": 2,
       "version_minor": 0
      },
      "text/plain": [
       "training_model:   0%|          | 0/9 [00:00<?, ?it/s]"
      ]
     },
     "metadata": {},
     "output_type": "display_data"
    },
    {
     "data": {
      "application/vnd.jupyter.widget-view+json": {
       "model_id": "",
       "version_major": 2,
       "version_minor": 0
      },
      "text/plain": [
       "training_model:   0%|          | 0/9 [00:00<?, ?it/s]"
      ]
     },
     "metadata": {},
     "output_type": "display_data"
    },
    {
     "data": {
      "application/vnd.jupyter.widget-view+json": {
       "model_id": "",
       "version_major": 2,
       "version_minor": 0
      },
      "text/plain": [
       "training_model:   0%|          | 0/9 [00:00<?, ?it/s]"
      ]
     },
     "metadata": {},
     "output_type": "display_data"
    },
    {
     "data": {
      "application/vnd.jupyter.widget-view+json": {
       "model_id": "",
       "version_major": 2,
       "version_minor": 0
      },
      "text/plain": [
       "training_model:   0%|          | 0/9 [00:00<?, ?it/s]"
      ]
     },
     "metadata": {},
     "output_type": "display_data"
    },
    {
     "data": {
      "application/vnd.jupyter.widget-view+json": {
       "model_id": "",
       "version_major": 2,
       "version_minor": 0
      },
      "text/plain": [
       "training_model:   0%|          | 0/9 [00:00<?, ?it/s]"
      ]
     },
     "metadata": {},
     "output_type": "display_data"
    },
    {
     "data": {
      "application/vnd.jupyter.widget-view+json": {
       "model_id": "",
       "version_major": 2,
       "version_minor": 0
      },
      "text/plain": [
       "training_model:   0%|          | 0/9 [00:00<?, ?it/s]"
      ]
     },
     "metadata": {},
     "output_type": "display_data"
    },
    {
     "data": {
      "application/vnd.jupyter.widget-view+json": {
       "model_id": "",
       "version_major": 2,
       "version_minor": 0
      },
      "text/plain": [
       "training_model:   0%|          | 0/9 [00:00<?, ?it/s]"
      ]
     },
     "metadata": {},
     "output_type": "display_data"
    },
    {
     "data": {
      "application/vnd.jupyter.widget-view+json": {
       "model_id": "",
       "version_major": 2,
       "version_minor": 0
      },
      "text/plain": [
       "training_model:   0%|          | 0/9 [00:00<?, ?it/s]"
      ]
     },
     "metadata": {},
     "output_type": "display_data"
    },
    {
     "data": {
      "application/vnd.jupyter.widget-view+json": {
       "model_id": "",
       "version_major": 2,
       "version_minor": 0
      },
      "text/plain": [
       "training_model:   0%|          | 0/9 [00:00<?, ?it/s]"
      ]
     },
     "metadata": {},
     "output_type": "display_data"
    },
    {
     "data": {
      "application/vnd.jupyter.widget-view+json": {
       "model_id": "",
       "version_major": 2,
       "version_minor": 0
      },
      "text/plain": [
       "training_model:   0%|          | 0/9 [00:00<?, ?it/s]"
      ]
     },
     "metadata": {},
     "output_type": "display_data"
    },
    {
     "data": {
      "application/vnd.jupyter.widget-view+json": {
       "model_id": "",
       "version_major": 2,
       "version_minor": 0
      },
      "text/plain": [
       "training_model:   0%|          | 0/9 [00:00<?, ?it/s]"
      ]
     },
     "metadata": {},
     "output_type": "display_data"
    },
    {
     "data": {
      "application/vnd.jupyter.widget-view+json": {
       "model_id": "",
       "version_major": 2,
       "version_minor": 0
      },
      "text/plain": [
       "training_model:   0%|          | 0/9 [00:00<?, ?it/s]"
      ]
     },
     "metadata": {},
     "output_type": "display_data"
    },
    {
     "data": {
      "application/vnd.jupyter.widget-view+json": {
       "model_id": "",
       "version_major": 2,
       "version_minor": 0
      },
      "text/plain": [
       "training_model:   0%|          | 0/9 [00:00<?, ?it/s]"
      ]
     },
     "metadata": {},
     "output_type": "display_data"
    },
    {
     "data": {
      "application/vnd.jupyter.widget-view+json": {
       "model_id": "",
       "version_major": 2,
       "version_minor": 0
      },
      "text/plain": [
       "training_model:   0%|          | 0/9 [00:00<?, ?it/s]"
      ]
     },
     "metadata": {},
     "output_type": "display_data"
    },
    {
     "data": {
      "application/vnd.jupyter.widget-view+json": {
       "model_id": "",
       "version_major": 2,
       "version_minor": 0
      },
      "text/plain": [
       "training_model:   0%|          | 0/9 [00:00<?, ?it/s]"
      ]
     },
     "metadata": {},
     "output_type": "display_data"
    },
    {
     "data": {
      "application/vnd.jupyter.widget-view+json": {
       "model_id": "",
       "version_major": 2,
       "version_minor": 0
      },
      "text/plain": [
       "training_model:   0%|          | 0/9 [00:00<?, ?it/s]"
      ]
     },
     "metadata": {},
     "output_type": "display_data"
    },
    {
     "data": {
      "application/vnd.jupyter.widget-view+json": {
       "model_id": "",
       "version_major": 2,
       "version_minor": 0
      },
      "text/plain": [
       "training_model:   0%|          | 0/9 [00:00<?, ?it/s]"
      ]
     },
     "metadata": {},
     "output_type": "display_data"
    },
    {
     "name": "stdout",
     "output_type": "stream",
     "text": [
      "\n",
      "####### The model is trained on Following Columns: ###########\n",
      "\n",
      "Index(['BASE_PRICE', 'FEATURE', 'DISPLAY', 'MONTH', 'MANUFACTURER_1',\n",
      "       'MANUFACTURER_2', 'MANUFACTURER_3', 'MANUFACTURER_4', 'MANUFACTURER_5',\n",
      "       'MANUFACTURER_6', 'MANUFACTURER_7', 'MANUFACTURER_8', 'MANUFACTURER_9',\n",
      "       'CATEGORY_1', 'CATEGORY_2', 'CATEGORY_3', 'CATEGORY_4',\n",
      "       'SUB_CATEGORY_1', 'SUB_CATEGORY_2', 'SUB_CATEGORY_3', 'SUB_CATEGORY_4',\n",
      "       'SUB_CATEGORY_5', 'SUB_CATEGORY_6', 'SUB_CATEGORY_7', 'SIZE',\n",
      "       'ADDRESS_STATE_PROV_CODE_1', 'ADDRESS_STATE_PROV_CODE_2',\n",
      "       'ADDRESS_STATE_PROV_CODE_3', 'ADDRESS_STATE_PROV_CODE_4', 'MSA_CODE_1',\n",
      "       'MSA_CODE_2', 'MSA_CODE_3', 'MSA_CODE_4', 'MSA_CODE_5', 'MSA_CODE_6',\n",
      "       'MSA_CODE_7', 'MSA_CODE_8', 'MSA_CODE_9', 'SEG_VALUE_NAME',\n",
      "       'SALES_AREA_SIZE_NUM', 'AVG_WEEKLY_BASKETS', 'year', 'day',\n",
      "       'day_of_year', 'week', 'quarter'],\n",
      "      dtype='object')\n",
      "===============================================================\n"
     ]
    }
   ],
   "source": [
    "depth_results = []\n",
    "\n",
    "valid_df = validation_df(mega_df, weeks, no_of_months = 1, no_of_validations = 9)\n",
    "\n",
    "for depth in tqdm_notebook(range(1,30,1), leave = True, desc = 'max_depth'):\n",
    "    results = {}\n",
    "    RFR = RandomForestRegressor(n_estimators = 125, max_depth= depth, random_state =0)\n",
    "    rmsle_train, rmsle_valid, train_data = train_model(valid_df, mega_df, RFR)\n",
    "    results['max_depth'] = depth\n",
    "    results['rmsle_train'] = rmsle_train\n",
    "    results['rmsle_valid'] = rmsle_valid\n",
    "    \n",
    "    depth_results.append(results)\n",
    "\n",
    "get_columns(train_data)"
   ]
  },
  {
   "cell_type": "code",
   "execution_count": null,
   "id": "60e896e8",
   "metadata": {},
   "outputs": [],
   "source": []
  },
  {
   "cell_type": "code",
   "execution_count": 20,
   "id": "04974a0f",
   "metadata": {},
   "outputs": [
    {
     "data": {
      "text/html": [
       "<div>\n",
       "<style scoped>\n",
       "    .dataframe tbody tr th:only-of-type {\n",
       "        vertical-align: middle;\n",
       "    }\n",
       "\n",
       "    .dataframe tbody tr th {\n",
       "        vertical-align: top;\n",
       "    }\n",
       "\n",
       "    .dataframe thead th {\n",
       "        text-align: right;\n",
       "    }\n",
       "</style>\n",
       "<table border=\"1\" class=\"dataframe\">\n",
       "  <thead>\n",
       "    <tr style=\"text-align: right;\">\n",
       "      <th></th>\n",
       "      <th>max_depth</th>\n",
       "      <th>rmsle_train</th>\n",
       "      <th>rmsle_valid</th>\n",
       "    </tr>\n",
       "  </thead>\n",
       "  <tbody>\n",
       "    <tr>\n",
       "      <th>0</th>\n",
       "      <td>1</td>\n",
       "      <td>0.919891</td>\n",
       "      <td>0.946742</td>\n",
       "    </tr>\n",
       "    <tr>\n",
       "      <th>1</th>\n",
       "      <td>2</td>\n",
       "      <td>0.806733</td>\n",
       "      <td>0.835244</td>\n",
       "    </tr>\n",
       "    <tr>\n",
       "      <th>2</th>\n",
       "      <td>3</td>\n",
       "      <td>0.716883</td>\n",
       "      <td>0.756769</td>\n",
       "    </tr>\n",
       "    <tr>\n",
       "      <th>3</th>\n",
       "      <td>4</td>\n",
       "      <td>0.653285</td>\n",
       "      <td>0.707083</td>\n",
       "    </tr>\n",
       "    <tr>\n",
       "      <th>4</th>\n",
       "      <td>5</td>\n",
       "      <td>0.604267</td>\n",
       "      <td>0.672977</td>\n",
       "    </tr>\n",
       "    <tr>\n",
       "      <th>5</th>\n",
       "      <td>6</td>\n",
       "      <td>0.554080</td>\n",
       "      <td>0.643927</td>\n",
       "    </tr>\n",
       "    <tr>\n",
       "      <th>6</th>\n",
       "      <td>7</td>\n",
       "      <td>0.512273</td>\n",
       "      <td>0.619206</td>\n",
       "    </tr>\n",
       "    <tr>\n",
       "      <th>7</th>\n",
       "      <td>8</td>\n",
       "      <td>0.474466</td>\n",
       "      <td>0.600611</td>\n",
       "    </tr>\n",
       "    <tr>\n",
       "      <th>8</th>\n",
       "      <td>9</td>\n",
       "      <td>0.439602</td>\n",
       "      <td>0.585839</td>\n",
       "    </tr>\n",
       "    <tr>\n",
       "      <th>9</th>\n",
       "      <td>10</td>\n",
       "      <td>0.406566</td>\n",
       "      <td>0.575310</td>\n",
       "    </tr>\n",
       "    <tr>\n",
       "      <th>10</th>\n",
       "      <td>11</td>\n",
       "      <td>0.375576</td>\n",
       "      <td>0.568696</td>\n",
       "    </tr>\n",
       "    <tr>\n",
       "      <th>11</th>\n",
       "      <td>12</td>\n",
       "      <td>0.346394</td>\n",
       "      <td>0.563344</td>\n",
       "    </tr>\n",
       "    <tr>\n",
       "      <th>12</th>\n",
       "      <td>13</td>\n",
       "      <td>0.319997</td>\n",
       "      <td>0.559567</td>\n",
       "    </tr>\n",
       "    <tr>\n",
       "      <th>13</th>\n",
       "      <td>14</td>\n",
       "      <td>0.296802</td>\n",
       "      <td>0.557003</td>\n",
       "    </tr>\n",
       "    <tr>\n",
       "      <th>14</th>\n",
       "      <td>15</td>\n",
       "      <td>0.277490</td>\n",
       "      <td>0.555088</td>\n",
       "    </tr>\n",
       "    <tr>\n",
       "      <th>15</th>\n",
       "      <td>16</td>\n",
       "      <td>0.261911</td>\n",
       "      <td>0.554238</td>\n",
       "    </tr>\n",
       "    <tr>\n",
       "      <th>16</th>\n",
       "      <td>17</td>\n",
       "      <td>0.250346</td>\n",
       "      <td>0.555049</td>\n",
       "    </tr>\n",
       "    <tr>\n",
       "      <th>17</th>\n",
       "      <td>18</td>\n",
       "      <td>0.241808</td>\n",
       "      <td>0.554786</td>\n",
       "    </tr>\n",
       "    <tr>\n",
       "      <th>18</th>\n",
       "      <td>19</td>\n",
       "      <td>0.236077</td>\n",
       "      <td>0.555742</td>\n",
       "    </tr>\n",
       "    <tr>\n",
       "      <th>19</th>\n",
       "      <td>20</td>\n",
       "      <td>0.232269</td>\n",
       "      <td>0.556351</td>\n",
       "    </tr>\n",
       "    <tr>\n",
       "      <th>20</th>\n",
       "      <td>21</td>\n",
       "      <td>0.229805</td>\n",
       "      <td>0.554733</td>\n",
       "    </tr>\n",
       "    <tr>\n",
       "      <th>21</th>\n",
       "      <td>22</td>\n",
       "      <td>0.228358</td>\n",
       "      <td>0.556707</td>\n",
       "    </tr>\n",
       "    <tr>\n",
       "      <th>22</th>\n",
       "      <td>23</td>\n",
       "      <td>0.227621</td>\n",
       "      <td>0.555019</td>\n",
       "    </tr>\n",
       "    <tr>\n",
       "      <th>23</th>\n",
       "      <td>24</td>\n",
       "      <td>0.227136</td>\n",
       "      <td>0.554090</td>\n",
       "    </tr>\n",
       "    <tr>\n",
       "      <th>24</th>\n",
       "      <td>25</td>\n",
       "      <td>0.226991</td>\n",
       "      <td>0.554327</td>\n",
       "    </tr>\n",
       "    <tr>\n",
       "      <th>25</th>\n",
       "      <td>26</td>\n",
       "      <td>0.226850</td>\n",
       "      <td>0.554294</td>\n",
       "    </tr>\n",
       "    <tr>\n",
       "      <th>26</th>\n",
       "      <td>27</td>\n",
       "      <td>0.226768</td>\n",
       "      <td>0.553584</td>\n",
       "    </tr>\n",
       "    <tr>\n",
       "      <th>27</th>\n",
       "      <td>28</td>\n",
       "      <td>0.226766</td>\n",
       "      <td>0.553526</td>\n",
       "    </tr>\n",
       "    <tr>\n",
       "      <th>28</th>\n",
       "      <td>29</td>\n",
       "      <td>0.226726</td>\n",
       "      <td>0.553699</td>\n",
       "    </tr>\n",
       "  </tbody>\n",
       "</table>\n",
       "</div>"
      ],
      "text/plain": [
       "    max_depth  rmsle_train  rmsle_valid\n",
       "0           1     0.919891     0.946742\n",
       "1           2     0.806733     0.835244\n",
       "2           3     0.716883     0.756769\n",
       "3           4     0.653285     0.707083\n",
       "4           5     0.604267     0.672977\n",
       "5           6     0.554080     0.643927\n",
       "6           7     0.512273     0.619206\n",
       "7           8     0.474466     0.600611\n",
       "8           9     0.439602     0.585839\n",
       "9          10     0.406566     0.575310\n",
       "10         11     0.375576     0.568696\n",
       "11         12     0.346394     0.563344\n",
       "12         13     0.319997     0.559567\n",
       "13         14     0.296802     0.557003\n",
       "14         15     0.277490     0.555088\n",
       "15         16     0.261911     0.554238\n",
       "16         17     0.250346     0.555049\n",
       "17         18     0.241808     0.554786\n",
       "18         19     0.236077     0.555742\n",
       "19         20     0.232269     0.556351\n",
       "20         21     0.229805     0.554733\n",
       "21         22     0.228358     0.556707\n",
       "22         23     0.227621     0.555019\n",
       "23         24     0.227136     0.554090\n",
       "24         25     0.226991     0.554327\n",
       "25         26     0.226850     0.554294\n",
       "26         27     0.226768     0.553584\n",
       "27         28     0.226766     0.553526\n",
       "28         29     0.226726     0.553699"
      ]
     },
     "execution_count": 20,
     "metadata": {},
     "output_type": "execute_result"
    }
   ],
   "source": [
    "c = pd.DataFrame(depth_results)\n",
    "c"
   ]
  },
  {
   "cell_type": "code",
   "execution_count": 21,
   "id": "62a12c1b",
   "metadata": {},
   "outputs": [
    {
     "data": {
      "image/png": "[encoded data removed]",
      "text/plain": [
       "<Figure size 1000x400 with 1 Axes>"
      ]
     },
     "metadata": {},
     "output_type": "display_data"
    }
   ],
   "source": [
    "plt.figure(figsize = (10,4), dpi = 100)\n",
    "sns.lineplot(x= c['max_depth'], y= c['rmsle_train'], marker='o',label='train');\n",
    "sns.lineplot(x= c['max_depth'], y= c['rmsle_valid'], marker='o',label='validation');\n",
    "plt.title('Random Forest Regressor')\n",
    "plt.ylabel('RMSLE')\n",
    "plt.xlabel('Max depth')\n",
    "plt.legend()\n",
    "plt.show()"
   ]
  },
  {
   "cell_type": "markdown",
   "id": "32c31a66",
   "metadata": {},
   "source": [
    "So, we can still see that the value of **RMSLE (0.5550)** on validation set is getting stable after the **max_depth 15**. Now, we will keep on adding the new features to the data and check if it is improving the results or not.\n",
    "\n"
   ]
  },
  {
   "cell_type": "markdown",
   "id": "779f7905",
   "metadata": {},
   "source": [
    "### 4. UNIQUE STORE FEATURES\n",
    "\n",
    "FOR EACH STORE_ID WE WILL FIND\n",
    "\n",
    "* **UNIQUE NUMBER OF MANUFACTURERS**\n",
    "For, each of the stores we will find out the number of unique number of manufactures as a feature. We are assumuing that more number of manufactures will give more options to the customers and will impact the sales.\n",
    "We will have to use the original train_data and product_data to calculate this as we have encoded this feature in mega_df during the pre-processing step.\n",
    "\n",
    "* **UNIQUE NUMBER OF CATEGORY AND SUB_CATEGORIES THEY HAVE**\n",
    "\n",
    "Similarly, we will find out the unique number of categories and sub categories that a particular store has.\n"
   ]
  },
  {
   "cell_type": "code",
   "execution_count": 22,
   "id": "1909e444",
   "metadata": {},
   "outputs": [],
   "source": [
    "original_train_df = pd.read_csv('train.csv', usecols= ['STORE_NUM','UPC'])\n",
    "original_product_df = pd.read_csv('product_data.csv')"
   ]
  },
  {
   "cell_type": "code",
   "execution_count": 23,
   "id": "334c557c",
   "metadata": {},
   "outputs": [
    {
     "data": {
      "text/html": [
       "<div>\n",
       "<style scoped>\n",
       "    .dataframe tbody tr th:only-of-type {\n",
       "        vertical-align: middle;\n",
       "    }\n",
       "\n",
       "    .dataframe tbody tr th {\n",
       "        vertical-align: top;\n",
       "    }\n",
       "\n",
       "    .dataframe thead th {\n",
       "        text-align: right;\n",
       "    }\n",
       "</style>\n",
       "<table border=\"1\" class=\"dataframe\">\n",
       "  <thead>\n",
       "    <tr style=\"text-align: right;\">\n",
       "      <th></th>\n",
       "      <th>UPC</th>\n",
       "      <th>DESCRIPTION</th>\n",
       "      <th>MANUFACTURER</th>\n",
       "      <th>CATEGORY</th>\n",
       "      <th>SUB_CATEGORY</th>\n",
       "      <th>PRODUCT_SIZE</th>\n",
       "    </tr>\n",
       "  </thead>\n",
       "  <tbody>\n",
       "    <tr>\n",
       "      <th>0</th>\n",
       "      <td>1111009477</td>\n",
       "      <td>PL MINI TWIST PRETZELS</td>\n",
       "      <td>PRIVATE LABEL</td>\n",
       "      <td>BAG SNACKS</td>\n",
       "      <td>PRETZELS</td>\n",
       "      <td>15 OZ</td>\n",
       "    </tr>\n",
       "    <tr>\n",
       "      <th>1</th>\n",
       "      <td>1111009497</td>\n",
       "      <td>PL PRETZEL STICKS</td>\n",
       "      <td>PRIVATE LABEL</td>\n",
       "      <td>BAG SNACKS</td>\n",
       "      <td>PRETZELS</td>\n",
       "      <td>15 OZ</td>\n",
       "    </tr>\n",
       "    <tr>\n",
       "      <th>2</th>\n",
       "      <td>1111009507</td>\n",
       "      <td>PL TWIST PRETZELS</td>\n",
       "      <td>PRIVATE LABEL</td>\n",
       "      <td>BAG SNACKS</td>\n",
       "      <td>PRETZELS</td>\n",
       "      <td>15 OZ</td>\n",
       "    </tr>\n",
       "    <tr>\n",
       "      <th>3</th>\n",
       "      <td>1111038078</td>\n",
       "      <td>PL BL MINT ANTSPTC RINSE</td>\n",
       "      <td>PRIVATE LABEL</td>\n",
       "      <td>ORAL HYGIENE PRODUCTS</td>\n",
       "      <td>MOUTHWASHES (ANTISEPTIC)</td>\n",
       "      <td>500 ML</td>\n",
       "    </tr>\n",
       "    <tr>\n",
       "      <th>4</th>\n",
       "      <td>1111038080</td>\n",
       "      <td>PL ANTSPTC SPG MNT MTHWS</td>\n",
       "      <td>PRIVATE LABEL</td>\n",
       "      <td>ORAL HYGIENE PRODUCTS</td>\n",
       "      <td>MOUTHWASHES (ANTISEPTIC)</td>\n",
       "      <td>500 ML</td>\n",
       "    </tr>\n",
       "  </tbody>\n",
       "</table>\n",
       "</div>"
      ],
      "text/plain": [
       "          UPC               DESCRIPTION   MANUFACTURER               CATEGORY  \\\n",
       "0  1111009477    PL MINI TWIST PRETZELS  PRIVATE LABEL             BAG SNACKS   \n",
       "1  1111009497         PL PRETZEL STICKS  PRIVATE LABEL             BAG SNACKS   \n",
       "2  1111009507         PL TWIST PRETZELS  PRIVATE LABEL             BAG SNACKS   \n",
       "3  1111038078  PL BL MINT ANTSPTC RINSE  PRIVATE LABEL  ORAL HYGIENE PRODUCTS   \n",
       "4  1111038080  PL ANTSPTC SPG MNT MTHWS  PRIVATE LABEL  ORAL HYGIENE PRODUCTS   \n",
       "\n",
       "               SUB_CATEGORY PRODUCT_SIZE  \n",
       "0                  PRETZELS        15 OZ  \n",
       "1                  PRETZELS        15 OZ  \n",
       "2                  PRETZELS        15 OZ  \n",
       "3  MOUTHWASHES (ANTISEPTIC)       500 ML  \n",
       "4  MOUTHWASHES (ANTISEPTIC)       500 ML  "
      ]
     },
     "execution_count": 23,
     "metadata": {},
     "output_type": "execute_result"
    }
   ],
   "source": [
    "original_product_df.head()"
   ]
  },
  {
   "cell_type": "code",
   "execution_count": 24,
   "id": "5fab8581",
   "metadata": {},
   "outputs": [],
   "source": [
    "original_train_df = original_train_df.merge(original_product_df, how = 'left', on = 'UPC')"
   ]
  },
  {
   "cell_type": "code",
   "execution_count": 25,
   "id": "9bae4949",
   "metadata": {},
   "outputs": [],
   "source": [
    "# Now, we will create another dataframe unique_store_data\n",
    "# We will group the data by STORE_NUM and find unique values of the features 'MANUFACTURER', 'CATEGORY', 'SUB_CATEGORY'\n",
    "unique_store_df = original_train_df.groupby('STORE_NUM')[['MANUFACTURER', 'CATEGORY', 'SUB_CATEGORY']].nunique().reset_index()"
   ]
  },
  {
   "cell_type": "code",
   "execution_count": 26,
   "id": "75df963c",
   "metadata": {},
   "outputs": [],
   "source": [
    "# rename the columns of the dataframe 'unique_store_data'\n",
    "unique_store_df.columns = ['STORE_NUM', 'U_MANUFACTURER', 'U_CATEGORY', 'U_SUB_CATEGORY']"
   ]
  },
  {
   "cell_type": "code",
   "execution_count": 27,
   "id": "7fc1da58",
   "metadata": {},
   "outputs": [
    {
     "data": {
      "text/html": [
       "<div>\n",
       "<style scoped>\n",
       "    .dataframe tbody tr th:only-of-type {\n",
       "        vertical-align: middle;\n",
       "    }\n",
       "\n",
       "    .dataframe tbody tr th {\n",
       "        vertical-align: top;\n",
       "    }\n",
       "\n",
       "    .dataframe thead th {\n",
       "        text-align: right;\n",
       "    }\n",
       "</style>\n",
       "<table border=\"1\" class=\"dataframe\">\n",
       "  <thead>\n",
       "    <tr style=\"text-align: right;\">\n",
       "      <th></th>\n",
       "      <th>STORE_NUM</th>\n",
       "      <th>U_MANUFACTURER</th>\n",
       "      <th>U_CATEGORY</th>\n",
       "      <th>U_SUB_CATEGORY</th>\n",
       "    </tr>\n",
       "  </thead>\n",
       "  <tbody>\n",
       "    <tr>\n",
       "      <th>0</th>\n",
       "      <td>367</td>\n",
       "      <td>4</td>\n",
       "      <td>3</td>\n",
       "      <td>5</td>\n",
       "    </tr>\n",
       "    <tr>\n",
       "      <th>1</th>\n",
       "      <td>389</td>\n",
       "      <td>7</td>\n",
       "      <td>4</td>\n",
       "      <td>6</td>\n",
       "    </tr>\n",
       "  </tbody>\n",
       "</table>\n",
       "</div>"
      ],
      "text/plain": [
       "   STORE_NUM  U_MANUFACTURER  U_CATEGORY  U_SUB_CATEGORY\n",
       "0        367               4           3               5\n",
       "1        389               7           4               6"
      ]
     },
     "execution_count": 27,
     "metadata": {},
     "output_type": "execute_result"
    }
   ],
   "source": [
    "unique_store_df.head(2)"
   ]
  },
  {
   "cell_type": "code",
   "execution_count": 28,
   "id": "1bd459cd",
   "metadata": {},
   "outputs": [],
   "source": [
    "mega_df = mega_df.merge(unique_store_df, how = 'left', on = 'STORE_NUM')"
   ]
  },
  {
   "cell_type": "code",
   "execution_count": 29,
   "id": "7f7f70b9",
   "metadata": {},
   "outputs": [
    {
     "data": {
      "text/html": [
       "<div>\n",
       "<style scoped>\n",
       "    .dataframe tbody tr th:only-of-type {\n",
       "        vertical-align: middle;\n",
       "    }\n",
       "\n",
       "    .dataframe tbody tr th {\n",
       "        vertical-align: top;\n",
       "    }\n",
       "\n",
       "    .dataframe thead th {\n",
       "        text-align: right;\n",
       "    }\n",
       "</style>\n",
       "<table border=\"1\" class=\"dataframe\">\n",
       "  <thead>\n",
       "    <tr style=\"text-align: right;\">\n",
       "      <th></th>\n",
       "      <th>WEEK_END_DATE</th>\n",
       "      <th>STORE_NUM</th>\n",
       "      <th>UPC</th>\n",
       "      <th>BASE_PRICE</th>\n",
       "      <th>FEATURE</th>\n",
       "      <th>DISPLAY</th>\n",
       "      <th>UNITS</th>\n",
       "      <th>MONTH</th>\n",
       "      <th>MANUFACTURER_1</th>\n",
       "      <th>MANUFACTURER_2</th>\n",
       "      <th>...</th>\n",
       "      <th>SALES_AREA_SIZE_NUM</th>\n",
       "      <th>AVG_WEEKLY_BASKETS</th>\n",
       "      <th>year</th>\n",
       "      <th>day</th>\n",
       "      <th>day_of_year</th>\n",
       "      <th>week</th>\n",
       "      <th>quarter</th>\n",
       "      <th>U_MANUFACTURER</th>\n",
       "      <th>U_CATEGORY</th>\n",
       "      <th>U_SUB_CATEGORY</th>\n",
       "    </tr>\n",
       "  </thead>\n",
       "  <tbody>\n",
       "    <tr>\n",
       "      <th>0</th>\n",
       "      <td>2009-01-14</td>\n",
       "      <td>367</td>\n",
       "      <td>1111009477</td>\n",
       "      <td>1.57</td>\n",
       "      <td>0</td>\n",
       "      <td>0</td>\n",
       "      <td>13</td>\n",
       "      <td>1</td>\n",
       "      <td>1</td>\n",
       "      <td>0</td>\n",
       "      <td>...</td>\n",
       "      <td>24721</td>\n",
       "      <td>12707</td>\n",
       "      <td>2009</td>\n",
       "      <td>14</td>\n",
       "      <td>14</td>\n",
       "      <td>3</td>\n",
       "      <td>1</td>\n",
       "      <td>4</td>\n",
       "      <td>3</td>\n",
       "      <td>5</td>\n",
       "    </tr>\n",
       "    <tr>\n",
       "      <th>1</th>\n",
       "      <td>2009-01-14</td>\n",
       "      <td>367</td>\n",
       "      <td>1111009497</td>\n",
       "      <td>1.39</td>\n",
       "      <td>0</td>\n",
       "      <td>0</td>\n",
       "      <td>20</td>\n",
       "      <td>1</td>\n",
       "      <td>1</td>\n",
       "      <td>0</td>\n",
       "      <td>...</td>\n",
       "      <td>24721</td>\n",
       "      <td>12707</td>\n",
       "      <td>2009</td>\n",
       "      <td>14</td>\n",
       "      <td>14</td>\n",
       "      <td>3</td>\n",
       "      <td>1</td>\n",
       "      <td>4</td>\n",
       "      <td>3</td>\n",
       "      <td>5</td>\n",
       "    </tr>\n",
       "    <tr>\n",
       "      <th>2</th>\n",
       "      <td>2009-01-14</td>\n",
       "      <td>367</td>\n",
       "      <td>1111085319</td>\n",
       "      <td>1.88</td>\n",
       "      <td>0</td>\n",
       "      <td>0</td>\n",
       "      <td>14</td>\n",
       "      <td>1</td>\n",
       "      <td>1</td>\n",
       "      <td>0</td>\n",
       "      <td>...</td>\n",
       "      <td>24721</td>\n",
       "      <td>12707</td>\n",
       "      <td>2009</td>\n",
       "      <td>14</td>\n",
       "      <td>14</td>\n",
       "      <td>3</td>\n",
       "      <td>1</td>\n",
       "      <td>4</td>\n",
       "      <td>3</td>\n",
       "      <td>5</td>\n",
       "    </tr>\n",
       "    <tr>\n",
       "      <th>3</th>\n",
       "      <td>2009-01-14</td>\n",
       "      <td>367</td>\n",
       "      <td>1111085345</td>\n",
       "      <td>1.88</td>\n",
       "      <td>0</td>\n",
       "      <td>0</td>\n",
       "      <td>29</td>\n",
       "      <td>1</td>\n",
       "      <td>1</td>\n",
       "      <td>0</td>\n",
       "      <td>...</td>\n",
       "      <td>24721</td>\n",
       "      <td>12707</td>\n",
       "      <td>2009</td>\n",
       "      <td>14</td>\n",
       "      <td>14</td>\n",
       "      <td>3</td>\n",
       "      <td>1</td>\n",
       "      <td>4</td>\n",
       "      <td>3</td>\n",
       "      <td>5</td>\n",
       "    </tr>\n",
       "    <tr>\n",
       "      <th>4</th>\n",
       "      <td>2009-01-14</td>\n",
       "      <td>367</td>\n",
       "      <td>1111085350</td>\n",
       "      <td>1.98</td>\n",
       "      <td>0</td>\n",
       "      <td>0</td>\n",
       "      <td>35</td>\n",
       "      <td>1</td>\n",
       "      <td>1</td>\n",
       "      <td>0</td>\n",
       "      <td>...</td>\n",
       "      <td>24721</td>\n",
       "      <td>12707</td>\n",
       "      <td>2009</td>\n",
       "      <td>14</td>\n",
       "      <td>14</td>\n",
       "      <td>3</td>\n",
       "      <td>1</td>\n",
       "      <td>4</td>\n",
       "      <td>3</td>\n",
       "      <td>5</td>\n",
       "    </tr>\n",
       "  </tbody>\n",
       "</table>\n",
       "<p>5 rows × 53 columns</p>\n",
       "</div>"
      ],
      "text/plain": [
       "  WEEK_END_DATE  STORE_NUM         UPC  BASE_PRICE  FEATURE  DISPLAY  UNITS  \\\n",
       "0    2009-01-14        367  1111009477        1.57        0        0     13   \n",
       "1    2009-01-14        367  1111009497        1.39        0        0     20   \n",
       "2    2009-01-14        367  1111085319        1.88        0        0     14   \n",
       "3    2009-01-14        367  1111085345        1.88        0        0     29   \n",
       "4    2009-01-14        367  1111085350        1.98        0        0     35   \n",
       "\n",
       "   MONTH  MANUFACTURER_1  MANUFACTURER_2  ...  SALES_AREA_SIZE_NUM  \\\n",
       "0      1               1               0  ...                24721   \n",
       "1      1               1               0  ...                24721   \n",
       "2      1               1               0  ...                24721   \n",
       "3      1               1               0  ...                24721   \n",
       "4      1               1               0  ...                24721   \n",
       "\n",
       "   AVG_WEEKLY_BASKETS  year  day  day_of_year  week  quarter  U_MANUFACTURER  \\\n",
       "0               12707  2009   14           14     3        1               4   \n",
       "1               12707  2009   14           14     3        1               4   \n",
       "2               12707  2009   14           14     3        1               4   \n",
       "3               12707  2009   14           14     3        1               4   \n",
       "4               12707  2009   14           14     3        1               4   \n",
       "\n",
       "   U_CATEGORY  U_SUB_CATEGORY  \n",
       "0           3               5  \n",
       "1           3               5  \n",
       "2           3               5  \n",
       "3           3               5  \n",
       "4           3               5  \n",
       "\n",
       "[5 rows x 53 columns]"
      ]
     },
     "execution_count": 29,
     "metadata": {},
     "output_type": "execute_result"
    }
   ],
   "source": [
    "mega_df.head()"
   ]
  },
  {
   "cell_type": "code",
   "execution_count": 30,
   "id": "20b2d19f",
   "metadata": {},
   "outputs": [
    {
     "data": {
      "application/vnd.jupyter.widget-view+json": {
       "model_id": "",
       "version_major": 2,
       "version_minor": 0
      },
      "text/plain": [
       "training_model:   0%|          | 0/9 [00:00<?, ?it/s]"
      ]
     },
     "metadata": {},
     "output_type": "display_data"
    }
   ],
   "source": [
    "# train a model with the new features.\n",
    "RFR = RandomForestRegressor(max_depth=15, n_estimators=125, random_state =0)\n",
    "\n",
    "valid_df = validation_df(mega_df, weeks, no_of_months=1, no_of_validations= 9)\n",
    "\n",
    "rmsle_train, rmsle_valid, data_train = train_model(valid_df, mega_df, RFR)"
   ]
  },
  {
   "cell_type": "code",
   "execution_count": 31,
   "id": "3474e43c",
   "metadata": {},
   "outputs": [
    {
     "name": "stdout",
     "output_type": "stream",
     "text": [
      "RMSLE on train set:  0.27571477566191394\n",
      "RMSLE on validation set: 0.5531365021075761\n"
     ]
    }
   ],
   "source": [
    "print('RMSLE on train set: ', rmsle_train)\n",
    "print('RMSLE on validation set:', rmsle_valid)"
   ]
  },
  {
   "cell_type": "code",
   "execution_count": 32,
   "id": "741f5504",
   "metadata": {},
   "outputs": [
    {
     "data": {
      "text/plain": [
       "Index(['BASE_PRICE', 'FEATURE', 'DISPLAY', 'MONTH', 'MANUFACTURER_1',\n",
       "       'MANUFACTURER_2', 'MANUFACTURER_3', 'MANUFACTURER_4', 'MANUFACTURER_5',\n",
       "       'MANUFACTURER_6', 'MANUFACTURER_7', 'MANUFACTURER_8', 'MANUFACTURER_9',\n",
       "       'CATEGORY_1', 'CATEGORY_2', 'CATEGORY_3', 'CATEGORY_4',\n",
       "       'SUB_CATEGORY_1', 'SUB_CATEGORY_2', 'SUB_CATEGORY_3', 'SUB_CATEGORY_4',\n",
       "       'SUB_CATEGORY_5', 'SUB_CATEGORY_6', 'SUB_CATEGORY_7', 'SIZE',\n",
       "       'ADDRESS_STATE_PROV_CODE_1', 'ADDRESS_STATE_PROV_CODE_2',\n",
       "       'ADDRESS_STATE_PROV_CODE_3', 'ADDRESS_STATE_PROV_CODE_4', 'MSA_CODE_1',\n",
       "       'MSA_CODE_2', 'MSA_CODE_3', 'MSA_CODE_4', 'MSA_CODE_5', 'MSA_CODE_6',\n",
       "       'MSA_CODE_7', 'MSA_CODE_8', 'MSA_CODE_9', 'SEG_VALUE_NAME',\n",
       "       'SALES_AREA_SIZE_NUM', 'AVG_WEEKLY_BASKETS', 'year', 'day',\n",
       "       'day_of_year', 'week', 'quarter', 'U_MANUFACTURER', 'U_CATEGORY',\n",
       "       'U_SUB_CATEGORY'],\n",
       "      dtype='object')"
      ]
     },
     "execution_count": 32,
     "metadata": {},
     "output_type": "execute_result"
    }
   ],
   "source": [
    "data_train.columns"
   ]
  },
  {
   "cell_type": "markdown",
   "id": "d12bd62c",
   "metadata": {},
   "source": [
    "Here, On the validation set the  **RMSLE is now 0.5531**\n",
    "\n",
    "### 5. GET LAG FEATURES\n",
    "Now, we will create the lag features, which will be the number of units ordered of the same product from the same store at exactly one year ago.\n"
   ]
  },
  {
   "cell_type": "code",
   "execution_count": 33,
   "id": "eaed9602",
   "metadata": {},
   "outputs": [],
   "source": [
    "# define a function that will return calculate the units sold number of a particular product from a particular store.\n",
    "# We need to calculate this for 52 Weeks or 1 Year\n",
    "\n",
    "def get_lag_features(data, no_of_weeks = 1, return_series = False):\n",
    "    \n",
    "    data_copy = data.copy()\n",
    "    sample_1 = data_copy[['WEEK_END_DATE', 'STORE_NUM', 'UPC', 'UNITS']]\n",
    "    data_copy['NEW_DATE'] = data_copy['WEEK_END_DATE'] + timedelta(days = no_of_weeks*7)\n",
    "    data_copy['PAST_DATE'] = data_copy['WEEK_END_DATE']\n",
    "    \n",
    "    sample_2 = data_copy[['NEW_DATE', 'PAST_DATE', 'STORE_NUM', 'UPC', 'UNITS']]\n",
    "    final = sample_1.merge(sample_2, how = 'left', left_on = ['WEEK_END_DATE', 'STORE_NUM', 'UPC'], right_on = ['NEW_DATE', 'STORE_NUM', 'UPC'])\n",
    "    final = final.drop(columns = 'NEW_DATE')\n",
    "    final.fillna(0, inplace = True)\n",
    "    \n",
    "    if return_series:\n",
    "        return final['UNITS_y']\n",
    "    else: \n",
    "        return final"
   ]
  },
  {
   "cell_type": "code",
   "execution_count": 34,
   "id": "c9c37d05",
   "metadata": {},
   "outputs": [
    {
     "data": {
      "text/html": [
       "<div>\n",
       "<style scoped>\n",
       "    .dataframe tbody tr th:only-of-type {\n",
       "        vertical-align: middle;\n",
       "    }\n",
       "\n",
       "    .dataframe tbody tr th {\n",
       "        vertical-align: top;\n",
       "    }\n",
       "\n",
       "    .dataframe thead th {\n",
       "        text-align: right;\n",
       "    }\n",
       "</style>\n",
       "<table border=\"1\" class=\"dataframe\">\n",
       "  <thead>\n",
       "    <tr style=\"text-align: right;\">\n",
       "      <th></th>\n",
       "      <th>WEEK_END_DATE</th>\n",
       "      <th>STORE_NUM</th>\n",
       "      <th>UPC</th>\n",
       "      <th>UNITS_x</th>\n",
       "      <th>PAST_DATE</th>\n",
       "      <th>UNITS_y</th>\n",
       "    </tr>\n",
       "  </thead>\n",
       "  <tbody>\n",
       "    <tr>\n",
       "      <th>0</th>\n",
       "      <td>2009-01-14</td>\n",
       "      <td>367</td>\n",
       "      <td>1111009477</td>\n",
       "      <td>13</td>\n",
       "      <td>0</td>\n",
       "      <td>0.0</td>\n",
       "    </tr>\n",
       "    <tr>\n",
       "      <th>1</th>\n",
       "      <td>2009-01-14</td>\n",
       "      <td>367</td>\n",
       "      <td>1111009497</td>\n",
       "      <td>20</td>\n",
       "      <td>0</td>\n",
       "      <td>0.0</td>\n",
       "    </tr>\n",
       "    <tr>\n",
       "      <th>2</th>\n",
       "      <td>2009-01-14</td>\n",
       "      <td>367</td>\n",
       "      <td>1111085319</td>\n",
       "      <td>14</td>\n",
       "      <td>0</td>\n",
       "      <td>0.0</td>\n",
       "    </tr>\n",
       "    <tr>\n",
       "      <th>3</th>\n",
       "      <td>2009-01-14</td>\n",
       "      <td>367</td>\n",
       "      <td>1111085345</td>\n",
       "      <td>29</td>\n",
       "      <td>0</td>\n",
       "      <td>0.0</td>\n",
       "    </tr>\n",
       "    <tr>\n",
       "      <th>4</th>\n",
       "      <td>2009-01-14</td>\n",
       "      <td>367</td>\n",
       "      <td>1111085350</td>\n",
       "      <td>35</td>\n",
       "      <td>0</td>\n",
       "      <td>0.0</td>\n",
       "    </tr>\n",
       "    <tr>\n",
       "      <th>...</th>\n",
       "      <td>...</td>\n",
       "      <td>...</td>\n",
       "      <td>...</td>\n",
       "      <td>...</td>\n",
       "      <td>...</td>\n",
       "      <td>...</td>\n",
       "    </tr>\n",
       "    <tr>\n",
       "      <th>232260</th>\n",
       "      <td>2011-09-28</td>\n",
       "      <td>29159</td>\n",
       "      <td>7192100336</td>\n",
       "      <td>32</td>\n",
       "      <td>2011-08-03 00:00:00</td>\n",
       "      <td>16.0</td>\n",
       "    </tr>\n",
       "    <tr>\n",
       "      <th>232261</th>\n",
       "      <td>2011-09-28</td>\n",
       "      <td>29159</td>\n",
       "      <td>7192100337</td>\n",
       "      <td>31</td>\n",
       "      <td>2011-08-03 00:00:00</td>\n",
       "      <td>10.0</td>\n",
       "    </tr>\n",
       "    <tr>\n",
       "      <th>232262</th>\n",
       "      <td>2011-09-28</td>\n",
       "      <td>29159</td>\n",
       "      <td>7192100339</td>\n",
       "      <td>23</td>\n",
       "      <td>2011-08-03 00:00:00</td>\n",
       "      <td>13.0</td>\n",
       "    </tr>\n",
       "    <tr>\n",
       "      <th>232263</th>\n",
       "      <td>2011-09-28</td>\n",
       "      <td>29159</td>\n",
       "      <td>7797502248</td>\n",
       "      <td>8</td>\n",
       "      <td>2011-08-03 00:00:00</td>\n",
       "      <td>7.0</td>\n",
       "    </tr>\n",
       "    <tr>\n",
       "      <th>232264</th>\n",
       "      <td>2011-09-28</td>\n",
       "      <td>29159</td>\n",
       "      <td>7797508004</td>\n",
       "      <td>7</td>\n",
       "      <td>2011-08-03 00:00:00</td>\n",
       "      <td>7.0</td>\n",
       "    </tr>\n",
       "  </tbody>\n",
       "</table>\n",
       "<p>232265 rows × 6 columns</p>\n",
       "</div>"
      ],
      "text/plain": [
       "       WEEK_END_DATE  STORE_NUM         UPC  UNITS_x            PAST_DATE  \\\n",
       "0         2009-01-14        367  1111009477       13                    0   \n",
       "1         2009-01-14        367  1111009497       20                    0   \n",
       "2         2009-01-14        367  1111085319       14                    0   \n",
       "3         2009-01-14        367  1111085345       29                    0   \n",
       "4         2009-01-14        367  1111085350       35                    0   \n",
       "...              ...        ...         ...      ...                  ...   \n",
       "232260    2011-09-28      29159  7192100336       32  2011-08-03 00:00:00   \n",
       "232261    2011-09-28      29159  7192100337       31  2011-08-03 00:00:00   \n",
       "232262    2011-09-28      29159  7192100339       23  2011-08-03 00:00:00   \n",
       "232263    2011-09-28      29159  7797502248        8  2011-08-03 00:00:00   \n",
       "232264    2011-09-28      29159  7797508004        7  2011-08-03 00:00:00   \n",
       "\n",
       "        UNITS_y  \n",
       "0           0.0  \n",
       "1           0.0  \n",
       "2           0.0  \n",
       "3           0.0  \n",
       "4           0.0  \n",
       "...         ...  \n",
       "232260     16.0  \n",
       "232261     10.0  \n",
       "232262     13.0  \n",
       "232263      7.0  \n",
       "232264      7.0  \n",
       "\n",
       "[232265 rows x 6 columns]"
      ]
     },
     "execution_count": 34,
     "metadata": {},
     "output_type": "execute_result"
    }
   ],
   "source": [
    "# Let's verify the function is correct or not.\n",
    "# In the following dataframe, We have UNITS_x as the units sold on the transaction data and UNITS_y as the units sold on the PAST_DATE\n",
    "\n",
    "get_lag_features(mega_df, no_of_weeks = 8)"
   ]
  },
  {
   "cell_type": "code",
   "execution_count": 35,
   "id": "8e380480",
   "metadata": {},
   "outputs": [],
   "source": [
    "#  create a feature UNITS BEFORE 52_WEEK\n",
    "mega_df['UNITS_BEFORE_52WEEK'] = get_lag_features(mega_df, no_of_weeks= 52, return_series= True)"
   ]
  },
  {
   "cell_type": "code",
   "execution_count": 36,
   "id": "fe7c003e",
   "metadata": {},
   "outputs": [
    {
     "data": {
      "application/vnd.jupyter.widget-view+json": {
       "model_id": "",
       "version_major": 2,
       "version_minor": 0
      },
      "text/plain": [
       "training_model:   0%|          | 0/9 [00:00<?, ?it/s]"
      ]
     },
     "metadata": {},
     "output_type": "display_data"
    }
   ],
   "source": [
    "# train the model with the new feature\n",
    "\n",
    "RFR = RandomForestRegressor(max_depth=15, n_estimators=125, random_state = 0)\n",
    "\n",
    "valid_df = validation_df(mega_df, weeks, no_of_months=1, no_of_validations= 9)\n",
    "\n",
    "rmsle_train, rmsle_valid, data_train = train_model(valid_df, mega_df, RFR)"
   ]
  },
  {
   "cell_type": "code",
   "execution_count": 37,
   "id": "0b6cbd4a",
   "metadata": {},
   "outputs": [
    {
     "name": "stdout",
     "output_type": "stream",
     "text": [
      "RMSLE on train set:  0.25436711248250216\n",
      "RMSLE on validation set: 0.5718271268635867\n"
     ]
    }
   ],
   "source": [
    "print('RMSLE on train set: ', rmsle_train)\n",
    "print('RMSLE on validation set:', rmsle_valid)"
   ]
  },
  {
   "cell_type": "markdown",
   "id": "daed731b",
   "metadata": {},
   "source": [
    "We can see a substantial increase in the RMSLE on the validaiton set. **RMSLE is 0.5718 now**\n",
    "\n",
    "### 6. DIFFERENCE IN PRICE FROM LAST WEEK\n",
    "This will be our new feature. Whether the increase/decrease in price from the last week makes any difference to the model or not.\n",
    "\n"
   ]
  },
  {
   "cell_type": "code",
   "execution_count": 38,
   "id": "34ffe13e",
   "metadata": {},
   "outputs": [],
   "source": [
    "# get the price difference\n",
    "mega_df['price_difference'] = mega_df['BASE_PRICE'] - mega_df.groupby(['STORE_NUM', 'UPC'])['BASE_PRICE'].shift(1)"
   ]
  },
  {
   "cell_type": "code",
   "execution_count": 39,
   "id": "fe92c9e5",
   "metadata": {},
   "outputs": [
    {
     "data": {
      "text/html": [
       "<div>\n",
       "<style scoped>\n",
       "    .dataframe tbody tr th:only-of-type {\n",
       "        vertical-align: middle;\n",
       "    }\n",
       "\n",
       "    .dataframe tbody tr th {\n",
       "        vertical-align: top;\n",
       "    }\n",
       "\n",
       "    .dataframe thead th {\n",
       "        text-align: right;\n",
       "    }\n",
       "</style>\n",
       "<table border=\"1\" class=\"dataframe\">\n",
       "  <thead>\n",
       "    <tr style=\"text-align: right;\">\n",
       "      <th></th>\n",
       "      <th>STORE_NUM</th>\n",
       "      <th>UPC</th>\n",
       "      <th>BASE_PRICE</th>\n",
       "      <th>price_difference</th>\n",
       "      <th>UNITS</th>\n",
       "    </tr>\n",
       "  </thead>\n",
       "  <tbody>\n",
       "    <tr>\n",
       "      <th>0</th>\n",
       "      <td>367</td>\n",
       "      <td>1111009477</td>\n",
       "      <td>1.57</td>\n",
       "      <td>NaN</td>\n",
       "      <td>13</td>\n",
       "    </tr>\n",
       "    <tr>\n",
       "      <th>1640</th>\n",
       "      <td>367</td>\n",
       "      <td>1111009477</td>\n",
       "      <td>1.57</td>\n",
       "      <td>0.00</td>\n",
       "      <td>24</td>\n",
       "    </tr>\n",
       "    <tr>\n",
       "      <th>3276</th>\n",
       "      <td>367</td>\n",
       "      <td>1111009477</td>\n",
       "      <td>1.36</td>\n",
       "      <td>-0.21</td>\n",
       "      <td>7</td>\n",
       "    </tr>\n",
       "    <tr>\n",
       "      <th>4912</th>\n",
       "      <td>367</td>\n",
       "      <td>1111009477</td>\n",
       "      <td>1.38</td>\n",
       "      <td>0.02</td>\n",
       "      <td>12</td>\n",
       "    </tr>\n",
       "    <tr>\n",
       "      <th>6552</th>\n",
       "      <td>367</td>\n",
       "      <td>1111009477</td>\n",
       "      <td>1.50</td>\n",
       "      <td>0.12</td>\n",
       "      <td>16</td>\n",
       "    </tr>\n",
       "    <tr>\n",
       "      <th>8178</th>\n",
       "      <td>367</td>\n",
       "      <td>1111009477</td>\n",
       "      <td>1.49</td>\n",
       "      <td>-0.01</td>\n",
       "      <td>21</td>\n",
       "    </tr>\n",
       "    <tr>\n",
       "      <th>9813</th>\n",
       "      <td>367</td>\n",
       "      <td>1111009477</td>\n",
       "      <td>1.49</td>\n",
       "      <td>0.00</td>\n",
       "      <td>11</td>\n",
       "    </tr>\n",
       "    <tr>\n",
       "      <th>11426</th>\n",
       "      <td>367</td>\n",
       "      <td>1111009477</td>\n",
       "      <td>1.49</td>\n",
       "      <td>0.00</td>\n",
       "      <td>10</td>\n",
       "    </tr>\n",
       "    <tr>\n",
       "      <th>13039</th>\n",
       "      <td>367</td>\n",
       "      <td>1111009477</td>\n",
       "      <td>1.39</td>\n",
       "      <td>-0.10</td>\n",
       "      <td>13</td>\n",
       "    </tr>\n",
       "    <tr>\n",
       "      <th>14676</th>\n",
       "      <td>367</td>\n",
       "      <td>1111009477</td>\n",
       "      <td>1.48</td>\n",
       "      <td>0.09</td>\n",
       "      <td>13</td>\n",
       "    </tr>\n",
       "  </tbody>\n",
       "</table>\n",
       "</div>"
      ],
      "text/plain": [
       "       STORE_NUM         UPC  BASE_PRICE  price_difference  UNITS\n",
       "0            367  1111009477        1.57               NaN     13\n",
       "1640         367  1111009477        1.57              0.00     24\n",
       "3276         367  1111009477        1.36             -0.21      7\n",
       "4912         367  1111009477        1.38              0.02     12\n",
       "6552         367  1111009477        1.50              0.12     16\n",
       "8178         367  1111009477        1.49             -0.01     21\n",
       "9813         367  1111009477        1.49              0.00     11\n",
       "11426        367  1111009477        1.49              0.00     10\n",
       "13039        367  1111009477        1.39             -0.10     13\n",
       "14676        367  1111009477        1.48              0.09     13"
      ]
     },
     "execution_count": 39,
     "metadata": {},
     "output_type": "execute_result"
    }
   ],
   "source": [
    "# let's verify we have calculated the right price difference or not\n",
    "mega_df.loc[(mega_df['STORE_NUM'] == 367) & (mega_df['UPC'] == 1111009477),['STORE_NUM', 'UPC', 'BASE_PRICE', 'price_difference','UNITS']].head(10)"
   ]
  },
  {
   "cell_type": "code",
   "execution_count": 40,
   "id": "2b08298d",
   "metadata": {},
   "outputs": [],
   "source": [
    "# fill the null values in the price difference with 0\n",
    "mega_df['price_difference'].fillna(0,inplace=True)"
   ]
  },
  {
   "cell_type": "code",
   "execution_count": 41,
   "id": "d67f7d90",
   "metadata": {},
   "outputs": [
    {
     "data": {
      "application/vnd.jupyter.widget-view+json": {
       "model_id": "",
       "version_major": 2,
       "version_minor": 0
      },
      "text/plain": [
       "training_model:   0%|          | 0/9 [00:00<?, ?it/s]"
      ]
     },
     "metadata": {},
     "output_type": "display_data"
    }
   ],
   "source": [
    "RFR = RandomForestRegressor(max_depth=15, n_estimators=125, random_state = 0)\n",
    "\n",
    "valid_df = validation_df(mega_df, weeks, no_of_months= 1, no_of_validations= 9)\n",
    "\n",
    "rmsle_train, rmsle_valid, data_train = train_model(valid_df, mega_df, RFR)"
   ]
  },
  {
   "cell_type": "code",
   "execution_count": 42,
   "id": "29ceef7a",
   "metadata": {},
   "outputs": [
    {
     "name": "stdout",
     "output_type": "stream",
     "text": [
      "RMSLE on train set:  0.2572474524692946\n",
      "RMSLE on validation set: 0.5722740445887792\n"
     ]
    }
   ],
   "source": [
    "print('RMSLE on train set: ', rmsle_train)\n",
    "print('RMSLE on validation set:', rmsle_valid)"
   ]
  },
  {
   "cell_type": "markdown",
   "id": "4eac1fb6",
   "metadata": {},
   "source": [
    "On the validaiton set **RMSLE is 0.5722** now\n",
    "\n",
    "### 8. AVERAGE BEFORE 2 MONTH\n",
    "* As we have one week gap between the training period and the validation set so for each store and product combination we will calculate the average units sold in 2 months before 1 week.\n",
    "* In simple terms, the average number of units sold from 7 days to 63 days ago\n",
    "* Let's see is this feature useful to us or not."
   ]
  },
  {
   "cell_type": "code",
   "execution_count": 43,
   "id": "8b53ee7a",
   "metadata": {},
   "outputs": [],
   "source": [
    "# make 2 columns one with 63 days difference from the week end date and another with 7 days difference\n",
    "mega_df['2_MONTH_BEFORE'] = mega_df['WEEK_END_DATE'] - timedelta(days=63)\n",
    "mega_df['1_WEEK_BEFORE'] = mega_df['WEEK_END_DATE'] - timedelta(days=7)"
   ]
  },
  {
   "cell_type": "code",
   "execution_count": 44,
   "id": "17207e38",
   "metadata": {},
   "outputs": [
    {
     "data": {
      "text/html": [
       "<div>\n",
       "<style scoped>\n",
       "    .dataframe tbody tr th:only-of-type {\n",
       "        vertical-align: middle;\n",
       "    }\n",
       "\n",
       "    .dataframe tbody tr th {\n",
       "        vertical-align: top;\n",
       "    }\n",
       "\n",
       "    .dataframe thead th {\n",
       "        text-align: right;\n",
       "    }\n",
       "</style>\n",
       "<table border=\"1\" class=\"dataframe\">\n",
       "  <thead>\n",
       "    <tr style=\"text-align: right;\">\n",
       "      <th></th>\n",
       "      <th>WEEK_END_DATE</th>\n",
       "      <th>2_MONTH_BEFORE</th>\n",
       "      <th>1_WEEK_BEFORE</th>\n",
       "    </tr>\n",
       "  </thead>\n",
       "  <tbody>\n",
       "    <tr>\n",
       "      <th>232260</th>\n",
       "      <td>2011-09-28</td>\n",
       "      <td>2011-07-27</td>\n",
       "      <td>2011-09-21</td>\n",
       "    </tr>\n",
       "    <tr>\n",
       "      <th>232261</th>\n",
       "      <td>2011-09-28</td>\n",
       "      <td>2011-07-27</td>\n",
       "      <td>2011-09-21</td>\n",
       "    </tr>\n",
       "    <tr>\n",
       "      <th>232262</th>\n",
       "      <td>2011-09-28</td>\n",
       "      <td>2011-07-27</td>\n",
       "      <td>2011-09-21</td>\n",
       "    </tr>\n",
       "    <tr>\n",
       "      <th>232263</th>\n",
       "      <td>2011-09-28</td>\n",
       "      <td>2011-07-27</td>\n",
       "      <td>2011-09-21</td>\n",
       "    </tr>\n",
       "    <tr>\n",
       "      <th>232264</th>\n",
       "      <td>2011-09-28</td>\n",
       "      <td>2011-07-27</td>\n",
       "      <td>2011-09-21</td>\n",
       "    </tr>\n",
       "  </tbody>\n",
       "</table>\n",
       "</div>"
      ],
      "text/plain": [
       "       WEEK_END_DATE 2_MONTH_BEFORE 1_WEEK_BEFORE\n",
       "232260    2011-09-28     2011-07-27    2011-09-21\n",
       "232261    2011-09-28     2011-07-27    2011-09-21\n",
       "232262    2011-09-28     2011-07-27    2011-09-21\n",
       "232263    2011-09-28     2011-07-27    2011-09-21\n",
       "232264    2011-09-28     2011-07-27    2011-09-21"
      ]
     },
     "execution_count": 44,
     "metadata": {},
     "output_type": "execute_result"
    }
   ],
   "source": [
    "mega_df[['WEEK_END_DATE', '2_MONTH_BEFORE', '1_WEEK_BEFORE']].tail()"
   ]
  },
  {
   "cell_type": "code",
   "execution_count": 45,
   "id": "77882c84",
   "metadata": {},
   "outputs": [],
   "source": [
    "from tqdm._tqdm_notebook import tqdm_notebook\n",
    "tqdm_notebook.pandas()\n",
    "# calculate the average units in the period\n",
    "def get_average_units(x):\n",
    "    data_2month = mega_df[(mega_df['WEEK_END_DATE'] <= x['1_WEEK_BEFORE']) & (mega_df['WEEK_END_DATE'] >= x['2_MONTH_BEFORE']) & (mega_df['STORE_NUM'] == x['STORE_NUM']) & (mega_df['UPC'] == x['UPC']) ]\n",
    "    return data_2month.UNITS.mean() "
   ]
  },
  {
   "cell_type": "code",
   "execution_count": 46,
   "id": "3de488b7",
   "metadata": {},
   "outputs": [
    {
     "data": {
      "application/vnd.jupyter.widget-view+json": {
       "model_id": "2bbca312c7b04e7181b98bd01c2adf3c",
       "version_major": 2,
       "version_minor": 0
      },
      "text/plain": [
       "  0%|          | 0/232265 [00:00<?, ?it/s]"
      ]
     },
     "metadata": {},
     "output_type": "display_data"
    }
   ],
   "source": [
    "mega_df['AVERAGE_UNITS_IN_2_MONTH'] = mega_df.progress_apply(get_average_units,axis=1)"
   ]
  },
  {
   "cell_type": "code",
   "execution_count": 47,
   "id": "8ae270a1",
   "metadata": {},
   "outputs": [],
   "source": [
    "mega_df['AVERAGE_UNITS_IN_2_MONTH'].fillna(0,inplace=True)"
   ]
  },
  {
   "cell_type": "code",
   "execution_count": 48,
   "id": "bbb7f8ef",
   "metadata": {},
   "outputs": [
    {
     "data": {
      "application/vnd.jupyter.widget-view+json": {
       "model_id": "",
       "version_major": 2,
       "version_minor": 0
      },
      "text/plain": [
       "training_model:   0%|          | 0/9 [00:00<?, ?it/s]"
      ]
     },
     "metadata": {},
     "output_type": "display_data"
    }
   ],
   "source": [
    "new_data = mega_df.drop(columns=['2_MONTH_BEFORE','1_WEEK_BEFORE'])\n",
    "\n",
    "RFR = RandomForestRegressor(max_depth=15, n_estimators=125, random_state = 0)\n",
    "\n",
    "valid_df = validation_df(new_data, weeks, no_of_months=1, no_of_validations=9)\n",
    "\n",
    "rmsle_train, rmsle_valid, data_train = train_model(valid_df,new_data, RFR)"
   ]
  },
  {
   "cell_type": "code",
   "execution_count": 49,
   "id": "3d2640a8",
   "metadata": {},
   "outputs": [
    {
     "name": "stdout",
     "output_type": "stream",
     "text": [
      "RMSLE on train set:  0.21751576519534693\n",
      "RMSLE on validation set: 0.490958185172677\n"
     ]
    }
   ],
   "source": [
    "print('RMSLE on train set: ', rmsle_train)\n",
    "print('RMSLE on validation set:', rmsle_valid)"
   ]
  },
  {
   "cell_type": "code",
   "execution_count": 50,
   "id": "926f7c0e",
   "metadata": {},
   "outputs": [
    {
     "data": {
      "text/plain": [
       "Index(['BASE_PRICE', 'FEATURE', 'DISPLAY', 'MONTH', 'MANUFACTURER_1',\n",
       "       'MANUFACTURER_2', 'MANUFACTURER_3', 'MANUFACTURER_4', 'MANUFACTURER_5',\n",
       "       'MANUFACTURER_6', 'MANUFACTURER_7', 'MANUFACTURER_8', 'MANUFACTURER_9',\n",
       "       'CATEGORY_1', 'CATEGORY_2', 'CATEGORY_3', 'CATEGORY_4',\n",
       "       'SUB_CATEGORY_1', 'SUB_CATEGORY_2', 'SUB_CATEGORY_3', 'SUB_CATEGORY_4',\n",
       "       'SUB_CATEGORY_5', 'SUB_CATEGORY_6', 'SUB_CATEGORY_7', 'SIZE',\n",
       "       'ADDRESS_STATE_PROV_CODE_1', 'ADDRESS_STATE_PROV_CODE_2',\n",
       "       'ADDRESS_STATE_PROV_CODE_3', 'ADDRESS_STATE_PROV_CODE_4', 'MSA_CODE_1',\n",
       "       'MSA_CODE_2', 'MSA_CODE_3', 'MSA_CODE_4', 'MSA_CODE_5', 'MSA_CODE_6',\n",
       "       'MSA_CODE_7', 'MSA_CODE_8', 'MSA_CODE_9', 'SEG_VALUE_NAME',\n",
       "       'SALES_AREA_SIZE_NUM', 'AVG_WEEKLY_BASKETS', 'year', 'day',\n",
       "       'day_of_year', 'week', 'quarter', 'U_MANUFACTURER', 'U_CATEGORY',\n",
       "       'U_SUB_CATEGORY', 'UNITS_BEFORE_52WEEK', 'price_difference',\n",
       "       'AVERAGE_UNITS_IN_2_MONTH'],\n",
       "      dtype='object')"
      ]
     },
     "execution_count": 50,
     "metadata": {},
     "output_type": "execute_result"
    }
   ],
   "source": [
    "data_train.columns"
   ]
  },
  {
   "cell_type": "markdown",
   "id": "fae977b9",
   "metadata": {},
   "source": [
    "* The last feature that we added has made significant improvement in the RMSLE score on the validation data.\n",
    "* The **RMSLE is now 0.4909**\n",
    "\n",
    "Let's save this dataset with new and final features in a new .CSV file."
   ]
  },
  {
   "cell_type": "code",
   "execution_count": 51,
   "id": "99febe5c",
   "metadata": {},
   "outputs": [
    {
     "data": {
      "text/plain": [
       "(232265, 58)"
      ]
     },
     "execution_count": 51,
     "metadata": {},
     "output_type": "execute_result"
    }
   ],
   "source": [
    "mega_df.shape"
   ]
  },
  {
   "cell_type": "code",
   "execution_count": 52,
   "id": "ce0de962",
   "metadata": {},
   "outputs": [],
   "source": [
    "mega_df.to_csv('final_data.csv', index= False)"
   ]
  },
  {
   "cell_type": "code",
   "execution_count": null,
   "id": "3409451d",
   "metadata": {},
   "outputs": [],
   "source": []
  },
  {
   "cell_type": "code",
   "execution_count": null,
   "id": "c59ad4cc",
   "metadata": {},
   "outputs": [],
   "source": []
  },
  {
   "cell_type": "code",
   "execution_count": null,
   "id": "4c68d70c",
   "metadata": {},
   "outputs": [],
   "source": []
  }
 ],
 "metadata": {
  "kernelspec": {
   "display_name": "Python 3 (ipykernel)",
   "language": "python",
   "name": "python3"
  },
  "language_info": {
   "codemirror_mode": {
    "name": "ipython",
    "version": 3
   },
   "file_extension": ".py",
   "mimetype": "text/x-python",
   "name": "python",
   "nbconvert_exporter": "python",
   "pygments_lexer": "ipython3",
   "version": "3.10.9"
  }
 },
 "nbformat": 4,
 "nbformat_minor": 5
}
