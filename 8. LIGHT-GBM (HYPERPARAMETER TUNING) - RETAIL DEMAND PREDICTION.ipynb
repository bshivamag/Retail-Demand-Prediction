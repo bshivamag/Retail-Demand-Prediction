{
 "cells": [
  {
   "cell_type": "markdown",
   "id": "4f654f5d",
   "metadata": {},
   "source": [
    "# LIGHT-GBM - RETAIL DEMAND PREDICTION\n",
    "\n",
    "We will tune these following hyperparameters\n",
    "* **n_estimators:** The number of boosting rounds (trees) to build. Increasing this can lead to better performance but also increases training time.\n",
    "* **num_leaves:** The maximum number of leaves in one tree. This parameter controls the complexity of the trees. Increasing it may lead to overfitting, while decreasing it may lead to underfitting.\n",
    "* **min_child_samples:** Specifies the minimum number of training data points required to create a new leaf in the decision tree.\n",
    "* **subsample:** A floating-point value typically ranging from 0.0 to 1.0. Represents the fraction of the training data that is randomly selected for each tree-building iteration."
   ]
  },
  {
   "cell_type": "code",
   "execution_count": null,
   "id": "78b645c0",
   "metadata": {},
   "outputs": [],
   "source": []
  },
  {
   "cell_type": "code",
   "execution_count": 1,
   "id": "478cda3f",
   "metadata": {},
   "outputs": [],
   "source": [
    "import numpy as np\n",
    "import pandas as pd\n",
    "import matplotlib.pyplot as plt\n",
    "import seaborn as sns\n",
    "from datetime import timedelta\n",
    "from tqdm import tqdm\n",
    "\n",
    "from lightgbm import LGBMRegressor\n",
    "from sklearn.metrics import mean_squared_log_error as msle\n",
    "\n",
    "import warnings\n",
    "\n",
    "%matplotlib inline\n",
    "warnings.filterwarnings('ignore')"
   ]
  },
  {
   "cell_type": "code",
   "execution_count": 2,
   "id": "02fc870c",
   "metadata": {},
   "outputs": [
    {
     "data": {
      "text/plain": [
       "(232265, 58)"
      ]
     },
     "execution_count": 2,
     "metadata": {},
     "output_type": "execute_result"
    }
   ],
   "source": [
    "df = pd.read_csv('final_data.csv')\n",
    "df.shape"
   ]
  },
  {
   "cell_type": "code",
   "execution_count": 3,
   "id": "52542894",
   "metadata": {},
   "outputs": [
    {
     "data": {
      "text/html": [
       "<div>\n",
       "<style scoped>\n",
       "    .dataframe tbody tr th:only-of-type {\n",
       "        vertical-align: middle;\n",
       "    }\n",
       "\n",
       "    .dataframe tbody tr th {\n",
       "        vertical-align: top;\n",
       "    }\n",
       "\n",
       "    .dataframe thead th {\n",
       "        text-align: right;\n",
       "    }\n",
       "</style>\n",
       "<table border=\"1\" class=\"dataframe\">\n",
       "  <thead>\n",
       "    <tr style=\"text-align: right;\">\n",
       "      <th></th>\n",
       "      <th>WEEK_END_DATE</th>\n",
       "      <th>STORE_NUM</th>\n",
       "      <th>UPC</th>\n",
       "      <th>BASE_PRICE</th>\n",
       "      <th>FEATURE</th>\n",
       "      <th>DISPLAY</th>\n",
       "      <th>UNITS</th>\n",
       "      <th>MONTH</th>\n",
       "      <th>MANUFACTURER_1</th>\n",
       "      <th>MANUFACTURER_2</th>\n",
       "      <th>...</th>\n",
       "      <th>week</th>\n",
       "      <th>quarter</th>\n",
       "      <th>U_MANUFACTURER</th>\n",
       "      <th>U_CATEGORY</th>\n",
       "      <th>U_SUB_CATEGORY</th>\n",
       "      <th>UNITS_BEFORE_52WEEK</th>\n",
       "      <th>price_difference</th>\n",
       "      <th>2_MONTH_BEFORE</th>\n",
       "      <th>1_WEEK_BEFORE</th>\n",
       "      <th>AVERAGE_UNITS_IN_2_MONTH</th>\n",
       "    </tr>\n",
       "  </thead>\n",
       "  <tbody>\n",
       "    <tr>\n",
       "      <th>0</th>\n",
       "      <td>2009-01-14</td>\n",
       "      <td>367</td>\n",
       "      <td>1111009477</td>\n",
       "      <td>1.57</td>\n",
       "      <td>0</td>\n",
       "      <td>0</td>\n",
       "      <td>13</td>\n",
       "      <td>1</td>\n",
       "      <td>1</td>\n",
       "      <td>0</td>\n",
       "      <td>...</td>\n",
       "      <td>3</td>\n",
       "      <td>1</td>\n",
       "      <td>4</td>\n",
       "      <td>3</td>\n",
       "      <td>5</td>\n",
       "      <td>0.0</td>\n",
       "      <td>0.0</td>\n",
       "      <td>2008-11-12</td>\n",
       "      <td>2009-01-07</td>\n",
       "      <td>0.0</td>\n",
       "    </tr>\n",
       "    <tr>\n",
       "      <th>1</th>\n",
       "      <td>2009-01-14</td>\n",
       "      <td>367</td>\n",
       "      <td>1111009497</td>\n",
       "      <td>1.39</td>\n",
       "      <td>0</td>\n",
       "      <td>0</td>\n",
       "      <td>20</td>\n",
       "      <td>1</td>\n",
       "      <td>1</td>\n",
       "      <td>0</td>\n",
       "      <td>...</td>\n",
       "      <td>3</td>\n",
       "      <td>1</td>\n",
       "      <td>4</td>\n",
       "      <td>3</td>\n",
       "      <td>5</td>\n",
       "      <td>0.0</td>\n",
       "      <td>0.0</td>\n",
       "      <td>2008-11-12</td>\n",
       "      <td>2009-01-07</td>\n",
       "      <td>0.0</td>\n",
       "    </tr>\n",
       "  </tbody>\n",
       "</table>\n",
       "<p>2 rows × 58 columns</p>\n",
       "</div>"
      ],
      "text/plain": [
       "  WEEK_END_DATE  STORE_NUM         UPC  BASE_PRICE  FEATURE  DISPLAY  UNITS  \\\n",
       "0    2009-01-14        367  1111009477        1.57        0        0     13   \n",
       "1    2009-01-14        367  1111009497        1.39        0        0     20   \n",
       "\n",
       "   MONTH  MANUFACTURER_1  MANUFACTURER_2  ...  week  quarter  U_MANUFACTURER  \\\n",
       "0      1               1               0  ...     3        1               4   \n",
       "1      1               1               0  ...     3        1               4   \n",
       "\n",
       "   U_CATEGORY  U_SUB_CATEGORY  UNITS_BEFORE_52WEEK  price_difference  \\\n",
       "0           3               5                  0.0               0.0   \n",
       "1           3               5                  0.0               0.0   \n",
       "\n",
       "   2_MONTH_BEFORE  1_WEEK_BEFORE  AVERAGE_UNITS_IN_2_MONTH  \n",
       "0      2008-11-12     2009-01-07                       0.0  \n",
       "1      2008-11-12     2009-01-07                       0.0  \n",
       "\n",
       "[2 rows x 58 columns]"
      ]
     },
     "execution_count": 3,
     "metadata": {},
     "output_type": "execute_result"
    }
   ],
   "source": [
    "df.head(2)"
   ]
  },
  {
   "cell_type": "code",
   "execution_count": 4,
   "id": "1c3e26f5",
   "metadata": {},
   "outputs": [],
   "source": [
    "df.drop(columns = ['2_MONTH_BEFORE', '1_WEEK_BEFORE'], axis= 1, inplace= True)"
   ]
  },
  {
   "cell_type": "code",
   "execution_count": 5,
   "id": "a53219bd",
   "metadata": {},
   "outputs": [],
   "source": [
    "df['WEEK_END_DATE'] = pd.to_datetime(df['WEEK_END_DATE'])"
   ]
  },
  {
   "cell_type": "code",
   "execution_count": 6,
   "id": "aead4fc3",
   "metadata": {},
   "outputs": [
    {
     "data": {
      "text/plain": [
       "0"
      ]
     },
     "execution_count": 6,
     "metadata": {},
     "output_type": "execute_result"
    }
   ],
   "source": [
    "df.isnull().sum().sum()"
   ]
  },
  {
   "cell_type": "code",
   "execution_count": 7,
   "id": "dd6bfecf",
   "metadata": {},
   "outputs": [
    {
     "data": {
      "text/plain": [
       "WEEK_END_DATE                datetime64[ns]\n",
       "STORE_NUM                             int64\n",
       "UPC                                   int64\n",
       "BASE_PRICE                          float64\n",
       "FEATURE                               int64\n",
       "DISPLAY                               int64\n",
       "UNITS                                 int64\n",
       "MONTH                                 int64\n",
       "MANUFACTURER_1                        int64\n",
       "MANUFACTURER_2                        int64\n",
       "MANUFACTURER_3                        int64\n",
       "MANUFACTURER_4                        int64\n",
       "MANUFACTURER_5                        int64\n",
       "MANUFACTURER_6                        int64\n",
       "MANUFACTURER_7                        int64\n",
       "MANUFACTURER_8                        int64\n",
       "MANUFACTURER_9                        int64\n",
       "CATEGORY_1                            int64\n",
       "CATEGORY_2                            int64\n",
       "CATEGORY_3                            int64\n",
       "CATEGORY_4                            int64\n",
       "SUB_CATEGORY_1                        int64\n",
       "SUB_CATEGORY_2                        int64\n",
       "SUB_CATEGORY_3                        int64\n",
       "SUB_CATEGORY_4                        int64\n",
       "SUB_CATEGORY_5                        int64\n",
       "SUB_CATEGORY_6                        int64\n",
       "SUB_CATEGORY_7                        int64\n",
       "SIZE                                float64\n",
       "ADDRESS_STATE_PROV_CODE_1             int64\n",
       "ADDRESS_STATE_PROV_CODE_2             int64\n",
       "ADDRESS_STATE_PROV_CODE_3             int64\n",
       "ADDRESS_STATE_PROV_CODE_4             int64\n",
       "MSA_CODE_1                            int64\n",
       "MSA_CODE_2                            int64\n",
       "MSA_CODE_3                            int64\n",
       "MSA_CODE_4                            int64\n",
       "MSA_CODE_5                            int64\n",
       "MSA_CODE_6                            int64\n",
       "MSA_CODE_7                            int64\n",
       "MSA_CODE_8                            int64\n",
       "MSA_CODE_9                            int64\n",
       "SEG_VALUE_NAME                        int64\n",
       "SALES_AREA_SIZE_NUM                   int64\n",
       "AVG_WEEKLY_BASKETS                    int64\n",
       "year                                  int64\n",
       "day                                   int64\n",
       "day_of_year                           int64\n",
       "week                                  int64\n",
       "quarter                               int64\n",
       "U_MANUFACTURER                        int64\n",
       "U_CATEGORY                            int64\n",
       "U_SUB_CATEGORY                        int64\n",
       "UNITS_BEFORE_52WEEK                 float64\n",
       "price_difference                    float64\n",
       "AVERAGE_UNITS_IN_2_MONTH            float64\n",
       "dtype: object"
      ]
     },
     "execution_count": 7,
     "metadata": {},
     "output_type": "execute_result"
    }
   ],
   "source": [
    "df.dtypes"
   ]
  },
  {
   "cell_type": "markdown",
   "id": "a63cfe7d",
   "metadata": {},
   "source": [
    "## 1. Validation Sets\n",
    "* **validation_df** function will create a total of 9 training & validation sets where training set size would be 1 month."
   ]
  },
  {
   "cell_type": "code",
   "execution_count": 8,
   "id": "94a30e22",
   "metadata": {},
   "outputs": [],
   "source": [
    "weeks = df['WEEK_END_DATE'].unique()"
   ]
  },
  {
   "cell_type": "code",
   "execution_count": 9,
   "id": "959a67f2",
   "metadata": {},
   "outputs": [],
   "source": [
    "def validation_df(data, week, no_of_months= 1, no_of_validations= 1):\n",
    "    \n",
    "    model_set = []\n",
    "    set_n = 1\n",
    "    \n",
    "    for w in range(len(week)-1, 0, -1):\n",
    "        \n",
    "        x_data = {}\n",
    "        \n",
    "        x_data['set_no'] = set_n\n",
    "        x_data['train_start'] = week[w-3-4*no_of_months]\n",
    "        x_data['train_end'] = week[w-4]\n",
    "        x_data['no_days_train'] = x_data['train_end'] - x_data['train_start']\n",
    "        x_data['valid_week'] = week[w-2]\n",
    "        x_data['test_week'] = week[w]\n",
    "        \n",
    "        set_n += 1\n",
    "        model_set.append(x_data)\n",
    "        if (len(model_set) == no_of_validations):\n",
    "            break\n",
    "            \n",
    "#===========================================================================================\n",
    "\n",
    "    datapoints = []\n",
    "    \n",
    "    for s in model_set:\n",
    "        \n",
    "        x = {}\n",
    "        \n",
    "        train_set = data[(data['WEEK_END_DATE'] >= s['train_start']) & (data['WEEK_END_DATE'] <= s['train_end'])]\n",
    "        x['train_shape'] = train_set.shape[0]\n",
    "        x['validation_shape'] = data[data['WEEK_END_DATE'] == s['valid_week']].shape[0]\n",
    "        x['test_shape'] = data[data['WEEK_END_DATE'] == s['test_week']].shape[0]\n",
    "        x.update(s)\n",
    "        datapoints.append(x)\n",
    "        \n",
    "    strategy_df = pd.DataFrame(datapoints)\n",
    "    strategy_df['no_days_train'] = strategy_df['no_days_train'] + timedelta(days = 7)\n",
    "    \n",
    "    return strategy_df\n"
   ]
  },
  {
   "cell_type": "code",
   "execution_count": 10,
   "id": "bffd7e41",
   "metadata": {},
   "outputs": [],
   "source": [
    "valid_df = validation_df(df, weeks, no_of_months= 1, no_of_validations= 9)"
   ]
  },
  {
   "cell_type": "code",
   "execution_count": 11,
   "id": "c6912127",
   "metadata": {},
   "outputs": [
    {
     "data": {
      "text/html": [
       "<div>\n",
       "<style scoped>\n",
       "    .dataframe tbody tr th:only-of-type {\n",
       "        vertical-align: middle;\n",
       "    }\n",
       "\n",
       "    .dataframe tbody tr th {\n",
       "        vertical-align: top;\n",
       "    }\n",
       "\n",
       "    .dataframe thead th {\n",
       "        text-align: right;\n",
       "    }\n",
       "</style>\n",
       "<table border=\"1\" class=\"dataframe\">\n",
       "  <thead>\n",
       "    <tr style=\"text-align: right;\">\n",
       "      <th></th>\n",
       "      <th>train_shape</th>\n",
       "      <th>validation_shape</th>\n",
       "      <th>test_shape</th>\n",
       "      <th>set_no</th>\n",
       "      <th>train_start</th>\n",
       "      <th>train_end</th>\n",
       "      <th>no_days_train</th>\n",
       "      <th>valid_week</th>\n",
       "      <th>test_week</th>\n",
       "    </tr>\n",
       "  </thead>\n",
       "  <tbody>\n",
       "    <tr>\n",
       "      <th>0</th>\n",
       "      <td>6538</td>\n",
       "      <td>1640</td>\n",
       "      <td>1642</td>\n",
       "      <td>1</td>\n",
       "      <td>2011-08-10</td>\n",
       "      <td>2011-08-31</td>\n",
       "      <td>28 days</td>\n",
       "      <td>2011-09-14</td>\n",
       "      <td>2011-09-28</td>\n",
       "    </tr>\n",
       "    <tr>\n",
       "      <th>1</th>\n",
       "      <td>6549</td>\n",
       "      <td>1632</td>\n",
       "      <td>1638</td>\n",
       "      <td>2</td>\n",
       "      <td>2011-08-03</td>\n",
       "      <td>2011-08-24</td>\n",
       "      <td>28 days</td>\n",
       "      <td>2011-09-07</td>\n",
       "      <td>2011-09-21</td>\n",
       "    </tr>\n",
       "    <tr>\n",
       "      <th>2</th>\n",
       "      <td>6546</td>\n",
       "      <td>1629</td>\n",
       "      <td>1640</td>\n",
       "      <td>3</td>\n",
       "      <td>2011-07-27</td>\n",
       "      <td>2011-08-17</td>\n",
       "      <td>28 days</td>\n",
       "      <td>2011-08-31</td>\n",
       "      <td>2011-09-14</td>\n",
       "    </tr>\n",
       "    <tr>\n",
       "      <th>3</th>\n",
       "      <td>6543</td>\n",
       "      <td>1640</td>\n",
       "      <td>1632</td>\n",
       "      <td>4</td>\n",
       "      <td>2011-07-20</td>\n",
       "      <td>2011-08-10</td>\n",
       "      <td>28 days</td>\n",
       "      <td>2011-08-24</td>\n",
       "      <td>2011-09-07</td>\n",
       "    </tr>\n",
       "    <tr>\n",
       "      <th>4</th>\n",
       "      <td>6551</td>\n",
       "      <td>1638</td>\n",
       "      <td>1629</td>\n",
       "      <td>5</td>\n",
       "      <td>2011-07-13</td>\n",
       "      <td>2011-08-03</td>\n",
       "      <td>28 days</td>\n",
       "      <td>2011-08-17</td>\n",
       "      <td>2011-08-31</td>\n",
       "    </tr>\n",
       "    <tr>\n",
       "      <th>5</th>\n",
       "      <td>6553</td>\n",
       "      <td>1631</td>\n",
       "      <td>1640</td>\n",
       "      <td>6</td>\n",
       "      <td>2011-07-06</td>\n",
       "      <td>2011-07-27</td>\n",
       "      <td>28 days</td>\n",
       "      <td>2011-08-10</td>\n",
       "      <td>2011-08-24</td>\n",
       "    </tr>\n",
       "    <tr>\n",
       "      <th>6</th>\n",
       "      <td>6555</td>\n",
       "      <td>1640</td>\n",
       "      <td>1638</td>\n",
       "      <td>7</td>\n",
       "      <td>2011-06-29</td>\n",
       "      <td>2011-07-20</td>\n",
       "      <td>28 days</td>\n",
       "      <td>2011-08-03</td>\n",
       "      <td>2011-08-17</td>\n",
       "    </tr>\n",
       "    <tr>\n",
       "      <th>7</th>\n",
       "      <td>6558</td>\n",
       "      <td>1637</td>\n",
       "      <td>1631</td>\n",
       "      <td>8</td>\n",
       "      <td>2011-06-22</td>\n",
       "      <td>2011-07-13</td>\n",
       "      <td>28 days</td>\n",
       "      <td>2011-07-27</td>\n",
       "      <td>2011-08-10</td>\n",
       "    </tr>\n",
       "    <tr>\n",
       "      <th>8</th>\n",
       "      <td>6558</td>\n",
       "      <td>1635</td>\n",
       "      <td>1640</td>\n",
       "      <td>9</td>\n",
       "      <td>2011-06-15</td>\n",
       "      <td>2011-07-06</td>\n",
       "      <td>28 days</td>\n",
       "      <td>2011-07-20</td>\n",
       "      <td>2011-08-03</td>\n",
       "    </tr>\n",
       "  </tbody>\n",
       "</table>\n",
       "</div>"
      ],
      "text/plain": [
       "   train_shape  validation_shape  test_shape  set_no train_start  train_end  \\\n",
       "0         6538              1640        1642       1  2011-08-10 2011-08-31   \n",
       "1         6549              1632        1638       2  2011-08-03 2011-08-24   \n",
       "2         6546              1629        1640       3  2011-07-27 2011-08-17   \n",
       "3         6543              1640        1632       4  2011-07-20 2011-08-10   \n",
       "4         6551              1638        1629       5  2011-07-13 2011-08-03   \n",
       "5         6553              1631        1640       6  2011-07-06 2011-07-27   \n",
       "6         6555              1640        1638       7  2011-06-29 2011-07-20   \n",
       "7         6558              1637        1631       8  2011-06-22 2011-07-13   \n",
       "8         6558              1635        1640       9  2011-06-15 2011-07-06   \n",
       "\n",
       "  no_days_train valid_week  test_week  \n",
       "0       28 days 2011-09-14 2011-09-28  \n",
       "1       28 days 2011-09-07 2011-09-21  \n",
       "2       28 days 2011-08-31 2011-09-14  \n",
       "3       28 days 2011-08-24 2011-09-07  \n",
       "4       28 days 2011-08-17 2011-08-31  \n",
       "5       28 days 2011-08-10 2011-08-24  \n",
       "6       28 days 2011-08-03 2011-08-17  \n",
       "7       28 days 2011-07-27 2011-08-10  \n",
       "8       28 days 2011-07-20 2011-08-03  "
      ]
     },
     "execution_count": 11,
     "metadata": {},
     "output_type": "execute_result"
    }
   ],
   "source": [
    "valid_df"
   ]
  },
  {
   "cell_type": "markdown",
   "id": "2e2168f6",
   "metadata": {},
   "source": [
    "* We will create a list (evaluation_set) of tuples. These tuples will contain train and validation data extracted using the validation dataframe.\n",
    "* We will use the columns train_start, train_end and validate_week and filter out the data which lies in that training period and validation period.\n",
    "* We will define a function get_evaluation_sets to get the required list of tuples."
   ]
  },
  {
   "cell_type": "code",
   "execution_count": 12,
   "id": "67477e69",
   "metadata": {},
   "outputs": [],
   "source": [
    "def get_evaluation_set(data):\n",
    "    \n",
    "    evaluation_set = []\n",
    "    \n",
    "    for r in range(data.shape[0]):\n",
    "        row = data.iloc[r]\n",
    "        print(row['valid_week'])\n",
    "        \n",
    "        # get train_data\n",
    "        train_data = df[(df['WEEK_END_DATE'] >= row['train_start']) & (df['WEEK_END_DATE'] <= row['train_end'])]\n",
    "        # get validation_data\n",
    "        valid_data = df[df['WEEK_END_DATE'] == row['valid_week']]\n",
    "        \n",
    "        evaluation_set.append((train_data, valid_data))\n",
    "        \n",
    "    return evaluation_set"
   ]
  },
  {
   "cell_type": "code",
   "execution_count": 13,
   "id": "5a3bae78",
   "metadata": {},
   "outputs": [
    {
     "name": "stdout",
     "output_type": "stream",
     "text": [
      "2011-09-14 00:00:00\n",
      "2011-09-07 00:00:00\n",
      "2011-08-31 00:00:00\n",
      "2011-08-24 00:00:00\n",
      "2011-08-17 00:00:00\n",
      "2011-08-10 00:00:00\n",
      "2011-08-03 00:00:00\n",
      "2011-07-27 00:00:00\n",
      "2011-07-20 00:00:00\n"
     ]
    }
   ],
   "source": [
    "evaluation_sets = get_evaluation_set(validation_df(df, weeks, no_of_months=1, no_of_validations=9))"
   ]
  },
  {
   "cell_type": "markdown",
   "id": "32163439",
   "metadata": {},
   "source": [
    "Let's define one function to calculate the RMSLE **get_msle**. Then we will define a custom evaluation metric function \n",
    "**custom_eval** since LGBMRegressor does not have any RMSLE metric internally defined."
   ]
  },
  {
   "cell_type": "code",
   "execution_count": 14,
   "id": "dd6b05a0",
   "metadata": {},
   "outputs": [],
   "source": [
    "# RMSLE Function\n",
    "def get_rmsle(true, predicted):\n",
    "    return np.sqrt(msle(true, predicted))\n",
    "\n",
    "# Custom evaluation metric function\n",
    "def custom_eval(preds, dtrain):\n",
    "    labels = dtrain.get_label.astype(np.int)\n",
    "    preds = preds.clip(min=0)\n",
    "    return[('rmsle', get_rmsle(labels, preds))]\n",
    "\n",
    "def custom_rmsle(y_true, y_pred):\n",
    "    \"\"\"\n",
    "    Custom evaluation metric for Root Mean Squared Log Error (RMSLE).\n",
    "\n",
    "    Parameters:\n",
    "        y_true (array-like): True target values.\n",
    "        y_pred (array-like): Predicted target values.\n",
    "\n",
    "    Returns:\n",
    "        rmsle (str, float, bool): Custom metric name, RMSLE value, and a flag indicating whether a lower value is better.\n",
    "    \"\"\"\n",
    "    y_pred = y_pred.clip(min=0)\n",
    "    rmsle = get_rmsle(y_true, y_pred)\n",
    "    return 'rmsle', rmsle, False  # The 'False' indicates that a lower value is better"
   ]
  },
  {
   "cell_type": "markdown",
   "id": "5069720f",
   "metadata": {},
   "source": [
    "### 1. N_ESTIMATORS\n",
    "* We will track both the train RMSLE and validation RMSLE for **n estimators** ranging between (20, 400) and check the scores on all the 9 validation sets."
   ]
  },
  {
   "cell_type": "code",
   "execution_count": 15,
   "id": "743e50ba",
   "metadata": {},
   "outputs": [],
   "source": [
    "def get_n_estimators(evaluation_set, min_r, max_r):\n",
    "    \n",
    "    results = []\n",
    "    \n",
    "    for n_est in range(min_r, max_r, 20):\n",
    "        x = {}\n",
    "        SCORE_TRAIN = []\n",
    "        SCORE_VALID = []\n",
    "        \n",
    "        for combo in evaluation_set:\n",
    "            \n",
    "            # seperate the independent and target variable from the train and validation set\n",
    "            train_data_x = combo[0].drop(columns = ['WEEK_END_DATE', 'STORE_NUM', 'UPC', 'UNITS'])\n",
    "            train_data_y = combo[0]['UNITS']\n",
    "            \n",
    "            valid_data_x = combo[1].drop(columns = ['WEEK_END_DATE', 'STORE_NUM', 'UPC', 'UNITS'])\n",
    "            valid_data_y = combo[1]['UNITS']\n",
    "            \n",
    "            e_set = [(train_data_x, train_data_y), (valid_data_x, valid_data_y)]\n",
    "            \n",
    "            model = LGBMRegressor(n_estimators = n_est,\n",
    "                                    learning_rate = 0.01,\n",
    "                                    n_jobs = 4,\n",
    "                                    random_state = 0,\n",
    "                                    num_leaves = 30,\n",
    "                                    boosting_type = 'gbdt',\n",
    "                                    objective = 'regression',\n",
    "                                    verbosity = -1)\n",
    "            \n",
    "            model.fit(train_data_x, train_data_y, eval_metric = custom_rmsle, eval_set = e_set)\n",
    "            \n",
    "            # store the RMSLE on train and validation sets in different lists \n",
    "            # so that at the end we can calculate the mean of results at the end \n",
    "            SCORE_TRAIN.append(model.evals_result_['training']['rmsle'][-1])\n",
    "            SCORE_VALID.append(model.evals_result_['valid_1']['rmsle'][-1])\n",
    "            \n",
    "        mean_score_train = np.mean(SCORE_TRAIN)\n",
    "        mean_score_valid = np.mean(SCORE_VALID)\n",
    "            \n",
    "        print('With n_estimators:\\t' + str(n_est) + '\\tMean_RMSLE_Train:\\t' + str(mean_score_train) + '\\tMean_RMSLE_Valid:\\t' + str(mean_score_valid))\n",
    "            \n",
    "        x['n_estimators'] = n_est\n",
    "        x['mean_rmsle_train'] = mean_score_train\n",
    "        x['mean_rmsle_valid'] = mean_score_valid\n",
    "            \n",
    "        results.append(x)\n",
    "        \n",
    "    return pd.DataFrame(results)"
   ]
  },
  {
   "cell_type": "code",
   "execution_count": 17,
   "id": "ae61da72",
   "metadata": {},
   "outputs": [
    {
     "name": "stdout",
     "output_type": "stream",
     "text": [
      "With n_estimators:\t20\tMean_RMSLE_Train:\t0.9027804605765231\tMean_RMSLE_Valid:\t0.9302813689485063\n",
      "With n_estimators:\t40\tMean_RMSLE_Train:\t0.8199561967127158\tMean_RMSLE_Valid:\t0.8542356553185948\n",
      "With n_estimators:\t60\tMean_RMSLE_Train:\t0.7517279460179164\tMean_RMSLE_Valid:\t0.7907930878132253\n",
      "With n_estimators:\t80\tMean_RMSLE_Train:\t0.6941437896010763\tMean_RMSLE_Valid:\t0.7374558667332867\n",
      "With n_estimators:\t100\tMean_RMSLE_Train:\t0.6451063595355446\tMean_RMSLE_Valid:\t0.6923758719557793\n",
      "With n_estimators:\t120\tMean_RMSLE_Train:\t0.6032650060280914\tMean_RMSLE_Valid:\t0.654345887090796\n",
      "With n_estimators:\t140\tMean_RMSLE_Train:\t0.5674215084111109\tMean_RMSLE_Valid:\t0.621903550272114\n",
      "With n_estimators:\t160\tMean_RMSLE_Train:\t0.5369153621073753\tMean_RMSLE_Valid:\t0.5951187550257597\n",
      "With n_estimators:\t180\tMean_RMSLE_Train:\t0.5104896436520694\tMean_RMSLE_Valid:\t0.572891159814096\n",
      "With n_estimators:\t200\tMean_RMSLE_Train:\t0.4881930021512738\tMean_RMSLE_Valid:\t0.5548885424164689\n",
      "With n_estimators:\t220\tMean_RMSLE_Train:\t0.46944904964507234\tMean_RMSLE_Valid:\t0.5404485003432633\n",
      "With n_estimators:\t240\tMean_RMSLE_Train:\t0.4535194849181148\tMean_RMSLE_Valid:\t0.5291269800138613\n",
      "With n_estimators:\t260\tMean_RMSLE_Train:\t0.4397602905941882\tMean_RMSLE_Valid:\t0.5191420005872424\n",
      "With n_estimators:\t280\tMean_RMSLE_Train:\t0.42813336039671324\tMean_RMSLE_Valid:\t0.5111112880761399\n",
      "With n_estimators:\t300\tMean_RMSLE_Train:\t0.4183490990944776\tMean_RMSLE_Valid:\t0.5050841751637503\n",
      "With n_estimators:\t320\tMean_RMSLE_Train:\t0.4101573461563825\tMean_RMSLE_Valid:\t0.5003915424989618\n",
      "With n_estimators:\t340\tMean_RMSLE_Train:\t0.40310964112352915\tMean_RMSLE_Valid:\t0.4961168613127857\n",
      "With n_estimators:\t360\tMean_RMSLE_Train:\t0.3969790164516056\tMean_RMSLE_Valid:\t0.49257880103766155\n",
      "With n_estimators:\t380\tMean_RMSLE_Train:\t0.3913300535509048\tMean_RMSLE_Valid:\t0.490328836515304\n",
      "With n_estimators:\t400\tMean_RMSLE_Train:\t0.3862757200630399\tMean_RMSLE_Valid:\t0.4885814440917907\n",
      "With n_estimators:\t420\tMean_RMSLE_Train:\t0.3817439139162896\tMean_RMSLE_Valid:\t0.4866703493045966\n",
      "With n_estimators:\t440\tMean_RMSLE_Train:\t0.3778084663582355\tMean_RMSLE_Valid:\t0.48466884896143875\n",
      "With n_estimators:\t460\tMean_RMSLE_Train:\t0.3745541291348118\tMean_RMSLE_Valid:\t0.4832131508170414\n",
      "With n_estimators:\t480\tMean_RMSLE_Train:\t0.3716083986864981\tMean_RMSLE_Valid:\t0.482128267600404\n",
      "With n_estimators:\t500\tMean_RMSLE_Train:\t0.3688868230589585\tMean_RMSLE_Valid:\t0.48114373233036584\n",
      "With n_estimators:\t520\tMean_RMSLE_Train:\t0.36652870054823694\tMean_RMSLE_Valid:\t0.48050977027479047\n",
      "With n_estimators:\t540\tMean_RMSLE_Train:\t0.3645619432873505\tMean_RMSLE_Valid:\t0.47981184538956423\n",
      "With n_estimators:\t560\tMean_RMSLE_Train:\t0.36263007979128264\tMean_RMSLE_Valid:\t0.47930637001945947\n",
      "With n_estimators:\t580\tMean_RMSLE_Train:\t0.3608595434054414\tMean_RMSLE_Valid:\t0.47902705538541746\n",
      "With n_estimators:\t600\tMean_RMSLE_Train:\t0.3591195585521824\tMean_RMSLE_Valid:\t0.4786444349150497\n",
      "With n_estimators:\t620\tMean_RMSLE_Train:\t0.35754437167554987\tMean_RMSLE_Valid:\t0.4784398466725556\n",
      "With n_estimators:\t640\tMean_RMSLE_Train:\t0.35608655458641025\tMean_RMSLE_Valid:\t0.4783779783177447\n",
      "With n_estimators:\t660\tMean_RMSLE_Train:\t0.3547245417715422\tMean_RMSLE_Valid:\t0.47835808544582964\n",
      "With n_estimators:\t680\tMean_RMSLE_Train:\t0.353566580168393\tMean_RMSLE_Valid:\t0.47845650928009026\n",
      "With n_estimators:\t700\tMean_RMSLE_Train:\t0.3523983179367902\tMean_RMSLE_Valid:\t0.4784700695983337\n",
      "With n_estimators:\t720\tMean_RMSLE_Train:\t0.35122675704252687\tMean_RMSLE_Valid:\t0.4786366854910013\n",
      "With n_estimators:\t740\tMean_RMSLE_Train:\t0.3500505782142889\tMean_RMSLE_Valid:\t0.4787393363742767\n",
      "With n_estimators:\t760\tMean_RMSLE_Train:\t0.34891222265662836\tMean_RMSLE_Valid:\t0.47893743208490275\n",
      "With n_estimators:\t780\tMean_RMSLE_Train:\t0.3478914771012593\tMean_RMSLE_Valid:\t0.4792077072037684\n",
      "With n_estimators:\t800\tMean_RMSLE_Train:\t0.34685455109081487\tMean_RMSLE_Valid:\t0.47935071055715234\n"
     ]
    }
   ],
   "source": [
    "n_estimators_result = get_n_estimators(evaluation_sets ,min_r = 20, max_r = 801)"
   ]
  },
  {
   "cell_type": "code",
   "execution_count": 19,
   "id": "0bb3c26c",
   "metadata": {},
   "outputs": [
    {
     "data": {
      "image/png": "[encoded data removed]",
      "text/plain": [
       "<Figure size 1000x300 with 1 Axes>"
      ]
     },
     "metadata": {},
     "output_type": "display_data"
    }
   ],
   "source": [
    "plt.figure(figsize = (10,3), dpi = 100)\n",
    "sns.lineplot(x= n_estimators_result['n_estimators'], y= n_estimators_result['mean_rmsle_train'], marker = 'o', color = 'blue', label = 'Training')\n",
    "sns.lineplot(x= n_estimators_result['n_estimators'], y= n_estimators_result['mean_rmsle_valid'], marker = 'o', color = 'orange', label = 'Validation')\n",
    "plt.title('LightGBM n_estimators')\n",
    "plt.xlabel('n_estimators')\n",
    "plt.ylabel('RMSLE')\n",
    "plt.show()"
   ]
  },
  {
   "cell_type": "markdown",
   "id": "a86cbfe0",
   "metadata": {},
   "source": [
    "for validation set the lowest mean **RMSLE (0.47835)** is at **n_estimators = 640**\n",
    "\n",
    "### 2. NUM_LEAVES**\n",
    "\n",
    "We will change the num_leaves value between (2,40) and track the RMSLE for both training and validation sets."
   ]
  },
  {
   "cell_type": "code",
   "execution_count": 20,
   "id": "a613baef",
   "metadata": {},
   "outputs": [],
   "source": [
    "def get_num_leaves(evaluation_set, min_r, max_r):\n",
    "    \n",
    "    results = []\n",
    "    \n",
    "    for leaves in range(min_r, max_r, 2):\n",
    "        x = {}\n",
    "        SCORE_TRAIN = []\n",
    "        SCORE_VALID = []\n",
    "        \n",
    "        for combo in evaluation_set:\n",
    "            \n",
    "            # seperate the independent and target variable from the train and validation set\n",
    "            train_data_x = combo[0].drop(columns = ['WEEK_END_DATE', 'STORE_NUM', 'UPC', 'UNITS'])\n",
    "            train_data_y = combo[0]['UNITS']\n",
    "            \n",
    "            valid_data_x = combo[1].drop(columns = ['WEEK_END_DATE', 'STORE_NUM', 'UPC', 'UNITS'])\n",
    "            valid_data_y = combo[1]['UNITS']\n",
    "            \n",
    "            e_set = [(train_data_x, train_data_y), (valid_data_x, valid_data_y)]\n",
    "            \n",
    "            model = LGBMRegressor(n_estimators = 640,\n",
    "                                    learning_rate = 0.01,\n",
    "                                    n_jobs = -1,\n",
    "                                    random_state = 0,\n",
    "                                    num_leaves = leaves,\n",
    "                                    boosting_type = 'gbdt',\n",
    "                                    objective = 'regression',\n",
    "                                    verbosity = -1)\n",
    "            \n",
    "            model.fit(train_data_x, train_data_y, eval_metric = custom_rmsle, eval_set = e_set)\n",
    "            \n",
    "            # store the RMSLE on train and validation sets in different lists \n",
    "            # so that at the end we can calculate the mean of results at the end \n",
    "            SCORE_TRAIN.append(model.evals_result_['training']['rmsle'][-1])\n",
    "            SCORE_VALID.append(model.evals_result_['valid_1']['rmsle'][-1])\n",
    "            \n",
    "        mean_score_train = np.mean(SCORE_TRAIN)\n",
    "        mean_score_valid = np.mean(SCORE_VALID)\n",
    "            \n",
    "        print('With num_leaves:\\t' + str(leaves) + '\\tMean_RMSLE_Train:\\t' + str(mean_score_train) + '\\tMean_RMSLE_Valid:\\t' + str(mean_score_valid))\n",
    "            \n",
    "        x['num_leaves'] = leaves\n",
    "        x['mean_rmsle_train'] = mean_score_train\n",
    "        x['mean_rmsle_valid'] = mean_score_valid\n",
    "            \n",
    "        results.append(x)\n",
    "        \n",
    "    return pd.DataFrame(results)"
   ]
  },
  {
   "cell_type": "code",
   "execution_count": 23,
   "id": "07772c8d",
   "metadata": {},
   "outputs": [
    {
     "name": "stdout",
     "output_type": "stream",
     "text": [
      "With num_leaves:\t2\tMean_RMSLE_Train:\t0.570016633049728\tMean_RMSLE_Valid:\t0.5910114341175298\n",
      "With num_leaves:\t4\tMean_RMSLE_Train:\t0.46356942693721376\tMean_RMSLE_Valid:\t0.509615754305928\n",
      "With num_leaves:\t6\tMean_RMSLE_Train:\t0.4333677834389918\tMean_RMSLE_Valid:\t0.49775450328608084\n",
      "With num_leaves:\t8\tMean_RMSLE_Train:\t0.4136388756237984\tMean_RMSLE_Valid:\t0.4866133658308189\n",
      "With num_leaves:\t10\tMean_RMSLE_Train:\t0.40022192820381963\tMean_RMSLE_Valid:\t0.4800366155743007\n",
      "With num_leaves:\t12\tMean_RMSLE_Train:\t0.39159880871786\tMean_RMSLE_Valid:\t0.4773957332662398\n",
      "With num_leaves:\t14\tMean_RMSLE_Train:\t0.38471649534611035\tMean_RMSLE_Valid:\t0.4780848236736849\n",
      "With num_leaves:\t16\tMean_RMSLE_Train:\t0.37955968931768547\tMean_RMSLE_Valid:\t0.47702528059398297\n",
      "With num_leaves:\t18\tMean_RMSLE_Train:\t0.37527635844969276\tMean_RMSLE_Valid:\t0.4766141196691924\n",
      "With num_leaves:\t20\tMean_RMSLE_Train:\t0.3711085070410036\tMean_RMSLE_Valid:\t0.47854412647861216\n",
      "With num_leaves:\t22\tMean_RMSLE_Train:\t0.3681506786067983\tMean_RMSLE_Valid:\t0.47900985258598094\n",
      "With num_leaves:\t24\tMean_RMSLE_Train:\t0.3648114191734419\tMean_RMSLE_Valid:\t0.4780413336315072\n",
      "With num_leaves:\t26\tMean_RMSLE_Train:\t0.3616430694599798\tMean_RMSLE_Valid:\t0.47942449505260576\n",
      "With num_leaves:\t28\tMean_RMSLE_Train:\t0.35859104614429244\tMean_RMSLE_Valid:\t0.47899234206110985\n",
      "With num_leaves:\t30\tMean_RMSLE_Train:\t0.35608655458641025\tMean_RMSLE_Valid:\t0.4783779783177447\n",
      "With num_leaves:\t32\tMean_RMSLE_Train:\t0.35319005015393307\tMean_RMSLE_Valid:\t0.47943752903095077\n",
      "With num_leaves:\t34\tMean_RMSLE_Train:\t0.3509053069433852\tMean_RMSLE_Valid:\t0.47884547198662897\n",
      "With num_leaves:\t36\tMean_RMSLE_Train:\t0.3485025015123633\tMean_RMSLE_Valid:\t0.4799694666363248\n",
      "With num_leaves:\t38\tMean_RMSLE_Train:\t0.3470512796081374\tMean_RMSLE_Valid:\t0.48048091488799727\n",
      "With num_leaves:\t40\tMean_RMSLE_Train:\t0.34450870175267334\tMean_RMSLE_Valid:\t0.480956502098575\n"
     ]
    }
   ],
   "source": [
    "num_leaves_result = get_num_leaves(evaluation_sets, min_r= 2, max_r=41)"
   ]
  },
  {
   "cell_type": "code",
   "execution_count": 24,
   "id": "81a20819",
   "metadata": {},
   "outputs": [
    {
     "data": {
      "image/png": "[encoded data removed]",
      "text/plain": [
       "<Figure size 1000x300 with 1 Axes>"
      ]
     },
     "metadata": {},
     "output_type": "display_data"
    }
   ],
   "source": [
    "plt.figure(figsize = (10,3), dpi = 100)\n",
    "sns.lineplot(x= num_leaves_result['num_leaves'], y= num_leaves_result['mean_rmsle_train'], marker = 'o', color = 'blue', label = 'Training')\n",
    "sns.lineplot(x= num_leaves_result['num_leaves'], y= num_leaves_result['mean_rmsle_valid'], marker = 'o', color = 'orange', label = 'Validation')\n",
    "plt.title('LightGBM num_leaves')\n",
    "plt.xlabel('num_leaves')\n",
    "plt.ylabel('RMSLE')\n",
    "plt.show()"
   ]
  },
  {
   "cell_type": "markdown",
   "id": "b41fd901",
   "metadata": {},
   "source": [
    "afther the **num_leaves = 16** & validation **RMSLE (0.4766)** the model is starting to over fit on the train data. So we will choose num_leaves = 16\n",
    "\n",
    "### 3. MIN_CHILD_SAMPLES\n",
    "\n",
    "* We will check the performance of the model for the values 1 to 5.\n",
    "* The value of n_estimators will be 640 and max_depth will be 18."
   ]
  },
  {
   "cell_type": "code",
   "execution_count": 27,
   "id": "3506426d",
   "metadata": {},
   "outputs": [],
   "source": [
    "def get_mcs(evaluation_set):\n",
    "    \n",
    "    results = []\n",
    "    \n",
    "    for mcs in range(1, 15, 1):\n",
    "        x = {}\n",
    "        SCORE_TRAIN = []\n",
    "        SCORE_VALID = []\n",
    "        \n",
    "        for combo in evaluation_set:\n",
    "            \n",
    "            # seperate the independent and target variable from the train and validation set\n",
    "            train_data_x = combo[0].drop(columns = ['WEEK_END_DATE', 'STORE_NUM', 'UPC', 'UNITS'])\n",
    "            train_data_y = combo[0]['UNITS']\n",
    "            \n",
    "            valid_data_x = combo[1].drop(columns = ['WEEK_END_DATE', 'STORE_NUM', 'UPC', 'UNITS'])\n",
    "            valid_data_y = combo[1]['UNITS']\n",
    "            \n",
    "            e_set = [(train_data_x, train_data_y), (valid_data_x, valid_data_y)]\n",
    "            \n",
    "            model = LGBMRegressor(n_estimators = 640,\n",
    "                                    learning_rate = 0.01,\n",
    "                                    n_jobs = -1,\n",
    "                                    random_state = 0,\n",
    "                                    min_child_samples = mcs,\n",
    "                                    num_leaves = 18,\n",
    "                                    boosting_type = 'gbdt',\n",
    "                                    objective = 'regression',\n",
    "                                    verbosity = -1)\n",
    "            \n",
    "            model.fit(train_data_x, train_data_y, eval_metric = custom_rmsle, eval_set = e_set)\n",
    "            \n",
    "            # store the RMSLE on train and validation sets in different lists \n",
    "            # so that at the end we can calculate the mean of results at the end \n",
    "            SCORE_TRAIN.append(model.evals_result_['training']['rmsle'][-1])\n",
    "            SCORE_VALID.append(model.evals_result_['valid_1']['rmsle'][-1])\n",
    "            \n",
    "        mean_score_train = np.mean(SCORE_TRAIN)\n",
    "        mean_score_valid = np.mean(SCORE_VALID)\n",
    "            \n",
    "        print('With min_child_samples:\\t' + str(mcs) + '\\tMean_RMSLE_Train:\\t' + str(mean_score_train) + '\\tMean_RMSLE_Valid:\\t' + str(mean_score_valid))\n",
    "            \n",
    "        x['min_child_samples'] = mcs\n",
    "        x['mean_rmsle_train'] = mean_score_train\n",
    "        x['mean_rmsle_valid'] = mean_score_valid\n",
    "            \n",
    "        results.append(x)\n",
    "        \n",
    "    return pd.DataFrame(results)"
   ]
  },
  {
   "cell_type": "code",
   "execution_count": 28,
   "id": "8d011807",
   "metadata": {},
   "outputs": [
    {
     "name": "stdout",
     "output_type": "stream",
     "text": [
      "With min_child_samples:\t1\tMean_RMSLE_Train:\t0.37725078663135403\tMean_RMSLE_Valid:\t0.4748582444574624\n",
      "With min_child_samples:\t2\tMean_RMSLE_Train:\t0.3772948538215539\tMean_RMSLE_Valid:\t0.47663296617505896\n",
      "With min_child_samples:\t3\tMean_RMSLE_Train:\t0.37688404009291765\tMean_RMSLE_Valid:\t0.47529190436276747\n",
      "With min_child_samples:\t4\tMean_RMSLE_Train:\t0.3761705110373104\tMean_RMSLE_Valid:\t0.47517147807866045\n",
      "With min_child_samples:\t5\tMean_RMSLE_Train:\t0.37595437182789687\tMean_RMSLE_Valid:\t0.47356293555741036\n",
      "With min_child_samples:\t6\tMean_RMSLE_Train:\t0.37594943367181566\tMean_RMSLE_Valid:\t0.4754114923399173\n",
      "With min_child_samples:\t7\tMean_RMSLE_Train:\t0.37594302793917256\tMean_RMSLE_Valid:\t0.47541518563870866\n",
      "With min_child_samples:\t8\tMean_RMSLE_Train:\t0.3756162137729141\tMean_RMSLE_Valid:\t0.47551602264138715\n",
      "With min_child_samples:\t9\tMean_RMSLE_Train:\t0.3753457176428857\tMean_RMSLE_Valid:\t0.4771917364542474\n",
      "With min_child_samples:\t10\tMean_RMSLE_Train:\t0.3754822109741218\tMean_RMSLE_Valid:\t0.4769846631385179\n",
      "With min_child_samples:\t11\tMean_RMSLE_Train:\t0.3754004401526594\tMean_RMSLE_Valid:\t0.4771958332981343\n",
      "With min_child_samples:\t12\tMean_RMSLE_Train:\t0.3751876919423276\tMean_RMSLE_Valid:\t0.476316596625585\n",
      "With min_child_samples:\t13\tMean_RMSLE_Train:\t0.37510980600523663\tMean_RMSLE_Valid:\t0.4769428514203899\n",
      "With min_child_samples:\t14\tMean_RMSLE_Train:\t0.3751835206064542\tMean_RMSLE_Valid:\t0.47580404809735366\n"
     ]
    }
   ],
   "source": [
    "mcs_results = get_mcs(evaluation_sets)"
   ]
  },
  {
   "cell_type": "code",
   "execution_count": 29,
   "id": "9fb628b4",
   "metadata": {},
   "outputs": [
    {
     "data": {
      "image/png": "[encoded data removed]",
      "text/plain": [
       "<Figure size 1000x300 with 1 Axes>"
      ]
     },
     "metadata": {},
     "output_type": "display_data"
    }
   ],
   "source": [
    "plt.figure(figsize = (10,3), dpi = 100)\n",
    "sns.lineplot(x= mcs_results['min_child_samples'], y= mcs_results['mean_rmsle_train'], marker = 'o', color = 'blue', label = 'Training')\n",
    "sns.lineplot(x= mcs_results['min_child_samples'], y= mcs_results['mean_rmsle_valid'], marker = 'o', color = 'orange', label = 'Validation')\n",
    "plt.title('LightGBM min_child_samples')\n",
    "plt.xlabel('min_child_samples')\n",
    "plt.ylabel('RMSLE')\n",
    "plt.show()"
   ]
  },
  {
   "cell_type": "markdown",
   "id": "5cb2baa0",
   "metadata": {},
   "source": [
    "Looking at the validation RMSLE, the lowest **RMSLE(0.4735)** is at **min_child_samples = 5**\n",
    "\n",
    "### 4. SUBSAMPLE\n",
    "\n",
    "We will test subsample values from the list: [ 0.01, 0.05, 0.075, 0.1, 0.4, 0.6, 0.7, 0.8, 0.9, 0.95, 0.97, 0.99, 0.999, 1]"
   ]
  },
  {
   "cell_type": "code",
   "execution_count": 30,
   "id": "8f4d6b06",
   "metadata": {},
   "outputs": [],
   "source": [
    "def get_ss(evaluation_set):\n",
    "    \n",
    "    results = []\n",
    "    \n",
    "    for ss in [ 0.01, 0.05, 0.075, 0.1, 0.4, 0.6, 0.7, 0.8, 0.9, 0.95, 0.97, 0.99, 0.999, 1] :\n",
    "        x = {}\n",
    "        SCORE_TRAIN = []\n",
    "        SCORE_VALID = []\n",
    "        \n",
    "        for combo in evaluation_set:\n",
    "            \n",
    "            # seperate the independent and target variable from the train and validation set\n",
    "            train_data_x = combo[0].drop(columns = ['WEEK_END_DATE', 'STORE_NUM', 'UPC', 'UNITS'])\n",
    "            train_data_y = combo[0]['UNITS']\n",
    "            \n",
    "            valid_data_x = combo[1].drop(columns = ['WEEK_END_DATE', 'STORE_NUM', 'UPC', 'UNITS'])\n",
    "            valid_data_y = combo[1]['UNITS']\n",
    "            \n",
    "            e_set = [(train_data_x, train_data_y), (valid_data_x, valid_data_y)]\n",
    "            \n",
    "            model = LGBMRegressor(n_estimators = 640,\n",
    "                                    learning_rate = 0.01,\n",
    "                                    n_jobs = -1,\n",
    "                                    random_state = 0,\n",
    "                                    subsample = ss,\n",
    "                                    min_child_samples = 5,\n",
    "                                    num_leaves = 18,\n",
    "                                    boosting_type = 'gbdt',\n",
    "                                    objective = 'regression',\n",
    "                                    verbosity = -1)\n",
    "            \n",
    "            model.fit(train_data_x, train_data_y, eval_metric = custom_rmsle, eval_set = e_set)\n",
    "            \n",
    "            # store the RMSLE on train and validation sets in different lists \n",
    "            # so that at the end we can calculate the mean of results at the end \n",
    "            SCORE_TRAIN.append(model.evals_result_['training']['rmsle'][-1])\n",
    "            SCORE_VALID.append(model.evals_result_['valid_1']['rmsle'][-1])\n",
    "            \n",
    "        mean_score_train = np.mean(SCORE_TRAIN)\n",
    "        mean_score_valid = np.mean(SCORE_VALID)\n",
    "            \n",
    "        print('With subsample:\\t' + str(ss) + '\\tMean_RMSLE_Train:\\t' + str(mean_score_train) + '\\tMean_RMSLE_Valid:\\t' + str(mean_score_valid))\n",
    "            \n",
    "        x['subsample'] = ss\n",
    "        x['mean_rmsle_train'] = mean_score_train\n",
    "        x['mean_rmsle_valid'] = mean_score_valid\n",
    "            \n",
    "        results.append(x)\n",
    "        \n",
    "    return pd.DataFrame(results)"
   ]
  },
  {
   "cell_type": "code",
   "execution_count": 31,
   "id": "89f9c4ca",
   "metadata": {},
   "outputs": [
    {
     "name": "stdout",
     "output_type": "stream",
     "text": [
      "With subsample:\t0.01\tMean_RMSLE_Train:\t0.37595437182789687\tMean_RMSLE_Valid:\t0.47356293555741036\n",
      "With subsample:\t0.05\tMean_RMSLE_Train:\t0.37595437182789687\tMean_RMSLE_Valid:\t0.47356293555741036\n",
      "With subsample:\t0.075\tMean_RMSLE_Train:\t0.37595437182789687\tMean_RMSLE_Valid:\t0.47356293555741036\n",
      "With subsample:\t0.1\tMean_RMSLE_Train:\t0.37595437182789687\tMean_RMSLE_Valid:\t0.47356293555741036\n",
      "With subsample:\t0.4\tMean_RMSLE_Train:\t0.37595437182789687\tMean_RMSLE_Valid:\t0.47356293555741036\n",
      "With subsample:\t0.6\tMean_RMSLE_Train:\t0.37595437182789687\tMean_RMSLE_Valid:\t0.47356293555741036\n",
      "With subsample:\t0.7\tMean_RMSLE_Train:\t0.37595437182789687\tMean_RMSLE_Valid:\t0.47356293555741036\n",
      "With subsample:\t0.8\tMean_RMSLE_Train:\t0.37595437182789687\tMean_RMSLE_Valid:\t0.47356293555741036\n",
      "With subsample:\t0.9\tMean_RMSLE_Train:\t0.37595437182789687\tMean_RMSLE_Valid:\t0.47356293555741036\n",
      "With subsample:\t0.95\tMean_RMSLE_Train:\t0.37595437182789687\tMean_RMSLE_Valid:\t0.47356293555741036\n",
      "With subsample:\t0.97\tMean_RMSLE_Train:\t0.37595437182789687\tMean_RMSLE_Valid:\t0.47356293555741036\n",
      "With subsample:\t0.99\tMean_RMSLE_Train:\t0.37595437182789687\tMean_RMSLE_Valid:\t0.47356293555741036\n",
      "With subsample:\t0.999\tMean_RMSLE_Train:\t0.37595437182789687\tMean_RMSLE_Valid:\t0.47356293555741036\n",
      "With subsample:\t1\tMean_RMSLE_Train:\t0.37595437182789687\tMean_RMSLE_Valid:\t0.47356293555741036\n"
     ]
    }
   ],
   "source": [
    "subsample_results = get_ss(evaluation_sets)"
   ]
  },
  {
   "cell_type": "code",
   "execution_count": 32,
   "id": "ca99a487",
   "metadata": {},
   "outputs": [
    {
     "data": {
      "image/png": "[encoded data removed]",
      "text/plain": [
       "<Figure size 1000x300 with 1 Axes>"
      ]
     },
     "metadata": {},
     "output_type": "display_data"
    }
   ],
   "source": [
    "plt.figure(figsize = (10,3), dpi = 100)\n",
    "sns.lineplot(x= subsample_results['subsample'], y= subsample_results['mean_rmsle_train'], marker = 'o', color = 'blue', label = 'Training')\n",
    "sns.lineplot(x= subsample_results['subsample'], y= subsample_results['mean_rmsle_valid'], marker = 'o', color = 'orange', label = 'Validation')\n",
    "plt.title('LightGBM Subsample')\n",
    "plt.xlabel('Subsample')\n",
    "plt.ylabel('RMSLE')\n",
    "plt.show()"
   ]
  },
  {
   "cell_type": "markdown",
   "id": "1d250240",
   "metadata": {},
   "source": [
    "There's no effect of changing the subsamples over RMSLE. It's fixed at **0.4735** for all the training and validation sets. So we will keep this value as 0"
   ]
  },
  {
   "cell_type": "markdown",
   "id": "47b4e0cb",
   "metadata": {},
   "source": [
    "## RESULT:\n",
    "\n",
    "These are the tuned hyperparameters as per out iterations:\n",
    "* **n_estimators:** 640\n",
    "* **num_leaves:** 18\n",
    "* **min_child_samples:** 5\n",
    "* **subsample:** 0"
   ]
  },
  {
   "cell_type": "code",
   "execution_count": null,
   "id": "cf5d993b",
   "metadata": {},
   "outputs": [],
   "source": []
  }
 ],
 "metadata": {
  "kernelspec": {
   "display_name": "Python 3 (ipykernel)",
   "language": "python",
   "name": "python3"
  },
  "language_info": {
   "codemirror_mode": {
    "name": "ipython",
    "version": 3
   },
   "file_extension": ".py",
   "mimetype": "text/x-python",
   "name": "python",
   "nbconvert_exporter": "python",
   "pygments_lexer": "ipython3",
   "version": "3.10.9"
  }
 },
 "nbformat": 4,
 "nbformat_minor": 5
}
