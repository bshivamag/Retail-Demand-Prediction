{
 "cells": [
  {
   "cell_type": "markdown",
   "id": "3a4602d1",
   "metadata": {},
   "source": [
    "# FINAL MODELS & FEATURE IMPORTANCE"
   ]
  },
  {
   "cell_type": "code",
   "execution_count": 1,
   "id": "277a63c6",
   "metadata": {},
   "outputs": [],
   "source": [
    "import numpy as np\n",
    "import pandas as pd\n",
    "import matplotlib.pyplot as plt\n",
    "import seaborn as sns\n",
    "import warnings\n",
    "from datetime import timedelta\n",
    "from tqdm import tqdm\n",
    "\n",
    "import xgboost as xgb\n",
    "from sklearn.ensemble import RandomForestRegressor\n",
    "from catboost import CatBoostRegressor\n",
    "from lightgbm import LGBMRegressor\n",
    "\n",
    "from sklearn.metrics import mean_squared_log_error as msle\n",
    "\n",
    "%matplotlib inline\n",
    "warnings.filterwarnings('ignore')"
   ]
  },
  {
   "cell_type": "code",
   "execution_count": 2,
   "id": "da4ece3f",
   "metadata": {},
   "outputs": [],
   "source": [
    "df = pd.read_csv('final_data.csv')"
   ]
  },
  {
   "cell_type": "code",
   "execution_count": 3,
   "id": "4d11c60b",
   "metadata": {},
   "outputs": [
    {
     "data": {
      "text/plain": [
       "0"
      ]
     },
     "execution_count": 3,
     "metadata": {},
     "output_type": "execute_result"
    }
   ],
   "source": [
    "df.isnull().sum().sum()"
   ]
  },
  {
   "cell_type": "code",
   "execution_count": 4,
   "id": "c6cff0ac",
   "metadata": {},
   "outputs": [
    {
     "data": {
      "text/plain": [
       "WEEK_END_DATE                 object\n",
       "STORE_NUM                      int64\n",
       "UPC                            int64\n",
       "BASE_PRICE                   float64\n",
       "FEATURE                        int64\n",
       "DISPLAY                        int64\n",
       "UNITS                          int64\n",
       "MONTH                          int64\n",
       "MANUFACTURER_1                 int64\n",
       "MANUFACTURER_2                 int64\n",
       "MANUFACTURER_3                 int64\n",
       "MANUFACTURER_4                 int64\n",
       "MANUFACTURER_5                 int64\n",
       "MANUFACTURER_6                 int64\n",
       "MANUFACTURER_7                 int64\n",
       "MANUFACTURER_8                 int64\n",
       "MANUFACTURER_9                 int64\n",
       "CATEGORY_1                     int64\n",
       "CATEGORY_2                     int64\n",
       "CATEGORY_3                     int64\n",
       "CATEGORY_4                     int64\n",
       "SUB_CATEGORY_1                 int64\n",
       "SUB_CATEGORY_2                 int64\n",
       "SUB_CATEGORY_3                 int64\n",
       "SUB_CATEGORY_4                 int64\n",
       "SUB_CATEGORY_5                 int64\n",
       "SUB_CATEGORY_6                 int64\n",
       "SUB_CATEGORY_7                 int64\n",
       "SIZE                         float64\n",
       "ADDRESS_STATE_PROV_CODE_1      int64\n",
       "ADDRESS_STATE_PROV_CODE_2      int64\n",
       "ADDRESS_STATE_PROV_CODE_3      int64\n",
       "ADDRESS_STATE_PROV_CODE_4      int64\n",
       "MSA_CODE_1                     int64\n",
       "MSA_CODE_2                     int64\n",
       "MSA_CODE_3                     int64\n",
       "MSA_CODE_4                     int64\n",
       "MSA_CODE_5                     int64\n",
       "MSA_CODE_6                     int64\n",
       "MSA_CODE_7                     int64\n",
       "MSA_CODE_8                     int64\n",
       "MSA_CODE_9                     int64\n",
       "SEG_VALUE_NAME                 int64\n",
       "SALES_AREA_SIZE_NUM            int64\n",
       "AVG_WEEKLY_BASKETS             int64\n",
       "year                           int64\n",
       "day                            int64\n",
       "day_of_year                    int64\n",
       "week                           int64\n",
       "quarter                        int64\n",
       "U_MANUFACTURER                 int64\n",
       "U_CATEGORY                     int64\n",
       "U_SUB_CATEGORY                 int64\n",
       "UNITS_BEFORE_52WEEK          float64\n",
       "price_difference             float64\n",
       "2_MONTH_BEFORE                object\n",
       "1_WEEK_BEFORE                 object\n",
       "AVERAGE_UNITS_IN_2_MONTH     float64\n",
       "dtype: object"
      ]
     },
     "execution_count": 4,
     "metadata": {},
     "output_type": "execute_result"
    }
   ],
   "source": [
    "df.dtypes"
   ]
  },
  {
   "cell_type": "code",
   "execution_count": 5,
   "id": "be1de449",
   "metadata": {},
   "outputs": [],
   "source": [
    "df.drop(columns = ['2_MONTH_BEFORE', '1_WEEK_BEFORE'], axis =1, inplace = True)"
   ]
  },
  {
   "cell_type": "code",
   "execution_count": 6,
   "id": "8d2edd98",
   "metadata": {},
   "outputs": [],
   "source": [
    "df['WEEK_END_DATE'] = pd.to_datetime(df['WEEK_END_DATE'])"
   ]
  },
  {
   "cell_type": "code",
   "execution_count": 7,
   "id": "bdad7dd2",
   "metadata": {},
   "outputs": [],
   "source": [
    "weeks = df['WEEK_END_DATE'].unique()"
   ]
  },
  {
   "cell_type": "code",
   "execution_count": 8,
   "id": "a0da9839",
   "metadata": {},
   "outputs": [],
   "source": [
    "def validation_df(data, week, no_of_months, no_of_validation):\n",
    "    \n",
    "    model_set = []\n",
    "    set_n = 1\n",
    "    for w in range(len(week)-1,0,-1):\n",
    "        x_data = {}\n",
    "\n",
    "        x_data['train_start_1'] = week[w-3-4*no_of_months]\n",
    "        x_data['train_end_1'] = week[w-4]\n",
    "        x_data['train_start_2'] = week[w-1-4*no_of_months]\n",
    "        x_data['valid_week'] = week[w-2]\n",
    "        x_data['test_week'] = week[w]\n",
    "        x_data['days_train_1'] = x_data['train_end_1'] - x_data['train_start_1']\n",
    "        x_data['days_train_2'] = x_data['valid_week'] - x_data['train_start_2']\n",
    "        x_data['set_no'] = 'set'+str(set_n)\n",
    "        set_n +=1\n",
    "        model_set.append(x_data)\n",
    "        if(len(model_set) == no_of_validation):\n",
    "            break\n",
    "        \n",
    "    \n",
    "    datapoints = []\n",
    "    \n",
    "    for s in model_set:\n",
    "        \n",
    "        x = {}\n",
    "        train_1_set = data[(data['WEEK_END_DATE'] >= s['train_start_1']) & (data['WEEK_END_DATE'] <= s['train_end_1'])]\n",
    "        train_2_set = data[(data['WEEK_END_DATE'] >= s['train_start_2']) & (data['WEEK_END_DATE'] <= s['valid_week'])]\n",
    "        x['train1_shape'] = train_1_set.shape[0]\n",
    "        x['train2_shape'] = train_2_set.shape[0]\n",
    "        x['valid_shape'] = data[data['WEEK_END_DATE'] == s['valid_week']].shape[0]\n",
    "        x['test_shape'] = data[data['WEEK_END_DATE'] == s['test_week']].shape[0]\n",
    "        x.update(s)\n",
    "        datapoints.append(x)\n",
    "        \n",
    "\n",
    "    df = pd.DataFrame(datapoints)\n",
    "    df['days_train_1'] = df['days_train_1'] + timedelta(days=7)\n",
    "    df['days_train_2'] = df['days_train_2'] + timedelta(days=7)\n",
    "    return df"
   ]
  },
  {
   "cell_type": "code",
   "execution_count": 9,
   "id": "38ad6875",
   "metadata": {},
   "outputs": [
    {
     "data": {
      "text/html": [
       "<div>\n",
       "<style scoped>\n",
       "    .dataframe tbody tr th:only-of-type {\n",
       "        vertical-align: middle;\n",
       "    }\n",
       "\n",
       "    .dataframe tbody tr th {\n",
       "        vertical-align: top;\n",
       "    }\n",
       "\n",
       "    .dataframe thead th {\n",
       "        text-align: right;\n",
       "    }\n",
       "</style>\n",
       "<table border=\"1\" class=\"dataframe\">\n",
       "  <thead>\n",
       "    <tr style=\"text-align: right;\">\n",
       "      <th></th>\n",
       "      <th>train1_shape</th>\n",
       "      <th>train2_shape</th>\n",
       "      <th>valid_shape</th>\n",
       "      <th>test_shape</th>\n",
       "      <th>train_start_1</th>\n",
       "      <th>train_end_1</th>\n",
       "      <th>train_start_2</th>\n",
       "      <th>valid_week</th>\n",
       "      <th>test_week</th>\n",
       "      <th>days_train_1</th>\n",
       "      <th>days_train_2</th>\n",
       "      <th>set_no</th>\n",
       "    </tr>\n",
       "  </thead>\n",
       "  <tbody>\n",
       "    <tr>\n",
       "      <th>0</th>\n",
       "      <td>6538</td>\n",
       "      <td>6541</td>\n",
       "      <td>1640</td>\n",
       "      <td>1642</td>\n",
       "      <td>2011-08-10</td>\n",
       "      <td>2011-08-31</td>\n",
       "      <td>2011-08-24</td>\n",
       "      <td>2011-09-14</td>\n",
       "      <td>2011-09-28</td>\n",
       "      <td>28 days</td>\n",
       "      <td>28 days</td>\n",
       "      <td>set1</td>\n",
       "    </tr>\n",
       "    <tr>\n",
       "      <th>1</th>\n",
       "      <td>6549</td>\n",
       "      <td>6539</td>\n",
       "      <td>1632</td>\n",
       "      <td>1638</td>\n",
       "      <td>2011-08-03</td>\n",
       "      <td>2011-08-24</td>\n",
       "      <td>2011-08-17</td>\n",
       "      <td>2011-09-07</td>\n",
       "      <td>2011-09-21</td>\n",
       "      <td>28 days</td>\n",
       "      <td>28 days</td>\n",
       "      <td>set2</td>\n",
       "    </tr>\n",
       "    <tr>\n",
       "      <th>2</th>\n",
       "      <td>6546</td>\n",
       "      <td>6538</td>\n",
       "      <td>1629</td>\n",
       "      <td>1640</td>\n",
       "      <td>2011-07-27</td>\n",
       "      <td>2011-08-17</td>\n",
       "      <td>2011-08-10</td>\n",
       "      <td>2011-08-31</td>\n",
       "      <td>2011-09-14</td>\n",
       "      <td>28 days</td>\n",
       "      <td>28 days</td>\n",
       "      <td>set3</td>\n",
       "    </tr>\n",
       "    <tr>\n",
       "      <th>3</th>\n",
       "      <td>6543</td>\n",
       "      <td>6549</td>\n",
       "      <td>1640</td>\n",
       "      <td>1632</td>\n",
       "      <td>2011-07-20</td>\n",
       "      <td>2011-08-10</td>\n",
       "      <td>2011-08-03</td>\n",
       "      <td>2011-08-24</td>\n",
       "      <td>2011-09-07</td>\n",
       "      <td>28 days</td>\n",
       "      <td>28 days</td>\n",
       "      <td>set4</td>\n",
       "    </tr>\n",
       "    <tr>\n",
       "      <th>4</th>\n",
       "      <td>6551</td>\n",
       "      <td>6546</td>\n",
       "      <td>1638</td>\n",
       "      <td>1629</td>\n",
       "      <td>2011-07-13</td>\n",
       "      <td>2011-08-03</td>\n",
       "      <td>2011-07-27</td>\n",
       "      <td>2011-08-17</td>\n",
       "      <td>2011-08-31</td>\n",
       "      <td>28 days</td>\n",
       "      <td>28 days</td>\n",
       "      <td>set5</td>\n",
       "    </tr>\n",
       "    <tr>\n",
       "      <th>5</th>\n",
       "      <td>6553</td>\n",
       "      <td>6543</td>\n",
       "      <td>1631</td>\n",
       "      <td>1640</td>\n",
       "      <td>2011-07-06</td>\n",
       "      <td>2011-07-27</td>\n",
       "      <td>2011-07-20</td>\n",
       "      <td>2011-08-10</td>\n",
       "      <td>2011-08-24</td>\n",
       "      <td>28 days</td>\n",
       "      <td>28 days</td>\n",
       "      <td>set6</td>\n",
       "    </tr>\n",
       "    <tr>\n",
       "      <th>6</th>\n",
       "      <td>6555</td>\n",
       "      <td>6551</td>\n",
       "      <td>1640</td>\n",
       "      <td>1638</td>\n",
       "      <td>2011-06-29</td>\n",
       "      <td>2011-07-20</td>\n",
       "      <td>2011-07-13</td>\n",
       "      <td>2011-08-03</td>\n",
       "      <td>2011-08-17</td>\n",
       "      <td>28 days</td>\n",
       "      <td>28 days</td>\n",
       "      <td>set7</td>\n",
       "    </tr>\n",
       "    <tr>\n",
       "      <th>7</th>\n",
       "      <td>6558</td>\n",
       "      <td>6553</td>\n",
       "      <td>1637</td>\n",
       "      <td>1631</td>\n",
       "      <td>2011-06-22</td>\n",
       "      <td>2011-07-13</td>\n",
       "      <td>2011-07-06</td>\n",
       "      <td>2011-07-27</td>\n",
       "      <td>2011-08-10</td>\n",
       "      <td>28 days</td>\n",
       "      <td>28 days</td>\n",
       "      <td>set8</td>\n",
       "    </tr>\n",
       "    <tr>\n",
       "      <th>8</th>\n",
       "      <td>6558</td>\n",
       "      <td>6555</td>\n",
       "      <td>1635</td>\n",
       "      <td>1640</td>\n",
       "      <td>2011-06-15</td>\n",
       "      <td>2011-07-06</td>\n",
       "      <td>2011-06-29</td>\n",
       "      <td>2011-07-20</td>\n",
       "      <td>2011-08-03</td>\n",
       "      <td>28 days</td>\n",
       "      <td>28 days</td>\n",
       "      <td>set9</td>\n",
       "    </tr>\n",
       "  </tbody>\n",
       "</table>\n",
       "</div>"
      ],
      "text/plain": [
       "   train1_shape  train2_shape  valid_shape  test_shape train_start_1  \\\n",
       "0          6538          6541         1640        1642    2011-08-10   \n",
       "1          6549          6539         1632        1638    2011-08-03   \n",
       "2          6546          6538         1629        1640    2011-07-27   \n",
       "3          6543          6549         1640        1632    2011-07-20   \n",
       "4          6551          6546         1638        1629    2011-07-13   \n",
       "5          6553          6543         1631        1640    2011-07-06   \n",
       "6          6555          6551         1640        1638    2011-06-29   \n",
       "7          6558          6553         1637        1631    2011-06-22   \n",
       "8          6558          6555         1635        1640    2011-06-15   \n",
       "\n",
       "  train_end_1 train_start_2 valid_week  test_week days_train_1 days_train_2  \\\n",
       "0  2011-08-31    2011-08-24 2011-09-14 2011-09-28      28 days      28 days   \n",
       "1  2011-08-24    2011-08-17 2011-09-07 2011-09-21      28 days      28 days   \n",
       "2  2011-08-17    2011-08-10 2011-08-31 2011-09-14      28 days      28 days   \n",
       "3  2011-08-10    2011-08-03 2011-08-24 2011-09-07      28 days      28 days   \n",
       "4  2011-08-03    2011-07-27 2011-08-17 2011-08-31      28 days      28 days   \n",
       "5  2011-07-27    2011-07-20 2011-08-10 2011-08-24      28 days      28 days   \n",
       "6  2011-07-20    2011-07-13 2011-08-03 2011-08-17      28 days      28 days   \n",
       "7  2011-07-13    2011-07-06 2011-07-27 2011-08-10      28 days      28 days   \n",
       "8  2011-07-06    2011-06-29 2011-07-20 2011-08-03      28 days      28 days   \n",
       "\n",
       "  set_no  \n",
       "0   set1  \n",
       "1   set2  \n",
       "2   set3  \n",
       "3   set4  \n",
       "4   set5  \n",
       "5   set6  \n",
       "6   set7  \n",
       "7   set8  \n",
       "8   set9  "
      ]
     },
     "execution_count": 9,
     "metadata": {},
     "output_type": "execute_result"
    }
   ],
   "source": [
    "valid_strat = validation_df(df, weeks, no_of_months=1, no_of_validation=9)\n",
    "valid_strat"
   ]
  },
  {
   "cell_type": "code",
   "execution_count": 10,
   "id": "341ec75d",
   "metadata": {},
   "outputs": [],
   "source": [
    "def get_evaluation_sets(main_data, valid_data):\n",
    "    \n",
    "    evaluation_set = []\n",
    "    \n",
    "    for row in range(valid_data.shape[0]):\n",
    "        \n",
    "        #training-1 data\n",
    "        train_1 = main_data[(main_data['WEEK_END_DATE'] >= valid_data.iloc[row]['train_start_1']) & (main_data['WEEK_END_DATE'] <= valid_data.iloc[row]['train_end_1'])]\n",
    "        #validation data\n",
    "        valid = main_data[main_data['WEEK_END_DATE'] == valid_data.iloc[row]['valid_week']]\n",
    "        #training-2 data\n",
    "        train_2 = main_data[(main_data['WEEK_END_DATE'] >= valid_data.iloc[row]['train_start_2']) & (main_data['WEEK_END_DATE'] <= valid_data.iloc[row]['valid_week'])]\n",
    "        #test data\n",
    "        test = main_data[main_data['WEEK_END_DATE'] == valid_data.iloc[row]['test_week']]\n",
    "        \n",
    "        evaluation_set.append((train_1, valid, train_2, test))\n",
    "    return evaluation_set"
   ]
  },
  {
   "cell_type": "code",
   "execution_count": 11,
   "id": "487450f6",
   "metadata": {},
   "outputs": [],
   "source": [
    "evaluation_sets = get_evaluation_sets(df, valid_strat)"
   ]
  },
  {
   "cell_type": "code",
   "execution_count": 12,
   "id": "c6e2cb88",
   "metadata": {},
   "outputs": [],
   "source": [
    "def get_rmsle(true, predicted) :\n",
    "    return np.sqrt(msle(true, predicted))"
   ]
  },
  {
   "cell_type": "markdown",
   "id": "f88e8f41",
   "metadata": {},
   "source": [
    "Let's define a function to calculate the results on evaluation sets:"
   ]
  },
  {
   "cell_type": "code",
   "execution_count": 13,
   "id": "8ea228fb",
   "metadata": {},
   "outputs": [],
   "source": [
    "def get_results(eval_sets, model):\n",
    "    \n",
    "    results = []\n",
    "    set_n = 1\n",
    "    for i in tqdm(eval_sets):\n",
    "        \n",
    "        x = {}\n",
    "        \n",
    "        #==================================================================================\n",
    "        \n",
    "        train_1 = i[0]\n",
    "        valid = i[1]\n",
    "        train_2 = i[2]\n",
    "        test = i[3]\n",
    "        \n",
    "        train_1_x = train_1.drop(columns = ['WEEK_END_DATE', 'STORE_NUM', 'UPC', 'UNITS'])\n",
    "        train_1_y = train_1['UNITS']\n",
    "        \n",
    "        valid_x = valid.drop(columns = ['WEEK_END_DATE', 'STORE_NUM', 'UPC', 'UNITS'])\n",
    "        valid_y = valid['UNITS']\n",
    "        \n",
    "        train_2_x = train_2.drop(columns = ['WEEK_END_DATE', 'STORE_NUM', 'UPC', 'UNITS'])\n",
    "        train_2_y = train_2['UNITS']\n",
    "        \n",
    "        test_x = test.drop(columns = ['WEEK_END_DATE', 'STORE_NUM', 'UPC', 'UNITS'])\n",
    "        test_y = test['UNITS']\n",
    "        \n",
    "        #==================================================================================\n",
    "        \n",
    "        valid_model = model.fit(train_1_x, train_1_y)\n",
    "        train_1_preds = valid_model.predict(train_1_x).clip(min=0)\n",
    "        valid_preds = valid_model.predict(valid_x).clip(min=0)\n",
    "        \n",
    "        test_model = model.fit(train_2_x, train_2_y)\n",
    "        train_2_preds = test_model.predict(train_2_x).clip(min=0)\n",
    "        test_preds = test_model.predict(test_x).clip(min=0)\n",
    "        \n",
    "        #==================================================================================\n",
    "        \n",
    "        train_1_rmsle = get_rmsle(train_1_y, train_1_preds)\n",
    "        train_2_rmsle = get_rmsle(train_2_y, train_2_preds)\n",
    "        valid_rmsle = get_rmsle(valid_y, valid_preds)\n",
    "        test_rmsle = get_rmsle(test_y, test_preds)\n",
    "        \n",
    "        #==================================================================================\n",
    "        \n",
    "        x['train_1'] = train_1_rmsle\n",
    "        x['valid'] = valid_rmsle\n",
    "        x['train_2'] = train_2_rmsle\n",
    "        x['test'] = test_rmsle\n",
    "        results.append(x)\n",
    "        set_n += 1\n",
    "    \n",
    "    return pd.DataFrame(results)"
   ]
  },
  {
   "cell_type": "code",
   "execution_count": 14,
   "id": "f508b4cc",
   "metadata": {},
   "outputs": [],
   "source": [
    "def get_feature_importance(eval_set, model):\n",
    "    \n",
    "    train_1, valid, train_2, test = eval_set\n",
    "    \n",
    "    train_x = train_2.drop(columns = ['WEEK_END_DATE', 'STORE_NUM', 'UPC', 'UNITS'])\n",
    "    train_y = train_2['UNITS']\n",
    "        \n",
    "    test_x = test.drop(columns = ['WEEK_END_DATE', 'STORE_NUM', 'UPC', 'UNITS'])\n",
    "    test_y = test['UNITS']\n",
    "    \n",
    "    model.fit(train_x, train_y)\n",
    "    (pd.Series(model.feature_importances_, index = train_x.columns).nlargest(10).plot(kind= 'barh'))"
   ]
  },
  {
   "cell_type": "markdown",
   "id": "e8799953",
   "metadata": {},
   "source": [
    "### 1. Random Forest"
   ]
  },
  {
   "cell_type": "code",
   "execution_count": 16,
   "id": "7f796c12",
   "metadata": {},
   "outputs": [
    {
     "name": "stderr",
     "output_type": "stream",
     "text": [
      "100%|████████████████████████████████████████████████████████████████████████████████████| 9/9 [01:39<00:00, 11.06s/it]\n"
     ]
    }
   ],
   "source": [
    "RF = RandomForestRegressor(max_depth= 6, n_estimators= 220, min_samples_split= 5, min_samples_leaf= 16, random_state= 0)\n",
    "\n",
    "results_RF = get_results(evaluation_sets, RF)"
   ]
  },
  {
   "cell_type": "code",
   "execution_count": 17,
   "id": "c8750f1e",
   "metadata": {},
   "outputs": [
    {
     "data": {
      "text/html": [
       "<div>\n",
       "<style scoped>\n",
       "    .dataframe tbody tr th:only-of-type {\n",
       "        vertical-align: middle;\n",
       "    }\n",
       "\n",
       "    .dataframe tbody tr th {\n",
       "        vertical-align: top;\n",
       "    }\n",
       "\n",
       "    .dataframe thead th {\n",
       "        text-align: right;\n",
       "    }\n",
       "</style>\n",
       "<table border=\"1\" class=\"dataframe\">\n",
       "  <thead>\n",
       "    <tr style=\"text-align: right;\">\n",
       "      <th></th>\n",
       "      <th>train_1</th>\n",
       "      <th>valid</th>\n",
       "      <th>train_2</th>\n",
       "      <th>test</th>\n",
       "    </tr>\n",
       "  </thead>\n",
       "  <tbody>\n",
       "    <tr>\n",
       "      <th>0</th>\n",
       "      <td>0.442080</td>\n",
       "      <td>0.423307</td>\n",
       "      <td>0.409222</td>\n",
       "      <td>0.455386</td>\n",
       "    </tr>\n",
       "    <tr>\n",
       "      <th>1</th>\n",
       "      <td>0.422775</td>\n",
       "      <td>0.466366</td>\n",
       "      <td>0.418835</td>\n",
       "      <td>0.529516</td>\n",
       "    </tr>\n",
       "    <tr>\n",
       "      <th>2</th>\n",
       "      <td>0.418738</td>\n",
       "      <td>0.587325</td>\n",
       "      <td>0.442080</td>\n",
       "      <td>0.423307</td>\n",
       "    </tr>\n",
       "    <tr>\n",
       "      <th>3</th>\n",
       "      <td>0.432279</td>\n",
       "      <td>0.516884</td>\n",
       "      <td>0.422775</td>\n",
       "      <td>0.466366</td>\n",
       "    </tr>\n",
       "    <tr>\n",
       "      <th>4</th>\n",
       "      <td>0.417890</td>\n",
       "      <td>0.461654</td>\n",
       "      <td>0.418738</td>\n",
       "      <td>0.587325</td>\n",
       "    </tr>\n",
       "    <tr>\n",
       "      <th>5</th>\n",
       "      <td>0.422489</td>\n",
       "      <td>0.526442</td>\n",
       "      <td>0.432279</td>\n",
       "      <td>0.516884</td>\n",
       "    </tr>\n",
       "    <tr>\n",
       "      <th>6</th>\n",
       "      <td>0.409656</td>\n",
       "      <td>0.441173</td>\n",
       "      <td>0.417890</td>\n",
       "      <td>0.461654</td>\n",
       "    </tr>\n",
       "    <tr>\n",
       "      <th>7</th>\n",
       "      <td>0.414800</td>\n",
       "      <td>0.489282</td>\n",
       "      <td>0.422489</td>\n",
       "      <td>0.526442</td>\n",
       "    </tr>\n",
       "    <tr>\n",
       "      <th>8</th>\n",
       "      <td>0.409568</td>\n",
       "      <td>0.503986</td>\n",
       "      <td>0.409656</td>\n",
       "      <td>0.441173</td>\n",
       "    </tr>\n",
       "  </tbody>\n",
       "</table>\n",
       "</div>"
      ],
      "text/plain": [
       "    train_1     valid   train_2      test\n",
       "0  0.442080  0.423307  0.409222  0.455386\n",
       "1  0.422775  0.466366  0.418835  0.529516\n",
       "2  0.418738  0.587325  0.442080  0.423307\n",
       "3  0.432279  0.516884  0.422775  0.466366\n",
       "4  0.417890  0.461654  0.418738  0.587325\n",
       "5  0.422489  0.526442  0.432279  0.516884\n",
       "6  0.409656  0.441173  0.417890  0.461654\n",
       "7  0.414800  0.489282  0.422489  0.526442\n",
       "8  0.409568  0.503986  0.409656  0.441173"
      ]
     },
     "execution_count": 17,
     "metadata": {},
     "output_type": "execute_result"
    }
   ],
   "source": [
    "results_RF"
   ]
  },
  {
   "cell_type": "code",
   "execution_count": 21,
   "id": "a5086286",
   "metadata": {},
   "outputs": [
    {
     "name": "stdout",
     "output_type": "stream",
     "text": [
      "train_2    0.421552\n",
      "test       0.489784\n",
      "dtype: float64\n"
     ]
    }
   ],
   "source": [
    "print(results_RF[['train_2', 'test']].mean())\n",
    "\n",
    "RF_score = results_RF[['train_2', 'test']].mean()[1]"
   ]
  },
  {
   "cell_type": "code",
   "execution_count": 19,
   "id": "007da6a8",
   "metadata": {},
   "outputs": [
    {
     "data": {
      "image/png": "[encoded data removed]",
      "text/plain": [
       "<Figure size 640x480 with 1 Axes>"
      ]
     },
     "metadata": {},
     "output_type": "display_data"
    }
   ],
   "source": [
    "get_feature_importance(evaluation_sets[0], RF)"
   ]
  },
  {
   "cell_type": "markdown",
   "id": "a0861b84",
   "metadata": {},
   "source": [
    "We can see that:\n",
    "\n",
    "* We have a **mean training RMSLE: 0.4215**\n",
    "* and a **mean test RMSLE: 0.4897**\n",
    "* Last 2 month's Average Unit Sales (**AVERAGE_UNITS_IN_2_MONTH**) feature of the dataset has contributed most to the prediction algorithm.\n",
    "* **UNITS_BEFORE_52WEEK** feature which contains the units sold an year ago for the same combination of STORE_NUM & UPC is the second largest contributing feature of the model.\n",
    "* The third feature which has contributed most is **SIZE**"
   ]
  },
  {
   "cell_type": "markdown",
   "id": "73b949fa",
   "metadata": {},
   "source": [
    "### 2. XGBoost"
   ]
  },
  {
   "cell_type": "code",
   "execution_count": 22,
   "id": "8122e1c7",
   "metadata": {},
   "outputs": [],
   "source": [
    "XGB = xgb.XGBRegressor(n_estimators= 220,\n",
    "                       max_depth= 6,\n",
    "                       learning_rate= 0.01,\n",
    "                       gamma= 0,\n",
    "                       min_child_weight= 1,\n",
    "                       subsample= 0.1,\n",
    "                       n_jobs = -1,\n",
    "                       random_state = 0,\n",
    "                       objective ='reg:squarederror')"
   ]
  },
  {
   "cell_type": "code",
   "execution_count": 23,
   "id": "5576d080",
   "metadata": {},
   "outputs": [
    {
     "name": "stderr",
     "output_type": "stream",
     "text": [
      "100%|████████████████████████████████████████████████████████████████████████████████████| 9/9 [00:29<00:00,  3.32s/it]\n"
     ]
    }
   ],
   "source": [
    "results_XGB = get_results(evaluation_sets, XGB)"
   ]
  },
  {
   "cell_type": "code",
   "execution_count": 24,
   "id": "1d66a78b",
   "metadata": {},
   "outputs": [
    {
     "data": {
      "text/html": [
       "<div>\n",
       "<style scoped>\n",
       "    .dataframe tbody tr th:only-of-type {\n",
       "        vertical-align: middle;\n",
       "    }\n",
       "\n",
       "    .dataframe tbody tr th {\n",
       "        vertical-align: top;\n",
       "    }\n",
       "\n",
       "    .dataframe thead th {\n",
       "        text-align: right;\n",
       "    }\n",
       "</style>\n",
       "<table border=\"1\" class=\"dataframe\">\n",
       "  <thead>\n",
       "    <tr style=\"text-align: right;\">\n",
       "      <th></th>\n",
       "      <th>train_1</th>\n",
       "      <th>valid</th>\n",
       "      <th>train_2</th>\n",
       "      <th>test</th>\n",
       "    </tr>\n",
       "  </thead>\n",
       "  <tbody>\n",
       "    <tr>\n",
       "      <th>0</th>\n",
       "      <td>0.404809</td>\n",
       "      <td>0.435271</td>\n",
       "      <td>0.376927</td>\n",
       "      <td>0.462437</td>\n",
       "    </tr>\n",
       "    <tr>\n",
       "      <th>1</th>\n",
       "      <td>0.384615</td>\n",
       "      <td>0.456824</td>\n",
       "      <td>0.374891</td>\n",
       "      <td>0.547306</td>\n",
       "    </tr>\n",
       "    <tr>\n",
       "      <th>2</th>\n",
       "      <td>0.384336</td>\n",
       "      <td>0.525813</td>\n",
       "      <td>0.404809</td>\n",
       "      <td>0.435271</td>\n",
       "    </tr>\n",
       "    <tr>\n",
       "      <th>3</th>\n",
       "      <td>0.391659</td>\n",
       "      <td>0.471302</td>\n",
       "      <td>0.384615</td>\n",
       "      <td>0.456824</td>\n",
       "    </tr>\n",
       "    <tr>\n",
       "      <th>4</th>\n",
       "      <td>0.375714</td>\n",
       "      <td>0.410676</td>\n",
       "      <td>0.384336</td>\n",
       "      <td>0.525813</td>\n",
       "    </tr>\n",
       "    <tr>\n",
       "      <th>5</th>\n",
       "      <td>0.377216</td>\n",
       "      <td>0.487810</td>\n",
       "      <td>0.391659</td>\n",
       "      <td>0.471302</td>\n",
       "    </tr>\n",
       "    <tr>\n",
       "      <th>6</th>\n",
       "      <td>0.369267</td>\n",
       "      <td>0.451297</td>\n",
       "      <td>0.375714</td>\n",
       "      <td>0.410676</td>\n",
       "    </tr>\n",
       "    <tr>\n",
       "      <th>7</th>\n",
       "      <td>0.373032</td>\n",
       "      <td>0.462551</td>\n",
       "      <td>0.377216</td>\n",
       "      <td>0.487810</td>\n",
       "    </tr>\n",
       "    <tr>\n",
       "      <th>8</th>\n",
       "      <td>0.367823</td>\n",
       "      <td>0.422275</td>\n",
       "      <td>0.369267</td>\n",
       "      <td>0.451297</td>\n",
       "    </tr>\n",
       "  </tbody>\n",
       "</table>\n",
       "</div>"
      ],
      "text/plain": [
       "    train_1     valid   train_2      test\n",
       "0  0.404809  0.435271  0.376927  0.462437\n",
       "1  0.384615  0.456824  0.374891  0.547306\n",
       "2  0.384336  0.525813  0.404809  0.435271\n",
       "3  0.391659  0.471302  0.384615  0.456824\n",
       "4  0.375714  0.410676  0.384336  0.525813\n",
       "5  0.377216  0.487810  0.391659  0.471302\n",
       "6  0.369267  0.451297  0.375714  0.410676\n",
       "7  0.373032  0.462551  0.377216  0.487810\n",
       "8  0.367823  0.422275  0.369267  0.451297"
      ]
     },
     "execution_count": 24,
     "metadata": {},
     "output_type": "execute_result"
    }
   ],
   "source": [
    "results_XGB"
   ]
  },
  {
   "cell_type": "code",
   "execution_count": 25,
   "id": "702c34dd",
   "metadata": {},
   "outputs": [
    {
     "name": "stdout",
     "output_type": "stream",
     "text": [
      "train_2    0.382159\n",
      "test       0.472082\n",
      "dtype: float64\n"
     ]
    }
   ],
   "source": [
    "print(results_XGB[['train_2', 'test']].mean())\n",
    "XGB_score = results_XGB[['train_2', 'test']].mean()[1]"
   ]
  },
  {
   "cell_type": "code",
   "execution_count": 26,
   "id": "5b062e56",
   "metadata": {},
   "outputs": [
    {
     "data": {
      "image/png": "[encoded data removed]",
      "text/plain": [
       "<Figure size 640x480 with 1 Axes>"
      ]
     },
     "metadata": {},
     "output_type": "display_data"
    }
   ],
   "source": [
    "get_feature_importance(evaluation_sets[0], XGB)"
   ]
  },
  {
   "cell_type": "markdown",
   "id": "7f366331",
   "metadata": {},
   "source": [
    "We can see that:\n",
    "\n",
    "* We have a **mean training RMSLE: 0.3821**\n",
    "* and a **mean test RMSLE: 0.4720** \n",
    "* Last 2 month's Average Unit Sales (**AVERAGE_UNITS_IN_2_MONTH**) feature of the dataset has contributed most to the prediction algorithm.\n",
    "* The second feature which has contributed most is **UNITS_BEFORE_52WEEK**. This feature contains the units sold an year ago for the same combination of STORE_NUM & UPC.\n",
    "* **SUB_CATEGORY_7** is the third largest contributing feature of the model."
   ]
  },
  {
   "cell_type": "markdown",
   "id": "6c029da6",
   "metadata": {},
   "source": [
    "### 3. Light-GBM"
   ]
  },
  {
   "cell_type": "code",
   "execution_count": 27,
   "id": "257dab43",
   "metadata": {},
   "outputs": [],
   "source": [
    "LGBM = LGBMRegressor(n_estimators = 640,\n",
    "                     learning_rate = 0.01,\n",
    "                     min_child_samples = 5,\n",
    "                     subsample = 0,\n",
    "                     n_jobs = -1,\n",
    "                     random_state = 0,\n",
    "                     num_leaves = 18,\n",
    "                     bagging_fraction=0.8,\n",
    "                     boosting_type = 'gbdt',\n",
    "                     objective = 'regression',\n",
    "                     verbosity = -1)"
   ]
  },
  {
   "cell_type": "code",
   "execution_count": 28,
   "id": "08d84ad4",
   "metadata": {},
   "outputs": [
    {
     "name": "stderr",
     "output_type": "stream",
     "text": [
      "100%|████████████████████████████████████████████████████████████████████████████████████| 9/9 [00:12<00:00,  1.44s/it]\n"
     ]
    }
   ],
   "source": [
    "results_LGBM = get_results(evaluation_sets, LGBM)"
   ]
  },
  {
   "cell_type": "code",
   "execution_count": 29,
   "id": "f889ade3",
   "metadata": {},
   "outputs": [
    {
     "data": {
      "text/html": [
       "<div>\n",
       "<style scoped>\n",
       "    .dataframe tbody tr th:only-of-type {\n",
       "        vertical-align: middle;\n",
       "    }\n",
       "\n",
       "    .dataframe tbody tr th {\n",
       "        vertical-align: top;\n",
       "    }\n",
       "\n",
       "    .dataframe thead th {\n",
       "        text-align: right;\n",
       "    }\n",
       "</style>\n",
       "<table border=\"1\" class=\"dataframe\">\n",
       "  <thead>\n",
       "    <tr style=\"text-align: right;\">\n",
       "      <th></th>\n",
       "      <th>train_1</th>\n",
       "      <th>valid</th>\n",
       "      <th>train_2</th>\n",
       "      <th>test</th>\n",
       "    </tr>\n",
       "  </thead>\n",
       "  <tbody>\n",
       "    <tr>\n",
       "      <th>0</th>\n",
       "      <td>0.380172</td>\n",
       "      <td>0.404523</td>\n",
       "      <td>0.361080</td>\n",
       "      <td>0.418715</td>\n",
       "    </tr>\n",
       "    <tr>\n",
       "      <th>1</th>\n",
       "      <td>0.380029</td>\n",
       "      <td>0.472616</td>\n",
       "      <td>0.360513</td>\n",
       "      <td>0.524072</td>\n",
       "    </tr>\n",
       "    <tr>\n",
       "      <th>2</th>\n",
       "      <td>0.387072</td>\n",
       "      <td>0.566776</td>\n",
       "      <td>0.380172</td>\n",
       "      <td>0.404523</td>\n",
       "    </tr>\n",
       "    <tr>\n",
       "      <th>3</th>\n",
       "      <td>0.395934</td>\n",
       "      <td>0.486582</td>\n",
       "      <td>0.380029</td>\n",
       "      <td>0.472616</td>\n",
       "    </tr>\n",
       "    <tr>\n",
       "      <th>4</th>\n",
       "      <td>0.377798</td>\n",
       "      <td>0.436554</td>\n",
       "      <td>0.387072</td>\n",
       "      <td>0.566776</td>\n",
       "    </tr>\n",
       "    <tr>\n",
       "      <th>5</th>\n",
       "      <td>0.373859</td>\n",
       "      <td>0.536028</td>\n",
       "      <td>0.395934</td>\n",
       "      <td>0.486582</td>\n",
       "    </tr>\n",
       "    <tr>\n",
       "      <th>6</th>\n",
       "      <td>0.364797</td>\n",
       "      <td>0.437948</td>\n",
       "      <td>0.377798</td>\n",
       "      <td>0.436554</td>\n",
       "    </tr>\n",
       "    <tr>\n",
       "      <th>7</th>\n",
       "      <td>0.364918</td>\n",
       "      <td>0.469735</td>\n",
       "      <td>0.373859</td>\n",
       "      <td>0.536028</td>\n",
       "    </tr>\n",
       "    <tr>\n",
       "      <th>8</th>\n",
       "      <td>0.359642</td>\n",
       "      <td>0.451304</td>\n",
       "      <td>0.364797</td>\n",
       "      <td>0.437948</td>\n",
       "    </tr>\n",
       "  </tbody>\n",
       "</table>\n",
       "</div>"
      ],
      "text/plain": [
       "    train_1     valid   train_2      test\n",
       "0  0.380172  0.404523  0.361080  0.418715\n",
       "1  0.380029  0.472616  0.360513  0.524072\n",
       "2  0.387072  0.566776  0.380172  0.404523\n",
       "3  0.395934  0.486582  0.380029  0.472616\n",
       "4  0.377798  0.436554  0.387072  0.566776\n",
       "5  0.373859  0.536028  0.395934  0.486582\n",
       "6  0.364797  0.437948  0.377798  0.436554\n",
       "7  0.364918  0.469735  0.373859  0.536028\n",
       "8  0.359642  0.451304  0.364797  0.437948"
      ]
     },
     "execution_count": 29,
     "metadata": {},
     "output_type": "execute_result"
    }
   ],
   "source": [
    "results_LGBM"
   ]
  },
  {
   "cell_type": "code",
   "execution_count": 30,
   "id": "1c861488",
   "metadata": {},
   "outputs": [
    {
     "name": "stdout",
     "output_type": "stream",
     "text": [
      "train_2    0.375695\n",
      "test       0.475979\n",
      "dtype: float64\n"
     ]
    }
   ],
   "source": [
    "print(results_LGBM[['train_2', 'test']].mean())\n",
    "LGBM_score = results_LGBM[['train_2', 'test']].mean()[1]"
   ]
  },
  {
   "cell_type": "code",
   "execution_count": 86,
   "id": "5060f9cf",
   "metadata": {},
   "outputs": [
    {
     "data": {
      "image/png": "[encoded data removed]",
      "text/plain": [
       "<Figure size 640x480 with 1 Axes>"
      ]
     },
     "metadata": {},
     "output_type": "display_data"
    }
   ],
   "source": [
    "get_feature_importance(evaluation_sets[0], LGBM)"
   ]
  },
  {
   "cell_type": "markdown",
   "id": "cc0d90d6",
   "metadata": {},
   "source": [
    "We can see that:\n",
    "\n",
    "* We have a **mean training RMSLE: 0.3756**\n",
    "* and a **mean test RMSLE: 0.4759** \n",
    "* Last 2 month's Average Unit Sales (**AVERAGE_UNITS_IN_2_MONTH**) feature of the dataset has contributed most to the prediction algorithm.\n",
    "* The second feature which has contributed most is **BASE_PRICE**\n",
    "* **UNITS_BEFORE_52WEEK** feature which contains the units sold an year ago for the same combination of STORE_NUM & UPC is the third largest contributing feature of the model.\n",
    "\n",
    "\n",
    "### 4. SCORE COMPARISON"
   ]
  },
  {
   "cell_type": "code",
   "execution_count": 33,
   "id": "040fbd63",
   "metadata": {},
   "outputs": [
    {
     "data": {
      "text/html": [
       "<div>\n",
       "<style scoped>\n",
       "    .dataframe tbody tr th:only-of-type {\n",
       "        vertical-align: middle;\n",
       "    }\n",
       "\n",
       "    .dataframe tbody tr th {\n",
       "        vertical-align: top;\n",
       "    }\n",
       "\n",
       "    .dataframe thead th {\n",
       "        text-align: right;\n",
       "    }\n",
       "</style>\n",
       "<table border=\"1\" class=\"dataframe\">\n",
       "  <thead>\n",
       "    <tr style=\"text-align: right;\">\n",
       "      <th></th>\n",
       "      <th>RF</th>\n",
       "      <th>XGB</th>\n",
       "      <th>LGBM</th>\n",
       "    </tr>\n",
       "  </thead>\n",
       "  <tbody>\n",
       "    <tr>\n",
       "      <th>0</th>\n",
       "      <td>0.489784</td>\n",
       "      <td>0.472082</td>\n",
       "      <td>0.475979</td>\n",
       "    </tr>\n",
       "  </tbody>\n",
       "</table>\n",
       "</div>"
      ],
      "text/plain": [
       "         RF       XGB      LGBM\n",
       "0  0.489784  0.472082  0.475979"
      ]
     },
     "execution_count": 33,
     "metadata": {},
     "output_type": "execute_result"
    }
   ],
   "source": [
    "score_matrix = pd.DataFrame([{'RF': RF_score,\n",
    "                'XGB': XGB_score,\n",
    "                'LGBM': LGBM_score}])\n",
    "score_matrix"
   ]
  },
  {
   "cell_type": "code",
   "execution_count": 40,
   "id": "b0c4577a",
   "metadata": {},
   "outputs": [
    {
     "data": {
      "image/png": "[encoded data removed]",
      "text/plain": [
       "<Figure size 300x300 with 1 Axes>"
      ]
     },
     "metadata": {},
     "output_type": "display_data"
    }
   ],
   "source": [
    "plt.figure(figsize= (3,3), dpi= 100)\n",
    "sns.barplot(x= score_matrix.iloc[0].index, y = score_matrix.iloc[0].values)\n",
    "plt.title('RMSLE on Test Data')\n",
    "plt.xlabel('Algorithm')\n",
    "plt.ylabel('RMSLE')\n",
    "plt.show()"
   ]
  },
  {
   "cell_type": "markdown",
   "id": "44670517",
   "metadata": {},
   "source": [
    "### RMSLE on XGB is the lowest so XGBRegressor is the Optimal Algorithm for this problem."
   ]
  },
  {
   "cell_type": "code",
   "execution_count": null,
   "id": "ff779a5d",
   "metadata": {},
   "outputs": [],
   "source": []
  },
  {
   "cell_type": "code",
   "execution_count": null,
   "id": "b500d2a4",
   "metadata": {},
   "outputs": [],
   "source": []
  }
 ],
 "metadata": {
  "kernelspec": {
   "display_name": "Python 3 (ipykernel)",
   "language": "python",
   "name": "python3"
  },
  "language_info": {
   "codemirror_mode": {
    "name": "ipython",
    "version": 3
   },
   "file_extension": ".py",
   "mimetype": "text/x-python",
   "name": "python",
   "nbconvert_exporter": "python",
   "pygments_lexer": "ipython3",
   "version": "3.10.9"
  }
 },
 "nbformat": 4,
 "nbformat_minor": 5
}
