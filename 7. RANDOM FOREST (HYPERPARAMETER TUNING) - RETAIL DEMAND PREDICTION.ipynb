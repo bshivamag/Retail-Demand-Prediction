{
 "cells": [
  {
   "cell_type": "markdown",
   "id": "6d2aabe3",
   "metadata": {},
   "source": [
    "# RANDOM FOREST - RETAIL DEMAND PREDICTION"
   ]
  },
  {
   "cell_type": "code",
   "execution_count": 1,
   "id": "b904d27b",
   "metadata": {},
   "outputs": [],
   "source": [
    "import numpy as np\n",
    "import pandas as pd\n",
    "from datetime import timedelta\n",
    "import matplotlib.pyplot as plt\n",
    "import seaborn as sns\n",
    "%matplotlib inline\n",
    "\n",
    "from tqdm import tqdm_notebook\n",
    "\n",
    "import warnings\n",
    "warnings.filterwarnings('ignore')\n",
    "\n",
    "from sklearn.metrics import mean_squared_log_error as msle\n",
    "from sklearn.model_selection import train_test_split, KFold\n",
    "\n",
    "from sklearn.ensemble import RandomForestRegressor"
   ]
  },
  {
   "cell_type": "code",
   "execution_count": 2,
   "id": "4a219251",
   "metadata": {},
   "outputs": [
    {
     "data": {
      "text/plain": [
       "(232265, 58)"
      ]
     },
     "execution_count": 2,
     "metadata": {},
     "output_type": "execute_result"
    }
   ],
   "source": [
    "df = pd.read_csv('final_data.csv')\n",
    "df.shape"
   ]
  },
  {
   "cell_type": "code",
   "execution_count": 3,
   "id": "d321998a",
   "metadata": {},
   "outputs": [
    {
     "data": {
      "text/html": [
       "<div>\n",
       "<style scoped>\n",
       "    .dataframe tbody tr th:only-of-type {\n",
       "        vertical-align: middle;\n",
       "    }\n",
       "\n",
       "    .dataframe tbody tr th {\n",
       "        vertical-align: top;\n",
       "    }\n",
       "\n",
       "    .dataframe thead th {\n",
       "        text-align: right;\n",
       "    }\n",
       "</style>\n",
       "<table border=\"1\" class=\"dataframe\">\n",
       "  <thead>\n",
       "    <tr style=\"text-align: right;\">\n",
       "      <th></th>\n",
       "      <th>WEEK_END_DATE</th>\n",
       "      <th>STORE_NUM</th>\n",
       "      <th>UPC</th>\n",
       "      <th>BASE_PRICE</th>\n",
       "      <th>FEATURE</th>\n",
       "      <th>DISPLAY</th>\n",
       "      <th>UNITS</th>\n",
       "      <th>MONTH</th>\n",
       "      <th>MANUFACTURER_1</th>\n",
       "      <th>MANUFACTURER_2</th>\n",
       "      <th>...</th>\n",
       "      <th>week</th>\n",
       "      <th>quarter</th>\n",
       "      <th>U_MANUFACTURER</th>\n",
       "      <th>U_CATEGORY</th>\n",
       "      <th>U_SUB_CATEGORY</th>\n",
       "      <th>UNITS_BEFORE_52WEEK</th>\n",
       "      <th>price_difference</th>\n",
       "      <th>2_MONTH_BEFORE</th>\n",
       "      <th>1_WEEK_BEFORE</th>\n",
       "      <th>AVERAGE_UNITS_IN_2_MONTH</th>\n",
       "    </tr>\n",
       "  </thead>\n",
       "  <tbody>\n",
       "    <tr>\n",
       "      <th>0</th>\n",
       "      <td>2009-01-14</td>\n",
       "      <td>367</td>\n",
       "      <td>1111009477</td>\n",
       "      <td>1.57</td>\n",
       "      <td>0</td>\n",
       "      <td>0</td>\n",
       "      <td>13</td>\n",
       "      <td>1</td>\n",
       "      <td>1</td>\n",
       "      <td>0</td>\n",
       "      <td>...</td>\n",
       "      <td>3</td>\n",
       "      <td>1</td>\n",
       "      <td>4</td>\n",
       "      <td>3</td>\n",
       "      <td>5</td>\n",
       "      <td>0.0</td>\n",
       "      <td>0.0</td>\n",
       "      <td>2008-11-12</td>\n",
       "      <td>2009-01-07</td>\n",
       "      <td>0.0</td>\n",
       "    </tr>\n",
       "    <tr>\n",
       "      <th>1</th>\n",
       "      <td>2009-01-14</td>\n",
       "      <td>367</td>\n",
       "      <td>1111009497</td>\n",
       "      <td>1.39</td>\n",
       "      <td>0</td>\n",
       "      <td>0</td>\n",
       "      <td>20</td>\n",
       "      <td>1</td>\n",
       "      <td>1</td>\n",
       "      <td>0</td>\n",
       "      <td>...</td>\n",
       "      <td>3</td>\n",
       "      <td>1</td>\n",
       "      <td>4</td>\n",
       "      <td>3</td>\n",
       "      <td>5</td>\n",
       "      <td>0.0</td>\n",
       "      <td>0.0</td>\n",
       "      <td>2008-11-12</td>\n",
       "      <td>2009-01-07</td>\n",
       "      <td>0.0</td>\n",
       "    </tr>\n",
       "  </tbody>\n",
       "</table>\n",
       "<p>2 rows × 58 columns</p>\n",
       "</div>"
      ],
      "text/plain": [
       "  WEEK_END_DATE  STORE_NUM         UPC  BASE_PRICE  FEATURE  DISPLAY  UNITS  \\\n",
       "0    2009-01-14        367  1111009477        1.57        0        0     13   \n",
       "1    2009-01-14        367  1111009497        1.39        0        0     20   \n",
       "\n",
       "   MONTH  MANUFACTURER_1  MANUFACTURER_2  ...  week  quarter  U_MANUFACTURER  \\\n",
       "0      1               1               0  ...     3        1               4   \n",
       "1      1               1               0  ...     3        1               4   \n",
       "\n",
       "   U_CATEGORY  U_SUB_CATEGORY  UNITS_BEFORE_52WEEK  price_difference  \\\n",
       "0           3               5                  0.0               0.0   \n",
       "1           3               5                  0.0               0.0   \n",
       "\n",
       "   2_MONTH_BEFORE  1_WEEK_BEFORE  AVERAGE_UNITS_IN_2_MONTH  \n",
       "0      2008-11-12     2009-01-07                       0.0  \n",
       "1      2008-11-12     2009-01-07                       0.0  \n",
       "\n",
       "[2 rows x 58 columns]"
      ]
     },
     "execution_count": 3,
     "metadata": {},
     "output_type": "execute_result"
    }
   ],
   "source": [
    "df.head(2)"
   ]
  },
  {
   "cell_type": "code",
   "execution_count": 4,
   "id": "9713f98f",
   "metadata": {},
   "outputs": [],
   "source": [
    "df['WEEK_END_DATE'] = pd.to_datetime(df['WEEK_END_DATE'])"
   ]
  },
  {
   "cell_type": "code",
   "execution_count": 5,
   "id": "6df9dd64",
   "metadata": {},
   "outputs": [
    {
     "data": {
      "text/plain": [
       "WEEK_END_DATE                datetime64[ns]\n",
       "STORE_NUM                             int64\n",
       "UPC                                   int64\n",
       "BASE_PRICE                          float64\n",
       "FEATURE                               int64\n",
       "DISPLAY                               int64\n",
       "UNITS                                 int64\n",
       "MONTH                                 int64\n",
       "MANUFACTURER_1                        int64\n",
       "MANUFACTURER_2                        int64\n",
       "MANUFACTURER_3                        int64\n",
       "MANUFACTURER_4                        int64\n",
       "MANUFACTURER_5                        int64\n",
       "MANUFACTURER_6                        int64\n",
       "MANUFACTURER_7                        int64\n",
       "MANUFACTURER_8                        int64\n",
       "MANUFACTURER_9                        int64\n",
       "CATEGORY_1                            int64\n",
       "CATEGORY_2                            int64\n",
       "CATEGORY_3                            int64\n",
       "CATEGORY_4                            int64\n",
       "SUB_CATEGORY_1                        int64\n",
       "SUB_CATEGORY_2                        int64\n",
       "SUB_CATEGORY_3                        int64\n",
       "SUB_CATEGORY_4                        int64\n",
       "SUB_CATEGORY_5                        int64\n",
       "SUB_CATEGORY_6                        int64\n",
       "SUB_CATEGORY_7                        int64\n",
       "SIZE                                float64\n",
       "ADDRESS_STATE_PROV_CODE_1             int64\n",
       "ADDRESS_STATE_PROV_CODE_2             int64\n",
       "ADDRESS_STATE_PROV_CODE_3             int64\n",
       "ADDRESS_STATE_PROV_CODE_4             int64\n",
       "MSA_CODE_1                            int64\n",
       "MSA_CODE_2                            int64\n",
       "MSA_CODE_3                            int64\n",
       "MSA_CODE_4                            int64\n",
       "MSA_CODE_5                            int64\n",
       "MSA_CODE_6                            int64\n",
       "MSA_CODE_7                            int64\n",
       "MSA_CODE_8                            int64\n",
       "MSA_CODE_9                            int64\n",
       "SEG_VALUE_NAME                        int64\n",
       "SALES_AREA_SIZE_NUM                   int64\n",
       "AVG_WEEKLY_BASKETS                    int64\n",
       "year                                  int64\n",
       "day                                   int64\n",
       "day_of_year                           int64\n",
       "week                                  int64\n",
       "quarter                               int64\n",
       "U_MANUFACTURER                        int64\n",
       "U_CATEGORY                            int64\n",
       "U_SUB_CATEGORY                        int64\n",
       "UNITS_BEFORE_52WEEK                 float64\n",
       "price_difference                    float64\n",
       "2_MONTH_BEFORE                       object\n",
       "1_WEEK_BEFORE                        object\n",
       "AVERAGE_UNITS_IN_2_MONTH            float64\n",
       "dtype: object"
      ]
     },
     "execution_count": 5,
     "metadata": {},
     "output_type": "execute_result"
    }
   ],
   "source": [
    "df.dtypes"
   ]
  },
  {
   "cell_type": "code",
   "execution_count": 6,
   "id": "a698b16c",
   "metadata": {},
   "outputs": [],
   "source": [
    "df.drop(columns = ['2_MONTH_BEFORE', '1_WEEK_BEFORE'], axis = 1, inplace = True)"
   ]
  },
  {
   "cell_type": "code",
   "execution_count": 7,
   "id": "b62aa119",
   "metadata": {},
   "outputs": [
    {
     "data": {
      "text/plain": [
       "0"
      ]
     },
     "execution_count": 7,
     "metadata": {},
     "output_type": "execute_result"
    }
   ],
   "source": [
    "df.isnull().sum().sum()"
   ]
  },
  {
   "cell_type": "markdown",
   "id": "b84c9f63",
   "metadata": {},
   "source": [
    "## 1. Validation Sets\n",
    "* **validation_df** function will create the validation sets.\n",
    "* It will take the parameters, a list of unique WEEK_END_DATES, dataset and no of months in training period and no of training validation sets required.\n",
    "* We will use the training period of 1 month and 9 validation sets as concluded by the Validation Strategy"
   ]
  },
  {
   "cell_type": "code",
   "execution_count": 8,
   "id": "5051d592",
   "metadata": {},
   "outputs": [],
   "source": [
    "weeks = df['WEEK_END_DATE'].unique()"
   ]
  },
  {
   "cell_type": "code",
   "execution_count": 9,
   "id": "5de91062",
   "metadata": {},
   "outputs": [],
   "source": [
    "def validation_df(data, week, no_of_months=1, no_of_validations=1):\n",
    "    \n",
    "    model_set = []\n",
    "    set_n = 1\n",
    "    \n",
    "    for w in range(len(week)-1, 0, -1):\n",
    "        \n",
    "        x_data = {}\n",
    "        \n",
    "        x_data['set_no'] = 'set'+str(set_n)\n",
    "        x_data['train_start'] = week[w-3-4*no_of_months]\n",
    "        x_data['train_end'] = week[w-4]\n",
    "        x_data['no_days_train'] = x_data['train_end'] - x_data['train_start']\n",
    "        x_data['validation_week'] = week[w-2]\n",
    "        x_data['test_week'] = week[w]\n",
    "                \n",
    "        set_n += 1\n",
    "        model_set.append(x_data)\n",
    "        if (len(model_set) == no_of_validations):\n",
    "            break\n",
    "    \n",
    "    \n",
    "#===========================================================================================================\n",
    "\n",
    "\n",
    "    datapoints = []\n",
    "    \n",
    "    for s in model_set:\n",
    "        \n",
    "        x = {}\n",
    "        train_set = data[(data['WEEK_END_DATE'] >= s['train_start']) & (data['WEEK_END_DATE'] <= s['train_end'])]\n",
    "        x['train_shape'] = train_set.shape[0]\n",
    "        x['validation_shape'] = data[data['WEEK_END_DATE'] == s['validation_week']].shape[0]\n",
    "        x['test_shape'] = data[data['WEEK_END_DATE'] == s['test_week']].shape[0]\n",
    "        x.update(s)\n",
    "        datapoints.append(x)\n",
    "        \n",
    "    strategy_df = pd.DataFrame(datapoints)\n",
    "    strategy_df['no_days_train'] = strategy_df['no_days_train'] + timedelta(days = 7)\n",
    "    \n",
    "    return strategy_df"
   ]
  },
  {
   "cell_type": "code",
   "execution_count": 10,
   "id": "7474c663",
   "metadata": {},
   "outputs": [
    {
     "data": {
      "text/html": [
       "<div>\n",
       "<style scoped>\n",
       "    .dataframe tbody tr th:only-of-type {\n",
       "        vertical-align: middle;\n",
       "    }\n",
       "\n",
       "    .dataframe tbody tr th {\n",
       "        vertical-align: top;\n",
       "    }\n",
       "\n",
       "    .dataframe thead th {\n",
       "        text-align: right;\n",
       "    }\n",
       "</style>\n",
       "<table border=\"1\" class=\"dataframe\">\n",
       "  <thead>\n",
       "    <tr style=\"text-align: right;\">\n",
       "      <th></th>\n",
       "      <th>train_shape</th>\n",
       "      <th>validation_shape</th>\n",
       "      <th>test_shape</th>\n",
       "      <th>set_no</th>\n",
       "      <th>train_start</th>\n",
       "      <th>train_end</th>\n",
       "      <th>no_days_train</th>\n",
       "      <th>validation_week</th>\n",
       "      <th>test_week</th>\n",
       "    </tr>\n",
       "  </thead>\n",
       "  <tbody>\n",
       "    <tr>\n",
       "      <th>0</th>\n",
       "      <td>6538</td>\n",
       "      <td>1640</td>\n",
       "      <td>1642</td>\n",
       "      <td>set1</td>\n",
       "      <td>2011-08-10</td>\n",
       "      <td>2011-08-31</td>\n",
       "      <td>28 days</td>\n",
       "      <td>2011-09-14</td>\n",
       "      <td>2011-09-28</td>\n",
       "    </tr>\n",
       "    <tr>\n",
       "      <th>1</th>\n",
       "      <td>6549</td>\n",
       "      <td>1632</td>\n",
       "      <td>1638</td>\n",
       "      <td>set2</td>\n",
       "      <td>2011-08-03</td>\n",
       "      <td>2011-08-24</td>\n",
       "      <td>28 days</td>\n",
       "      <td>2011-09-07</td>\n",
       "      <td>2011-09-21</td>\n",
       "    </tr>\n",
       "    <tr>\n",
       "      <th>2</th>\n",
       "      <td>6546</td>\n",
       "      <td>1629</td>\n",
       "      <td>1640</td>\n",
       "      <td>set3</td>\n",
       "      <td>2011-07-27</td>\n",
       "      <td>2011-08-17</td>\n",
       "      <td>28 days</td>\n",
       "      <td>2011-08-31</td>\n",
       "      <td>2011-09-14</td>\n",
       "    </tr>\n",
       "    <tr>\n",
       "      <th>3</th>\n",
       "      <td>6543</td>\n",
       "      <td>1640</td>\n",
       "      <td>1632</td>\n",
       "      <td>set4</td>\n",
       "      <td>2011-07-20</td>\n",
       "      <td>2011-08-10</td>\n",
       "      <td>28 days</td>\n",
       "      <td>2011-08-24</td>\n",
       "      <td>2011-09-07</td>\n",
       "    </tr>\n",
       "    <tr>\n",
       "      <th>4</th>\n",
       "      <td>6551</td>\n",
       "      <td>1638</td>\n",
       "      <td>1629</td>\n",
       "      <td>set5</td>\n",
       "      <td>2011-07-13</td>\n",
       "      <td>2011-08-03</td>\n",
       "      <td>28 days</td>\n",
       "      <td>2011-08-17</td>\n",
       "      <td>2011-08-31</td>\n",
       "    </tr>\n",
       "    <tr>\n",
       "      <th>5</th>\n",
       "      <td>6553</td>\n",
       "      <td>1631</td>\n",
       "      <td>1640</td>\n",
       "      <td>set6</td>\n",
       "      <td>2011-07-06</td>\n",
       "      <td>2011-07-27</td>\n",
       "      <td>28 days</td>\n",
       "      <td>2011-08-10</td>\n",
       "      <td>2011-08-24</td>\n",
       "    </tr>\n",
       "    <tr>\n",
       "      <th>6</th>\n",
       "      <td>6555</td>\n",
       "      <td>1640</td>\n",
       "      <td>1638</td>\n",
       "      <td>set7</td>\n",
       "      <td>2011-06-29</td>\n",
       "      <td>2011-07-20</td>\n",
       "      <td>28 days</td>\n",
       "      <td>2011-08-03</td>\n",
       "      <td>2011-08-17</td>\n",
       "    </tr>\n",
       "    <tr>\n",
       "      <th>7</th>\n",
       "      <td>6558</td>\n",
       "      <td>1637</td>\n",
       "      <td>1631</td>\n",
       "      <td>set8</td>\n",
       "      <td>2011-06-22</td>\n",
       "      <td>2011-07-13</td>\n",
       "      <td>28 days</td>\n",
       "      <td>2011-07-27</td>\n",
       "      <td>2011-08-10</td>\n",
       "    </tr>\n",
       "    <tr>\n",
       "      <th>8</th>\n",
       "      <td>6558</td>\n",
       "      <td>1635</td>\n",
       "      <td>1640</td>\n",
       "      <td>set9</td>\n",
       "      <td>2011-06-15</td>\n",
       "      <td>2011-07-06</td>\n",
       "      <td>28 days</td>\n",
       "      <td>2011-07-20</td>\n",
       "      <td>2011-08-03</td>\n",
       "    </tr>\n",
       "  </tbody>\n",
       "</table>\n",
       "</div>"
      ],
      "text/plain": [
       "   train_shape  validation_shape  test_shape set_no train_start  train_end  \\\n",
       "0         6538              1640        1642   set1  2011-08-10 2011-08-31   \n",
       "1         6549              1632        1638   set2  2011-08-03 2011-08-24   \n",
       "2         6546              1629        1640   set3  2011-07-27 2011-08-17   \n",
       "3         6543              1640        1632   set4  2011-07-20 2011-08-10   \n",
       "4         6551              1638        1629   set5  2011-07-13 2011-08-03   \n",
       "5         6553              1631        1640   set6  2011-07-06 2011-07-27   \n",
       "6         6555              1640        1638   set7  2011-06-29 2011-07-20   \n",
       "7         6558              1637        1631   set8  2011-06-22 2011-07-13   \n",
       "8         6558              1635        1640   set9  2011-06-15 2011-07-06   \n",
       "\n",
       "  no_days_train validation_week  test_week  \n",
       "0       28 days      2011-09-14 2011-09-28  \n",
       "1       28 days      2011-09-07 2011-09-21  \n",
       "2       28 days      2011-08-31 2011-09-14  \n",
       "3       28 days      2011-08-24 2011-09-07  \n",
       "4       28 days      2011-08-17 2011-08-31  \n",
       "5       28 days      2011-08-10 2011-08-24  \n",
       "6       28 days      2011-08-03 2011-08-17  \n",
       "7       28 days      2011-07-27 2011-08-10  \n",
       "8       28 days      2011-07-20 2011-08-03  "
      ]
     },
     "execution_count": 10,
     "metadata": {},
     "output_type": "execute_result"
    }
   ],
   "source": [
    "validation_df(df, weeks, no_of_months=1, no_of_validations=9)"
   ]
  },
  {
   "cell_type": "markdown",
   "id": "4fb6d20f",
   "metadata": {},
   "source": [
    "* We will create a list **(evaluation_set)** of tuples. These tuples will contain train and validation data extracted using the validation dataframe.\n",
    "* We will use the columns **train_start, train_end** and **validate_week** and filter out the data which lies in that training period and validation period.\n",
    "* We will define a function **get_evaluation_set** to get the required list of tuples."
   ]
  },
  {
   "cell_type": "code",
   "execution_count": 11,
   "id": "69139c92",
   "metadata": {},
   "outputs": [],
   "source": [
    "def get_evaluation_set(data):\n",
    "    \n",
    "    evaluation_set = []\n",
    "    \n",
    "    for r in range(data.shape[0]):\n",
    "        row = data.iloc[r]\n",
    "        print(row['validation_week'])\n",
    "        \n",
    "        # get train_data\n",
    "        train_data = df[(df['WEEK_END_DATE'] >= row['train_start']) & (df['WEEK_END_DATE'] <= row['train_end'])]\n",
    "        # get validation_data\n",
    "        valid_data = df[df['WEEK_END_DATE'] == row['validation_week']]\n",
    "        \n",
    "        evaluation_set.append((train_data, valid_data))\n",
    "        \n",
    "    return evaluation_set\n",
    "        "
   ]
  },
  {
   "cell_type": "code",
   "execution_count": 12,
   "id": "59c98873",
   "metadata": {},
   "outputs": [
    {
     "name": "stdout",
     "output_type": "stream",
     "text": [
      "2011-09-14 00:00:00\n",
      "2011-09-07 00:00:00\n",
      "2011-08-31 00:00:00\n",
      "2011-08-24 00:00:00\n",
      "2011-08-17 00:00:00\n",
      "2011-08-10 00:00:00\n",
      "2011-08-03 00:00:00\n",
      "2011-07-27 00:00:00\n",
      "2011-07-20 00:00:00\n"
     ]
    }
   ],
   "source": [
    "evaluation_sets = get_evaluation_set(validation_df(df, weeks, no_of_months=1, no_of_validations=9))"
   ]
  },
  {
   "cell_type": "markdown",
   "id": "e516367e",
   "metadata": {},
   "source": [
    "* Now, We will define one function to calculate the RMSLE **get_rmsle** "
   ]
  },
  {
   "cell_type": "code",
   "execution_count": 13,
   "id": "8d64b666",
   "metadata": {},
   "outputs": [],
   "source": [
    "# Function to get RMSLE\n",
    "def get_rmsle(true, predicted):\n",
    "    return np.sqrt(msle(true, predicted))"
   ]
  },
  {
   "cell_type": "markdown",
   "id": "0da3d40e",
   "metadata": {},
   "source": [
    "### 1. N_ESTIMATORS\n",
    "* We will track both the train RMSLE and validation RMSLE for **n estimators** ranging between (20, 400) and check the scores on all the 9 validation sets."
   ]
  },
  {
   "cell_type": "code",
   "execution_count": 16,
   "id": "0348132c",
   "metadata": {},
   "outputs": [],
   "source": [
    "def get_n_estimators(evaluation_set, min_r, max_r):\n",
    "    \n",
    "    results = []\n",
    "    \n",
    "    for n_est in range(min_r, max_r, 20):\n",
    "        x = {}\n",
    "        SCORE_TRAIN = []\n",
    "        SCORE_VALID = []\n",
    "        \n",
    "        for combo in evaluation_set:\n",
    "            \n",
    "            # seperate the independent and target variable from the train and validation set\n",
    "            train_data_x = combo[0].drop(columns = ['WEEK_END_DATE', 'STORE_NUM', 'UPC', 'UNITS'])\n",
    "            train_data_y = combo[0]['UNITS']\n",
    "            \n",
    "            valid_data_x = combo[1].drop(columns = ['WEEK_END_DATE', 'STORE_NUM', 'UPC', 'UNITS'])\n",
    "            valid_data_y = combo[1]['UNITS']\n",
    "            \n",
    "            model= RandomForestRegressor(random_state= 0,\n",
    "                                     n_estimators= n_est,\n",
    "                                     max_depth= 5,\n",
    "                                     min_samples_split= 5,\n",
    "                                     min_samples_leaf= 5)\n",
    "            \n",
    "            model.fit(train_data_x, train_data_y)\n",
    "            \n",
    "            train_preds = model.predict(train_data_x)\n",
    "            valid_preds = model.predict(valid_data_x)\n",
    "            \n",
    "            # store the RMSLE on train and validation sets in different lists \n",
    "            # so that at the end we can calculate the mean of results \n",
    "            SCORE_TRAIN.append(get_rmsle(train_data_y, train_preds))\n",
    "            SCORE_VALID.append(get_rmsle(valid_data_y, valid_preds))\n",
    "            \n",
    "        mean_score_train = np.mean(SCORE_TRAIN)\n",
    "        mean_score_valid = np.mean(SCORE_VALID)\n",
    "            \n",
    "        print('With n_estimators:\\t' + str(n_est) + '\\tMean_RMSLE_Train:\\t' + str(mean_score_train) + '\\tMean_RMSLE_Valid:\\t' + str(mean_score_valid))\n",
    "            \n",
    "        x['n_estimators'] = n_est\n",
    "        x['mean_rmsle_train'] = mean_score_train\n",
    "        x['mean_rmsle_valid'] = mean_score_valid\n",
    "            \n",
    "        results.append(x)\n",
    "        \n",
    "    return pd.DataFrame(results)"
   ]
  },
  {
   "cell_type": "code",
   "execution_count": 17,
   "id": "3265b597",
   "metadata": {},
   "outputs": [
    {
     "name": "stdout",
     "output_type": "stream",
     "text": [
      "With n_estimators:\t20\tMean_RMSLE_Train:\t0.4488747610923375\tMean_RMSLE_Valid:\t0.5108925646649667\n",
      "With n_estimators:\t40\tMean_RMSLE_Train:\t0.4479787634636582\tMean_RMSLE_Valid:\t0.509003551663077\n",
      "With n_estimators:\t60\tMean_RMSLE_Train:\t0.44791843105746576\tMean_RMSLE_Valid:\t0.5080900591091493\n",
      "With n_estimators:\t80\tMean_RMSLE_Train:\t0.44780442034830376\tMean_RMSLE_Valid:\t0.5076739709215099\n",
      "With n_estimators:\t100\tMean_RMSLE_Train:\t0.4478805944495069\tMean_RMSLE_Valid:\t0.508047066737898\n",
      "With n_estimators:\t120\tMean_RMSLE_Train:\t0.4478328753347021\tMean_RMSLE_Valid:\t0.5078205024752981\n",
      "With n_estimators:\t140\tMean_RMSLE_Train:\t0.44771679904888434\tMean_RMSLE_Valid:\t0.5076726470652537\n",
      "With n_estimators:\t160\tMean_RMSLE_Train:\t0.4475565130663253\tMean_RMSLE_Valid:\t0.5071085365644219\n",
      "With n_estimators:\t180\tMean_RMSLE_Train:\t0.4474969527394006\tMean_RMSLE_Valid:\t0.5072317741879355\n",
      "With n_estimators:\t200\tMean_RMSLE_Train:\t0.44747125533869664\tMean_RMSLE_Valid:\t0.507117645705607\n",
      "With n_estimators:\t220\tMean_RMSLE_Train:\t0.447432739468529\tMean_RMSLE_Valid:\t0.5068919243758093\n",
      "With n_estimators:\t240\tMean_RMSLE_Train:\t0.44745196099343715\tMean_RMSLE_Valid:\t0.5069927589651491\n",
      "With n_estimators:\t260\tMean_RMSLE_Train:\t0.4473700147982085\tMean_RMSLE_Valid:\t0.507018536568638\n",
      "With n_estimators:\t280\tMean_RMSLE_Train:\t0.4473369687368771\tMean_RMSLE_Valid:\t0.5070533790327709\n",
      "With n_estimators:\t300\tMean_RMSLE_Train:\t0.4472802351769282\tMean_RMSLE_Valid:\t0.5068428139328466\n",
      "With n_estimators:\t320\tMean_RMSLE_Train:\t0.4471992615854428\tMean_RMSLE_Valid:\t0.5068113716782994\n",
      "With n_estimators:\t340\tMean_RMSLE_Train:\t0.4472026616879977\tMean_RMSLE_Valid:\t0.5068127404184398\n",
      "With n_estimators:\t360\tMean_RMSLE_Train:\t0.44719884712268027\tMean_RMSLE_Valid:\t0.5067443390742881\n",
      "With n_estimators:\t380\tMean_RMSLE_Train:\t0.4471888221104541\tMean_RMSLE_Valid:\t0.5067103320013713\n"
     ]
    }
   ],
   "source": [
    "n_estimators_result = get_n_estimators(evaluation_sets ,min_r = 20, max_r = 400)"
   ]
  },
  {
   "cell_type": "code",
   "execution_count": 19,
   "id": "cec437ea",
   "metadata": {},
   "outputs": [
    {
     "data": {
      "image/png": "[encoded data removed]",
      "text/plain": [
       "<Figure size 1000x300 with 1 Axes>"
      ]
     },
     "metadata": {},
     "output_type": "display_data"
    }
   ],
   "source": [
    "plt.figure(figsize = (10,3), dpi = 100)\n",
    "#sns.lineplot(x = n_estimators_result['n_estimators'], y = n_estimators_result['mean_rmsle_train'], marker = 'o', color= 'blue', label= 'Train')\n",
    "sns.lineplot(x = n_estimators_result['n_estimators'], y = n_estimators_result['mean_rmsle_valid'], marker = 'o', color= 'orange', label= 'Valid')\n",
    "plt.title('Random Forest n_estimators')\n",
    "plt.xlabel('n_estimators')\n",
    "plt.ylabel('Valid RMSLE')\n",
    "plt.show()"
   ]
  },
  {
   "cell_type": "markdown",
   "id": "449d3c7f",
   "metadata": {},
   "source": [
    "**RMSLE (.5068)** on Validation gets stabalized at around **n_estimators = 220**\n",
    "\n",
    "### 2. max_depth"
   ]
  },
  {
   "cell_type": "code",
   "execution_count": 20,
   "id": "4c3033b9",
   "metadata": {},
   "outputs": [],
   "source": [
    "def get_depth(evaluation_set, min_r, max_r):\n",
    "    \n",
    "    results = []\n",
    "    \n",
    "    for depth in range(min_r, max_r, 1):\n",
    "        x = {}\n",
    "        SCORE_TRAIN = []\n",
    "        SCORE_VALID = []\n",
    "        \n",
    "        for combo in evaluation_set:\n",
    "            \n",
    "            # seperate the independent and target variable from the train and validation set\n",
    "            train_data_x = combo[0].drop(columns = ['WEEK_END_DATE', 'STORE_NUM', 'UPC', 'UNITS'])\n",
    "            train_data_y = combo[0]['UNITS']\n",
    "            \n",
    "            valid_data_x = combo[1].drop(columns = ['WEEK_END_DATE', 'STORE_NUM', 'UPC', 'UNITS'])\n",
    "            valid_data_y = combo[1]['UNITS']\n",
    "            \n",
    "            model= RandomForestRegressor(random_state= 0,\n",
    "                                     n_estimators= 220,\n",
    "                                     max_depth= depth,\n",
    "                                     min_samples_split= 5,\n",
    "                                     min_samples_leaf= 5)\n",
    "            \n",
    "            model.fit(train_data_x, train_data_y)\n",
    "            \n",
    "            train_preds = model.predict(train_data_x)\n",
    "            valid_preds = model.predict(valid_data_x)\n",
    "            \n",
    "            # store the RMSLE on train and validation sets in different lists \n",
    "            # so that at the end we can calculate the mean of results \n",
    "            SCORE_TRAIN.append(get_rmsle(train_data_y, train_preds))\n",
    "            SCORE_VALID.append(get_rmsle(valid_data_y, valid_preds))\n",
    "            \n",
    "        mean_score_train = np.mean(SCORE_TRAIN)\n",
    "        mean_score_valid = np.mean(SCORE_VALID)\n",
    "            \n",
    "        print('With max_depth:\\t' + str(depth) + '\\tMean_RMSLE_Train:\\t' + str(mean_score_train) + '\\tMean_RMSLE_Valid:\\t' + str(mean_score_valid))\n",
    "            \n",
    "        x['max_depth'] = depth\n",
    "        x['mean_rmsle_train'] = mean_score_train\n",
    "        x['mean_rmsle_valid'] = mean_score_valid\n",
    "            \n",
    "        results.append(x)\n",
    "        \n",
    "    return pd.DataFrame(results)"
   ]
  },
  {
   "cell_type": "code",
   "execution_count": 22,
   "id": "2fb8a60b",
   "metadata": {},
   "outputs": [
    {
     "name": "stdout",
     "output_type": "stream",
     "text": [
      "With max_depth:\t1\tMean_RMSLE_Train:\t0.7794905395168714\tMean_RMSLE_Valid:\t0.784624327773452\n",
      "With max_depth:\t2\tMean_RMSLE_Train:\t0.644077162068427\tMean_RMSLE_Valid:\t0.6575685404144548\n",
      "With max_depth:\t3\tMean_RMSLE_Train:\t0.5508830312988297\tMean_RMSLE_Valid:\t0.5794778617061914\n",
      "With max_depth:\t4\tMean_RMSLE_Train:\t0.4893650285446031\tMean_RMSLE_Valid:\t0.5362153226404633\n",
      "With max_depth:\t5\tMean_RMSLE_Train:\t0.447432739468529\tMean_RMSLE_Valid:\t0.5068919243758093\n",
      "With max_depth:\t6\tMean_RMSLE_Train:\t0.41737458071085604\tMean_RMSLE_Valid:\t0.493281778119591\n",
      "With max_depth:\t7\tMean_RMSLE_Train:\t0.39192763861945284\tMean_RMSLE_Valid:\t0.487011894425654\n",
      "With max_depth:\t8\tMean_RMSLE_Train:\t0.37008164096515495\tMean_RMSLE_Valid:\t0.48435282798674806\n",
      "With max_depth:\t9\tMean_RMSLE_Train:\t0.35050140381162537\tMean_RMSLE_Valid:\t0.483437538093904\n",
      "With max_depth:\t10\tMean_RMSLE_Train:\t0.33319717905067375\tMean_RMSLE_Valid:\t0.483457080617715\n",
      "With max_depth:\t11\tMean_RMSLE_Train:\t0.3185814411334741\tMean_RMSLE_Valid:\t0.4834058903530395\n",
      "With max_depth:\t12\tMean_RMSLE_Train:\t0.30680459729904036\tMean_RMSLE_Valid:\t0.48330495023916203\n",
      "With max_depth:\t13\tMean_RMSLE_Train:\t0.29771287693850135\tMean_RMSLE_Valid:\t0.48312807004554537\n",
      "With max_depth:\t14\tMean_RMSLE_Train:\t0.290980861146292\tMean_RMSLE_Valid:\t0.4838566740695955\n",
      "With max_depth:\t15\tMean_RMSLE_Train:\t0.2862221548455413\tMean_RMSLE_Valid:\t0.4840520416222999\n",
      "With max_depth:\t16\tMean_RMSLE_Train:\t0.28303273104840154\tMean_RMSLE_Valid:\t0.4840162699947696\n",
      "With max_depth:\t17\tMean_RMSLE_Train:\t0.2810263039853431\tMean_RMSLE_Valid:\t0.4840769518302813\n",
      "With max_depth:\t18\tMean_RMSLE_Train:\t0.2798111422387733\tMean_RMSLE_Valid:\t0.4843287435126067\n",
      "With max_depth:\t19\tMean_RMSLE_Train:\t0.27912534181762055\tMean_RMSLE_Valid:\t0.4839241565370995\n",
      "With max_depth:\t20\tMean_RMSLE_Train:\t0.2787628599819655\tMean_RMSLE_Valid:\t0.4844643918784406\n",
      "With max_depth:\t21\tMean_RMSLE_Train:\t0.278586430108815\tMean_RMSLE_Valid:\t0.48435649482375404\n",
      "With max_depth:\t22\tMean_RMSLE_Train:\t0.27850829395076915\tMean_RMSLE_Valid:\t0.484720398636856\n",
      "With max_depth:\t23\tMean_RMSLE_Train:\t0.2784702620476835\tMean_RMSLE_Valid:\t0.4844851975385669\n",
      "With max_depth:\t24\tMean_RMSLE_Train:\t0.27845754774219156\tMean_RMSLE_Valid:\t0.48470631633319416\n"
     ]
    }
   ],
   "source": [
    "depth_result = get_depth(evaluation_sets ,min_r = 1, max_r = 25)"
   ]
  },
  {
   "cell_type": "code",
   "execution_count": 23,
   "id": "83e1c9b6",
   "metadata": {},
   "outputs": [
    {
     "data": {
      "image/png": "[encoded data removed]",
      "text/plain": [
       "<Figure size 1000x300 with 1 Axes>"
      ]
     },
     "metadata": {},
     "output_type": "display_data"
    }
   ],
   "source": [
    "plt.figure(figsize = (10,3), dpi = 100)\n",
    "sns.lineplot(x = depth_result['max_depth'], y = depth_result['mean_rmsle_train'], marker = 'o', color= 'blue', label= 'Train')\n",
    "sns.lineplot(x = depth_result['max_depth'], y = depth_result['mean_rmsle_valid'], marker = 'o', color= 'orange', label= 'Valid')\n",
    "plt.title('Random Forest max_depth')\n",
    "plt.xlabel('max_depth')\n",
    "plt.ylabel('Valid RMSLE')\n",
    "plt.show()"
   ]
  },
  {
   "cell_type": "markdown",
   "id": "c7192d11",
   "metadata": {},
   "source": [
    "After **max_depth = 6** the model is starting to overfit on the training data. At this value **RMSLE = 0.4932**. \n",
    "\n",
    "### 3. min_samples_split"
   ]
  },
  {
   "cell_type": "code",
   "execution_count": 25,
   "id": "e86d1f65",
   "metadata": {},
   "outputs": [],
   "source": [
    "def get_sample_split(evaluation_set, min_r, max_r):\n",
    "    \n",
    "    results = []\n",
    "    \n",
    "    for split in range(min_r, max_r, 1):\n",
    "        x = {}\n",
    "        SCORE_TRAIN = []\n",
    "        SCORE_VALID = []\n",
    "        \n",
    "        for combo in evaluation_set:\n",
    "            \n",
    "            # seperate the independent and target variable from the train and validation set\n",
    "            train_data_x = combo[0].drop(columns = ['WEEK_END_DATE', 'STORE_NUM', 'UPC', 'UNITS'])\n",
    "            train_data_y = combo[0]['UNITS']\n",
    "            \n",
    "            valid_data_x = combo[1].drop(columns = ['WEEK_END_DATE', 'STORE_NUM', 'UPC', 'UNITS'])\n",
    "            valid_data_y = combo[1]['UNITS']\n",
    "            \n",
    "            model= RandomForestRegressor(random_state= 0,\n",
    "                                     n_estimators= 220,\n",
    "                                     max_depth= 6,\n",
    "                                     min_samples_split= split,\n",
    "                                     min_samples_leaf= 5)\n",
    "            \n",
    "            model.fit(train_data_x, train_data_y)\n",
    "            \n",
    "            train_preds = model.predict(train_data_x)\n",
    "            valid_preds = model.predict(valid_data_x)\n",
    "            \n",
    "            # store the RMSLE on train and validation sets in different lists \n",
    "            # so that at the end we can calculate the mean of results \n",
    "            SCORE_TRAIN.append(get_rmsle(train_data_y, train_preds))\n",
    "            SCORE_VALID.append(get_rmsle(valid_data_y, valid_preds))\n",
    "            \n",
    "        mean_score_train = np.mean(SCORE_TRAIN)\n",
    "        mean_score_valid = np.mean(SCORE_VALID)\n",
    "            \n",
    "        print('With min_samples_split:\\t' + str(split) + '\\tMean_RMSLE_Train:\\t' + str(mean_score_train) + '\\tMean_RMSLE_Valid:\\t' + str(mean_score_valid))\n",
    "            \n",
    "        x['min_samples_split'] = split\n",
    "        x['mean_rmsle_train'] = mean_score_train\n",
    "        x['mean_rmsle_valid'] = mean_score_valid\n",
    "            \n",
    "        results.append(x)\n",
    "        \n",
    "    return pd.DataFrame(results)"
   ]
  },
  {
   "cell_type": "code",
   "execution_count": 26,
   "id": "8abc289e",
   "metadata": {},
   "outputs": [
    {
     "name": "stdout",
     "output_type": "stream",
     "text": [
      "With min_samples_split:\t1\tMean_RMSLE_Train:\t0.41737458071085604\tMean_RMSLE_Valid:\t0.493281778119591\n",
      "With min_samples_split:\t2\tMean_RMSLE_Train:\t0.41737458071085604\tMean_RMSLE_Valid:\t0.493281778119591\n",
      "With min_samples_split:\t3\tMean_RMSLE_Train:\t0.41737458071085604\tMean_RMSLE_Valid:\t0.493281778119591\n",
      "With min_samples_split:\t4\tMean_RMSLE_Train:\t0.41737458071085604\tMean_RMSLE_Valid:\t0.493281778119591\n",
      "With min_samples_split:\t5\tMean_RMSLE_Train:\t0.41737458071085604\tMean_RMSLE_Valid:\t0.493281778119591\n",
      "With min_samples_split:\t6\tMean_RMSLE_Train:\t0.41737458071085604\tMean_RMSLE_Valid:\t0.493281778119591\n",
      "With min_samples_split:\t7\tMean_RMSLE_Train:\t0.41737458071085604\tMean_RMSLE_Valid:\t0.493281778119591\n",
      "With min_samples_split:\t8\tMean_RMSLE_Train:\t0.41737458071085604\tMean_RMSLE_Valid:\t0.493281778119591\n",
      "With min_samples_split:\t9\tMean_RMSLE_Train:\t0.41737458071085604\tMean_RMSLE_Valid:\t0.493281778119591\n",
      "With min_samples_split:\t10\tMean_RMSLE_Train:\t0.41737458071085604\tMean_RMSLE_Valid:\t0.493281778119591\n",
      "With min_samples_split:\t11\tMean_RMSLE_Train:\t0.41743506080856846\tMean_RMSLE_Valid:\t0.49317237553576465\n",
      "With min_samples_split:\t12\tMean_RMSLE_Train:\t0.4175080475584554\tMean_RMSLE_Valid:\t0.4931209193643955\n",
      "With min_samples_split:\t13\tMean_RMSLE_Train:\t0.41759076056481154\tMean_RMSLE_Valid:\t0.49311926656352156\n",
      "With min_samples_split:\t14\tMean_RMSLE_Train:\t0.4176852195540086\tMean_RMSLE_Valid:\t0.49322865761009244\n",
      "With min_samples_split:\t15\tMean_RMSLE_Train:\t0.41778224022510796\tMean_RMSLE_Valid:\t0.4932957500917749\n",
      "With min_samples_split:\t16\tMean_RMSLE_Train:\t0.41788713576188025\tMean_RMSLE_Valid:\t0.493288574651337\n",
      "With min_samples_split:\t17\tMean_RMSLE_Train:\t0.41799372222221154\tMean_RMSLE_Valid:\t0.49329217314270085\n",
      "With min_samples_split:\t18\tMean_RMSLE_Train:\t0.4181102304666356\tMean_RMSLE_Valid:\t0.49342156477409027\n",
      "With min_samples_split:\t19\tMean_RMSLE_Train:\t0.4182214951833778\tMean_RMSLE_Valid:\t0.49339824724126224\n"
     ]
    }
   ],
   "source": [
    "split_result = get_sample_split(evaluation_sets ,min_r = 1, max_r = 20)"
   ]
  },
  {
   "cell_type": "code",
   "execution_count": 32,
   "id": "73d80d2a",
   "metadata": {},
   "outputs": [
    {
     "data": {
      "image/png": "[encoded data removed]",
      "text/plain": [
       "<Figure size 1000x300 with 1 Axes>"
      ]
     },
     "metadata": {},
     "output_type": "display_data"
    }
   ],
   "source": [
    "plt.figure(figsize = (10,3), dpi = 100)\n",
    "#sns.lineplot(x = split_result['min_samples_split'], y = split_result['mean_rmsle_train'], marker = 'o', color= 'blue', label= 'Train')\n",
    "sns.lineplot(x = split_result['min_samples_split'], y = split_result['mean_rmsle_valid'], marker = 'o', color= 'orange', label= 'Valid')\n",
    "plt.title('Random Forest min_samples_split')\n",
    "plt.xlabel('min_samples_split')\n",
    "plt.ylabel('Valid RMSLE')\n",
    "plt.show()"
   ]
  },
  {
   "cell_type": "markdown",
   "id": "b6698493",
   "metadata": {},
   "source": [
    "There's not much change in the **RMSLE (0.4932)** by changing min_samples_split hyperparameter. So we're going to keep it to **min_samples_split = 5**\n",
    "\n",
    "### 4. min_samples_leaf"
   ]
  },
  {
   "cell_type": "code",
   "execution_count": 33,
   "id": "7f4360e9",
   "metadata": {},
   "outputs": [],
   "source": [
    "def get_sample_leaf(evaluation_set, min_r, max_r):\n",
    "    \n",
    "    results = []\n",
    "    \n",
    "    for leaf in range(min_r, max_r, 1):\n",
    "        x = {}\n",
    "        SCORE_TRAIN = []\n",
    "        SCORE_VALID = []\n",
    "        \n",
    "        for combo in evaluation_set:\n",
    "            \n",
    "            # seperate the independent and target variable from the train and validation set\n",
    "            train_data_x = combo[0].drop(columns = ['WEEK_END_DATE', 'STORE_NUM', 'UPC', 'UNITS'])\n",
    "            train_data_y = combo[0]['UNITS']\n",
    "            \n",
    "            valid_data_x = combo[1].drop(columns = ['WEEK_END_DATE', 'STORE_NUM', 'UPC', 'UNITS'])\n",
    "            valid_data_y = combo[1]['UNITS']\n",
    "            \n",
    "            model= RandomForestRegressor(random_state= 0,\n",
    "                                     n_estimators= 220,\n",
    "                                     max_depth= 6,\n",
    "                                     min_samples_split= 5,\n",
    "                                     min_samples_leaf= leaf)\n",
    "            \n",
    "            model.fit(train_data_x, train_data_y)\n",
    "            \n",
    "            train_preds = model.predict(train_data_x)\n",
    "            valid_preds = model.predict(valid_data_x)\n",
    "            \n",
    "            # store the RMSLE on train and validation sets in different lists \n",
    "            # so that at the end we can calculate the mean of results \n",
    "            SCORE_TRAIN.append(get_rmsle(train_data_y, train_preds))\n",
    "            SCORE_VALID.append(get_rmsle(valid_data_y, valid_preds))\n",
    "            \n",
    "        mean_score_train = np.mean(SCORE_TRAIN)\n",
    "        mean_score_valid = np.mean(SCORE_VALID)\n",
    "            \n",
    "        print('With min_samples_leaf:\\t' + str(leaf) + '\\tMean_RMSLE_Train:\\t' + str(mean_score_train) + '\\tMean_RMSLE_Valid:\\t' + str(mean_score_valid))\n",
    "            \n",
    "        x['min_samples_leaf'] = leaf\n",
    "        x['mean_rmsle_train'] = mean_score_train\n",
    "        x['mean_rmsle_valid'] = mean_score_valid\n",
    "            \n",
    "        results.append(x)\n",
    "        \n",
    "    return pd.DataFrame(results)"
   ]
  },
  {
   "cell_type": "code",
   "execution_count": 34,
   "id": "e1a69bc3",
   "metadata": {},
   "outputs": [
    {
     "name": "stdout",
     "output_type": "stream",
     "text": [
      "With min_samples_leaf:\t1\tMean_RMSLE_Train:\t0.4171371138832172\tMean_RMSLE_Valid:\t0.49578583975986645\n",
      "With min_samples_leaf:\t2\tMean_RMSLE_Train:\t0.4168657606840595\tMean_RMSLE_Valid:\t0.4939632760691871\n",
      "With min_samples_leaf:\t3\tMean_RMSLE_Train:\t0.4169305316384413\tMean_RMSLE_Valid:\t0.49332035066483026\n",
      "With min_samples_leaf:\t4\tMean_RMSLE_Train:\t0.4171205160625079\tMean_RMSLE_Valid:\t0.4930971660723411\n",
      "With min_samples_leaf:\t5\tMean_RMSLE_Train:\t0.41737458071085604\tMean_RMSLE_Valid:\t0.493281778119591\n",
      "With min_samples_leaf:\t6\tMean_RMSLE_Train:\t0.4176499338271816\tMean_RMSLE_Valid:\t0.49320955922487975\n",
      "With min_samples_leaf:\t7\tMean_RMSLE_Train:\t0.41796161960431316\tMean_RMSLE_Valid:\t0.49320645829533494\n",
      "With min_samples_leaf:\t8\tMean_RMSLE_Train:\t0.4183386680609209\tMean_RMSLE_Valid:\t0.492869860339957\n",
      "With min_samples_leaf:\t9\tMean_RMSLE_Train:\t0.41867577924107785\tMean_RMSLE_Valid:\t0.4926933425659547\n",
      "With min_samples_leaf:\t10\tMean_RMSLE_Train:\t0.4190282447595121\tMean_RMSLE_Valid:\t0.4922255348456895\n",
      "With min_samples_leaf:\t11\tMean_RMSLE_Train:\t0.41933640743146305\tMean_RMSLE_Valid:\t0.49203073535950437\n",
      "With min_samples_leaf:\t12\tMean_RMSLE_Train:\t0.41970250731999437\tMean_RMSLE_Valid:\t0.4919634609389684\n",
      "With min_samples_leaf:\t13\tMean_RMSLE_Train:\t0.4200448920169222\tMean_RMSLE_Valid:\t0.49149331995934303\n",
      "With min_samples_leaf:\t14\tMean_RMSLE_Train:\t0.4203960713491812\tMean_RMSLE_Valid:\t0.49115893760346857\n",
      "With min_samples_leaf:\t15\tMean_RMSLE_Train:\t0.42077276511362477\tMean_RMSLE_Valid:\t0.4907630185659558\n",
      "With min_samples_leaf:\t16\tMean_RMSLE_Train:\t0.42114170448734484\tMean_RMSLE_Valid:\t0.49071319951945214\n",
      "With min_samples_leaf:\t17\tMean_RMSLE_Train:\t0.4215124710814117\tMean_RMSLE_Valid:\t0.4907539446825071\n",
      "With min_samples_leaf:\t18\tMean_RMSLE_Train:\t0.4219142694977409\tMean_RMSLE_Valid:\t0.4906753255011863\n",
      "With min_samples_leaf:\t19\tMean_RMSLE_Train:\t0.42229697237938935\tMean_RMSLE_Valid:\t0.49071325072700034\n"
     ]
    }
   ],
   "source": [
    "leaf_result = get_sample_leaf(evaluation_sets ,min_r = 1, max_r = 20)"
   ]
  },
  {
   "cell_type": "code",
   "execution_count": 36,
   "id": "47263adc",
   "metadata": {},
   "outputs": [
    {
     "data": {
      "image/png": "[encoded data removed]",
      "text/plain": [
       "<Figure size 1000x300 with 1 Axes>"
      ]
     },
     "metadata": {},
     "output_type": "display_data"
    }
   ],
   "source": [
    "plt.figure(figsize = (10,3), dpi = 100)\n",
    "#sns.lineplot(x = leaf_result['min_samples_leaf'], y = leaf_result['mean_rmsle_train'], marker = 'o', color= 'blue', label= 'Train')\n",
    "sns.lineplot(x = leaf_result['min_samples_leaf'], y = leaf_result['mean_rmsle_valid'], marker = 'o', color= 'orange', label= 'Valid')\n",
    "plt.title('Random Forest min_samples_leaf')\n",
    "plt.xlabel('min_samples_leaf')\n",
    "plt.ylabel('Valid RMSLE')\n",
    "plt.show()"
   ]
  },
  {
   "cell_type": "markdown",
   "id": "7f3899b0",
   "metadata": {},
   "source": [
    "At **min_samples_leaf = 16** the **RMSLE (0.49071)** is the lowest and starting to get stable.\n",
    "\n",
    "**CONCLUSION :**\n",
    "* n_estimators = 220\n",
    "* max_depth = 6\n",
    "* min_samples_split = 5\n",
    "* min_samples_leaf = 16"
   ]
  },
  {
   "cell_type": "code",
   "execution_count": null,
   "id": "d8e814c9",
   "metadata": {},
   "outputs": [],
   "source": []
  },
  {
   "cell_type": "code",
   "execution_count": null,
   "id": "e06218da",
   "metadata": {},
   "outputs": [],
   "source": []
  }
 ],
 "metadata": {
  "kernelspec": {
   "display_name": "Python 3 (ipykernel)",
   "language": "python",
   "name": "python3"
  },
  "language_info": {
   "codemirror_mode": {
    "name": "ipython",
    "version": 3
   },
   "file_extension": ".py",
   "mimetype": "text/x-python",
   "name": "python",
   "nbconvert_exporter": "python",
   "pygments_lexer": "ipython3",
   "version": "3.10.9"
  }
 },
 "nbformat": 4,
 "nbformat_minor": 5
}
