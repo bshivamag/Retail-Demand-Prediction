{
 "cells": [
  {
   "cell_type": "markdown",
   "id": "9f403cd6",
   "metadata": {},
   "source": [
    "# XGBoost - RETAIL DEMAND PREDICTION\n",
    "\n",
    "We will use XGBoost. It tends to overfit quickly so we will also tune hyperparameters carefully in order to avoid this. Here we will tune the following parameters:\n",
    "\n",
    "* **N_ESTIMATORS**: Number of trees to fit\n",
    "* **MAX_DEPTH**: Maximum tree depth for base learners\n",
    "* **GAMMA**: Minimum loss reduction required to make a further partition on a leaf node of the tree.\n",
    "* **MIN_CHILD_WEIGHT**: Minimum sum of instance weight needed in a child.\n",
    "* **SUBSAMPLE**: Subsample ratio of the training instance."
   ]
  },
  {
   "cell_type": "code",
   "execution_count": 1,
   "id": "ea5447f6",
   "metadata": {},
   "outputs": [],
   "source": [
    "import pandas as pd\n",
    "import numpy as np\n",
    "import matplotlib.pyplot as plt\n",
    "import seaborn as sns\n",
    "%matplotlib inline\n",
    "import xgboost as xgb\n",
    "import warnings\n",
    "warnings.filterwarnings('ignore')\n",
    "from tqdm import tqdm\n",
    "from datetime import timedelta\n",
    "\n",
    "from sklearn.metrics import mean_squared_log_error as msle"
   ]
  },
  {
   "cell_type": "code",
   "execution_count": 2,
   "id": "c73e2625",
   "metadata": {},
   "outputs": [
    {
     "data": {
      "text/plain": [
       "(232265, 58)"
      ]
     },
     "execution_count": 2,
     "metadata": {},
     "output_type": "execute_result"
    }
   ],
   "source": [
    "df = pd.read_csv('final_data.csv')\n",
    "df.shape"
   ]
  },
  {
   "cell_type": "code",
   "execution_count": 3,
   "id": "54dd6c2a",
   "metadata": {},
   "outputs": [
    {
     "data": {
      "text/html": [
       "<div>\n",
       "<style scoped>\n",
       "    .dataframe tbody tr th:only-of-type {\n",
       "        vertical-align: middle;\n",
       "    }\n",
       "\n",
       "    .dataframe tbody tr th {\n",
       "        vertical-align: top;\n",
       "    }\n",
       "\n",
       "    .dataframe thead th {\n",
       "        text-align: right;\n",
       "    }\n",
       "</style>\n",
       "<table border=\"1\" class=\"dataframe\">\n",
       "  <thead>\n",
       "    <tr style=\"text-align: right;\">\n",
       "      <th></th>\n",
       "      <th>WEEK_END_DATE</th>\n",
       "      <th>STORE_NUM</th>\n",
       "      <th>UPC</th>\n",
       "      <th>BASE_PRICE</th>\n",
       "      <th>FEATURE</th>\n",
       "      <th>DISPLAY</th>\n",
       "      <th>UNITS</th>\n",
       "      <th>MONTH</th>\n",
       "      <th>MANUFACTURER_1</th>\n",
       "      <th>MANUFACTURER_2</th>\n",
       "      <th>...</th>\n",
       "      <th>week</th>\n",
       "      <th>quarter</th>\n",
       "      <th>U_MANUFACTURER</th>\n",
       "      <th>U_CATEGORY</th>\n",
       "      <th>U_SUB_CATEGORY</th>\n",
       "      <th>UNITS_BEFORE_52WEEK</th>\n",
       "      <th>price_difference</th>\n",
       "      <th>2_MONTH_BEFORE</th>\n",
       "      <th>1_WEEK_BEFORE</th>\n",
       "      <th>AVERAGE_UNITS_IN_2_MONTH</th>\n",
       "    </tr>\n",
       "  </thead>\n",
       "  <tbody>\n",
       "    <tr>\n",
       "      <th>0</th>\n",
       "      <td>2009-01-14</td>\n",
       "      <td>367</td>\n",
       "      <td>1111009477</td>\n",
       "      <td>1.57</td>\n",
       "      <td>0</td>\n",
       "      <td>0</td>\n",
       "      <td>13</td>\n",
       "      <td>1</td>\n",
       "      <td>1</td>\n",
       "      <td>0</td>\n",
       "      <td>...</td>\n",
       "      <td>3</td>\n",
       "      <td>1</td>\n",
       "      <td>4</td>\n",
       "      <td>3</td>\n",
       "      <td>5</td>\n",
       "      <td>0.0</td>\n",
       "      <td>0.0</td>\n",
       "      <td>2008-11-12</td>\n",
       "      <td>2009-01-07</td>\n",
       "      <td>0.0</td>\n",
       "    </tr>\n",
       "    <tr>\n",
       "      <th>1</th>\n",
       "      <td>2009-01-14</td>\n",
       "      <td>367</td>\n",
       "      <td>1111009497</td>\n",
       "      <td>1.39</td>\n",
       "      <td>0</td>\n",
       "      <td>0</td>\n",
       "      <td>20</td>\n",
       "      <td>1</td>\n",
       "      <td>1</td>\n",
       "      <td>0</td>\n",
       "      <td>...</td>\n",
       "      <td>3</td>\n",
       "      <td>1</td>\n",
       "      <td>4</td>\n",
       "      <td>3</td>\n",
       "      <td>5</td>\n",
       "      <td>0.0</td>\n",
       "      <td>0.0</td>\n",
       "      <td>2008-11-12</td>\n",
       "      <td>2009-01-07</td>\n",
       "      <td>0.0</td>\n",
       "    </tr>\n",
       "  </tbody>\n",
       "</table>\n",
       "<p>2 rows × 58 columns</p>\n",
       "</div>"
      ],
      "text/plain": [
       "  WEEK_END_DATE  STORE_NUM         UPC  BASE_PRICE  FEATURE  DISPLAY  UNITS  \\\n",
       "0    2009-01-14        367  1111009477        1.57        0        0     13   \n",
       "1    2009-01-14        367  1111009497        1.39        0        0     20   \n",
       "\n",
       "   MONTH  MANUFACTURER_1  MANUFACTURER_2  ...  week  quarter  U_MANUFACTURER  \\\n",
       "0      1               1               0  ...     3        1               4   \n",
       "1      1               1               0  ...     3        1               4   \n",
       "\n",
       "   U_CATEGORY  U_SUB_CATEGORY  UNITS_BEFORE_52WEEK  price_difference  \\\n",
       "0           3               5                  0.0               0.0   \n",
       "1           3               5                  0.0               0.0   \n",
       "\n",
       "   2_MONTH_BEFORE  1_WEEK_BEFORE  AVERAGE_UNITS_IN_2_MONTH  \n",
       "0      2008-11-12     2009-01-07                       0.0  \n",
       "1      2008-11-12     2009-01-07                       0.0  \n",
       "\n",
       "[2 rows x 58 columns]"
      ]
     },
     "execution_count": 3,
     "metadata": {},
     "output_type": "execute_result"
    }
   ],
   "source": [
    "df.head(2)"
   ]
  },
  {
   "cell_type": "code",
   "execution_count": 4,
   "id": "aded750f",
   "metadata": {},
   "outputs": [],
   "source": [
    "df['WEEK_END_DATE'] = pd.to_datetime(df['WEEK_END_DATE'])"
   ]
  },
  {
   "cell_type": "code",
   "execution_count": 5,
   "id": "209f1a1b",
   "metadata": {},
   "outputs": [
    {
     "data": {
      "text/plain": [
       "WEEK_END_DATE                datetime64[ns]\n",
       "STORE_NUM                             int64\n",
       "UPC                                   int64\n",
       "BASE_PRICE                          float64\n",
       "FEATURE                               int64\n",
       "DISPLAY                               int64\n",
       "UNITS                                 int64\n",
       "MONTH                                 int64\n",
       "MANUFACTURER_1                        int64\n",
       "MANUFACTURER_2                        int64\n",
       "MANUFACTURER_3                        int64\n",
       "MANUFACTURER_4                        int64\n",
       "MANUFACTURER_5                        int64\n",
       "MANUFACTURER_6                        int64\n",
       "MANUFACTURER_7                        int64\n",
       "MANUFACTURER_8                        int64\n",
       "MANUFACTURER_9                        int64\n",
       "CATEGORY_1                            int64\n",
       "CATEGORY_2                            int64\n",
       "CATEGORY_3                            int64\n",
       "CATEGORY_4                            int64\n",
       "SUB_CATEGORY_1                        int64\n",
       "SUB_CATEGORY_2                        int64\n",
       "SUB_CATEGORY_3                        int64\n",
       "SUB_CATEGORY_4                        int64\n",
       "SUB_CATEGORY_5                        int64\n",
       "SUB_CATEGORY_6                        int64\n",
       "SUB_CATEGORY_7                        int64\n",
       "SIZE                                float64\n",
       "ADDRESS_STATE_PROV_CODE_1             int64\n",
       "ADDRESS_STATE_PROV_CODE_2             int64\n",
       "ADDRESS_STATE_PROV_CODE_3             int64\n",
       "ADDRESS_STATE_PROV_CODE_4             int64\n",
       "MSA_CODE_1                            int64\n",
       "MSA_CODE_2                            int64\n",
       "MSA_CODE_3                            int64\n",
       "MSA_CODE_4                            int64\n",
       "MSA_CODE_5                            int64\n",
       "MSA_CODE_6                            int64\n",
       "MSA_CODE_7                            int64\n",
       "MSA_CODE_8                            int64\n",
       "MSA_CODE_9                            int64\n",
       "SEG_VALUE_NAME                        int64\n",
       "SALES_AREA_SIZE_NUM                   int64\n",
       "AVG_WEEKLY_BASKETS                    int64\n",
       "year                                  int64\n",
       "day                                   int64\n",
       "day_of_year                           int64\n",
       "week                                  int64\n",
       "quarter                               int64\n",
       "U_MANUFACTURER                        int64\n",
       "U_CATEGORY                            int64\n",
       "U_SUB_CATEGORY                        int64\n",
       "UNITS_BEFORE_52WEEK                 float64\n",
       "price_difference                    float64\n",
       "2_MONTH_BEFORE                       object\n",
       "1_WEEK_BEFORE                        object\n",
       "AVERAGE_UNITS_IN_2_MONTH            float64\n",
       "dtype: object"
      ]
     },
     "execution_count": 5,
     "metadata": {},
     "output_type": "execute_result"
    }
   ],
   "source": [
    "df.dtypes"
   ]
  },
  {
   "cell_type": "code",
   "execution_count": 6,
   "id": "a603677b",
   "metadata": {},
   "outputs": [],
   "source": [
    "df.drop(columns = ['2_MONTH_BEFORE', '1_WEEK_BEFORE'], axis = 1, inplace = True)"
   ]
  },
  {
   "cell_type": "code",
   "execution_count": 7,
   "id": "e718957d",
   "metadata": {},
   "outputs": [
    {
     "data": {
      "text/plain": [
       "0"
      ]
     },
     "execution_count": 7,
     "metadata": {},
     "output_type": "execute_result"
    }
   ],
   "source": [
    "df.isnull().sum().sum()"
   ]
  },
  {
   "cell_type": "markdown",
   "id": "1ac80b37",
   "metadata": {},
   "source": [
    "## 1. Validation Sets\n",
    "* **validation_df** function will create the validation sets.\n",
    "* It will take the parameters, a list of unique WEEK_END_DATES, dataset and no of months in training period and no of training validation sets required.\n",
    "* We will use the training period of 1 month and 9 validation sets as concluded by the Validation Strategy"
   ]
  },
  {
   "cell_type": "code",
   "execution_count": 8,
   "id": "8c7e2f06",
   "metadata": {},
   "outputs": [],
   "source": [
    "weeks = df['WEEK_END_DATE'].unique()"
   ]
  },
  {
   "cell_type": "code",
   "execution_count": 9,
   "id": "d990efd6",
   "metadata": {},
   "outputs": [],
   "source": [
    "def validation_df(data, week, no_of_months=1, no_of_validations=1):\n",
    "    \n",
    "    model_set = []\n",
    "    set_n = 1\n",
    "    \n",
    "    for w in range(len(week)-1, 0, -1):\n",
    "        \n",
    "        x_data = {}\n",
    "        \n",
    "        x_data['set_no'] = 'set'+str(set_n)\n",
    "        x_data['train_start'] = week[w-3-4*no_of_months]\n",
    "        x_data['train_end'] = week[w-4]\n",
    "        x_data['no_days_train'] = x_data['train_end'] - x_data['train_start']\n",
    "        x_data['validation_week'] = week[w-2]\n",
    "        x_data['test_week'] = week[w]\n",
    "                \n",
    "        set_n += 1\n",
    "        model_set.append(x_data)\n",
    "        if (len(model_set) == no_of_validations):\n",
    "            break\n",
    "    \n",
    "    \n",
    "#===========================================================================================================\n",
    "\n",
    "\n",
    "    datapoints = []\n",
    "    \n",
    "    for s in model_set:\n",
    "        \n",
    "        x = {}\n",
    "        train_set = data[(data['WEEK_END_DATE'] >= s['train_start']) & (data['WEEK_END_DATE'] <= s['train_end'])]\n",
    "        x['train_shape'] = train_set.shape[0]\n",
    "        x['validation_shape'] = data[data['WEEK_END_DATE'] == s['validation_week']].shape[0]\n",
    "        x['test_shape'] = data[data['WEEK_END_DATE'] == s['test_week']].shape[0]\n",
    "        x.update(s)\n",
    "        datapoints.append(x)\n",
    "        \n",
    "    strategy_df = pd.DataFrame(datapoints)\n",
    "    strategy_df['no_days_train'] = strategy_df['no_days_train'] + timedelta(days = 7)\n",
    "    \n",
    "    return strategy_df"
   ]
  },
  {
   "cell_type": "code",
   "execution_count": 10,
   "id": "3410b630",
   "metadata": {},
   "outputs": [
    {
     "data": {
      "text/html": [
       "<div>\n",
       "<style scoped>\n",
       "    .dataframe tbody tr th:only-of-type {\n",
       "        vertical-align: middle;\n",
       "    }\n",
       "\n",
       "    .dataframe tbody tr th {\n",
       "        vertical-align: top;\n",
       "    }\n",
       "\n",
       "    .dataframe thead th {\n",
       "        text-align: right;\n",
       "    }\n",
       "</style>\n",
       "<table border=\"1\" class=\"dataframe\">\n",
       "  <thead>\n",
       "    <tr style=\"text-align: right;\">\n",
       "      <th></th>\n",
       "      <th>train_shape</th>\n",
       "      <th>validation_shape</th>\n",
       "      <th>test_shape</th>\n",
       "      <th>set_no</th>\n",
       "      <th>train_start</th>\n",
       "      <th>train_end</th>\n",
       "      <th>no_days_train</th>\n",
       "      <th>validation_week</th>\n",
       "      <th>test_week</th>\n",
       "    </tr>\n",
       "  </thead>\n",
       "  <tbody>\n",
       "    <tr>\n",
       "      <th>0</th>\n",
       "      <td>6538</td>\n",
       "      <td>1640</td>\n",
       "      <td>1642</td>\n",
       "      <td>set1</td>\n",
       "      <td>2011-08-10</td>\n",
       "      <td>2011-08-31</td>\n",
       "      <td>28 days</td>\n",
       "      <td>2011-09-14</td>\n",
       "      <td>2011-09-28</td>\n",
       "    </tr>\n",
       "    <tr>\n",
       "      <th>1</th>\n",
       "      <td>6549</td>\n",
       "      <td>1632</td>\n",
       "      <td>1638</td>\n",
       "      <td>set2</td>\n",
       "      <td>2011-08-03</td>\n",
       "      <td>2011-08-24</td>\n",
       "      <td>28 days</td>\n",
       "      <td>2011-09-07</td>\n",
       "      <td>2011-09-21</td>\n",
       "    </tr>\n",
       "    <tr>\n",
       "      <th>2</th>\n",
       "      <td>6546</td>\n",
       "      <td>1629</td>\n",
       "      <td>1640</td>\n",
       "      <td>set3</td>\n",
       "      <td>2011-07-27</td>\n",
       "      <td>2011-08-17</td>\n",
       "      <td>28 days</td>\n",
       "      <td>2011-08-31</td>\n",
       "      <td>2011-09-14</td>\n",
       "    </tr>\n",
       "    <tr>\n",
       "      <th>3</th>\n",
       "      <td>6543</td>\n",
       "      <td>1640</td>\n",
       "      <td>1632</td>\n",
       "      <td>set4</td>\n",
       "      <td>2011-07-20</td>\n",
       "      <td>2011-08-10</td>\n",
       "      <td>28 days</td>\n",
       "      <td>2011-08-24</td>\n",
       "      <td>2011-09-07</td>\n",
       "    </tr>\n",
       "    <tr>\n",
       "      <th>4</th>\n",
       "      <td>6551</td>\n",
       "      <td>1638</td>\n",
       "      <td>1629</td>\n",
       "      <td>set5</td>\n",
       "      <td>2011-07-13</td>\n",
       "      <td>2011-08-03</td>\n",
       "      <td>28 days</td>\n",
       "      <td>2011-08-17</td>\n",
       "      <td>2011-08-31</td>\n",
       "    </tr>\n",
       "    <tr>\n",
       "      <th>5</th>\n",
       "      <td>6553</td>\n",
       "      <td>1631</td>\n",
       "      <td>1640</td>\n",
       "      <td>set6</td>\n",
       "      <td>2011-07-06</td>\n",
       "      <td>2011-07-27</td>\n",
       "      <td>28 days</td>\n",
       "      <td>2011-08-10</td>\n",
       "      <td>2011-08-24</td>\n",
       "    </tr>\n",
       "    <tr>\n",
       "      <th>6</th>\n",
       "      <td>6555</td>\n",
       "      <td>1640</td>\n",
       "      <td>1638</td>\n",
       "      <td>set7</td>\n",
       "      <td>2011-06-29</td>\n",
       "      <td>2011-07-20</td>\n",
       "      <td>28 days</td>\n",
       "      <td>2011-08-03</td>\n",
       "      <td>2011-08-17</td>\n",
       "    </tr>\n",
       "    <tr>\n",
       "      <th>7</th>\n",
       "      <td>6558</td>\n",
       "      <td>1637</td>\n",
       "      <td>1631</td>\n",
       "      <td>set8</td>\n",
       "      <td>2011-06-22</td>\n",
       "      <td>2011-07-13</td>\n",
       "      <td>28 days</td>\n",
       "      <td>2011-07-27</td>\n",
       "      <td>2011-08-10</td>\n",
       "    </tr>\n",
       "    <tr>\n",
       "      <th>8</th>\n",
       "      <td>6558</td>\n",
       "      <td>1635</td>\n",
       "      <td>1640</td>\n",
       "      <td>set9</td>\n",
       "      <td>2011-06-15</td>\n",
       "      <td>2011-07-06</td>\n",
       "      <td>28 days</td>\n",
       "      <td>2011-07-20</td>\n",
       "      <td>2011-08-03</td>\n",
       "    </tr>\n",
       "  </tbody>\n",
       "</table>\n",
       "</div>"
      ],
      "text/plain": [
       "   train_shape  validation_shape  test_shape set_no train_start  train_end  \\\n",
       "0         6538              1640        1642   set1  2011-08-10 2011-08-31   \n",
       "1         6549              1632        1638   set2  2011-08-03 2011-08-24   \n",
       "2         6546              1629        1640   set3  2011-07-27 2011-08-17   \n",
       "3         6543              1640        1632   set4  2011-07-20 2011-08-10   \n",
       "4         6551              1638        1629   set5  2011-07-13 2011-08-03   \n",
       "5         6553              1631        1640   set6  2011-07-06 2011-07-27   \n",
       "6         6555              1640        1638   set7  2011-06-29 2011-07-20   \n",
       "7         6558              1637        1631   set8  2011-06-22 2011-07-13   \n",
       "8         6558              1635        1640   set9  2011-06-15 2011-07-06   \n",
       "\n",
       "  no_days_train validation_week  test_week  \n",
       "0       28 days      2011-09-14 2011-09-28  \n",
       "1       28 days      2011-09-07 2011-09-21  \n",
       "2       28 days      2011-08-31 2011-09-14  \n",
       "3       28 days      2011-08-24 2011-09-07  \n",
       "4       28 days      2011-08-17 2011-08-31  \n",
       "5       28 days      2011-08-10 2011-08-24  \n",
       "6       28 days      2011-08-03 2011-08-17  \n",
       "7       28 days      2011-07-27 2011-08-10  \n",
       "8       28 days      2011-07-20 2011-08-03  "
      ]
     },
     "execution_count": 10,
     "metadata": {},
     "output_type": "execute_result"
    }
   ],
   "source": [
    "validation_df(df, weeks, no_of_months=1, no_of_validations=9)"
   ]
  },
  {
   "cell_type": "markdown",
   "id": "848cc562",
   "metadata": {},
   "source": [
    "* We will create a list **(evaluation_set)** of tuples. These tuples will contain train and validation data extracted using the validation dataframe.\n",
    "* We will use the columns **train_start, train_end** and **validate_week** and filter out the data which lies in that training period and validation period.\n",
    "* We will define a function **get_evaluation_sets** to get the required list of tuples."
   ]
  },
  {
   "cell_type": "code",
   "execution_count": 11,
   "id": "711b2ba2",
   "metadata": {},
   "outputs": [],
   "source": [
    "def get_evaluation_set(data):\n",
    "    \n",
    "    evaluation_set = []\n",
    "    \n",
    "    for r in range(data.shape[0]):\n",
    "        row = data.iloc[r]\n",
    "        print(row['validation_week'])\n",
    "        \n",
    "        # get train_data\n",
    "        train_data = df[(df['WEEK_END_DATE'] >= row['train_start']) & (df['WEEK_END_DATE'] <= row['train_end'])]\n",
    "        # get validation_data\n",
    "        valid_data = df[df['WEEK_END_DATE'] == row['validation_week']]\n",
    "        \n",
    "        evaluation_set.append((train_data, valid_data))\n",
    "        \n",
    "    return evaluation_set\n",
    "        "
   ]
  },
  {
   "cell_type": "code",
   "execution_count": 12,
   "id": "968fd26f",
   "metadata": {},
   "outputs": [
    {
     "name": "stdout",
     "output_type": "stream",
     "text": [
      "2011-09-14 00:00:00\n",
      "2011-09-07 00:00:00\n",
      "2011-08-31 00:00:00\n",
      "2011-08-24 00:00:00\n",
      "2011-08-17 00:00:00\n",
      "2011-08-10 00:00:00\n",
      "2011-08-03 00:00:00\n",
      "2011-07-27 00:00:00\n",
      "2011-07-20 00:00:00\n"
     ]
    }
   ],
   "source": [
    "evaluation_sets = get_evaluation_set(validation_df(df, weeks, no_of_months=1, no_of_validations=9))"
   ]
  },
  {
   "cell_type": "markdown",
   "id": "6ad04399",
   "metadata": {},
   "source": [
    "* Now, We will define one function to calculate the RMSLE **get_msle** \n",
    "* We will define a custom evaluation metric function **custom_eval** for the XGBoost Regressor. This metric will calculate the RMSLE. This is because, XGBoost does not have it internally defined."
   ]
  },
  {
   "cell_type": "code",
   "execution_count": 13,
   "id": "0aaa902c",
   "metadata": {},
   "outputs": [],
   "source": [
    "# Function to get RMSLE\n",
    "def get_rmsle(true, predicted):\n",
    "    return np.sqrt(msle(true, predicted))\n",
    "\n",
    "# Function to get a custom evalueation metric for XGBoost\n",
    "def custom_eval(preds, dtrain):\n",
    "    labels = dtrain.get_label().astype(np.int)\n",
    "    preds = preds.clip(min=0)\n",
    "    \n",
    "    return[('rmsle', get_rmsle(labels, preds))]"
   ]
  },
  {
   "cell_type": "markdown",
   "id": "b0415778",
   "metadata": {},
   "source": [
    "### 1. N_ESTIMATORS\n",
    "* We cannot use the function XGBoost.cv to find out the best set of parameters as it randomly splits the data. Here we have a time series data so we will use the same 9 validation sets and take average.\n",
    "* We will track both the train RMSLE and validation RMSLE for **n estimators** ranging between (20, 400) and check the scores on all the 9 validation sets."
   ]
  },
  {
   "cell_type": "code",
   "execution_count": 14,
   "id": "9b6b95b2",
   "metadata": {},
   "outputs": [],
   "source": [
    "def get_n_estimators(evaluation_set, min_r, max_r):\n",
    "    \n",
    "    results = []\n",
    "    \n",
    "    for n_est in range(min_r, max_r, 20):\n",
    "        x = {}\n",
    "        SCORE_TRAIN = []\n",
    "        SCORE_VALID = []\n",
    "        \n",
    "        for combo in evaluation_set:\n",
    "            \n",
    "            # seperate the independent and target variable from the train and validation set\n",
    "            train_data_x = combo[0].drop(columns = ['WEEK_END_DATE', 'STORE_NUM', 'UPC', 'UNITS'])\n",
    "            train_data_y = combo[0]['UNITS']\n",
    "            \n",
    "            valid_data_x = combo[1].drop(columns = ['WEEK_END_DATE', 'STORE_NUM', 'UPC', 'UNITS'])\n",
    "            valid_data_y = combo[1]['UNITS']\n",
    "            \n",
    "            e_set = [(train_data_x, train_data_y), (valid_data_x, valid_data_y)]\n",
    "            \n",
    "            model = xgb.XGBRegressor(n_estimators = n_est,\n",
    "                                    learning_rate = 0.01,\n",
    "                                    n_jobs = 4,\n",
    "                                    random_state = 0,\n",
    "                                    objective = 'reg:squarederror')\n",
    "            \n",
    "            model.fit(train_data_x, train_data_y, eval_metric = custom_eval, eval_set = e_set, verbose = False)\n",
    "            \n",
    "            # store the RMSLE on train and validation sets in different lists \n",
    "            # so that at the end we can calculate the mean of results at the end \n",
    "            SCORE_TRAIN.append(model.evals_result_['validation_0']['rmsle'][-1])\n",
    "            SCORE_VALID.append(model.evals_result_['validation_1']['rmsle'][-1])\n",
    "            \n",
    "        mean_score_train = np.mean(SCORE_TRAIN)\n",
    "        mean_score_valid = np.mean(SCORE_VALID)\n",
    "            \n",
    "        print('With n_estimators:\\t' + str(n_est) + '\\tMean_RMSLE_Train:\\t' + str(mean_score_train) + '\\tMean_RMSLE_Valid:\\t' + str(mean_score_valid))\n",
    "            \n",
    "        x['n_estimators'] = n_est\n",
    "        x['mean_rmsle_train'] = mean_score_train\n",
    "        x['mean_rmsle_valid'] = mean_score_valid\n",
    "            \n",
    "        results.append(x)\n",
    "        \n",
    "    return pd.DataFrame(results)"
   ]
  },
  {
   "cell_type": "code",
   "execution_count": 15,
   "id": "c20aefa9",
   "metadata": {},
   "outputs": [
    {
     "name": "stdout",
     "output_type": "stream",
     "text": [
      "With n_estimators:\t20\tMean_RMSLE_Train:\t1.3765283333333334\tMean_RMSLE_Valid:\t1.3517786666666667\n",
      "With n_estimators:\t40\tMean_RMSLE_Train:\t0.957999111111111\tMean_RMSLE_Valid:\t0.9476348888888888\n",
      "With n_estimators:\t60\tMean_RMSLE_Train:\t0.7316607777777778\tMean_RMSLE_Valid:\t0.7371152222222223\n",
      "With n_estimators:\t80\tMean_RMSLE_Train:\t0.5946118888888888\tMean_RMSLE_Valid:\t0.6163743333333334\n",
      "With n_estimators:\t100\tMean_RMSLE_Train:\t0.5084737777777778\tMean_RMSLE_Valid:\t0.5461411111111111\n",
      "With n_estimators:\t120\tMean_RMSLE_Train:\t0.4539968888888889\tMean_RMSLE_Valid:\t0.5057314444444445\n",
      "With n_estimators:\t140\tMean_RMSLE_Train:\t0.41988122222222224\tMean_RMSLE_Valid:\t0.48354922222222224\n",
      "With n_estimators:\t160\tMean_RMSLE_Train:\t0.3984118888888889\tMean_RMSLE_Valid:\t0.4719898888888889\n",
      "With n_estimators:\t180\tMean_RMSLE_Train:\t0.385004\tMean_RMSLE_Valid:\t0.4666703333333333\n",
      "With n_estimators:\t200\tMean_RMSLE_Train:\t0.3766998888888889\tMean_RMSLE_Valid:\t0.46481533333333336\n",
      "With n_estimators:\t220\tMean_RMSLE_Train:\t0.37102977777777774\tMean_RMSLE_Valid:\t0.4642932222222222\n",
      "With n_estimators:\t240\tMean_RMSLE_Train:\t0.3670421111111112\tMean_RMSLE_Valid:\t0.4649182222222222\n",
      "With n_estimators:\t260\tMean_RMSLE_Train:\t0.36415844444444445\tMean_RMSLE_Valid:\t0.465993\n",
      "With n_estimators:\t280\tMean_RMSLE_Train:\t0.3618673333333333\tMean_RMSLE_Valid:\t0.46725488888888894\n",
      "With n_estimators:\t300\tMean_RMSLE_Train:\t0.35994766666666667\tMean_RMSLE_Valid:\t0.46882344444444446\n",
      "With n_estimators:\t320\tMean_RMSLE_Train:\t0.35837988888888883\tMean_RMSLE_Valid:\t0.47000444444444445\n",
      "With n_estimators:\t340\tMean_RMSLE_Train:\t0.3568728888888889\tMean_RMSLE_Valid:\t0.47129811111111114\n",
      "With n_estimators:\t360\tMean_RMSLE_Train:\t0.3553481111111111\tMean_RMSLE_Valid:\t0.4727767777777777\n",
      "With n_estimators:\t380\tMean_RMSLE_Train:\t0.35404622222222226\tMean_RMSLE_Valid:\t0.4740678888888889\n"
     ]
    }
   ],
   "source": [
    "n_estimators_result = get_n_estimators(evaluation_sets ,min_r = 20, max_r = 400)"
   ]
  },
  {
   "cell_type": "code",
   "execution_count": 19,
   "id": "da423351",
   "metadata": {},
   "outputs": [
    {
     "data": {
      "image/png": "[encoded data removed]",
      "text/plain": [
       "<Figure size 1000x300 with 1 Axes>"
      ]
     },
     "metadata": {},
     "output_type": "display_data"
    }
   ],
   "source": [
    "plt.figure(figsize = (10,3), dpi = 100)\n",
    "sns.lineplot(x = n_estimators_result['n_estimators'], y = n_estimators_result['mean_rmsle_train'], marker = 'o', color= 'blue', label= 'Train')\n",
    "sns.lineplot(x = n_estimators_result['n_estimators'], y = n_estimators_result['mean_rmsle_valid'], marker = 'o', color= 'orange', label= 'Valid')\n",
    "plt.title('XGBoost n_estimators')\n",
    "plt.xlabel('n_estimators')\n",
    "plt.ylabel('Valid RMSLE')\n",
    "plt.show()"
   ]
  },
  {
   "cell_type": "markdown",
   "id": "36eb8c67",
   "metadata": {},
   "source": [
    "For the **n_estimators** value of 220, RMSLE on the validation set is minimum **(0.4642)** and as we increase n_estimators, RMSLE starts increasing again. So we will fix the n_estimators as 220.\n",
    "\n",
    "### 2. MAX_DEPTH\n",
    "* Next very important hyperparameter to be tuned is Max Depth. This is used to control over-fitting as higher depth will allow model to learn relations very specific to a particular sample.\n",
    "* Now, we will check the performance of the model for various max_depth values 2, 3, ....14.\n",
    "* If the performance keeps improving till max_depth 14, we will increase the values and try again."
   ]
  },
  {
   "cell_type": "code",
   "execution_count": 20,
   "id": "12ec8341",
   "metadata": {},
   "outputs": [],
   "source": [
    "def get_max_depth(evaluation_set):\n",
    "    \n",
    "    results = []\n",
    "    \n",
    "    for depth in range(2, 15, 1):\n",
    "        \n",
    "        x = {}\n",
    "        SCORE_TRAIN = []\n",
    "        SCORE_VALID = []\n",
    "        \n",
    "        for combo in evaluation_set:\n",
    "            \n",
    "            train_x = combo[0].drop(columns = ['WEEK_END_DATE', 'STORE_NUM', 'UPC', 'UNITS'])\n",
    "            train_y = combo[0]['UNITS']\n",
    "            \n",
    "            valid_x = combo[1].drop(columns = ['WEEK_END_DATE', 'STORE_NUM', 'UPC', 'UNITS'])\n",
    "            valid_y = combo[1]['UNITS']\n",
    "            \n",
    "            e_set = [(train_x, train_y),(valid_x, valid_y)]\n",
    "            \n",
    "            model = xgb.XGBRegressor(n_estimators = 220,\n",
    "                                    max_depth = depth,\n",
    "                                    learning_rate = 0.01,\n",
    "                                    n_jobs = 4,\n",
    "                                    random_state = 0,\n",
    "                                    objective = 'reg:squarederror')\n",
    "            model.fit(train_x, train_y, eval_metric = custom_eval, eval_set = e_set, verbose = False)\n",
    "            \n",
    "            SCORE_TRAIN.append(model.evals_result_['validation_0']['rmsle'][-1])\n",
    "            SCORE_VALID.append(model.evals_result_['validation_1']['rmsle'][-1])\n",
    "            \n",
    "        mean_score_train = np.mean(SCORE_TRAIN)\n",
    "        mean_score_valid = np.mean(SCORE_VALID)\n",
    "        \n",
    "        print('With DEPTH:\\t'+ str(depth) + '\\tMEAN RMSLE TRAIN:\\t' + str(mean_score_train)+ '\\tMEAN RMSLE VALID: '+str(mean_score_valid))\n",
    "        x['depth']= depth\n",
    "        x['mean_rmsle_train'] = mean_score_train\n",
    "        x['mean_rmsle_valid'] = mean_score_valid\n",
    "        results.append(x)\n",
    "        \n",
    "    return pd.DataFrame(results)"
   ]
  },
  {
   "cell_type": "code",
   "execution_count": 21,
   "id": "1a92b5ac",
   "metadata": {},
   "outputs": [
    {
     "name": "stdout",
     "output_type": "stream",
     "text": [
      "With DEPTH:\t2\tMEAN RMSLE TRAIN:\t0.5237873333333334\tMEAN RMSLE VALID: 0.5480940000000001\n",
      "With DEPTH:\t3\tMEAN RMSLE TRAIN:\t0.46084477777777777\tMEAN RMSLE VALID: 0.5007481111111112\n",
      "With DEPTH:\t4\tMEAN RMSLE TRAIN:\t0.422998\tMEAN RMSLE VALID: 0.47866344444444436\n",
      "With DEPTH:\t5\tMEAN RMSLE TRAIN:\t0.39488511111111113\tMEAN RMSLE VALID: 0.467857\n",
      "With DEPTH:\t6\tMEAN RMSLE TRAIN:\t0.37102977777777774\tMEAN RMSLE VALID: 0.4642932222222222\n",
      "With DEPTH:\t7\tMEAN RMSLE TRAIN:\t0.3481923333333334\tMEAN RMSLE VALID: 0.4645974444444444\n",
      "With DEPTH:\t8\tMEAN RMSLE TRAIN:\t0.32533588888888887\tMEAN RMSLE VALID: 0.4666935555555556\n",
      "With DEPTH:\t9\tMEAN RMSLE TRAIN:\t0.3010454444444444\tMEAN RMSLE VALID: 0.46914666666666666\n",
      "With DEPTH:\t10\tMEAN RMSLE TRAIN:\t0.2756890000000001\tMEAN RMSLE VALID: 0.47255877777777777\n",
      "With DEPTH:\t11\tMEAN RMSLE TRAIN:\t0.250243\tMEAN RMSLE VALID: 0.47600855555555555\n",
      "With DEPTH:\t12\tMEAN RMSLE TRAIN:\t0.2265542222222222\tMEAN RMSLE VALID: 0.48175299999999993\n",
      "With DEPTH:\t13\tMEAN RMSLE TRAIN:\t0.20513844444444446\tMEAN RMSLE VALID: 0.4844474444444445\n",
      "With DEPTH:\t14\tMEAN RMSLE TRAIN:\t0.18851744444444443\tMEAN RMSLE VALID: 0.4879038888888889\n"
     ]
    }
   ],
   "source": [
    "max_depth_results = get_max_depth(evaluation_sets)"
   ]
  },
  {
   "cell_type": "code",
   "execution_count": 22,
   "id": "5f3c314b",
   "metadata": {},
   "outputs": [
    {
     "data": {
      "image/png": "[encoded data removed]",
      "text/plain": [
       "<Figure size 1000x300 with 1 Axes>"
      ]
     },
     "metadata": {},
     "output_type": "display_data"
    }
   ],
   "source": [
    "plt.figure(figsize = (10,3), dpi = 100)\n",
    "sns.lineplot(x = max_depth_results['depth'], y = max_depth_results['mean_rmsle_valid'], marker = 'o', color = 'orange', label = 'Validation')\n",
    "sns.lineplot(x = max_depth_results['depth'], y = max_depth_results['mean_rmsle_train'], marker = 'o', color = 'blue', label = 'Training')\n",
    "plt.title('XGBoost max_depth')\n",
    "plt.xlabel('max_depth')\n",
    "plt.ylabel('RMSLE')\n",
    "plt.show()"
   ]
  },
  {
   "cell_type": "markdown",
   "id": "c8ca8e9b",
   "metadata": {},
   "source": [
    "* We can see that the model starts overfitting after **max_depth = 6** as it is improving only on train data. RMSLE at this value of max_depth is **0.4642**\n",
    "\n",
    "\n",
    "### 3. MIN_CHILD_WEIGHT\n",
    "* min_child_weight is another parameter to control overfitting. The larger min_child_weight is, the more bias the algorithm has.\n",
    "* We will check the performance of the model for the values 1 to 5.\n",
    "* The value of n_estimators will be 200 and max_depth will be 4."
   ]
  },
  {
   "cell_type": "code",
   "execution_count": 23,
   "id": "7d1d62c0",
   "metadata": {},
   "outputs": [],
   "source": [
    "def get_min_child_weight(evaluation_set):\n",
    "    \n",
    "    results = []\n",
    "    \n",
    "    for mcw in (range(1, 6, 1)):\n",
    "        x = {}\n",
    "        SCORE_TRAIN = []\n",
    "        SCORE_VALID = []\n",
    "        for combo in evaluation_set:\n",
    "                        \n",
    "            # separate the independent and target variables from the train and valid data.    \n",
    "            train_data_x = combo[0].drop(columns= ['WEEK_END_DATE', 'UNITS', 'STORE_NUM', 'UPC'])\n",
    "            train_data_y = combo[0]['UNITS']\n",
    "\n",
    "            valid_data_x = combo[1].drop(columns= ['WEEK_END_DATE', 'UNITS', 'STORE_NUM', 'UPC'])\n",
    "            valid_data_y = combo[1]['UNITS']\n",
    "            \n",
    "            \n",
    "            # evaluation sets\n",
    "            # we will evaluate our model on both train and validation data\n",
    "            e_set = [(train_data_x, train_data_y),(valid_data_x, valid_data_y)]\n",
    "\n",
    "            model = xgb.XGBRegressor(n_estimators = 220,\n",
    "                                     max_depth=6,\n",
    "                                     min_child_weight= mcw,\n",
    "                                     learning_rate=0.01,\n",
    "                                     n_jobs=4,\n",
    "                                     random_state=0,\n",
    "                                     objective='reg:squarederror')\n",
    "            model.fit(train_data_x, train_data_y, eval_metric= custom_eval ,eval_set= e_set, verbose=False)\n",
    "\n",
    "            SCORE_TRAIN.append(model.evals_result_['validation_0']['rmsle'][-1])\n",
    "            SCORE_VALID.append(model.evals_result_['validation_1']['rmsle'][-1])\n",
    "            \n",
    "            \n",
    "        # calculate the mean rmsle on train and valid     \n",
    "        mean_score_train = np.mean(SCORE_TRAIN)\n",
    "        mean_score_valid = np.mean(SCORE_VALID)\n",
    "        \n",
    "        print('With Min Child Weight:\\t'+ str(mcw) + '\\tMEAN RMSLE TRAIN:\\t' + str(mean_score_train)+ '\\tMEAN RMSLE VALID: '+str(mean_score_valid))\n",
    "        x['mcw'] = mcw\n",
    "        x['mean_rmsle_train'] = mean_score_train\n",
    "        x['mean_rmsle_valid'] = mean_score_valid\n",
    "        results.append(x)\n",
    "\n",
    "    return pd.DataFrame(results)"
   ]
  },
  {
   "cell_type": "code",
   "execution_count": 24,
   "id": "ef4fa786",
   "metadata": {},
   "outputs": [
    {
     "name": "stdout",
     "output_type": "stream",
     "text": [
      "With Min Child Weight:\t1\tMEAN RMSLE TRAIN:\t0.37102977777777774\tMEAN RMSLE VALID: 0.4642932222222222\n",
      "With Min Child Weight:\t2\tMEAN RMSLE TRAIN:\t0.37116044444444446\tMEAN RMSLE VALID: 0.4645636666666666\n",
      "With Min Child Weight:\t3\tMEAN RMSLE TRAIN:\t0.3713246666666667\tMEAN RMSLE VALID: 0.4646906666666667\n",
      "With Min Child Weight:\t4\tMEAN RMSLE TRAIN:\t0.37133544444444444\tMEAN RMSLE VALID: 0.4643035555555556\n",
      "With Min Child Weight:\t5\tMEAN RMSLE TRAIN:\t0.37159622222222216\tMEAN RMSLE VALID: 0.46447655555555556\n"
     ]
    }
   ],
   "source": [
    "mcw_results = get_min_child_weight(evaluation_sets)"
   ]
  },
  {
   "cell_type": "code",
   "execution_count": 25,
   "id": "c647689e",
   "metadata": {},
   "outputs": [
    {
     "data": {
      "image/png": "[encoded data removed]",
      "text/plain": [
       "<Figure size 1000x300 with 1 Axes>"
      ]
     },
     "metadata": {},
     "output_type": "display_data"
    }
   ],
   "source": [
    "plt.figure(figsize = (10,3), dpi = 100)\n",
    "sns.lineplot(x = mcw_results['mcw'], y = mcw_results['mean_rmsle_valid'], marker = 'o', color = 'orange', label = 'Validation')\n",
    "#sns.lineplot(x = mcw_results['mcw'], y = mcw_results['mean_rmsle_train'], marker = 'o', color = 'blue', label = 'Training')\n",
    "plt.title('XGBoost min_child_weight')\n",
    "plt.xlabel('MCW')\n",
    "plt.ylabel('RMSLE')\n",
    "plt.show()"
   ]
  },
  {
   "cell_type": "markdown",
   "id": "8547c249",
   "metadata": {},
   "source": [
    "* The values of min_child_weight doesn't make much difference to the model performance. However at **min_child_weight = 1** the RMSLE **(0.4642)** for training and validation sets both, is lowest. So we will keep this value as 3.\n",
    "\n",
    "### 4. GAMMA\n",
    "* A node is split only when the resulting split gives a positive reduction in the loss function. Gamma specifies the minimum loss reduction required to make a split. The larger gamma is, the more biased the algorithm will be.\n",
    "* We will check the performance of the model on values 0, 0.01, 0.1, 0.5, 1, 10 and 100.\n"
   ]
  },
  {
   "cell_type": "code",
   "execution_count": 35,
   "id": "d9879600",
   "metadata": {},
   "outputs": [],
   "source": [
    "def get_gamma(evaluation_set):\n",
    "    \n",
    "    results = []\n",
    "    \n",
    "    for g in [0, 0.01, 0.1, 0.5, 1, 10, 100]:\n",
    "        x = {}\n",
    "        SCORE_TRAIN = []\n",
    "        SCORE_VALID = []\n",
    "        \n",
    "        for combo in evaluation_set:\n",
    "                        \n",
    "            # separate the target and independent variables from the train and valid    \n",
    "            train_data_x = combo[0].drop(columns= ['WEEK_END_DATE', 'UNITS', 'STORE_NUM', 'UPC'])\n",
    "            train_data_y = combo[0]['UNITS']\n",
    "\n",
    "            valid_data_x = combo[1].drop(columns= ['WEEK_END_DATE', 'UNITS', 'STORE_NUM', 'UPC'])\n",
    "            valid_data_y = combo[1]['UNITS']\n",
    "\n",
    "            \n",
    "            # evaluation sets\n",
    "            # we will evaluate our model on both train and validation data\n",
    "            e_set = [ (train_data_x, train_data_y), (valid_data_x, valid_data_y)]\n",
    "\n",
    "            # fit the model \n",
    "            model = xgb.XGBRegressor(n_estimators = 220,\n",
    "                                     max_depth=6,\n",
    "                                     min_child_weight= 1,\n",
    "                                     gamma=g,\n",
    "                                     learning_rate=0.01,\n",
    "                                     n_jobs=4,\n",
    "                                     random_state=0,\n",
    "                                     objective='reg:squarederror')\n",
    "            model.fit(train_data_x, train_data_y, eval_metric= custom_eval ,eval_set= e_set, verbose=False)\n",
    "\n",
    "            SCORE_TRAIN.append(model.evals_result_['validation_0']['rmsle'][-1])\n",
    "            SCORE_VALID.append(model.evals_result_['validation_1']['rmsle'][-1])\n",
    "            \n",
    "            \n",
    "        # calculate the mean rmsle on train and valid.    \n",
    "        mean_score_train = np.mean(SCORE_TRAIN)\n",
    "        mean_score_valid = np.mean(SCORE_VALID)\n",
    "        \n",
    "        print('With Gamma:\\t'+ str(g) + '\\tMEAN RMSLE TRAIN:\\t' + str(mean_score_train)+'\\tMEAN RMSLE VALID: '+str(mean_score_valid))\n",
    "        x['gamma'] = g\n",
    "        x['mean_rmsle_train'] = mean_score_train\n",
    "        x['mean_rmsle_valid'] = mean_score_valid\n",
    "        results.append(x)\n",
    "\n",
    "    return pd.DataFrame(results)"
   ]
  },
  {
   "cell_type": "code",
   "execution_count": 36,
   "id": "a93e5328",
   "metadata": {},
   "outputs": [
    {
     "name": "stdout",
     "output_type": "stream",
     "text": [
      "With Gamma:\t0\tMEAN RMSLE TRAIN:\t0.37102977777777774\tMEAN RMSLE VALID: 0.4642932222222222\n",
      "With Gamma:\t0.01\tMEAN RMSLE TRAIN:\t0.37102977777777774\tMEAN RMSLE VALID: 0.4642932222222222\n",
      "With Gamma:\t0.1\tMEAN RMSLE TRAIN:\t0.37102977777777774\tMEAN RMSLE VALID: 0.4642932222222222\n",
      "With Gamma:\t0.5\tMEAN RMSLE TRAIN:\t0.3710245555555556\tMEAN RMSLE VALID: 0.4643196666666667\n",
      "With Gamma:\t1\tMEAN RMSLE TRAIN:\t0.3710257777777778\tMEAN RMSLE VALID: 0.46441444444444446\n",
      "With Gamma:\t10\tMEAN RMSLE TRAIN:\t0.3709841111111111\tMEAN RMSLE VALID: 0.4643756666666667\n",
      "With Gamma:\t100\tMEAN RMSLE TRAIN:\t0.3712566666666667\tMEAN RMSLE VALID: 0.46446566666666667\n"
     ]
    }
   ],
   "source": [
    "gamma_results = get_gamma(evaluation_sets)"
   ]
  },
  {
   "cell_type": "code",
   "execution_count": 38,
   "id": "90e9f0dc",
   "metadata": {},
   "outputs": [
    {
     "data": {
      "image/png": "[encoded data removed]",
      "text/plain": [
       "<Figure size 1000x300 with 1 Axes>"
      ]
     },
     "metadata": {},
     "output_type": "display_data"
    }
   ],
   "source": [
    "plt.figure(figsize = (10,3), dpi = 100)\n",
    "sns.lineplot(x = gamma_results['gamma'], y = gamma_results['mean_rmsle_valid'], marker = 'o', color = 'orange', label = 'Validation')\n",
    "sns.lineplot(x = gamma_results['gamma'], y = gamma_results['mean_rmsle_train'], marker = 'o', color = 'blue', label = 'Training')\n",
    "plt.title('XGBoost Gamma')\n",
    "plt.xlabel('gamma')\n",
    "plt.ylabel('RMSLE')\n",
    "plt.show()"
   ]
  },
  {
   "cell_type": "markdown",
   "id": "0c846f7b",
   "metadata": {},
   "source": [
    "* The value of gamma is also not making much difference to the model performance.\n",
    "* We will keep the value of gamma fixed to 0.\n",
    "\n",
    "### 5. SUB SAMPLE\n",
    "* Subsample ratio of the training instances. Setting it to a value less than 1 means that XGBoost would randomly sample a percentage of the training data prior to growing trees and this will prevent overfitting.\n",
    "* We will choose different values from 0 to 1 and check the performance."
   ]
  },
  {
   "cell_type": "code",
   "execution_count": 39,
   "id": "d0fa571b",
   "metadata": {},
   "outputs": [],
   "source": [
    "def get_subsample(evaluation_set):\n",
    "    \n",
    "    results = []\n",
    "    \n",
    "    for ss in [ 0.01, 0.05, 0.075, 0.1, 0.4, 0.6, 0.7, 0.8, 0.9, 0.95, 0.97, 0.99, 0.999, 1]:\n",
    "        x = {}\n",
    "        SCORE_TRAIN = []\n",
    "        SCORE_VALID = []\n",
    "        \n",
    "        for combo in evaluation_set:\n",
    "            \n",
    "            # separate the independent and target variable from train and valid\n",
    "            train_data_x = combo[0].drop(columns= ['WEEK_END_DATE', 'UNITS', 'STORE_NUM', 'UPC'])\n",
    "            train_data_y = combo[0]['UNITS']\n",
    "\n",
    "            valid_data_x = combo[1].drop(columns= ['WEEK_END_DATE', 'UNITS', 'STORE_NUM', 'UPC'])\n",
    "            valid_data_y = combo[1]['UNITS']\n",
    "\n",
    "            # evaluation sets\n",
    "            # we will evaluate our model on both train and validation data\n",
    "            e_set = [ (train_data_x, train_data_y), (valid_data_x, valid_data_y)]\n",
    "\n",
    "            # fit the model\n",
    "            model = xgb.XGBRegressor(n_estimators = 220,\n",
    "                                     subsample= ss,\n",
    "                                     max_depth= 6,\n",
    "                                     min_child_weight= 3,\n",
    "                                     gamma= 0,\n",
    "                                     learning_rate=0.01,\n",
    "                                     n_jobs=4,\n",
    "                                     random_state=0,\n",
    "                                     objective='reg:squarederror')\n",
    "            \n",
    "            model.fit(train_data_x, train_data_y, eval_metric= custom_eval ,eval_set= e_set, verbose=False)\n",
    "\n",
    "            SCORE_TRAIN.append(model.evals_result_['validation_0']['rmsle'][-1])\n",
    "            SCORE_VALID.append(model.evals_result_['validation_1']['rmsle'][-1])\n",
    "            \n",
    "        # calculate the mean rmsle on train and valid.\n",
    "        mean_score_train = np.mean(SCORE_TRAIN)\n",
    "        mean_score_valid = np.mean(SCORE_VALID)\n",
    "        \n",
    "        print('With Subsample:\\t'+ str(ss) + '\\tMEAN RMSLE TRAIN:\\t' + str(mean_score_train)+'\\tMEAN RMSLE VALID: '+str(mean_score_valid))\n",
    "        x['sub_sample'] = ss\n",
    "        x['mean_rmsle_train'] = mean_score_train\n",
    "        x['mean_rmsle_valid'] = mean_score_valid\n",
    "        results.append(x)\n",
    "\n",
    "    return pd.DataFrame(results)"
   ]
  },
  {
   "cell_type": "code",
   "execution_count": 40,
   "id": "ea8a8697",
   "metadata": {},
   "outputs": [
    {
     "name": "stdout",
     "output_type": "stream",
     "text": [
      "With Subsample:\t0.01\tMEAN RMSLE TRAIN:\t0.44329266666666667\tMEAN RMSLE VALID: 0.4913100000000001\n",
      "With Subsample:\t0.05\tMEAN RMSLE TRAIN:\t0.39475311111111105\tMEAN RMSLE VALID: 0.4660103333333334\n",
      "With Subsample:\t0.075\tMEAN RMSLE TRAIN:\t0.386328\tMEAN RMSLE VALID: 0.46217811111111107\n",
      "With Subsample:\t0.1\tMEAN RMSLE TRAIN:\t0.38241733333333333\tMEAN RMSLE VALID: 0.4601707777777778\n",
      "With Subsample:\t0.4\tMEAN RMSLE TRAIN:\t0.37012355555555554\tMEAN RMSLE VALID: 0.4614125555555556\n",
      "With Subsample:\t0.6\tMEAN RMSLE TRAIN:\t0.36914355555555556\tMEAN RMSLE VALID: 0.46296977777777776\n",
      "With Subsample:\t0.7\tMEAN RMSLE TRAIN:\t0.3693183333333333\tMEAN RMSLE VALID: 0.4626851111111111\n",
      "With Subsample:\t0.8\tMEAN RMSLE TRAIN:\t0.3694411111111111\tMEAN RMSLE VALID: 0.4637271111111111\n",
      "With Subsample:\t0.9\tMEAN RMSLE TRAIN:\t0.3696728888888889\tMEAN RMSLE VALID: 0.4642157777777778\n",
      "With Subsample:\t0.95\tMEAN RMSLE TRAIN:\t0.3702341111111111\tMEAN RMSLE VALID: 0.46467588888888894\n",
      "With Subsample:\t0.97\tMEAN RMSLE TRAIN:\t0.37048311111111115\tMEAN RMSLE VALID: 0.4647527777777778\n",
      "With Subsample:\t0.99\tMEAN RMSLE TRAIN:\t0.37104766666666666\tMEAN RMSLE VALID: 0.4651901111111111\n",
      "With Subsample:\t0.999\tMEAN RMSLE TRAIN:\t0.3713823333333333\tMEAN RMSLE VALID: 0.4646226666666667\n",
      "With Subsample:\t1\tMEAN RMSLE TRAIN:\t0.3713246666666667\tMEAN RMSLE VALID: 0.4646906666666667\n"
     ]
    }
   ],
   "source": [
    "subsample_results = get_subsample(evaluation_sets)"
   ]
  },
  {
   "cell_type": "code",
   "execution_count": 41,
   "id": "e4210a6c",
   "metadata": {},
   "outputs": [
    {
     "data": {
      "image/png": "[encoded data removed]",
      "text/plain": [
       "<Figure size 1000x300 with 1 Axes>"
      ]
     },
     "metadata": {},
     "output_type": "display_data"
    }
   ],
   "source": [
    "plt.figure(figsize = (10,3), dpi = 100)\n",
    "sns.lineplot(x = subsample_results['sub_sample'], y = subsample_results['mean_rmsle_valid'], marker = 'o', color = 'orange', label = 'Validation')\n",
    "sns.lineplot(x = subsample_results['sub_sample'], y = subsample_results['mean_rmsle_train'], marker = 'o', color = 'blue', label = 'Training')\n",
    "plt.title('XGBoost Subsample')\n",
    "plt.xlabel('gamma')\n",
    "plt.ylabel('RMSLE')\n",
    "plt.show()"
   ]
  },
  {
   "cell_type": "markdown",
   "id": "de5e0412",
   "metadata": {},
   "source": [
    "* We can see that the **Lowest RMSLE (0.4601)** is at the **subsample = 0.1**\n",
    "\n",
    "#### Final Hyperparameters\n",
    "So after all the steps for tuning the hyperparameters for XGBoost, this is what we have.\n",
    "\n",
    "* **N_ESTIMATORS** : 220\n",
    "* **MAX_DEPTH** : 6\n",
    "* **LEARNING RATE** : 0.01\n",
    "* **GAMMA** : 0\n",
    "* **MIN_CHILD_WEIGHT** : 1\n",
    "* **SUBSAMPLE** : 0.1"
   ]
  },
  {
   "cell_type": "code",
   "execution_count": null,
   "id": "4a705aac",
   "metadata": {},
   "outputs": [],
   "source": []
  },
  {
   "cell_type": "code",
   "execution_count": null,
   "id": "53c5b7b7",
   "metadata": {},
   "outputs": [],
   "source": []
  }
 ],
 "metadata": {
  "kernelspec": {
   "display_name": "Python 3 (ipykernel)",
   "language": "python",
   "name": "python3"
  },
  "language_info": {
   "codemirror_mode": {
    "name": "ipython",
    "version": 3
   },
   "file_extension": ".py",
   "mimetype": "text/x-python",
   "name": "python",
   "nbconvert_exporter": "python",
   "pygments_lexer": "ipython3",
   "version": "3.10.9"
  }
 },
 "nbformat": 4,
 "nbformat_minor": 5
}
