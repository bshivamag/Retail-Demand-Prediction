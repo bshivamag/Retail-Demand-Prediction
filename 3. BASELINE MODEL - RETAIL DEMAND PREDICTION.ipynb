{
 "cells": [
  {
   "cell_type": "markdown",
   "id": "e4283a68",
   "metadata": {},
   "source": [
    "# RETAIL DEMAND PREDICTION - BASELINE MODEL"
   ]
  },
  {
   "cell_type": "code",
   "execution_count": 1,
   "id": "acd2013c",
   "metadata": {},
   "outputs": [],
   "source": [
    "import numpy as np\n",
    "import pandas as pd\n",
    "import datetime\n",
    "import matplotlib.pyplot as plt\n",
    "import seaborn as sns\n",
    "%matplotlib inline\n",
    "\n",
    "import warnings\n",
    "warnings.filterwarnings('ignore')\n",
    "\n",
    "from sklearn.metrics import mean_squared_log_error as msle\n",
    "from sklearn.model_selection import train_test_split, KFold\n",
    "\n",
    "from sklearn.linear_model import LinearRegression\n",
    "from sklearn.tree import DecisionTreeRegressor\n",
    "from sklearn.ensemble import RandomForestRegressor"
   ]
  },
  {
   "cell_type": "markdown",
   "id": "1c478d89",
   "metadata": {},
   "source": [
    "## 1. Loading datasets and merging tables"
   ]
  },
  {
   "cell_type": "code",
   "execution_count": 2,
   "id": "c539c352",
   "metadata": {},
   "outputs": [],
   "source": [
    "train_df = pd.read_csv('updated_train_data.csv')\n",
    "product_df = pd.read_csv('updated_product_data.csv')\n",
    "store_df = pd.read_csv('updated_store_data.csv')"
   ]
  },
  {
   "cell_type": "code",
   "execution_count": 3,
   "id": "f6412f2d",
   "metadata": {},
   "outputs": [
    {
     "data": {
      "text/html": [
       "<div>\n",
       "<style scoped>\n",
       "    .dataframe tbody tr th:only-of-type {\n",
       "        vertical-align: middle;\n",
       "    }\n",
       "\n",
       "    .dataframe tbody tr th {\n",
       "        vertical-align: top;\n",
       "    }\n",
       "\n",
       "    .dataframe thead th {\n",
       "        text-align: right;\n",
       "    }\n",
       "</style>\n",
       "<table border=\"1\" class=\"dataframe\">\n",
       "  <thead>\n",
       "    <tr style=\"text-align: right;\">\n",
       "      <th></th>\n",
       "      <th>WEEK_END_DATE</th>\n",
       "      <th>STORE_NUM</th>\n",
       "      <th>UPC</th>\n",
       "      <th>BASE_PRICE</th>\n",
       "      <th>FEATURE</th>\n",
       "      <th>DISPLAY</th>\n",
       "      <th>UNITS</th>\n",
       "      <th>MONTH</th>\n",
       "    </tr>\n",
       "  </thead>\n",
       "  <tbody>\n",
       "    <tr>\n",
       "      <th>0</th>\n",
       "      <td>2009-01-14</td>\n",
       "      <td>367</td>\n",
       "      <td>1111009477</td>\n",
       "      <td>1.57</td>\n",
       "      <td>0</td>\n",
       "      <td>0</td>\n",
       "      <td>13</td>\n",
       "      <td>1</td>\n",
       "    </tr>\n",
       "    <tr>\n",
       "      <th>1</th>\n",
       "      <td>2009-01-14</td>\n",
       "      <td>367</td>\n",
       "      <td>1111009497</td>\n",
       "      <td>1.39</td>\n",
       "      <td>0</td>\n",
       "      <td>0</td>\n",
       "      <td>20</td>\n",
       "      <td>1</td>\n",
       "    </tr>\n",
       "  </tbody>\n",
       "</table>\n",
       "</div>"
      ],
      "text/plain": [
       "  WEEK_END_DATE  STORE_NUM         UPC  BASE_PRICE  FEATURE  DISPLAY  UNITS  \\\n",
       "0    2009-01-14        367  1111009477        1.57        0        0     13   \n",
       "1    2009-01-14        367  1111009497        1.39        0        0     20   \n",
       "\n",
       "   MONTH  \n",
       "0      1  \n",
       "1      1  "
      ]
     },
     "execution_count": 3,
     "metadata": {},
     "output_type": "execute_result"
    }
   ],
   "source": [
    "train_df.head(2)"
   ]
  },
  {
   "cell_type": "code",
   "execution_count": 4,
   "id": "7d031854",
   "metadata": {},
   "outputs": [
    {
     "data": {
      "text/html": [
       "<div>\n",
       "<style scoped>\n",
       "    .dataframe tbody tr th:only-of-type {\n",
       "        vertical-align: middle;\n",
       "    }\n",
       "\n",
       "    .dataframe tbody tr th {\n",
       "        vertical-align: top;\n",
       "    }\n",
       "\n",
       "    .dataframe thead th {\n",
       "        text-align: right;\n",
       "    }\n",
       "</style>\n",
       "<table border=\"1\" class=\"dataframe\">\n",
       "  <thead>\n",
       "    <tr style=\"text-align: right;\">\n",
       "      <th></th>\n",
       "      <th>UPC</th>\n",
       "      <th>MANUFACTURER_1</th>\n",
       "      <th>MANUFACTURER_2</th>\n",
       "      <th>MANUFACTURER_3</th>\n",
       "      <th>MANUFACTURER_4</th>\n",
       "      <th>MANUFACTURER_5</th>\n",
       "      <th>MANUFACTURER_6</th>\n",
       "      <th>MANUFACTURER_7</th>\n",
       "      <th>MANUFACTURER_8</th>\n",
       "      <th>MANUFACTURER_9</th>\n",
       "      <th>...</th>\n",
       "      <th>CATEGORY_3</th>\n",
       "      <th>CATEGORY_4</th>\n",
       "      <th>SUB_CATEGORY_1</th>\n",
       "      <th>SUB_CATEGORY_2</th>\n",
       "      <th>SUB_CATEGORY_3</th>\n",
       "      <th>SUB_CATEGORY_4</th>\n",
       "      <th>SUB_CATEGORY_5</th>\n",
       "      <th>SUB_CATEGORY_6</th>\n",
       "      <th>SUB_CATEGORY_7</th>\n",
       "      <th>SIZE</th>\n",
       "    </tr>\n",
       "  </thead>\n",
       "  <tbody>\n",
       "    <tr>\n",
       "      <th>0</th>\n",
       "      <td>1111009477</td>\n",
       "      <td>1</td>\n",
       "      <td>0</td>\n",
       "      <td>0</td>\n",
       "      <td>0</td>\n",
       "      <td>0</td>\n",
       "      <td>0</td>\n",
       "      <td>0</td>\n",
       "      <td>0</td>\n",
       "      <td>0</td>\n",
       "      <td>...</td>\n",
       "      <td>0</td>\n",
       "      <td>0</td>\n",
       "      <td>1</td>\n",
       "      <td>0</td>\n",
       "      <td>0</td>\n",
       "      <td>0</td>\n",
       "      <td>0</td>\n",
       "      <td>0</td>\n",
       "      <td>0</td>\n",
       "      <td>15.0</td>\n",
       "    </tr>\n",
       "    <tr>\n",
       "      <th>1</th>\n",
       "      <td>1111009497</td>\n",
       "      <td>1</td>\n",
       "      <td>0</td>\n",
       "      <td>0</td>\n",
       "      <td>0</td>\n",
       "      <td>0</td>\n",
       "      <td>0</td>\n",
       "      <td>0</td>\n",
       "      <td>0</td>\n",
       "      <td>0</td>\n",
       "      <td>...</td>\n",
       "      <td>0</td>\n",
       "      <td>0</td>\n",
       "      <td>1</td>\n",
       "      <td>0</td>\n",
       "      <td>0</td>\n",
       "      <td>0</td>\n",
       "      <td>0</td>\n",
       "      <td>0</td>\n",
       "      <td>0</td>\n",
       "      <td>15.0</td>\n",
       "    </tr>\n",
       "  </tbody>\n",
       "</table>\n",
       "<p>2 rows × 22 columns</p>\n",
       "</div>"
      ],
      "text/plain": [
       "          UPC  MANUFACTURER_1  MANUFACTURER_2  MANUFACTURER_3  MANUFACTURER_4  \\\n",
       "0  1111009477               1               0               0               0   \n",
       "1  1111009497               1               0               0               0   \n",
       "\n",
       "   MANUFACTURER_5  MANUFACTURER_6  MANUFACTURER_7  MANUFACTURER_8  \\\n",
       "0               0               0               0               0   \n",
       "1               0               0               0               0   \n",
       "\n",
       "   MANUFACTURER_9  ...  CATEGORY_3  CATEGORY_4  SUB_CATEGORY_1  \\\n",
       "0               0  ...           0           0               1   \n",
       "1               0  ...           0           0               1   \n",
       "\n",
       "   SUB_CATEGORY_2  SUB_CATEGORY_3  SUB_CATEGORY_4  SUB_CATEGORY_5  \\\n",
       "0               0               0               0               0   \n",
       "1               0               0               0               0   \n",
       "\n",
       "   SUB_CATEGORY_6  SUB_CATEGORY_7  SIZE  \n",
       "0               0               0  15.0  \n",
       "1               0               0  15.0  \n",
       "\n",
       "[2 rows x 22 columns]"
      ]
     },
     "execution_count": 4,
     "metadata": {},
     "output_type": "execute_result"
    }
   ],
   "source": [
    "product_df.head(2)"
   ]
  },
  {
   "cell_type": "code",
   "execution_count": 5,
   "id": "9f005382",
   "metadata": {},
   "outputs": [
    {
     "data": {
      "text/html": [
       "<div>\n",
       "<style scoped>\n",
       "    .dataframe tbody tr th:only-of-type {\n",
       "        vertical-align: middle;\n",
       "    }\n",
       "\n",
       "    .dataframe tbody tr th {\n",
       "        vertical-align: top;\n",
       "    }\n",
       "\n",
       "    .dataframe thead th {\n",
       "        text-align: right;\n",
       "    }\n",
       "</style>\n",
       "<table border=\"1\" class=\"dataframe\">\n",
       "  <thead>\n",
       "    <tr style=\"text-align: right;\">\n",
       "      <th></th>\n",
       "      <th>STORE_ID</th>\n",
       "      <th>ADDRESS_STATE_PROV_CODE_1</th>\n",
       "      <th>ADDRESS_STATE_PROV_CODE_2</th>\n",
       "      <th>ADDRESS_STATE_PROV_CODE_3</th>\n",
       "      <th>ADDRESS_STATE_PROV_CODE_4</th>\n",
       "      <th>MSA_CODE_1</th>\n",
       "      <th>MSA_CODE_2</th>\n",
       "      <th>MSA_CODE_3</th>\n",
       "      <th>MSA_CODE_4</th>\n",
       "      <th>MSA_CODE_5</th>\n",
       "      <th>MSA_CODE_6</th>\n",
       "      <th>MSA_CODE_7</th>\n",
       "      <th>MSA_CODE_8</th>\n",
       "      <th>MSA_CODE_9</th>\n",
       "      <th>SEG_VALUE_NAME</th>\n",
       "      <th>SALES_AREA_SIZE_NUM</th>\n",
       "      <th>AVG_WEEKLY_BASKETS</th>\n",
       "    </tr>\n",
       "  </thead>\n",
       "  <tbody>\n",
       "    <tr>\n",
       "      <th>0</th>\n",
       "      <td>367</td>\n",
       "      <td>1</td>\n",
       "      <td>0</td>\n",
       "      <td>0</td>\n",
       "      <td>0</td>\n",
       "      <td>1</td>\n",
       "      <td>0</td>\n",
       "      <td>0</td>\n",
       "      <td>0</td>\n",
       "      <td>0</td>\n",
       "      <td>0</td>\n",
       "      <td>0</td>\n",
       "      <td>0</td>\n",
       "      <td>0</td>\n",
       "      <td>1</td>\n",
       "      <td>24721</td>\n",
       "      <td>12707</td>\n",
       "    </tr>\n",
       "    <tr>\n",
       "      <th>1</th>\n",
       "      <td>389</td>\n",
       "      <td>1</td>\n",
       "      <td>0</td>\n",
       "      <td>0</td>\n",
       "      <td>0</td>\n",
       "      <td>1</td>\n",
       "      <td>0</td>\n",
       "      <td>0</td>\n",
       "      <td>0</td>\n",
       "      <td>0</td>\n",
       "      <td>0</td>\n",
       "      <td>0</td>\n",
       "      <td>0</td>\n",
       "      <td>0</td>\n",
       "      <td>2</td>\n",
       "      <td>46073</td>\n",
       "      <td>24767</td>\n",
       "    </tr>\n",
       "  </tbody>\n",
       "</table>\n",
       "</div>"
      ],
      "text/plain": [
       "   STORE_ID  ADDRESS_STATE_PROV_CODE_1  ADDRESS_STATE_PROV_CODE_2  \\\n",
       "0       367                          1                          0   \n",
       "1       389                          1                          0   \n",
       "\n",
       "   ADDRESS_STATE_PROV_CODE_3  ADDRESS_STATE_PROV_CODE_4  MSA_CODE_1  \\\n",
       "0                          0                          0           1   \n",
       "1                          0                          0           1   \n",
       "\n",
       "   MSA_CODE_2  MSA_CODE_3  MSA_CODE_4  MSA_CODE_5  MSA_CODE_6  MSA_CODE_7  \\\n",
       "0           0           0           0           0           0           0   \n",
       "1           0           0           0           0           0           0   \n",
       "\n",
       "   MSA_CODE_8  MSA_CODE_9  SEG_VALUE_NAME  SALES_AREA_SIZE_NUM  \\\n",
       "0           0           0               1                24721   \n",
       "1           0           0               2                46073   \n",
       "\n",
       "   AVG_WEEKLY_BASKETS  \n",
       "0               12707  \n",
       "1               24767  "
      ]
     },
     "execution_count": 5,
     "metadata": {},
     "output_type": "execute_result"
    }
   ],
   "source": [
    "store_df.head(2)"
   ]
  },
  {
   "cell_type": "code",
   "execution_count": 6,
   "id": "bf857d09",
   "metadata": {},
   "outputs": [
    {
     "data": {
      "text/html": [
       "<div>\n",
       "<style scoped>\n",
       "    .dataframe tbody tr th:only-of-type {\n",
       "        vertical-align: middle;\n",
       "    }\n",
       "\n",
       "    .dataframe tbody tr th {\n",
       "        vertical-align: top;\n",
       "    }\n",
       "\n",
       "    .dataframe thead th {\n",
       "        text-align: right;\n",
       "    }\n",
       "</style>\n",
       "<table border=\"1\" class=\"dataframe\">\n",
       "  <thead>\n",
       "    <tr style=\"text-align: right;\">\n",
       "      <th></th>\n",
       "      <th>WEEK_END_DATE</th>\n",
       "      <th>STORE_NUM</th>\n",
       "      <th>UPC</th>\n",
       "      <th>BASE_PRICE</th>\n",
       "      <th>FEATURE</th>\n",
       "      <th>DISPLAY</th>\n",
       "      <th>UNITS</th>\n",
       "      <th>MONTH</th>\n",
       "      <th>MANUFACTURER_1</th>\n",
       "      <th>MANUFACTURER_2</th>\n",
       "      <th>...</th>\n",
       "      <th>MSA_CODE_3</th>\n",
       "      <th>MSA_CODE_4</th>\n",
       "      <th>MSA_CODE_5</th>\n",
       "      <th>MSA_CODE_6</th>\n",
       "      <th>MSA_CODE_7</th>\n",
       "      <th>MSA_CODE_8</th>\n",
       "      <th>MSA_CODE_9</th>\n",
       "      <th>SEG_VALUE_NAME</th>\n",
       "      <th>SALES_AREA_SIZE_NUM</th>\n",
       "      <th>AVG_WEEKLY_BASKETS</th>\n",
       "    </tr>\n",
       "  </thead>\n",
       "  <tbody>\n",
       "    <tr>\n",
       "      <th>0</th>\n",
       "      <td>2009-01-14</td>\n",
       "      <td>367</td>\n",
       "      <td>1111009477</td>\n",
       "      <td>1.57</td>\n",
       "      <td>0</td>\n",
       "      <td>0</td>\n",
       "      <td>13</td>\n",
       "      <td>1</td>\n",
       "      <td>1</td>\n",
       "      <td>0</td>\n",
       "      <td>...</td>\n",
       "      <td>0</td>\n",
       "      <td>0</td>\n",
       "      <td>0</td>\n",
       "      <td>0</td>\n",
       "      <td>0</td>\n",
       "      <td>0</td>\n",
       "      <td>0</td>\n",
       "      <td>1</td>\n",
       "      <td>24721</td>\n",
       "      <td>12707</td>\n",
       "    </tr>\n",
       "    <tr>\n",
       "      <th>1</th>\n",
       "      <td>2009-01-14</td>\n",
       "      <td>367</td>\n",
       "      <td>1111009497</td>\n",
       "      <td>1.39</td>\n",
       "      <td>0</td>\n",
       "      <td>0</td>\n",
       "      <td>20</td>\n",
       "      <td>1</td>\n",
       "      <td>1</td>\n",
       "      <td>0</td>\n",
       "      <td>...</td>\n",
       "      <td>0</td>\n",
       "      <td>0</td>\n",
       "      <td>0</td>\n",
       "      <td>0</td>\n",
       "      <td>0</td>\n",
       "      <td>0</td>\n",
       "      <td>0</td>\n",
       "      <td>1</td>\n",
       "      <td>24721</td>\n",
       "      <td>12707</td>\n",
       "    </tr>\n",
       "  </tbody>\n",
       "</table>\n",
       "<p>2 rows × 46 columns</p>\n",
       "</div>"
      ],
      "text/plain": [
       "  WEEK_END_DATE  STORE_NUM         UPC  BASE_PRICE  FEATURE  DISPLAY  UNITS  \\\n",
       "0    2009-01-14        367  1111009477        1.57        0        0     13   \n",
       "1    2009-01-14        367  1111009497        1.39        0        0     20   \n",
       "\n",
       "   MONTH  MANUFACTURER_1  MANUFACTURER_2  ...  MSA_CODE_3  MSA_CODE_4  \\\n",
       "0      1               1               0  ...           0           0   \n",
       "1      1               1               0  ...           0           0   \n",
       "\n",
       "   MSA_CODE_5  MSA_CODE_6  MSA_CODE_7  MSA_CODE_8  MSA_CODE_9  SEG_VALUE_NAME  \\\n",
       "0           0           0           0           0           0               1   \n",
       "1           0           0           0           0           0               1   \n",
       "\n",
       "   SALES_AREA_SIZE_NUM  AVG_WEEKLY_BASKETS  \n",
       "0                24721               12707  \n",
       "1                24721               12707  \n",
       "\n",
       "[2 rows x 46 columns]"
      ]
     },
     "execution_count": 6,
     "metadata": {},
     "output_type": "execute_result"
    }
   ],
   "source": [
    "mega_df = train_df.merge(product_df, on = 'UPC', how = 'left')\n",
    "mega_df = mega_df.merge(store_df, left_on = 'STORE_NUM', right_on = 'STORE_ID', how = 'left')\n",
    "mega_df.head(2)"
   ]
  },
  {
   "cell_type": "code",
   "execution_count": 7,
   "id": "9c545415",
   "metadata": {},
   "outputs": [
    {
     "data": {
      "text/plain": [
       "WEEK_END_DATE                0\n",
       "STORE_NUM                    0\n",
       "UPC                          0\n",
       "BASE_PRICE                   0\n",
       "FEATURE                      0\n",
       "DISPLAY                      0\n",
       "UNITS                        0\n",
       "MONTH                        0\n",
       "MANUFACTURER_1               0\n",
       "MANUFACTURER_2               0\n",
       "MANUFACTURER_3               0\n",
       "MANUFACTURER_4               0\n",
       "MANUFACTURER_5               0\n",
       "MANUFACTURER_6               0\n",
       "MANUFACTURER_7               0\n",
       "MANUFACTURER_8               0\n",
       "MANUFACTURER_9               0\n",
       "CATEGORY_1                   0\n",
       "CATEGORY_2                   0\n",
       "CATEGORY_3                   0\n",
       "CATEGORY_4                   0\n",
       "SUB_CATEGORY_1               0\n",
       "SUB_CATEGORY_2               0\n",
       "SUB_CATEGORY_3               0\n",
       "SUB_CATEGORY_4               0\n",
       "SUB_CATEGORY_5               0\n",
       "SUB_CATEGORY_6               0\n",
       "SUB_CATEGORY_7               0\n",
       "SIZE                         0\n",
       "STORE_ID                     0\n",
       "ADDRESS_STATE_PROV_CODE_1    0\n",
       "ADDRESS_STATE_PROV_CODE_2    0\n",
       "ADDRESS_STATE_PROV_CODE_3    0\n",
       "ADDRESS_STATE_PROV_CODE_4    0\n",
       "MSA_CODE_1                   0\n",
       "MSA_CODE_2                   0\n",
       "MSA_CODE_3                   0\n",
       "MSA_CODE_4                   0\n",
       "MSA_CODE_5                   0\n",
       "MSA_CODE_6                   0\n",
       "MSA_CODE_7                   0\n",
       "MSA_CODE_8                   0\n",
       "MSA_CODE_9                   0\n",
       "SEG_VALUE_NAME               0\n",
       "SALES_AREA_SIZE_NUM          0\n",
       "AVG_WEEKLY_BASKETS           0\n",
       "dtype: int64"
      ]
     },
     "execution_count": 7,
     "metadata": {},
     "output_type": "execute_result"
    }
   ],
   "source": [
    "mega_df.isnull().sum()"
   ]
  },
  {
   "cell_type": "markdown",
   "id": "c0e7ad7d",
   "metadata": {},
   "source": [
    "We will drop the 'STORE_ID' column because it's repeating."
   ]
  },
  {
   "cell_type": "code",
   "execution_count": 8,
   "id": "ff16037e",
   "metadata": {},
   "outputs": [],
   "source": [
    "mega_df.drop(columns = 'STORE_ID', axis = 1, inplace = True )"
   ]
  },
  {
   "cell_type": "markdown",
   "id": "44aec102",
   "metadata": {},
   "source": [
    "## 2. Creating a validation set"
   ]
  },
  {
   "cell_type": "code",
   "execution_count": 9,
   "id": "0a9da15f",
   "metadata": {},
   "outputs": [],
   "source": [
    "mega_df['WEEK_END_DATE'] = pd.to_datetime(mega_df['WEEK_END_DATE'])"
   ]
  },
  {
   "cell_type": "code",
   "execution_count": 10,
   "id": "f0b641b3",
   "metadata": {},
   "outputs": [],
   "source": [
    "weeks = mega_df['WEEK_END_DATE'].unique()"
   ]
  },
  {
   "cell_type": "markdown",
   "id": "d3a3186f",
   "metadata": {},
   "source": [
    "* We have stored the unique WEEK_END_DATE in **'weeks'** list so that it would be easier to split the data based on time. It will be used to create and train and validation split.\n",
    "\n",
    "* We will keep one week gap between the train and validation set and train set will start from the very begining from where the data is available."
   ]
  },
  {
   "cell_type": "code",
   "execution_count": 11,
   "id": "3d7c95d6",
   "metadata": {},
   "outputs": [],
   "source": [
    "# Creating dictionaries that stores WEEK_END_DATES for training and validation sets (with 1 week gap)\n",
    "\n",
    "def get_train_val_set(number = 1):\n",
    "    \n",
    "    validation_sets = []\n",
    "    \n",
    "    for n in range(number):\n",
    "        x = {}\n",
    "        \n",
    "        x['validation_set'] = weeks[len(weeks)-n-1]\n",
    "        x['train_set'] = weeks[len(weeks)-n-3]\n",
    "        \n",
    "        validation_sets.append(x)\n",
    "        \n",
    "    return validation_sets"
   ]
  },
  {
   "cell_type": "markdown",
   "id": "357e6031",
   "metadata": {},
   "source": [
    "We could go ahead with just 1 validation set to check the RMSLE score we are getting from different baseline models. However, taking multiple validation sets also allows us to look at the consistency of scores across multiple subsets of data.\n",
    "\n",
    "Here, we will take 5 validation sets for starters"
   ]
  },
  {
   "cell_type": "code",
   "execution_count": 12,
   "id": "3ebd371f",
   "metadata": {},
   "outputs": [
    {
     "data": {
      "text/plain": [
       "[{'validation_set': numpy.datetime64('2011-09-28T00:00:00.000000000'),\n",
       "  'train_set': numpy.datetime64('2011-09-14T00:00:00.000000000')},\n",
       " {'validation_set': numpy.datetime64('2011-09-21T00:00:00.000000000'),\n",
       "  'train_set': numpy.datetime64('2011-09-07T00:00:00.000000000')},\n",
       " {'validation_set': numpy.datetime64('2011-09-14T00:00:00.000000000'),\n",
       "  'train_set': numpy.datetime64('2011-08-31T00:00:00.000000000')},\n",
       " {'validation_set': numpy.datetime64('2011-09-07T00:00:00.000000000'),\n",
       "  'train_set': numpy.datetime64('2011-08-24T00:00:00.000000000')},\n",
       " {'validation_set': numpy.datetime64('2011-08-31T00:00:00.000000000'),\n",
       "  'train_set': numpy.datetime64('2011-08-17T00:00:00.000000000')}]"
      ]
     },
     "execution_count": 12,
     "metadata": {},
     "output_type": "execute_result"
    }
   ],
   "source": [
    "validation_sets = get_train_val_set(number=5)\n",
    "validation_sets"
   ]
  },
  {
   "cell_type": "code",
   "execution_count": 13,
   "id": "bdd3a3bc",
   "metadata": {},
   "outputs": [],
   "source": [
    "# Now, we will use that dictionary and store the train and validation sets as a list of tuples.\n",
    "\n",
    "data_set = []\n",
    "\n",
    "for data in validation_sets:\n",
    "    \n",
    "    training_data = mega_df[mega_df['WEEK_END_DATE'] <= data['train_set']]\n",
    "    validation_data = mega_df[mega_df['WEEK_END_DATE'] == data['validation_set']]\n",
    "    \n",
    "    data_set.append((training_data, validation_data))"
   ]
  },
  {
   "cell_type": "markdown",
   "id": "58946abd",
   "metadata": {},
   "source": [
    "## 3. Creating Base Models\n",
    "### (A) Mean Prediction\n",
    "\n",
    "Now, we will create our first baseline model, MEAN PREDICTION. We will use the past data to take average on a group of STORE_NUM and UPC and use this to predict on the validaion set.\n",
    "\n",
    "Evaluation Metric:  **Root Mean Squared Log Error**"
   ]
  },
  {
   "cell_type": "code",
   "execution_count": 14,
   "id": "9a99a858",
   "metadata": {},
   "outputs": [],
   "source": [
    "# Function for RMSLE\n",
    "\n",
    "def get_rmsle(true, predicted):\n",
    "    return np.sqrt(msle(true, predicted))"
   ]
  },
  {
   "cell_type": "code",
   "execution_count": 15,
   "id": "232ae45d",
   "metadata": {},
   "outputs": [
    {
     "name": "stdout",
     "output_type": "stream",
     "text": [
      "RMSLE ON TRAINING SET:  1 :  0.590227758659263\n",
      "RMSLE ON VALIDATION SET:  1 :  0.5887593934251679\n",
      "=====================================================================\n",
      "RMSLE ON TRAINING SET:  2 :  0.5912322922347757\n",
      "RMSLE ON VALIDATION SET:  2 :  0.626292442973742\n",
      "=====================================================================\n",
      "RMSLE ON TRAINING SET:  3 :  0.591764652319905\n",
      "RMSLE ON VALIDATION SET:  3 :  0.47834728926290576\n",
      "=====================================================================\n",
      "RMSLE ON TRAINING SET:  4 :  0.591403566346982\n",
      "RMSLE ON VALIDATION SET:  4 :  0.581157656189428\n",
      "=====================================================================\n",
      "RMSLE ON TRAINING SET:  5 :  0.5916069602429402\n",
      "RMSLE ON VALIDATION SET:  5 :  0.7181409175065901\n",
      "=====================================================================\n",
      "Mean RMSLE on Train:  0.5912470459607733\n",
      "Mean RMSLE on Valid:  0.5985395398715668\n"
     ]
    }
   ],
   "source": [
    "train_rmsle = []\n",
    "valid_rmsle = []\n",
    "\n",
    "for i, data in enumerate(data_set):\n",
    "    \n",
    "    train, valid = data\n",
    "    \n",
    "    mean_prediction = train.groupby(['STORE_NUM', 'UPC'])['UNITS'].mean().reset_index()\n",
    "    \n",
    "    train = train.merge(mean_prediction, how = 'left', on = ['STORE_NUM', 'UPC'])\n",
    "    valid = valid.merge(mean_prediction, how = 'left', on = ['STORE_NUM', 'UPC'])\n",
    "    \n",
    "    t_rmsle = get_rmsle(train['UNITS_x'], train['UNITS_y'])\n",
    "    v_rmsle = get_rmsle(valid['UNITS_x'], valid['UNITS_y'])\n",
    "    \n",
    "    train_rmsle.append(t_rmsle)\n",
    "    valid_rmsle.append(v_rmsle)\n",
    "    \n",
    "    print('RMSLE ON TRAINING SET: ',i+1, ': ', t_rmsle)\n",
    "    print('RMSLE ON VALIDATION SET: ',i+1, ': ',v_rmsle)\n",
    "    print('=====================================================================')\n",
    "    \n",
    "# get the mean RMSLE on train and validation set.     \n",
    "print('Mean RMSLE on Train: ', np.mean(train_rmsle))\n",
    "print('Mean RMSLE on Valid: ', np.mean(valid_rmsle))"
   ]
  },
  {
   "cell_type": "markdown",
   "id": "f9a754f3",
   "metadata": {},
   "source": [
    "### (B). Simple Moving Average\n",
    "\n",
    "* Now, we will use the Simple Moving Average, Like earlier we have used the average over the complete training period. Here, average will be taken on a specified period.\n",
    "* We will use the predicted value as the average number of UNITS sold in last 8 weeks from a particular store of a particular product.\n",
    "* As, we have one week gap between the train and validation set."
   ]
  },
  {
   "cell_type": "code",
   "execution_count": 16,
   "id": "737a8238",
   "metadata": {},
   "outputs": [],
   "source": [
    "train_copy = train.copy()\n",
    "valid_copy = valid.copy()\n",
    "    \n",
    "    # group the data by STORE_NUM and UPC and use rolling and mean function to calculate the moving average.\n",
    "data_copy = train_copy.groupby(['STORE_NUM','UPC'])['UNITS_x'].rolling(2).mean().reset_index().set_index('level_2')"
   ]
  },
  {
   "cell_type": "code",
   "execution_count": 17,
   "id": "12e23ab6",
   "metadata": {},
   "outputs": [],
   "source": [
    "def get_sma(i, train, valid, no_of_weeks = 2):\n",
    "    \n",
    "    # Create a copy of train and validation datasets\n",
    "    train_copy = train.copy()\n",
    "    valid_copy = valid.copy()\n",
    "    \n",
    "    # Predicting the Moving average for specified number of weeks from train dataset, using rolling function\n",
    "    data_copy = train_copy.groupby(['STORE_NUM', 'UPC'])['UNITS'].rolling(no_of_weeks).mean().reset_index().set_index('level_2')\n",
    "    \n",
    "    # Adding a moving average column to train_copy dataset \n",
    "    train_copy['moving_average'] = data_copy['UNITS']\n",
    "    \n",
    "    # the last prediction on train set will be used as prediction on validation set.\n",
    "    # calculate the last_average dataframe by groupby using last function.\n",
    "    last_average = train_copy.groupby(['STORE_NUM', 'UPC'])['moving_average'].last().reset_index()\n",
    "    \n",
    "    train_copy = train_copy[['WEEK_END_DATE', 'STORE_NUM', 'UPC', 'UNITS', 'moving_average']]\n",
    "    valid_copy = valid_copy[['WEEK_END_DATE','STORE_NUM', 'UPC', 'UNITS']]\n",
    "    \n",
    "    # drop the null values in the dataframe\n",
    "    train_copy.dropna(inplace=True)\n",
    "    # merge the validation data with the last_average by left join\n",
    "    valid_copy = valid_copy.merge(last_average, how= 'left', on= ['STORE_NUM', 'UPC'])\n",
    "    \n",
    "    # calculate the rmsle on train and validation data\n",
    "    t_rmsle = get_rmsle(train_copy['UNITS'], train_copy['moving_average'])\n",
    "    v_rmsle = get_rmsle(valid_copy['UNITS'], valid_copy['moving_average'])\n",
    "    \n",
    "    print('RMSLE ON TRAINING SET: ',i+1, ': ', t_rmsle)\n",
    "    print('RMSLE ON VALIDATION SET: ',i+1, ': ',v_rmsle)\n",
    "    print('=====================================================================')\n",
    "    \n",
    "    return t_rmsle, v_rmsle\n",
    "    "
   ]
  },
  {
   "cell_type": "code",
   "execution_count": 18,
   "id": "55d52263",
   "metadata": {},
   "outputs": [
    {
     "name": "stdout",
     "output_type": "stream",
     "text": [
      "RMSLE ON TRAINING SET:  1 :  0.5322812942885873\n",
      "RMSLE ON VALIDATION SET:  1 :  0.5469206496913668\n",
      "=====================================================================\n",
      "RMSLE ON TRAINING SET:  2 :  0.5332220629244886\n",
      "RMSLE ON VALIDATION SET:  2 :  0.6421015703332319\n",
      "=====================================================================\n",
      "RMSLE ON TRAINING SET:  3 :  0.5335488387739031\n",
      "RMSLE ON VALIDATION SET:  3 :  0.46149085909723564\n",
      "=====================================================================\n",
      "RMSLE ON TRAINING SET:  4 :  0.5324671481419397\n",
      "RMSLE ON VALIDATION SET:  4 :  0.5878031103068386\n",
      "=====================================================================\n",
      "RMSLE ON TRAINING SET:  5 :  0.5318550421893262\n",
      "RMSLE ON VALIDATION SET:  5 :  0.7558881602487321\n",
      "=====================================================================\n",
      "Mean RMSLE on Train:  0.532674877263649\n",
      "Mean RMSLE on Valid:  0.598840869935481\n"
     ]
    }
   ],
   "source": [
    "train_rmsle_ma = []\n",
    "valid_rmsle_ma = []\n",
    "\n",
    "for i, data in enumerate(data_set):\n",
    "    train, valid = data\n",
    "\n",
    "    t_rmsle, v_rmsle = get_sma(i,train, valid, no_of_weeks=8)\n",
    "    train_rmsle_ma.append(t_rmsle)\n",
    "    valid_rmsle_ma.append(v_rmsle)\n",
    "    \n",
    "print('Mean RMSLE on Train: ', np.mean(train_rmsle_ma))\n",
    "print('Mean RMSLE on Valid: ', np.mean(valid_rmsle_ma))    "
   ]
  },
  {
   "cell_type": "markdown",
   "id": "f56ca0f6",
   "metadata": {},
   "source": [
    "### (C). Linear Regression\n",
    "\n",
    "Now, we will try one Linear Regression Model and see how it performs on our dataset. We will use the same 5 validation sets and compare the results.\n",
    "We will drop the columns like WEEK_END_DATE, STORE_NUM and UPC before training the model."
   ]
  },
  {
   "cell_type": "code",
   "execution_count": 19,
   "id": "7ef5d51c",
   "metadata": {},
   "outputs": [
    {
     "name": "stdout",
     "output_type": "stream",
     "text": [
      "RMSLE ON TRAINING SET:  1 :  0.9914831043039526\n",
      "RMSLE ON VALIDATION SET:  1 :  0.9123950697836425\n",
      "=====================================================================\n",
      "RMSLE ON TRAINING SET:  2 :  0.9923376653699222\n",
      "RMSLE ON VALIDATION SET:  2 :  0.8961875754926829\n",
      "=====================================================================\n",
      "RMSLE ON TRAINING SET:  3 :  0.9929938669223298\n",
      "RMSLE ON VALIDATION SET:  3 :  0.9605326669030287\n",
      "=====================================================================\n",
      "RMSLE ON TRAINING SET:  4 :  0.9934004111895244\n",
      "RMSLE ON VALIDATION SET:  4 :  0.9563001362482264\n",
      "=====================================================================\n",
      "RMSLE ON TRAINING SET:  5 :  0.9941397630796495\n",
      "RMSLE ON VALIDATION SET:  5 :  0.9754139135309008\n",
      "=====================================================================\n",
      "Mean RMSLE on Train:  0.9928709621730757\n",
      "Mean RMSLE on Valid:  0.9401658723916964\n"
     ]
    }
   ],
   "source": [
    "train_rmsle_lr = []\n",
    "valid_rmsle_lr = []\n",
    "\n",
    "for i, data in enumerate(data_set):\n",
    "    \n",
    "    train, valid = data\n",
    "    \n",
    "    train_x = train.drop(columns = ['STORE_NUM', 'WEEK_END_DATE', 'UPC', 'UNITS'])\n",
    "    train_y = train['UNITS']\n",
    "    \n",
    "    valid_x = valid.drop(columns = ['STORE_NUM', 'WEEK_END_DATE', 'UPC', 'UNITS'])\n",
    "    valid_y = valid['UNITS']\n",
    "    \n",
    "    LR = LinearRegression()\n",
    "    LR.fit(train_x, train_y)\n",
    "    \n",
    "    train_predict = LR.predict(train_x).clip(min = 0)\n",
    "    valid_predict = LR.predict(valid_x).clip(min = 0)\n",
    "    \n",
    "    train_rmsle = get_rmsle(train_y, train_predict)\n",
    "    valid_rmsle = get_rmsle(valid_y, valid_predict)\n",
    "    train_rmsle_lr.append(train_rmsle)\n",
    "    valid_rmsle_lr.append(valid_rmsle)\n",
    "    \n",
    "    print('RMSLE ON TRAINING SET: ',i+1, ': ', train_rmsle)\n",
    "    print('RMSLE ON VALIDATION SET: ',i+1, ': ',valid_rmsle)\n",
    "    print('=====================================================================')\n",
    "    \n",
    "\n",
    "print('Mean RMSLE on Train: ', np.mean(train_rmsle_lr))\n",
    "print('Mean RMSLE on Valid: ', np.mean(valid_rmsle_lr))    "
   ]
  },
  {
   "cell_type": "markdown",
   "id": "a14c092b",
   "metadata": {},
   "source": [
    "We can see that Linear Regression has performed really bad. Even predicting the mean vaues would be better model. So, it is clear the target variable has no linear dependency on the avaiable features.\n",
    "\n",
    "### (D). Decision Tree\n",
    "Now, we will try one Tree Based Model. We will use the same 5 validation sets and compare the results.\n",
    "We will drop the columns like WEEK_END_DATE, STORE_NUM and UPC before training the model."
   ]
  },
  {
   "cell_type": "code",
   "execution_count": 20,
   "id": "8517201d",
   "metadata": {},
   "outputs": [
    {
     "name": "stdout",
     "output_type": "stream",
     "text": [
      "RMSLE ON TRAINING SET:  1 :  0.30884041663509815\n",
      "RMSLE ON VALIDATION SET:  1 :  0.49969133304590596\n",
      "=====================================================================\n",
      "RMSLE ON TRAINING SET:  2 :  0.3088550257315775\n",
      "RMSLE ON VALIDATION SET:  2 :  0.5547571043099567\n",
      "=====================================================================\n",
      "RMSLE ON TRAINING SET:  3 :  0.30922263720867416\n",
      "RMSLE ON VALIDATION SET:  3 :  0.5408993052181688\n",
      "=====================================================================\n",
      "RMSLE ON TRAINING SET:  4 :  0.30870747395552295\n",
      "RMSLE ON VALIDATION SET:  4 :  0.5704263401342783\n",
      "=====================================================================\n",
      "RMSLE ON TRAINING SET:  5 :  0.3083229669013995\n",
      "RMSLE ON VALIDATION SET:  5 :  0.6079641976345111\n",
      "=====================================================================\n",
      "Mean RMSLE on Train:  0.30878970408645445\n",
      "Mean RMSLE on Valid:  0.5547476560685641\n"
     ]
    }
   ],
   "source": [
    "train_rmsle_dt = []\n",
    "valid_rmsle_dt = []\n",
    "\n",
    "for i, data in enumerate(data_set):\n",
    "    \n",
    "    train, valid = data\n",
    "    \n",
    "    train_x = train.drop(columns = ['STORE_NUM', 'WEEK_END_DATE', 'UPC', 'UNITS'])\n",
    "    train_y = train['UNITS']\n",
    "    \n",
    "    valid_x = valid.drop(columns = ['STORE_NUM', 'WEEK_END_DATE', 'UPC', 'UNITS'])\n",
    "    valid_y = valid['UNITS']\n",
    "    \n",
    "    DT = DecisionTreeRegressor()\n",
    "    DT.fit(train_x, train_y)\n",
    "    \n",
    "    train_predict = DT.predict(train_x).clip(min = 0)\n",
    "    valid_predict = DT.predict(valid_x).clip(min = 0)\n",
    "    \n",
    "    train_rmsle = get_rmsle(train_y, train_predict)\n",
    "    valid_rmsle = get_rmsle(valid_y, valid_predict)\n",
    "    train_rmsle_dt.append(train_rmsle)\n",
    "    valid_rmsle_dt.append(valid_rmsle)\n",
    "    \n",
    "    print('RMSLE ON TRAINING SET: ',i+1, ': ', train_rmsle)\n",
    "    print('RMSLE ON VALIDATION SET: ',i+1, ': ',valid_rmsle)\n",
    "    print('=====================================================================')\n",
    "    \n",
    "\n",
    "print('Mean RMSLE on Train: ', np.mean(train_rmsle_dt))\n",
    "print('Mean RMSLE on Valid: ', np.mean(valid_rmsle_dt))    "
   ]
  },
  {
   "cell_type": "markdown",
   "id": "dba94b83",
   "metadata": {},
   "source": [
    "So, we can see that Decision Tree performed way better than the LinearRegression and better than the Mean Prediction.\n",
    "\n",
    "### (E). RandomForest\n",
    "We just saw that the Decision Tree performed better than the Linear Regression Model. So, we will try one Ensemble Model of Decision Trees like RandomForest and compare the results on the same 5 validation sets."
   ]
  },
  {
   "cell_type": "code",
   "execution_count": 21,
   "id": "a279e4e8",
   "metadata": {},
   "outputs": [
    {
     "name": "stdout",
     "output_type": "stream",
     "text": [
      "RMSLE ON TRAINING SET:  1 :  0.3188464406065117\n",
      "RMSLE ON VALIDATION SET:  1 :  0.532337664899423\n",
      "=====================================================================\n",
      "RMSLE ON TRAINING SET:  2 :  0.3165633604463837\n",
      "RMSLE ON VALIDATION SET:  2 :  0.5562040882768083\n",
      "=====================================================================\n",
      "RMSLE ON TRAINING SET:  3 :  0.31383124125340356\n",
      "RMSLE ON VALIDATION SET:  3 :  0.5502410047493668\n",
      "=====================================================================\n",
      "RMSLE ON TRAINING SET:  4 :  0.31067513509906536\n",
      "RMSLE ON VALIDATION SET:  4 :  0.5817354080038292\n",
      "=====================================================================\n",
      "RMSLE ON TRAINING SET:  5 :  0.3083229669013995\n",
      "RMSLE ON VALIDATION SET:  5 :  0.6079641976345111\n",
      "=====================================================================\n",
      "Mean RMSLE on Train:  0.3136478288613528\n",
      "Mean RMSLE on Valid:  0.5656964727127877\n"
     ]
    }
   ],
   "source": [
    "train_rmsle_rf = []\n",
    "valid_rmsle_rf = []\n",
    "\n",
    "for i, data in enumerate(data_set):\n",
    "    \n",
    "    train, valid = data\n",
    "    \n",
    "    train_x = train.drop(columns = ['STORE_NUM', 'WEEK_END_DATE', 'UPC', 'UNITS'])\n",
    "    train_y = train['UNITS']\n",
    "    \n",
    "    valid_x = valid.drop(columns = ['STORE_NUM', 'WEEK_END_DATE', 'UPC', 'UNITS'])\n",
    "    valid_y = valid['UNITS']\n",
    "    \n",
    "    RF = RandomForestRegressor(random_state=0)\n",
    "    RF.fit(train_x, train_y)\n",
    "    \n",
    "    train_predict = RF.predict(train_x).clip(min = 0)\n",
    "    valid_predict = RF.predict(valid_x).clip(min = 0)\n",
    "    \n",
    "    train_rmsle = get_rmsle(train_y, train_predict)\n",
    "    valid_rmsle = get_rmsle(valid_y, valid_predict)\n",
    "    train_rmsle_rf.append(train_rmsle)\n",
    "    valid_rmsle_rf.append(valid_rmsle)\n",
    "    \n",
    "    print('RMSLE ON TRAINING SET: ',i+1, ': ', train_rmsle)\n",
    "    print('RMSLE ON VALIDATION SET: ',i+1, ': ',valid_rmsle)\n",
    "    print('=====================================================================')\n",
    "    \n",
    "\n",
    "print('Mean RMSLE on Train: ', np.mean(train_rmsle_rf))\n",
    "print('Mean RMSLE on Valid: ', np.mean(valid_rmsle_rf))    "
   ]
  },
  {
   "cell_type": "markdown",
   "id": "0ffdbdcb",
   "metadata": {},
   "source": [
    "**Conclusions**\n",
    "* We have seen that Tree Based Models have a better performance than other models.\n",
    "* Although, RandomForest gives similar results to decision tree, its computational time is too much as compared to other models.\n",
    "* We have a basic idea of what is the baseline.\n",
    "* But still, we don't know what should be the right number of validation sets required and what should be the size of the training data.\n"
   ]
  },
  {
   "cell_type": "code",
   "execution_count": null,
   "id": "a4667e27",
   "metadata": {},
   "outputs": [],
   "source": []
  },
  {
   "cell_type": "code",
   "execution_count": null,
   "id": "47d23dc2",
   "metadata": {},
   "outputs": [],
   "source": []
  },
  {
   "cell_type": "code",
   "execution_count": null,
   "id": "a51ca5a1",
   "metadata": {},
   "outputs": [],
   "source": []
  },
  {
   "cell_type": "code",
   "execution_count": null,
   "id": "78dbb255",
   "metadata": {},
   "outputs": [],
   "source": []
  },
  {
   "cell_type": "code",
   "execution_count": null,
   "id": "4600f751",
   "metadata": {},
   "outputs": [],
   "source": []
  },
  {
   "cell_type": "code",
   "execution_count": null,
   "id": "954ec3a8",
   "metadata": {},
   "outputs": [],
   "source": []
  },
  {
   "cell_type": "code",
   "execution_count": null,
   "id": "bf3dea43",
   "metadata": {},
   "outputs": [],
   "source": []
  },
  {
   "cell_type": "code",
   "execution_count": null,
   "id": "5caaac68",
   "metadata": {},
   "outputs": [],
   "source": []
  },
  {
   "cell_type": "code",
   "execution_count": null,
   "id": "a84e6958",
   "metadata": {},
   "outputs": [],
   "source": []
  },
  {
   "cell_type": "code",
   "execution_count": null,
   "id": "c55ac054",
   "metadata": {},
   "outputs": [],
   "source": []
  },
  {
   "cell_type": "code",
   "execution_count": null,
   "id": "b039dc74",
   "metadata": {},
   "outputs": [],
   "source": []
  },
  {
   "cell_type": "code",
   "execution_count": null,
   "id": "ec33c36e",
   "metadata": {},
   "outputs": [],
   "source": []
  },
  {
   "cell_type": "code",
   "execution_count": null,
   "id": "6f155973",
   "metadata": {},
   "outputs": [],
   "source": []
  },
  {
   "cell_type": "code",
   "execution_count": null,
   "id": "2f2fe8c7",
   "metadata": {},
   "outputs": [],
   "source": []
  },
  {
   "cell_type": "code",
   "execution_count": null,
   "id": "5e78a21e",
   "metadata": {},
   "outputs": [],
   "source": []
  },
  {
   "cell_type": "code",
   "execution_count": null,
   "id": "ca54527b",
   "metadata": {},
   "outputs": [],
   "source": []
  },
  {
   "cell_type": "code",
   "execution_count": null,
   "id": "6781bc5c",
   "metadata": {},
   "outputs": [],
   "source": []
  },
  {
   "cell_type": "code",
   "execution_count": null,
   "id": "a66b63c0",
   "metadata": {},
   "outputs": [],
   "source": []
  },
  {
   "cell_type": "code",
   "execution_count": null,
   "id": "cb896cae",
   "metadata": {},
   "outputs": [],
   "source": []
  },
  {
   "cell_type": "code",
   "execution_count": null,
   "id": "2b821806",
   "metadata": {},
   "outputs": [],
   "source": []
  },
  {
   "cell_type": "code",
   "execution_count": null,
   "id": "0a62d8eb",
   "metadata": {},
   "outputs": [],
   "source": []
  },
  {
   "cell_type": "code",
   "execution_count": null,
   "id": "51e2ee2c",
   "metadata": {},
   "outputs": [],
   "source": []
  },
  {
   "cell_type": "code",
   "execution_count": null,
   "id": "82272b97",
   "metadata": {},
   "outputs": [],
   "source": []
  },
  {
   "cell_type": "code",
   "execution_count": null,
   "id": "668f9669",
   "metadata": {},
   "outputs": [],
   "source": []
  },
  {
   "cell_type": "markdown",
   "id": "b50ca776",
   "metadata": {},
   "source": []
  }
 ],
 "metadata": {
  "kernelspec": {
   "display_name": "Python 3 (ipykernel)",
   "language": "python",
   "name": "python3"
  },
  "language_info": {
   "codemirror_mode": {
    "name": "ipython",
    "version": 3
   },
   "file_extension": ".py",
   "mimetype": "text/x-python",
   "name": "python",
   "nbconvert_exporter": "python",
   "pygments_lexer": "ipython3",
   "version": "3.10.9"
  }
 },
 "nbformat": 4,
 "nbformat_minor": 5
}
